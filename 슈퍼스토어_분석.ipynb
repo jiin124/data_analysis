{
  "cells": [
    {
      "cell_type": "markdown",
      "metadata": {
        "id": "view-in-github",
        "colab_type": "text"
      },
      "source": [
        "<a href=\"https://colab.research.google.com/github/jiin124/data_analysis/blob/main/%EC%8A%88%ED%8D%BC%EC%8A%A4%ED%86%A0%EC%96%B4_%EB%B6%84%EC%84%9D.ipynb\" target=\"_parent\"><img src=\"https://colab.research.google.com/assets/colab-badge.svg\" alt=\"Open In Colab\"/></a>"
      ]
    },
    {
      "cell_type": "code",
      "execution_count": 23,
      "metadata": {
        "id": "EW4g10LdXd7_"
      },
      "outputs": [],
      "source": [
        "import pandas as pd\n",
        "import numpy as np\n",
        "import matplotlib.pyplot as plt\n",
        "import seaborn as sns"
      ]
    },
    {
      "cell_type": "code",
      "execution_count": 24,
      "metadata": {
        "id": "C6Gcsv44aq-s"
      },
      "outputs": [],
      "source": [
        "import platform\n",
        "\n",
        "from matplotlib import font_manager, rc\n",
        "%matplotlib inline\n",
        "\n",
        "## 운영체제별 글꼴 세팅\n",
        "\n",
        "path = \"c:/Windows/Fonts/malgun.ttf\"\n",
        "if platform.system() == 'Darwin':\n",
        "    font_name = 'Apple SD Gothic Neo'\n",
        "    rc('font', family='Apple SD Gothic Neo')\n",
        "elif platform.system() == 'Windows':\n",
        "    font_name = font_manager.FontProperties(fname=path).get_name()\n",
        "    rc('font', family=font_name)\n",
        "else:\n",
        "    font_name = font_manager.FontProperties(fname=\"/usr/share/fonts/nanumfont/NanumGothic.ttf\")\n",
        "    rc('font', family=\"NanumGothic\")"
      ]
    },
    {
      "cell_type": "code",
      "source": [
        "!sudo apt-get install -y fonts-nanum\n",
        "!sudo fc-cache -fv\n",
        "!rm ~/.cache/matplotlib -rf"
      ],
      "metadata": {
        "colab": {
          "base_uri": "https://localhost:8080/"
        },
        "id": "Wc9atVSeF_b9",
        "outputId": "fbc5b9c6-9b88-49e7-deee-529b5dd95388"
      },
      "execution_count": 25,
      "outputs": [
        {
          "output_type": "stream",
          "name": "stdout",
          "text": [
            "Reading package lists... Done\n",
            "Building dependency tree       \n",
            "Reading state information... Done\n",
            "The following NEW packages will be installed:\n",
            "  fonts-nanum\n",
            "0 upgraded, 1 newly installed, 0 to remove and 37 not upgraded.\n",
            "Need to get 9,604 kB of archives.\n",
            "After this operation, 29.5 MB of additional disk space will be used.\n",
            "Get:1 http://archive.ubuntu.com/ubuntu bionic/universe amd64 fonts-nanum all 20170925-1 [9,604 kB]\n",
            "Fetched 9,604 kB in 1s (10.1 MB/s)\n",
            "debconf: unable to initialize frontend: Dialog\n",
            "debconf: (No usable dialog-like program is installed, so the dialog based frontend cannot be used. at /usr/share/perl5/Debconf/FrontEnd/Dialog.pm line 76, <> line 1.)\n",
            "debconf: falling back to frontend: Readline\n",
            "debconf: unable to initialize frontend: Readline\n",
            "debconf: (This frontend requires a controlling tty.)\n",
            "debconf: falling back to frontend: Teletype\n",
            "dpkg-preconfigure: unable to re-open stdin: \n",
            "Selecting previously unselected package fonts-nanum.\n",
            "(Reading database ... 155222 files and directories currently installed.)\n",
            "Preparing to unpack .../fonts-nanum_20170925-1_all.deb ...\n",
            "Unpacking fonts-nanum (20170925-1) ...\n",
            "Setting up fonts-nanum (20170925-1) ...\n",
            "Processing triggers for fontconfig (2.12.6-0ubuntu2) ...\n",
            "/usr/share/fonts: caching, new cache contents: 0 fonts, 1 dirs\n",
            "/usr/share/fonts/truetype: caching, new cache contents: 0 fonts, 3 dirs\n",
            "/usr/share/fonts/truetype/humor-sans: caching, new cache contents: 1 fonts, 0 dirs\n",
            "/usr/share/fonts/truetype/liberation: caching, new cache contents: 16 fonts, 0 dirs\n",
            "/usr/share/fonts/truetype/nanum: caching, new cache contents: 10 fonts, 0 dirs\n",
            "/usr/local/share/fonts: caching, new cache contents: 0 fonts, 0 dirs\n",
            "/root/.local/share/fonts: skipping, no such directory\n",
            "/root/.fonts: skipping, no such directory\n",
            "/var/cache/fontconfig: cleaning cache directory\n",
            "/root/.cache/fontconfig: not cleaning non-existent cache directory\n",
            "/root/.fontconfig: not cleaning non-existent cache directory\n",
            "fc-cache: succeeded\n"
          ]
        }
      ]
    },
    {
      "cell_type": "code",
      "source": [
        "import matplotlib.pyplot as plt\n",
        "\n",
        "plt.rc('font', family='NanumBarunGothic') "
      ],
      "metadata": {
        "id": "vuXj93SBGDIi"
      },
      "execution_count": 26,
      "outputs": []
    },
    {
      "cell_type": "code",
      "execution_count": 27,
      "metadata": {
        "colab": {
          "base_uri": "https://localhost:8080/"
        },
        "id": "BV5PUrNsXiSA",
        "outputId": "b478dcc6-6fe1-4b09-d6d8-75535b6e2dd1"
      },
      "outputs": [
        {
          "output_type": "stream",
          "name": "stdout",
          "text": [
            "Drive already mounted at /content/drive; to attempt to forcibly remount, call drive.mount(\"/content/drive\", force_remount=True).\n"
          ]
        }
      ],
      "source": [
        "from google.colab import drive\n",
        "drive.mount('/content/drive')"
      ]
    },
    {
      "cell_type": "code",
      "execution_count": 28,
      "metadata": {
        "id": "b9lkxiiBaRln"
      },
      "outputs": [],
      "source": [
        "df=pd.read_csv(\"/content/drive/MyDrive/슈퍼스토어 - 샘플.csv\")"
      ]
    },
    {
      "cell_type": "code",
      "execution_count": 29,
      "metadata": {
        "colab": {
          "base_uri": "https://localhost:8080/",
          "height": 597
        },
        "id": "0KOk3CzgXjRi",
        "outputId": "9d904f24-8680-4e3f-e8ae-7b059fef938c"
      },
      "outputs": [
        {
          "output_type": "execute_result",
          "data": {
            "text/html": [
              "\n",
              "  <div id=\"df-c6bc2a5c-d325-4e37-b3ea-5e3ede6c78a4\">\n",
              "    <div class=\"colab-df-container\">\n",
              "      <div>\n",
              "<style scoped>\n",
              "    .dataframe tbody tr th:only-of-type {\n",
              "        vertical-align: middle;\n",
              "    }\n",
              "\n",
              "    .dataframe tbody tr th {\n",
              "        vertical-align: top;\n",
              "    }\n",
              "\n",
              "    .dataframe thead th {\n",
              "        text-align: right;\n",
              "    }\n",
              "</style>\n",
              "<table border=\"1\" class=\"dataframe\">\n",
              "  <thead>\n",
              "    <tr style=\"text-align: right;\">\n",
              "      <th></th>\n",
              "      <th>행 ID</th>\n",
              "      <th>주문 ID</th>\n",
              "      <th>주문 날짜</th>\n",
              "      <th>배송 날짜</th>\n",
              "      <th>배송 형태</th>\n",
              "      <th>고객 ID</th>\n",
              "      <th>고객 이름</th>\n",
              "      <th>세그먼트</th>\n",
              "      <th>도시</th>\n",
              "      <th>시/도</th>\n",
              "      <th>국가/지역</th>\n",
              "      <th>지역</th>\n",
              "      <th>제품 ID</th>\n",
              "      <th>범주</th>\n",
              "      <th>하위 범주</th>\n",
              "      <th>제품 이름</th>\n",
              "      <th>매출</th>\n",
              "      <th>수량</th>\n",
              "      <th>할인율</th>\n",
              "      <th>수익</th>\n",
              "      <th>Unnamed: 20</th>\n",
              "      <th>Unnamed: 21</th>\n",
              "      <th>Unnamed: 22</th>\n",
              "    </tr>\n",
              "  </thead>\n",
              "  <tbody>\n",
              "    <tr>\n",
              "      <th>0</th>\n",
              "      <td>1</td>\n",
              "      <td>IN-2020-27828</td>\n",
              "      <td>2020-08-27</td>\n",
              "      <td>2020-08-31</td>\n",
              "      <td>표준 등급</td>\n",
              "      <td>VT-21700</td>\n",
              "      <td>Valerie Takahito</td>\n",
              "      <td>홈 오피스</td>\n",
              "      <td>Quanzhou</td>\n",
              "      <td>Fujian</td>\n",
              "      <td>China</td>\n",
              "      <td>북아시아</td>\n",
              "      <td>OFF-PA-10000026</td>\n",
              "      <td>사무용품</td>\n",
              "      <td>용지</td>\n",
              "      <td>Eaton Cards &amp; Envelopes, 8.5 x 11</td>\n",
              "      <td>197.280</td>\n",
              "      <td>4</td>\n",
              "      <td>0.00</td>\n",
              "      <td>35.400</td>\n",
              "      <td>NaN</td>\n",
              "      <td>NaN</td>\n",
              "      <td>NaN</td>\n",
              "    </tr>\n",
              "    <tr>\n",
              "      <th>1</th>\n",
              "      <td>2</td>\n",
              "      <td>IN-2020-27828</td>\n",
              "      <td>2020-08-27</td>\n",
              "      <td>2020-08-31</td>\n",
              "      <td>표준 등급</td>\n",
              "      <td>VT-21700</td>\n",
              "      <td>Valerie Takahito</td>\n",
              "      <td>홈 오피스</td>\n",
              "      <td>Quanzhou</td>\n",
              "      <td>Fujian</td>\n",
              "      <td>China</td>\n",
              "      <td>북아시아</td>\n",
              "      <td>FUR-FU-10000944</td>\n",
              "      <td>가구</td>\n",
              "      <td>사무용 집기</td>\n",
              "      <td>Tenex Door Stop, Black</td>\n",
              "      <td>307.230</td>\n",
              "      <td>7</td>\n",
              "      <td>0.00</td>\n",
              "      <td>21.420</td>\n",
              "      <td>NaN</td>\n",
              "      <td>NaN</td>\n",
              "      <td>NaN</td>\n",
              "    </tr>\n",
              "    <tr>\n",
              "      <th>2</th>\n",
              "      <td>3</td>\n",
              "      <td>IN-2020-27828</td>\n",
              "      <td>2020-08-27</td>\n",
              "      <td>2020-08-31</td>\n",
              "      <td>표준 등급</td>\n",
              "      <td>VT-21700</td>\n",
              "      <td>Valerie Takahito</td>\n",
              "      <td>홈 오피스</td>\n",
              "      <td>Quanzhou</td>\n",
              "      <td>Fujian</td>\n",
              "      <td>China</td>\n",
              "      <td>북아시아</td>\n",
              "      <td>TEC-CO-10002526</td>\n",
              "      <td>기술</td>\n",
              "      <td>복사기</td>\n",
              "      <td>Sharp Wireless Fax, Digital</td>\n",
              "      <td>1422.240</td>\n",
              "      <td>4</td>\n",
              "      <td>0.00</td>\n",
              "      <td>526.200</td>\n",
              "      <td>NaN</td>\n",
              "      <td>NaN</td>\n",
              "      <td>NaN</td>\n",
              "    </tr>\n",
              "    <tr>\n",
              "      <th>3</th>\n",
              "      <td>4</td>\n",
              "      <td>IN-2020-27828</td>\n",
              "      <td>2020-08-27</td>\n",
              "      <td>2020-08-31</td>\n",
              "      <td>표준 등급</td>\n",
              "      <td>VT-21700</td>\n",
              "      <td>Valerie Takahito</td>\n",
              "      <td>홈 오피스</td>\n",
              "      <td>Quanzhou</td>\n",
              "      <td>Fujian</td>\n",
              "      <td>China</td>\n",
              "      <td>북아시아</td>\n",
              "      <td>TEC-AC-10002255</td>\n",
              "      <td>기술</td>\n",
              "      <td>액세서리</td>\n",
              "      <td>Memorex Keyboard, Erganomic</td>\n",
              "      <td>207.450</td>\n",
              "      <td>3</td>\n",
              "      <td>0.00</td>\n",
              "      <td>78.750</td>\n",
              "      <td>NaN</td>\n",
              "      <td>NaN</td>\n",
              "      <td>NaN</td>\n",
              "    </tr>\n",
              "    <tr>\n",
              "      <th>4</th>\n",
              "      <td>5</td>\n",
              "      <td>IN-2021-63178</td>\n",
              "      <td>2021-06-24</td>\n",
              "      <td>2021-06-30</td>\n",
              "      <td>표준 등급</td>\n",
              "      <td>SO-20335</td>\n",
              "      <td>Sean O'Donnell</td>\n",
              "      <td>일반 소비자</td>\n",
              "      <td>Marikina</td>\n",
              "      <td>Metro Manila</td>\n",
              "      <td>Philippines</td>\n",
              "      <td>동남아시아</td>\n",
              "      <td>OFF-AP-10002882</td>\n",
              "      <td>사무용품</td>\n",
              "      <td>가전 제품</td>\n",
              "      <td>KitchenAid Coffee Grinder, Silver</td>\n",
              "      <td>121.074</td>\n",
              "      <td>2</td>\n",
              "      <td>0.15</td>\n",
              "      <td>37.014</td>\n",
              "      <td>NaN</td>\n",
              "      <td>NaN</td>\n",
              "      <td>NaN</td>\n",
              "    </tr>\n",
              "  </tbody>\n",
              "</table>\n",
              "</div>\n",
              "      <button class=\"colab-df-convert\" onclick=\"convertToInteractive('df-c6bc2a5c-d325-4e37-b3ea-5e3ede6c78a4')\"\n",
              "              title=\"Convert this dataframe to an interactive table.\"\n",
              "              style=\"display:none;\">\n",
              "        \n",
              "  <svg xmlns=\"http://www.w3.org/2000/svg\" height=\"24px\"viewBox=\"0 0 24 24\"\n",
              "       width=\"24px\">\n",
              "    <path d=\"M0 0h24v24H0V0z\" fill=\"none\"/>\n",
              "    <path d=\"M18.56 5.44l.94 2.06.94-2.06 2.06-.94-2.06-.94-.94-2.06-.94 2.06-2.06.94zm-11 1L8.5 8.5l.94-2.06 2.06-.94-2.06-.94L8.5 2.5l-.94 2.06-2.06.94zm10 10l.94 2.06.94-2.06 2.06-.94-2.06-.94-.94-2.06-.94 2.06-2.06.94z\"/><path d=\"M17.41 7.96l-1.37-1.37c-.4-.4-.92-.59-1.43-.59-.52 0-1.04.2-1.43.59L10.3 9.45l-7.72 7.72c-.78.78-.78 2.05 0 2.83L4 21.41c.39.39.9.59 1.41.59.51 0 1.02-.2 1.41-.59l7.78-7.78 2.81-2.81c.8-.78.8-2.07 0-2.86zM5.41 20L4 18.59l7.72-7.72 1.47 1.35L5.41 20z\"/>\n",
              "  </svg>\n",
              "      </button>\n",
              "      \n",
              "  <style>\n",
              "    .colab-df-container {\n",
              "      display:flex;\n",
              "      flex-wrap:wrap;\n",
              "      gap: 12px;\n",
              "    }\n",
              "\n",
              "    .colab-df-convert {\n",
              "      background-color: #E8F0FE;\n",
              "      border: none;\n",
              "      border-radius: 50%;\n",
              "      cursor: pointer;\n",
              "      display: none;\n",
              "      fill: #1967D2;\n",
              "      height: 32px;\n",
              "      padding: 0 0 0 0;\n",
              "      width: 32px;\n",
              "    }\n",
              "\n",
              "    .colab-df-convert:hover {\n",
              "      background-color: #E2EBFA;\n",
              "      box-shadow: 0px 1px 2px rgba(60, 64, 67, 0.3), 0px 1px 3px 1px rgba(60, 64, 67, 0.15);\n",
              "      fill: #174EA6;\n",
              "    }\n",
              "\n",
              "    [theme=dark] .colab-df-convert {\n",
              "      background-color: #3B4455;\n",
              "      fill: #D2E3FC;\n",
              "    }\n",
              "\n",
              "    [theme=dark] .colab-df-convert:hover {\n",
              "      background-color: #434B5C;\n",
              "      box-shadow: 0px 1px 3px 1px rgba(0, 0, 0, 0.15);\n",
              "      filter: drop-shadow(0px 1px 2px rgba(0, 0, 0, 0.3));\n",
              "      fill: #FFFFFF;\n",
              "    }\n",
              "  </style>\n",
              "\n",
              "      <script>\n",
              "        const buttonEl =\n",
              "          document.querySelector('#df-c6bc2a5c-d325-4e37-b3ea-5e3ede6c78a4 button.colab-df-convert');\n",
              "        buttonEl.style.display =\n",
              "          google.colab.kernel.accessAllowed ? 'block' : 'none';\n",
              "\n",
              "        async function convertToInteractive(key) {\n",
              "          const element = document.querySelector('#df-c6bc2a5c-d325-4e37-b3ea-5e3ede6c78a4');\n",
              "          const dataTable =\n",
              "            await google.colab.kernel.invokeFunction('convertToInteractive',\n",
              "                                                     [key], {});\n",
              "          if (!dataTable) return;\n",
              "\n",
              "          const docLinkHtml = 'Like what you see? Visit the ' +\n",
              "            '<a target=\"_blank\" href=https://colab.research.google.com/notebooks/data_table.ipynb>data table notebook</a>'\n",
              "            + ' to learn more about interactive tables.';\n",
              "          element.innerHTML = '';\n",
              "          dataTable['output_type'] = 'display_data';\n",
              "          await google.colab.output.renderOutput(dataTable, element);\n",
              "          const docLink = document.createElement('div');\n",
              "          docLink.innerHTML = docLinkHtml;\n",
              "          element.appendChild(docLink);\n",
              "        }\n",
              "      </script>\n",
              "    </div>\n",
              "  </div>\n",
              "  "
            ],
            "text/plain": [
              "   행 ID          주문 ID       주문 날짜  ... Unnamed: 20 Unnamed: 21 Unnamed: 22\n",
              "0     1  IN-2020-27828  2020-08-27  ...         NaN         NaN         NaN\n",
              "1     2  IN-2020-27828  2020-08-27  ...         NaN         NaN         NaN\n",
              "2     3  IN-2020-27828  2020-08-27  ...         NaN         NaN         NaN\n",
              "3     4  IN-2020-27828  2020-08-27  ...         NaN         NaN         NaN\n",
              "4     5  IN-2021-63178  2021-06-24  ...         NaN         NaN         NaN\n",
              "\n",
              "[5 rows x 23 columns]"
            ]
          },
          "metadata": {},
          "execution_count": 29
        }
      ],
      "source": [
        "df.head()"
      ]
    },
    {
      "cell_type": "code",
      "execution_count": 30,
      "metadata": {
        "colab": {
          "base_uri": "https://localhost:8080/"
        },
        "id": "KZp9XHtpbxJ0",
        "outputId": "5fa5f028-3fce-4c10-fece-aa9983a2e743"
      },
      "outputs": [
        {
          "output_type": "execute_result",
          "data": {
            "text/plain": [
              "Index(['행 ID', '주문 ID', '주문 날짜', '배송 날짜', '배송 형태', '고객 ID', '고객 이름', '세그먼트',\n",
              "       '도시', '시/도', '국가/지역', '지역', '제품 ID', '범주', '하위 범주', '제품 이름', '매출', '수량',\n",
              "       '할인율', '수익', 'Unnamed: 20', 'Unnamed: 21', 'Unnamed: 22'],\n",
              "      dtype='object')"
            ]
          },
          "metadata": {},
          "execution_count": 30
        }
      ],
      "source": [
        "df.columns"
      ]
    },
    {
      "cell_type": "code",
      "execution_count": 31,
      "metadata": {
        "colab": {
          "base_uri": "https://localhost:8080/"
        },
        "id": "r4VKRjA4b2yj",
        "outputId": "7eea2cb8-3158-4844-bfee-f084dcc5ee56"
      },
      "outputs": [
        {
          "output_type": "stream",
          "name": "stdout",
          "text": [
            "<class 'pandas.core.frame.DataFrame'>\n",
            "RangeIndex: 10933 entries, 0 to 10932\n",
            "Data columns (total 23 columns):\n",
            " #   Column       Non-Null Count  Dtype  \n",
            "---  ------       --------------  -----  \n",
            " 0   행 ID         10933 non-null  int64  \n",
            " 1   주문 ID        10933 non-null  object \n",
            " 2   주문 날짜        10933 non-null  object \n",
            " 3   배송 날짜        10933 non-null  object \n",
            " 4   배송 형태        10933 non-null  object \n",
            " 5   고객 ID        10933 non-null  object \n",
            " 6   고객 이름        10933 non-null  object \n",
            " 7   세그먼트         10933 non-null  object \n",
            " 8   도시           10933 non-null  object \n",
            " 9   시/도          10933 non-null  object \n",
            " 10  국가/지역        10933 non-null  object \n",
            " 11  지역           10933 non-null  object \n",
            " 12  제품 ID        10933 non-null  object \n",
            " 13  범주           10933 non-null  object \n",
            " 14  하위 범주        10933 non-null  object \n",
            " 15  제품 이름        10933 non-null  object \n",
            " 16  매출           10933 non-null  float64\n",
            " 17  수량           10933 non-null  int64  \n",
            " 18  할인율          10933 non-null  float64\n",
            " 19  수익           10933 non-null  float64\n",
            " 20  Unnamed: 20  0 non-null      float64\n",
            " 21  Unnamed: 21  0 non-null      float64\n",
            " 22  Unnamed: 22  0 non-null      float64\n",
            "dtypes: float64(6), int64(2), object(15)\n",
            "memory usage: 1.9+ MB\n"
          ]
        }
      ],
      "source": [
        "df.info()"
      ]
    },
    {
      "cell_type": "code",
      "execution_count": 32,
      "metadata": {
        "colab": {
          "base_uri": "https://localhost:8080/"
        },
        "id": "u_TiLBkJb3qK",
        "outputId": "9e70fc42-c576-42bf-d709-71a4c6e34f9e"
      },
      "outputs": [
        {
          "output_type": "execute_result",
          "data": {
            "text/plain": [
              "행 ID               0\n",
              "주문 ID              0\n",
              "주문 날짜              0\n",
              "배송 날짜              0\n",
              "배송 형태              0\n",
              "고객 ID              0\n",
              "고객 이름              0\n",
              "세그먼트               0\n",
              "도시                 0\n",
              "시/도                0\n",
              "국가/지역              0\n",
              "지역                 0\n",
              "제품 ID              0\n",
              "범주                 0\n",
              "하위 범주              0\n",
              "제품 이름              0\n",
              "매출                 0\n",
              "수량                 0\n",
              "할인율                0\n",
              "수익                 0\n",
              "Unnamed: 20    10933\n",
              "Unnamed: 21    10933\n",
              "Unnamed: 22    10933\n",
              "dtype: int64"
            ]
          },
          "metadata": {},
          "execution_count": 32
        }
      ],
      "source": [
        "df.isna().sum()"
      ]
    },
    {
      "cell_type": "code",
      "execution_count": 33,
      "metadata": {
        "colab": {
          "base_uri": "https://localhost:8080/",
          "height": 300
        },
        "id": "2luvOitDb7FX",
        "outputId": "a98f3204-940d-4f9f-af9e-c06260052ceb"
      },
      "outputs": [
        {
          "output_type": "execute_result",
          "data": {
            "text/html": [
              "\n",
              "  <div id=\"df-3e0bf40c-3d2c-44ee-a5cf-8160f9f80742\">\n",
              "    <div class=\"colab-df-container\">\n",
              "      <div>\n",
              "<style scoped>\n",
              "    .dataframe tbody tr th:only-of-type {\n",
              "        vertical-align: middle;\n",
              "    }\n",
              "\n",
              "    .dataframe tbody tr th {\n",
              "        vertical-align: top;\n",
              "    }\n",
              "\n",
              "    .dataframe thead th {\n",
              "        text-align: right;\n",
              "    }\n",
              "</style>\n",
              "<table border=\"1\" class=\"dataframe\">\n",
              "  <thead>\n",
              "    <tr style=\"text-align: right;\">\n",
              "      <th></th>\n",
              "      <th>행 ID</th>\n",
              "      <th>매출</th>\n",
              "      <th>수량</th>\n",
              "      <th>할인율</th>\n",
              "      <th>수익</th>\n",
              "      <th>Unnamed: 20</th>\n",
              "      <th>Unnamed: 21</th>\n",
              "      <th>Unnamed: 22</th>\n",
              "    </tr>\n",
              "  </thead>\n",
              "  <tbody>\n",
              "    <tr>\n",
              "      <th>count</th>\n",
              "      <td>10933.000000</td>\n",
              "      <td>10933.000000</td>\n",
              "      <td>10933.000000</td>\n",
              "      <td>10933.000000</td>\n",
              "      <td>10933.000000</td>\n",
              "      <td>0.0</td>\n",
              "      <td>0.0</td>\n",
              "      <td>0.0</td>\n",
              "    </tr>\n",
              "    <tr>\n",
              "      <th>mean</th>\n",
              "      <td>5501.108570</td>\n",
              "      <td>326.208731</td>\n",
              "      <td>3.752127</td>\n",
              "      <td>0.149724</td>\n",
              "      <td>39.518374</td>\n",
              "      <td>NaN</td>\n",
              "      <td>NaN</td>\n",
              "      <td>NaN</td>\n",
              "    </tr>\n",
              "    <tr>\n",
              "      <th>std</th>\n",
              "      <td>3179.318347</td>\n",
              "      <td>552.275866</td>\n",
              "      <td>2.260526</td>\n",
              "      <td>0.176511</td>\n",
              "      <td>170.856873</td>\n",
              "      <td>NaN</td>\n",
              "      <td>NaN</td>\n",
              "      <td>NaN</td>\n",
              "    </tr>\n",
              "    <tr>\n",
              "      <th>min</th>\n",
              "      <td>1.000000</td>\n",
              "      <td>2.880000</td>\n",
              "      <td>1.000000</td>\n",
              "      <td>0.000000</td>\n",
              "      <td>-3009.435000</td>\n",
              "      <td>NaN</td>\n",
              "      <td>NaN</td>\n",
              "      <td>NaN</td>\n",
              "    </tr>\n",
              "    <tr>\n",
              "      <th>25%</th>\n",
              "      <td>2747.000000</td>\n",
              "      <td>47.079900</td>\n",
              "      <td>2.000000</td>\n",
              "      <td>0.000000</td>\n",
              "      <td>-3.103200</td>\n",
              "      <td>NaN</td>\n",
              "      <td>NaN</td>\n",
              "      <td>NaN</td>\n",
              "    </tr>\n",
              "    <tr>\n",
              "      <th>50%</th>\n",
              "      <td>5493.000000</td>\n",
              "      <td>122.796000</td>\n",
              "      <td>3.000000</td>\n",
              "      <td>0.100000</td>\n",
              "      <td>10.830000</td>\n",
              "      <td>NaN</td>\n",
              "      <td>NaN</td>\n",
              "      <td>NaN</td>\n",
              "    </tr>\n",
              "    <tr>\n",
              "      <th>75%</th>\n",
              "      <td>8262.000000</td>\n",
              "      <td>348.300000</td>\n",
              "      <td>5.000000</td>\n",
              "      <td>0.270000</td>\n",
              "      <td>48.385500</td>\n",
              "      <td>NaN</td>\n",
              "      <td>NaN</td>\n",
              "      <td>NaN</td>\n",
              "    </tr>\n",
              "    <tr>\n",
              "      <th>max</th>\n",
              "      <td>11000.000000</td>\n",
              "      <td>6998.640000</td>\n",
              "      <td>14.000000</td>\n",
              "      <td>0.800000</td>\n",
              "      <td>2939.310000</td>\n",
              "      <td>NaN</td>\n",
              "      <td>NaN</td>\n",
              "      <td>NaN</td>\n",
              "    </tr>\n",
              "  </tbody>\n",
              "</table>\n",
              "</div>\n",
              "      <button class=\"colab-df-convert\" onclick=\"convertToInteractive('df-3e0bf40c-3d2c-44ee-a5cf-8160f9f80742')\"\n",
              "              title=\"Convert this dataframe to an interactive table.\"\n",
              "              style=\"display:none;\">\n",
              "        \n",
              "  <svg xmlns=\"http://www.w3.org/2000/svg\" height=\"24px\"viewBox=\"0 0 24 24\"\n",
              "       width=\"24px\">\n",
              "    <path d=\"M0 0h24v24H0V0z\" fill=\"none\"/>\n",
              "    <path d=\"M18.56 5.44l.94 2.06.94-2.06 2.06-.94-2.06-.94-.94-2.06-.94 2.06-2.06.94zm-11 1L8.5 8.5l.94-2.06 2.06-.94-2.06-.94L8.5 2.5l-.94 2.06-2.06.94zm10 10l.94 2.06.94-2.06 2.06-.94-2.06-.94-.94-2.06-.94 2.06-2.06.94z\"/><path d=\"M17.41 7.96l-1.37-1.37c-.4-.4-.92-.59-1.43-.59-.52 0-1.04.2-1.43.59L10.3 9.45l-7.72 7.72c-.78.78-.78 2.05 0 2.83L4 21.41c.39.39.9.59 1.41.59.51 0 1.02-.2 1.41-.59l7.78-7.78 2.81-2.81c.8-.78.8-2.07 0-2.86zM5.41 20L4 18.59l7.72-7.72 1.47 1.35L5.41 20z\"/>\n",
              "  </svg>\n",
              "      </button>\n",
              "      \n",
              "  <style>\n",
              "    .colab-df-container {\n",
              "      display:flex;\n",
              "      flex-wrap:wrap;\n",
              "      gap: 12px;\n",
              "    }\n",
              "\n",
              "    .colab-df-convert {\n",
              "      background-color: #E8F0FE;\n",
              "      border: none;\n",
              "      border-radius: 50%;\n",
              "      cursor: pointer;\n",
              "      display: none;\n",
              "      fill: #1967D2;\n",
              "      height: 32px;\n",
              "      padding: 0 0 0 0;\n",
              "      width: 32px;\n",
              "    }\n",
              "\n",
              "    .colab-df-convert:hover {\n",
              "      background-color: #E2EBFA;\n",
              "      box-shadow: 0px 1px 2px rgba(60, 64, 67, 0.3), 0px 1px 3px 1px rgba(60, 64, 67, 0.15);\n",
              "      fill: #174EA6;\n",
              "    }\n",
              "\n",
              "    [theme=dark] .colab-df-convert {\n",
              "      background-color: #3B4455;\n",
              "      fill: #D2E3FC;\n",
              "    }\n",
              "\n",
              "    [theme=dark] .colab-df-convert:hover {\n",
              "      background-color: #434B5C;\n",
              "      box-shadow: 0px 1px 3px 1px rgba(0, 0, 0, 0.15);\n",
              "      filter: drop-shadow(0px 1px 2px rgba(0, 0, 0, 0.3));\n",
              "      fill: #FFFFFF;\n",
              "    }\n",
              "  </style>\n",
              "\n",
              "      <script>\n",
              "        const buttonEl =\n",
              "          document.querySelector('#df-3e0bf40c-3d2c-44ee-a5cf-8160f9f80742 button.colab-df-convert');\n",
              "        buttonEl.style.display =\n",
              "          google.colab.kernel.accessAllowed ? 'block' : 'none';\n",
              "\n",
              "        async function convertToInteractive(key) {\n",
              "          const element = document.querySelector('#df-3e0bf40c-3d2c-44ee-a5cf-8160f9f80742');\n",
              "          const dataTable =\n",
              "            await google.colab.kernel.invokeFunction('convertToInteractive',\n",
              "                                                     [key], {});\n",
              "          if (!dataTable) return;\n",
              "\n",
              "          const docLinkHtml = 'Like what you see? Visit the ' +\n",
              "            '<a target=\"_blank\" href=https://colab.research.google.com/notebooks/data_table.ipynb>data table notebook</a>'\n",
              "            + ' to learn more about interactive tables.';\n",
              "          element.innerHTML = '';\n",
              "          dataTable['output_type'] = 'display_data';\n",
              "          await google.colab.output.renderOutput(dataTable, element);\n",
              "          const docLink = document.createElement('div');\n",
              "          docLink.innerHTML = docLinkHtml;\n",
              "          element.appendChild(docLink);\n",
              "        }\n",
              "      </script>\n",
              "    </div>\n",
              "  </div>\n",
              "  "
            ],
            "text/plain": [
              "               행 ID            매출  ...  Unnamed: 21  Unnamed: 22\n",
              "count  10933.000000  10933.000000  ...          0.0          0.0\n",
              "mean    5501.108570    326.208731  ...          NaN          NaN\n",
              "std     3179.318347    552.275866  ...          NaN          NaN\n",
              "min        1.000000      2.880000  ...          NaN          NaN\n",
              "25%     2747.000000     47.079900  ...          NaN          NaN\n",
              "50%     5493.000000    122.796000  ...          NaN          NaN\n",
              "75%     8262.000000    348.300000  ...          NaN          NaN\n",
              "max    11000.000000   6998.640000  ...          NaN          NaN\n",
              "\n",
              "[8 rows x 8 columns]"
            ]
          },
          "metadata": {},
          "execution_count": 33
        }
      ],
      "source": [
        "df.describe()"
      ]
    },
    {
      "cell_type": "markdown",
      "metadata": {
        "id": "JNC5U7D0dQST"
      },
      "source": [
        "### 쓸데없는 컬럼 삭제\n",
        "\n",
        "unnamed :20 같은거 없애버리겠다."
      ]
    },
    {
      "cell_type": "code",
      "execution_count": 34,
      "metadata": {
        "id": "ZkJ0SF99cyps"
      },
      "outputs": [],
      "source": [
        "df.drop('Unnamed: 20',axis=1,inplace=True)"
      ]
    },
    {
      "cell_type": "code",
      "execution_count": 35,
      "metadata": {
        "id": "yu1jXodec-hS"
      },
      "outputs": [],
      "source": [
        "df.drop(['Unnamed: 21','Unnamed: 22'],axis=1,inplace=True)"
      ]
    },
    {
      "cell_type": "markdown",
      "metadata": {
        "id": "3qipasN6e7N-"
      },
      "source": [
        "## 데이터 전처리\n",
        "\n",
        "날짜형식같은 경우는 분리해서 년,월,일로 분리하고 요일도 분리해보겠다."
      ]
    },
    {
      "cell_type": "code",
      "execution_count": 36,
      "metadata": {
        "colab": {
          "base_uri": "https://localhost:8080/"
        },
        "id": "onMnSCA3dKOY",
        "outputId": "388e32ba-acc9-4cd2-b667-e97f7f9bd8a0"
      },
      "outputs": [
        {
          "output_type": "execute_result",
          "data": {
            "text/plain": [
              "Index(['행 ID', '주문 ID', '주문 날짜', '배송 날짜', '배송 형태', '고객 ID', '고객 이름', '세그먼트',\n",
              "       '도시', '시/도', '국가/지역', '지역', '제품 ID', '범주', '하위 범주', '제품 이름', '매출', '수량',\n",
              "       '할인율', '수익'],\n",
              "      dtype='object')"
            ]
          },
          "metadata": {},
          "execution_count": 36
        }
      ],
      "source": [
        "df.columns"
      ]
    },
    {
      "cell_type": "code",
      "source": [
        "df['주문 날짜'].min()\n",
        "df['주문 날짜'].max()"
      ],
      "metadata": {
        "colab": {
          "base_uri": "https://localhost:8080/",
          "height": 35
        },
        "id": "SSX2nBlgwwpY",
        "outputId": "75a9cf0a-090a-4eed-9a73-eca327033a67"
      },
      "execution_count": 37,
      "outputs": [
        {
          "output_type": "execute_result",
          "data": {
            "application/vnd.google.colaboratory.intrinsic+json": {
              "type": "string"
            },
            "text/plain": [
              "'2021-12-31'"
            ]
          },
          "metadata": {},
          "execution_count": 37
        }
      ]
    },
    {
      "cell_type": "markdown",
      "source": [
        "데이터 수집 기간이 언제부터 언제까지인지 확인. "
      ],
      "metadata": {
        "id": "5wZAjZSegbAo"
      }
    },
    {
      "cell_type": "code",
      "execution_count": 38,
      "metadata": {
        "id": "hQlJvuREfJ2w"
      },
      "outputs": [],
      "source": [
        "df['주문 날짜']=pd.to_datetime(df['주문 날짜'])\n",
        "df['배송 날짜']=pd.to_datetime(df['배송 날짜'])"
      ]
    },
    {
      "cell_type": "code",
      "execution_count": 39,
      "metadata": {
        "colab": {
          "base_uri": "https://localhost:8080/"
        },
        "id": "0Se2Xpzuf5mg",
        "outputId": "de018a9e-48a7-4015-8b84-87989d96f7c5"
      },
      "outputs": [
        {
          "output_type": "stream",
          "name": "stdout",
          "text": [
            "<class 'pandas.core.frame.DataFrame'>\n",
            "RangeIndex: 10933 entries, 0 to 10932\n",
            "Data columns (total 20 columns):\n",
            " #   Column  Non-Null Count  Dtype         \n",
            "---  ------  --------------  -----         \n",
            " 0   행 ID    10933 non-null  int64         \n",
            " 1   주문 ID   10933 non-null  object        \n",
            " 2   주문 날짜   10933 non-null  datetime64[ns]\n",
            " 3   배송 날짜   10933 non-null  datetime64[ns]\n",
            " 4   배송 형태   10933 non-null  object        \n",
            " 5   고객 ID   10933 non-null  object        \n",
            " 6   고객 이름   10933 non-null  object        \n",
            " 7   세그먼트    10933 non-null  object        \n",
            " 8   도시      10933 non-null  object        \n",
            " 9   시/도     10933 non-null  object        \n",
            " 10  국가/지역   10933 non-null  object        \n",
            " 11  지역      10933 non-null  object        \n",
            " 12  제품 ID   10933 non-null  object        \n",
            " 13  범주      10933 non-null  object        \n",
            " 14  하위 범주   10933 non-null  object        \n",
            " 15  제품 이름   10933 non-null  object        \n",
            " 16  매출      10933 non-null  float64       \n",
            " 17  수량      10933 non-null  int64         \n",
            " 18  할인율     10933 non-null  float64       \n",
            " 19  수익      10933 non-null  float64       \n",
            "dtypes: datetime64[ns](2), float64(3), int64(2), object(13)\n",
            "memory usage: 1.7+ MB\n"
          ]
        }
      ],
      "source": [
        "df.info()"
      ]
    },
    {
      "cell_type": "code",
      "execution_count": 40,
      "metadata": {
        "colab": {
          "base_uri": "https://localhost:8080/",
          "height": 413
        },
        "id": "UhMFqOANdfUz",
        "outputId": "1e4e7698-a738-4f34-911d-2b3e61a91f11"
      },
      "outputs": [
        {
          "output_type": "execute_result",
          "data": {
            "text/html": [
              "\n",
              "  <div id=\"df-d00ab247-808a-4445-849d-5465050e7506\">\n",
              "    <div class=\"colab-df-container\">\n",
              "      <div>\n",
              "<style scoped>\n",
              "    .dataframe tbody tr th:only-of-type {\n",
              "        vertical-align: middle;\n",
              "    }\n",
              "\n",
              "    .dataframe tbody tr th {\n",
              "        vertical-align: top;\n",
              "    }\n",
              "\n",
              "    .dataframe thead th {\n",
              "        text-align: right;\n",
              "    }\n",
              "</style>\n",
              "<table border=\"1\" class=\"dataframe\">\n",
              "  <thead>\n",
              "    <tr style=\"text-align: right;\">\n",
              "      <th></th>\n",
              "      <th>행 ID</th>\n",
              "      <th>주문 ID</th>\n",
              "      <th>주문 날짜</th>\n",
              "      <th>배송 날짜</th>\n",
              "      <th>배송 형태</th>\n",
              "      <th>고객 ID</th>\n",
              "      <th>고객 이름</th>\n",
              "      <th>세그먼트</th>\n",
              "      <th>도시</th>\n",
              "      <th>시/도</th>\n",
              "      <th>국가/지역</th>\n",
              "      <th>지역</th>\n",
              "      <th>제품 ID</th>\n",
              "      <th>범주</th>\n",
              "      <th>하위 범주</th>\n",
              "      <th>제품 이름</th>\n",
              "      <th>매출</th>\n",
              "      <th>수량</th>\n",
              "      <th>할인율</th>\n",
              "      <th>수익</th>\n",
              "      <th>order_year</th>\n",
              "      <th>order_month</th>\n",
              "      <th>order_day</th>\n",
              "    </tr>\n",
              "  </thead>\n",
              "  <tbody>\n",
              "    <tr>\n",
              "      <th>0</th>\n",
              "      <td>1</td>\n",
              "      <td>IN-2020-27828</td>\n",
              "      <td>2020-08-27</td>\n",
              "      <td>2020-08-31</td>\n",
              "      <td>표준 등급</td>\n",
              "      <td>VT-21700</td>\n",
              "      <td>Valerie Takahito</td>\n",
              "      <td>홈 오피스</td>\n",
              "      <td>Quanzhou</td>\n",
              "      <td>Fujian</td>\n",
              "      <td>China</td>\n",
              "      <td>북아시아</td>\n",
              "      <td>OFF-PA-10000026</td>\n",
              "      <td>사무용품</td>\n",
              "      <td>용지</td>\n",
              "      <td>Eaton Cards &amp; Envelopes, 8.5 x 11</td>\n",
              "      <td>197.28</td>\n",
              "      <td>4</td>\n",
              "      <td>0.0</td>\n",
              "      <td>35.40</td>\n",
              "      <td>2020</td>\n",
              "      <td>8</td>\n",
              "      <td>27</td>\n",
              "    </tr>\n",
              "    <tr>\n",
              "      <th>1</th>\n",
              "      <td>2</td>\n",
              "      <td>IN-2020-27828</td>\n",
              "      <td>2020-08-27</td>\n",
              "      <td>2020-08-31</td>\n",
              "      <td>표준 등급</td>\n",
              "      <td>VT-21700</td>\n",
              "      <td>Valerie Takahito</td>\n",
              "      <td>홈 오피스</td>\n",
              "      <td>Quanzhou</td>\n",
              "      <td>Fujian</td>\n",
              "      <td>China</td>\n",
              "      <td>북아시아</td>\n",
              "      <td>FUR-FU-10000944</td>\n",
              "      <td>가구</td>\n",
              "      <td>사무용 집기</td>\n",
              "      <td>Tenex Door Stop, Black</td>\n",
              "      <td>307.23</td>\n",
              "      <td>7</td>\n",
              "      <td>0.0</td>\n",
              "      <td>21.42</td>\n",
              "      <td>2020</td>\n",
              "      <td>8</td>\n",
              "      <td>27</td>\n",
              "    </tr>\n",
              "    <tr>\n",
              "      <th>2</th>\n",
              "      <td>3</td>\n",
              "      <td>IN-2020-27828</td>\n",
              "      <td>2020-08-27</td>\n",
              "      <td>2020-08-31</td>\n",
              "      <td>표준 등급</td>\n",
              "      <td>VT-21700</td>\n",
              "      <td>Valerie Takahito</td>\n",
              "      <td>홈 오피스</td>\n",
              "      <td>Quanzhou</td>\n",
              "      <td>Fujian</td>\n",
              "      <td>China</td>\n",
              "      <td>북아시아</td>\n",
              "      <td>TEC-CO-10002526</td>\n",
              "      <td>기술</td>\n",
              "      <td>복사기</td>\n",
              "      <td>Sharp Wireless Fax, Digital</td>\n",
              "      <td>1422.24</td>\n",
              "      <td>4</td>\n",
              "      <td>0.0</td>\n",
              "      <td>526.20</td>\n",
              "      <td>2020</td>\n",
              "      <td>8</td>\n",
              "      <td>27</td>\n",
              "    </tr>\n",
              "  </tbody>\n",
              "</table>\n",
              "</div>\n",
              "      <button class=\"colab-df-convert\" onclick=\"convertToInteractive('df-d00ab247-808a-4445-849d-5465050e7506')\"\n",
              "              title=\"Convert this dataframe to an interactive table.\"\n",
              "              style=\"display:none;\">\n",
              "        \n",
              "  <svg xmlns=\"http://www.w3.org/2000/svg\" height=\"24px\"viewBox=\"0 0 24 24\"\n",
              "       width=\"24px\">\n",
              "    <path d=\"M0 0h24v24H0V0z\" fill=\"none\"/>\n",
              "    <path d=\"M18.56 5.44l.94 2.06.94-2.06 2.06-.94-2.06-.94-.94-2.06-.94 2.06-2.06.94zm-11 1L8.5 8.5l.94-2.06 2.06-.94-2.06-.94L8.5 2.5l-.94 2.06-2.06.94zm10 10l.94 2.06.94-2.06 2.06-.94-2.06-.94-.94-2.06-.94 2.06-2.06.94z\"/><path d=\"M17.41 7.96l-1.37-1.37c-.4-.4-.92-.59-1.43-.59-.52 0-1.04.2-1.43.59L10.3 9.45l-7.72 7.72c-.78.78-.78 2.05 0 2.83L4 21.41c.39.39.9.59 1.41.59.51 0 1.02-.2 1.41-.59l7.78-7.78 2.81-2.81c.8-.78.8-2.07 0-2.86zM5.41 20L4 18.59l7.72-7.72 1.47 1.35L5.41 20z\"/>\n",
              "  </svg>\n",
              "      </button>\n",
              "      \n",
              "  <style>\n",
              "    .colab-df-container {\n",
              "      display:flex;\n",
              "      flex-wrap:wrap;\n",
              "      gap: 12px;\n",
              "    }\n",
              "\n",
              "    .colab-df-convert {\n",
              "      background-color: #E8F0FE;\n",
              "      border: none;\n",
              "      border-radius: 50%;\n",
              "      cursor: pointer;\n",
              "      display: none;\n",
              "      fill: #1967D2;\n",
              "      height: 32px;\n",
              "      padding: 0 0 0 0;\n",
              "      width: 32px;\n",
              "    }\n",
              "\n",
              "    .colab-df-convert:hover {\n",
              "      background-color: #E2EBFA;\n",
              "      box-shadow: 0px 1px 2px rgba(60, 64, 67, 0.3), 0px 1px 3px 1px rgba(60, 64, 67, 0.15);\n",
              "      fill: #174EA6;\n",
              "    }\n",
              "\n",
              "    [theme=dark] .colab-df-convert {\n",
              "      background-color: #3B4455;\n",
              "      fill: #D2E3FC;\n",
              "    }\n",
              "\n",
              "    [theme=dark] .colab-df-convert:hover {\n",
              "      background-color: #434B5C;\n",
              "      box-shadow: 0px 1px 3px 1px rgba(0, 0, 0, 0.15);\n",
              "      filter: drop-shadow(0px 1px 2px rgba(0, 0, 0, 0.3));\n",
              "      fill: #FFFFFF;\n",
              "    }\n",
              "  </style>\n",
              "\n",
              "      <script>\n",
              "        const buttonEl =\n",
              "          document.querySelector('#df-d00ab247-808a-4445-849d-5465050e7506 button.colab-df-convert');\n",
              "        buttonEl.style.display =\n",
              "          google.colab.kernel.accessAllowed ? 'block' : 'none';\n",
              "\n",
              "        async function convertToInteractive(key) {\n",
              "          const element = document.querySelector('#df-d00ab247-808a-4445-849d-5465050e7506');\n",
              "          const dataTable =\n",
              "            await google.colab.kernel.invokeFunction('convertToInteractive',\n",
              "                                                     [key], {});\n",
              "          if (!dataTable) return;\n",
              "\n",
              "          const docLinkHtml = 'Like what you see? Visit the ' +\n",
              "            '<a target=\"_blank\" href=https://colab.research.google.com/notebooks/data_table.ipynb>data table notebook</a>'\n",
              "            + ' to learn more about interactive tables.';\n",
              "          element.innerHTML = '';\n",
              "          dataTable['output_type'] = 'display_data';\n",
              "          await google.colab.output.renderOutput(dataTable, element);\n",
              "          const docLink = document.createElement('div');\n",
              "          docLink.innerHTML = docLinkHtml;\n",
              "          element.appendChild(docLink);\n",
              "        }\n",
              "      </script>\n",
              "    </div>\n",
              "  </div>\n",
              "  "
            ],
            "text/plain": [
              "   행 ID          주문 ID      주문 날짜  ... order_year order_month order_day\n",
              "0     1  IN-2020-27828 2020-08-27  ...       2020           8        27\n",
              "1     2  IN-2020-27828 2020-08-27  ...       2020           8        27\n",
              "2     3  IN-2020-27828 2020-08-27  ...       2020           8        27\n",
              "\n",
              "[3 rows x 23 columns]"
            ]
          },
          "metadata": {},
          "execution_count": 40
        }
      ],
      "source": [
        "import datetime\n",
        "\n",
        "df['order_year']=df['주문 날짜'].dt.year\n",
        "df['order_month']=df['주문 날짜'].dt.month\n",
        "df['order_day']=df['주문 날짜'].dt.day\n",
        "\n",
        "df.head(3)"
      ]
    },
    {
      "cell_type": "code",
      "execution_count": 41,
      "metadata": {
        "id": "F8Zrd09tmVG5"
      },
      "outputs": [],
      "source": [
        "df['delivery_year']=df['배송 날짜'].dt.year\n",
        "df['delivery_month']=df['배송 날짜'].dt.month\n",
        "df['delivery_day']=df['배송 날짜'].dt.day\n",
        "df['delivery_weekday']=df['배송 날짜'].dt.weekday\n",
        "df['order_weekday']=df['주문 날짜'].dt.weekday"
      ]
    },
    {
      "cell_type": "code",
      "execution_count": 42,
      "metadata": {
        "colab": {
          "base_uri": "https://localhost:8080/",
          "height": 433
        },
        "id": "j7qo1LuNmZlQ",
        "outputId": "f2f44a10-1214-4eef-b8b8-125af8537208"
      },
      "outputs": [
        {
          "output_type": "execute_result",
          "data": {
            "text/html": [
              "\n",
              "  <div id=\"df-5e2d8e24-8b8f-44f0-91bf-69be8df8f290\">\n",
              "    <div class=\"colab-df-container\">\n",
              "      <div>\n",
              "<style scoped>\n",
              "    .dataframe tbody tr th:only-of-type {\n",
              "        vertical-align: middle;\n",
              "    }\n",
              "\n",
              "    .dataframe tbody tr th {\n",
              "        vertical-align: top;\n",
              "    }\n",
              "\n",
              "    .dataframe thead th {\n",
              "        text-align: right;\n",
              "    }\n",
              "</style>\n",
              "<table border=\"1\" class=\"dataframe\">\n",
              "  <thead>\n",
              "    <tr style=\"text-align: right;\">\n",
              "      <th></th>\n",
              "      <th>행 ID</th>\n",
              "      <th>주문 ID</th>\n",
              "      <th>주문 날짜</th>\n",
              "      <th>배송 날짜</th>\n",
              "      <th>배송 형태</th>\n",
              "      <th>고객 ID</th>\n",
              "      <th>고객 이름</th>\n",
              "      <th>세그먼트</th>\n",
              "      <th>도시</th>\n",
              "      <th>시/도</th>\n",
              "      <th>국가/지역</th>\n",
              "      <th>지역</th>\n",
              "      <th>제품 ID</th>\n",
              "      <th>범주</th>\n",
              "      <th>하위 범주</th>\n",
              "      <th>제품 이름</th>\n",
              "      <th>매출</th>\n",
              "      <th>수량</th>\n",
              "      <th>할인율</th>\n",
              "      <th>수익</th>\n",
              "      <th>order_year</th>\n",
              "      <th>order_month</th>\n",
              "      <th>order_day</th>\n",
              "      <th>delivery_year</th>\n",
              "      <th>delivery_month</th>\n",
              "      <th>delivery_day</th>\n",
              "      <th>delivery_weekday</th>\n",
              "      <th>order_weekday</th>\n",
              "    </tr>\n",
              "  </thead>\n",
              "  <tbody>\n",
              "    <tr>\n",
              "      <th>0</th>\n",
              "      <td>1</td>\n",
              "      <td>IN-2020-27828</td>\n",
              "      <td>2020-08-27</td>\n",
              "      <td>2020-08-31</td>\n",
              "      <td>표준 등급</td>\n",
              "      <td>VT-21700</td>\n",
              "      <td>Valerie Takahito</td>\n",
              "      <td>홈 오피스</td>\n",
              "      <td>Quanzhou</td>\n",
              "      <td>Fujian</td>\n",
              "      <td>China</td>\n",
              "      <td>북아시아</td>\n",
              "      <td>OFF-PA-10000026</td>\n",
              "      <td>사무용품</td>\n",
              "      <td>용지</td>\n",
              "      <td>Eaton Cards &amp; Envelopes, 8.5 x 11</td>\n",
              "      <td>197.28</td>\n",
              "      <td>4</td>\n",
              "      <td>0.0</td>\n",
              "      <td>35.40</td>\n",
              "      <td>2020</td>\n",
              "      <td>8</td>\n",
              "      <td>27</td>\n",
              "      <td>2020</td>\n",
              "      <td>8</td>\n",
              "      <td>31</td>\n",
              "      <td>0</td>\n",
              "      <td>3</td>\n",
              "    </tr>\n",
              "    <tr>\n",
              "      <th>1</th>\n",
              "      <td>2</td>\n",
              "      <td>IN-2020-27828</td>\n",
              "      <td>2020-08-27</td>\n",
              "      <td>2020-08-31</td>\n",
              "      <td>표준 등급</td>\n",
              "      <td>VT-21700</td>\n",
              "      <td>Valerie Takahito</td>\n",
              "      <td>홈 오피스</td>\n",
              "      <td>Quanzhou</td>\n",
              "      <td>Fujian</td>\n",
              "      <td>China</td>\n",
              "      <td>북아시아</td>\n",
              "      <td>FUR-FU-10000944</td>\n",
              "      <td>가구</td>\n",
              "      <td>사무용 집기</td>\n",
              "      <td>Tenex Door Stop, Black</td>\n",
              "      <td>307.23</td>\n",
              "      <td>7</td>\n",
              "      <td>0.0</td>\n",
              "      <td>21.42</td>\n",
              "      <td>2020</td>\n",
              "      <td>8</td>\n",
              "      <td>27</td>\n",
              "      <td>2020</td>\n",
              "      <td>8</td>\n",
              "      <td>31</td>\n",
              "      <td>0</td>\n",
              "      <td>3</td>\n",
              "    </tr>\n",
              "    <tr>\n",
              "      <th>2</th>\n",
              "      <td>3</td>\n",
              "      <td>IN-2020-27828</td>\n",
              "      <td>2020-08-27</td>\n",
              "      <td>2020-08-31</td>\n",
              "      <td>표준 등급</td>\n",
              "      <td>VT-21700</td>\n",
              "      <td>Valerie Takahito</td>\n",
              "      <td>홈 오피스</td>\n",
              "      <td>Quanzhou</td>\n",
              "      <td>Fujian</td>\n",
              "      <td>China</td>\n",
              "      <td>북아시아</td>\n",
              "      <td>TEC-CO-10002526</td>\n",
              "      <td>기술</td>\n",
              "      <td>복사기</td>\n",
              "      <td>Sharp Wireless Fax, Digital</td>\n",
              "      <td>1422.24</td>\n",
              "      <td>4</td>\n",
              "      <td>0.0</td>\n",
              "      <td>526.20</td>\n",
              "      <td>2020</td>\n",
              "      <td>8</td>\n",
              "      <td>27</td>\n",
              "      <td>2020</td>\n",
              "      <td>8</td>\n",
              "      <td>31</td>\n",
              "      <td>0</td>\n",
              "      <td>3</td>\n",
              "    </tr>\n",
              "  </tbody>\n",
              "</table>\n",
              "</div>\n",
              "      <button class=\"colab-df-convert\" onclick=\"convertToInteractive('df-5e2d8e24-8b8f-44f0-91bf-69be8df8f290')\"\n",
              "              title=\"Convert this dataframe to an interactive table.\"\n",
              "              style=\"display:none;\">\n",
              "        \n",
              "  <svg xmlns=\"http://www.w3.org/2000/svg\" height=\"24px\"viewBox=\"0 0 24 24\"\n",
              "       width=\"24px\">\n",
              "    <path d=\"M0 0h24v24H0V0z\" fill=\"none\"/>\n",
              "    <path d=\"M18.56 5.44l.94 2.06.94-2.06 2.06-.94-2.06-.94-.94-2.06-.94 2.06-2.06.94zm-11 1L8.5 8.5l.94-2.06 2.06-.94-2.06-.94L8.5 2.5l-.94 2.06-2.06.94zm10 10l.94 2.06.94-2.06 2.06-.94-2.06-.94-.94-2.06-.94 2.06-2.06.94z\"/><path d=\"M17.41 7.96l-1.37-1.37c-.4-.4-.92-.59-1.43-.59-.52 0-1.04.2-1.43.59L10.3 9.45l-7.72 7.72c-.78.78-.78 2.05 0 2.83L4 21.41c.39.39.9.59 1.41.59.51 0 1.02-.2 1.41-.59l7.78-7.78 2.81-2.81c.8-.78.8-2.07 0-2.86zM5.41 20L4 18.59l7.72-7.72 1.47 1.35L5.41 20z\"/>\n",
              "  </svg>\n",
              "      </button>\n",
              "      \n",
              "  <style>\n",
              "    .colab-df-container {\n",
              "      display:flex;\n",
              "      flex-wrap:wrap;\n",
              "      gap: 12px;\n",
              "    }\n",
              "\n",
              "    .colab-df-convert {\n",
              "      background-color: #E8F0FE;\n",
              "      border: none;\n",
              "      border-radius: 50%;\n",
              "      cursor: pointer;\n",
              "      display: none;\n",
              "      fill: #1967D2;\n",
              "      height: 32px;\n",
              "      padding: 0 0 0 0;\n",
              "      width: 32px;\n",
              "    }\n",
              "\n",
              "    .colab-df-convert:hover {\n",
              "      background-color: #E2EBFA;\n",
              "      box-shadow: 0px 1px 2px rgba(60, 64, 67, 0.3), 0px 1px 3px 1px rgba(60, 64, 67, 0.15);\n",
              "      fill: #174EA6;\n",
              "    }\n",
              "\n",
              "    [theme=dark] .colab-df-convert {\n",
              "      background-color: #3B4455;\n",
              "      fill: #D2E3FC;\n",
              "    }\n",
              "\n",
              "    [theme=dark] .colab-df-convert:hover {\n",
              "      background-color: #434B5C;\n",
              "      box-shadow: 0px 1px 3px 1px rgba(0, 0, 0, 0.15);\n",
              "      filter: drop-shadow(0px 1px 2px rgba(0, 0, 0, 0.3));\n",
              "      fill: #FFFFFF;\n",
              "    }\n",
              "  </style>\n",
              "\n",
              "      <script>\n",
              "        const buttonEl =\n",
              "          document.querySelector('#df-5e2d8e24-8b8f-44f0-91bf-69be8df8f290 button.colab-df-convert');\n",
              "        buttonEl.style.display =\n",
              "          google.colab.kernel.accessAllowed ? 'block' : 'none';\n",
              "\n",
              "        async function convertToInteractive(key) {\n",
              "          const element = document.querySelector('#df-5e2d8e24-8b8f-44f0-91bf-69be8df8f290');\n",
              "          const dataTable =\n",
              "            await google.colab.kernel.invokeFunction('convertToInteractive',\n",
              "                                                     [key], {});\n",
              "          if (!dataTable) return;\n",
              "\n",
              "          const docLinkHtml = 'Like what you see? Visit the ' +\n",
              "            '<a target=\"_blank\" href=https://colab.research.google.com/notebooks/data_table.ipynb>data table notebook</a>'\n",
              "            + ' to learn more about interactive tables.';\n",
              "          element.innerHTML = '';\n",
              "          dataTable['output_type'] = 'display_data';\n",
              "          await google.colab.output.renderOutput(dataTable, element);\n",
              "          const docLink = document.createElement('div');\n",
              "          docLink.innerHTML = docLinkHtml;\n",
              "          element.appendChild(docLink);\n",
              "        }\n",
              "      </script>\n",
              "    </div>\n",
              "  </div>\n",
              "  "
            ],
            "text/plain": [
              "   행 ID          주문 ID  ... delivery_weekday order_weekday\n",
              "0     1  IN-2020-27828  ...                0             3\n",
              "1     2  IN-2020-27828  ...                0             3\n",
              "2     3  IN-2020-27828  ...                0             3\n",
              "\n",
              "[3 rows x 28 columns]"
            ]
          },
          "metadata": {},
          "execution_count": 42
        }
      ],
      "source": [
        "df.head(3)"
      ]
    },
    {
      "cell_type": "code",
      "execution_count": 43,
      "metadata": {
        "colab": {
          "base_uri": "https://localhost:8080/",
          "height": 433
        },
        "id": "OxfdnW22rCXj",
        "outputId": "baadb409-b826-4491-c362-2891d57992eb"
      },
      "outputs": [
        {
          "output_type": "execute_result",
          "data": {
            "text/html": [
              "\n",
              "  <div id=\"df-6133943c-6f61-4bb4-88ad-8bacf4cf7965\">\n",
              "    <div class=\"colab-df-container\">\n",
              "      <div>\n",
              "<style scoped>\n",
              "    .dataframe tbody tr th:only-of-type {\n",
              "        vertical-align: middle;\n",
              "    }\n",
              "\n",
              "    .dataframe tbody tr th {\n",
              "        vertical-align: top;\n",
              "    }\n",
              "\n",
              "    .dataframe thead th {\n",
              "        text-align: right;\n",
              "    }\n",
              "</style>\n",
              "<table border=\"1\" class=\"dataframe\">\n",
              "  <thead>\n",
              "    <tr style=\"text-align: right;\">\n",
              "      <th></th>\n",
              "      <th>행 ID</th>\n",
              "      <th>주문 ID</th>\n",
              "      <th>주문 날짜</th>\n",
              "      <th>배송 날짜</th>\n",
              "      <th>배송 형태</th>\n",
              "      <th>고객 ID</th>\n",
              "      <th>고객 이름</th>\n",
              "      <th>세그먼트</th>\n",
              "      <th>도시</th>\n",
              "      <th>시/도</th>\n",
              "      <th>국가/지역</th>\n",
              "      <th>지역</th>\n",
              "      <th>제품 ID</th>\n",
              "      <th>범주</th>\n",
              "      <th>하위 범주</th>\n",
              "      <th>제품 이름</th>\n",
              "      <th>매출</th>\n",
              "      <th>수량</th>\n",
              "      <th>할인율</th>\n",
              "      <th>수익</th>\n",
              "      <th>order_year</th>\n",
              "      <th>order_month</th>\n",
              "      <th>order_day</th>\n",
              "      <th>delivery_year</th>\n",
              "      <th>delivery_month</th>\n",
              "      <th>delivery_day</th>\n",
              "      <th>delivery_weekday</th>\n",
              "      <th>order_weekday</th>\n",
              "    </tr>\n",
              "  </thead>\n",
              "  <tbody>\n",
              "    <tr>\n",
              "      <th>0</th>\n",
              "      <td>1</td>\n",
              "      <td>IN-2020-27828</td>\n",
              "      <td>2020-08-27</td>\n",
              "      <td>2020-08-31</td>\n",
              "      <td>표준 등급</td>\n",
              "      <td>VT-21700</td>\n",
              "      <td>Valerie Takahito</td>\n",
              "      <td>홈 오피스</td>\n",
              "      <td>Quanzhou</td>\n",
              "      <td>Fujian</td>\n",
              "      <td>China</td>\n",
              "      <td>북아시아</td>\n",
              "      <td>OFF-PA-10000026</td>\n",
              "      <td>사무용품</td>\n",
              "      <td>용지</td>\n",
              "      <td>Eaton Cards &amp; Envelopes, 8.5 x 11</td>\n",
              "      <td>197.28</td>\n",
              "      <td>4</td>\n",
              "      <td>0.0</td>\n",
              "      <td>35.40</td>\n",
              "      <td>2020</td>\n",
              "      <td>8</td>\n",
              "      <td>27</td>\n",
              "      <td>2020</td>\n",
              "      <td>8</td>\n",
              "      <td>31</td>\n",
              "      <td>0</td>\n",
              "      <td>3</td>\n",
              "    </tr>\n",
              "    <tr>\n",
              "      <th>1</th>\n",
              "      <td>2</td>\n",
              "      <td>IN-2020-27828</td>\n",
              "      <td>2020-08-27</td>\n",
              "      <td>2020-08-31</td>\n",
              "      <td>표준 등급</td>\n",
              "      <td>VT-21700</td>\n",
              "      <td>Valerie Takahito</td>\n",
              "      <td>홈 오피스</td>\n",
              "      <td>Quanzhou</td>\n",
              "      <td>Fujian</td>\n",
              "      <td>China</td>\n",
              "      <td>북아시아</td>\n",
              "      <td>FUR-FU-10000944</td>\n",
              "      <td>가구</td>\n",
              "      <td>사무용 집기</td>\n",
              "      <td>Tenex Door Stop, Black</td>\n",
              "      <td>307.23</td>\n",
              "      <td>7</td>\n",
              "      <td>0.0</td>\n",
              "      <td>21.42</td>\n",
              "      <td>2020</td>\n",
              "      <td>8</td>\n",
              "      <td>27</td>\n",
              "      <td>2020</td>\n",
              "      <td>8</td>\n",
              "      <td>31</td>\n",
              "      <td>0</td>\n",
              "      <td>3</td>\n",
              "    </tr>\n",
              "    <tr>\n",
              "      <th>2</th>\n",
              "      <td>3</td>\n",
              "      <td>IN-2020-27828</td>\n",
              "      <td>2020-08-27</td>\n",
              "      <td>2020-08-31</td>\n",
              "      <td>표준 등급</td>\n",
              "      <td>VT-21700</td>\n",
              "      <td>Valerie Takahito</td>\n",
              "      <td>홈 오피스</td>\n",
              "      <td>Quanzhou</td>\n",
              "      <td>Fujian</td>\n",
              "      <td>China</td>\n",
              "      <td>북아시아</td>\n",
              "      <td>TEC-CO-10002526</td>\n",
              "      <td>기술</td>\n",
              "      <td>복사기</td>\n",
              "      <td>Sharp Wireless Fax, Digital</td>\n",
              "      <td>1422.24</td>\n",
              "      <td>4</td>\n",
              "      <td>0.0</td>\n",
              "      <td>526.20</td>\n",
              "      <td>2020</td>\n",
              "      <td>8</td>\n",
              "      <td>27</td>\n",
              "      <td>2020</td>\n",
              "      <td>8</td>\n",
              "      <td>31</td>\n",
              "      <td>0</td>\n",
              "      <td>3</td>\n",
              "    </tr>\n",
              "  </tbody>\n",
              "</table>\n",
              "</div>\n",
              "      <button class=\"colab-df-convert\" onclick=\"convertToInteractive('df-6133943c-6f61-4bb4-88ad-8bacf4cf7965')\"\n",
              "              title=\"Convert this dataframe to an interactive table.\"\n",
              "              style=\"display:none;\">\n",
              "        \n",
              "  <svg xmlns=\"http://www.w3.org/2000/svg\" height=\"24px\"viewBox=\"0 0 24 24\"\n",
              "       width=\"24px\">\n",
              "    <path d=\"M0 0h24v24H0V0z\" fill=\"none\"/>\n",
              "    <path d=\"M18.56 5.44l.94 2.06.94-2.06 2.06-.94-2.06-.94-.94-2.06-.94 2.06-2.06.94zm-11 1L8.5 8.5l.94-2.06 2.06-.94-2.06-.94L8.5 2.5l-.94 2.06-2.06.94zm10 10l.94 2.06.94-2.06 2.06-.94-2.06-.94-.94-2.06-.94 2.06-2.06.94z\"/><path d=\"M17.41 7.96l-1.37-1.37c-.4-.4-.92-.59-1.43-.59-.52 0-1.04.2-1.43.59L10.3 9.45l-7.72 7.72c-.78.78-.78 2.05 0 2.83L4 21.41c.39.39.9.59 1.41.59.51 0 1.02-.2 1.41-.59l7.78-7.78 2.81-2.81c.8-.78.8-2.07 0-2.86zM5.41 20L4 18.59l7.72-7.72 1.47 1.35L5.41 20z\"/>\n",
              "  </svg>\n",
              "      </button>\n",
              "      \n",
              "  <style>\n",
              "    .colab-df-container {\n",
              "      display:flex;\n",
              "      flex-wrap:wrap;\n",
              "      gap: 12px;\n",
              "    }\n",
              "\n",
              "    .colab-df-convert {\n",
              "      background-color: #E8F0FE;\n",
              "      border: none;\n",
              "      border-radius: 50%;\n",
              "      cursor: pointer;\n",
              "      display: none;\n",
              "      fill: #1967D2;\n",
              "      height: 32px;\n",
              "      padding: 0 0 0 0;\n",
              "      width: 32px;\n",
              "    }\n",
              "\n",
              "    .colab-df-convert:hover {\n",
              "      background-color: #E2EBFA;\n",
              "      box-shadow: 0px 1px 2px rgba(60, 64, 67, 0.3), 0px 1px 3px 1px rgba(60, 64, 67, 0.15);\n",
              "      fill: #174EA6;\n",
              "    }\n",
              "\n",
              "    [theme=dark] .colab-df-convert {\n",
              "      background-color: #3B4455;\n",
              "      fill: #D2E3FC;\n",
              "    }\n",
              "\n",
              "    [theme=dark] .colab-df-convert:hover {\n",
              "      background-color: #434B5C;\n",
              "      box-shadow: 0px 1px 3px 1px rgba(0, 0, 0, 0.15);\n",
              "      filter: drop-shadow(0px 1px 2px rgba(0, 0, 0, 0.3));\n",
              "      fill: #FFFFFF;\n",
              "    }\n",
              "  </style>\n",
              "\n",
              "      <script>\n",
              "        const buttonEl =\n",
              "          document.querySelector('#df-6133943c-6f61-4bb4-88ad-8bacf4cf7965 button.colab-df-convert');\n",
              "        buttonEl.style.display =\n",
              "          google.colab.kernel.accessAllowed ? 'block' : 'none';\n",
              "\n",
              "        async function convertToInteractive(key) {\n",
              "          const element = document.querySelector('#df-6133943c-6f61-4bb4-88ad-8bacf4cf7965');\n",
              "          const dataTable =\n",
              "            await google.colab.kernel.invokeFunction('convertToInteractive',\n",
              "                                                     [key], {});\n",
              "          if (!dataTable) return;\n",
              "\n",
              "          const docLinkHtml = 'Like what you see? Visit the ' +\n",
              "            '<a target=\"_blank\" href=https://colab.research.google.com/notebooks/data_table.ipynb>data table notebook</a>'\n",
              "            + ' to learn more about interactive tables.';\n",
              "          element.innerHTML = '';\n",
              "          dataTable['output_type'] = 'display_data';\n",
              "          await google.colab.output.renderOutput(dataTable, element);\n",
              "          const docLink = document.createElement('div');\n",
              "          docLink.innerHTML = docLinkHtml;\n",
              "          element.appendChild(docLink);\n",
              "        }\n",
              "      </script>\n",
              "    </div>\n",
              "  </div>\n",
              "  "
            ],
            "text/plain": [
              "   행 ID          주문 ID  ... delivery_weekday order_weekday\n",
              "0     1  IN-2020-27828  ...                0             3\n",
              "1     2  IN-2020-27828  ...                0             3\n",
              "2     3  IN-2020-27828  ...                0             3\n",
              "\n",
              "[3 rows x 28 columns]"
            ]
          },
          "metadata": {},
          "execution_count": 43
        }
      ],
      "source": [
        "df.head(3)"
      ]
    },
    {
      "cell_type": "markdown",
      "metadata": {
        "id": "NF97rJ_vyUie"
      },
      "source": [
        "요일이 숫자로 되어있으니 문자로 바꾸어주겠다."
      ]
    },
    {
      "cell_type": "code",
      "execution_count": 44,
      "metadata": {
        "id": "mgMO13bfrgTk"
      },
      "outputs": [],
      "source": [
        "mapping={0:'Mon',1:'Tue',2:'Wed',3:'Thu',4:'Fri',5:'Sat',6:'Sun'}"
      ]
    },
    {
      "cell_type": "code",
      "execution_count": 45,
      "metadata": {
        "id": "zFuReEIhvyiS"
      },
      "outputs": [],
      "source": [
        "df['delivery_weekday']=df['delivery_weekday'].map(mapping)\n",
        "df['order_weekday']=df['order_weekday'].map(mapping)"
      ]
    },
    {
      "cell_type": "markdown",
      "metadata": {
        "id": "Smydrv_GybNC"
      },
      "source": [
        "## 년도별로 주문량 확인하기"
      ]
    },
    {
      "cell_type": "code",
      "execution_count": 46,
      "metadata": {
        "colab": {
          "base_uri": "https://localhost:8080/"
        },
        "id": "odg36WBXzngq",
        "outputId": "a3134533-bfd0-4b18-cf51-d72c1b579744"
      },
      "outputs": [
        {
          "output_type": "execute_result",
          "data": {
            "text/plain": [
              "Index(['행 ID', '주문 ID', '주문 날짜', '배송 날짜', '배송 형태', '고객 ID', '고객 이름', '세그먼트',\n",
              "       '도시', '시/도', '국가/지역', '지역', '제품 ID', '범주', '하위 범주', '제품 이름', '매출', '수량',\n",
              "       '할인율', '수익', 'order_year', 'order_month', 'order_day', 'delivery_year',\n",
              "       'delivery_month', 'delivery_day', 'delivery_weekday', 'order_weekday'],\n",
              "      dtype='object')"
            ]
          },
          "metadata": {},
          "execution_count": 46
        }
      ],
      "source": [
        "df.columns"
      ]
    },
    {
      "cell_type": "code",
      "execution_count": 47,
      "metadata": {
        "id": "OImI34Wmv9ep"
      },
      "outputs": [],
      "source": [
        "df_order_year=df['order_year'].value_counts()"
      ]
    },
    {
      "cell_type": "code",
      "execution_count": 48,
      "metadata": {
        "colab": {
          "base_uri": "https://localhost:8080/",
          "height": 298
        },
        "id": "lNi6RMMDFjxv",
        "outputId": "5db5013f-3a9b-4089-fdbf-6d47037fedab"
      },
      "outputs": [
        {
          "output_type": "execute_result",
          "data": {
            "text/plain": [
              "<matplotlib.axes._subplots.AxesSubplot at 0x7f6b1f7c3d90>"
            ]
          },
          "metadata": {},
          "execution_count": 48
        },
        {
          "output_type": "stream",
          "name": "stderr",
          "text": [
            "findfont: Font family ['NanumBarunGothic'] not found. Falling back to DejaVu Sans.\n"
          ]
        },
        {
          "output_type": "display_data",
          "data": {
            "image/png": "[encoded data removed]",
            "text/plain": [
              "<Figure size 432x288 with 1 Axes>"
            ]
          },
          "metadata": {
            "needs_background": "light"
          }
        }
      ],
      "source": [
        "sns.countplot(data=df,x='order_year')"
      ]
    },
    {
      "cell_type": "code",
      "source": [
        "year=df.groupby('order_year').sum()[['수량','수익']]"
      ],
      "metadata": {
        "id": "wF_C994BPtQY"
      },
      "execution_count": 49,
      "outputs": []
    },
    {
      "cell_type": "code",
      "source": [
        "year"
      ],
      "metadata": {
        "colab": {
          "base_uri": "https://localhost:8080/",
          "height": 206
        },
        "id": "ARTXXu4sSD4d",
        "outputId": "d5e3e894-a946-4175-9fd2-3cd9fb80475b"
      },
      "execution_count": 50,
      "outputs": [
        {
          "output_type": "execute_result",
          "data": {
            "text/html": [
              "\n",
              "  <div id=\"df-200a6080-a64a-4e09-9ca4-28d84ff995c4\">\n",
              "    <div class=\"colab-df-container\">\n",
              "      <div>\n",
              "<style scoped>\n",
              "    .dataframe tbody tr th:only-of-type {\n",
              "        vertical-align: middle;\n",
              "    }\n",
              "\n",
              "    .dataframe tbody tr th {\n",
              "        vertical-align: top;\n",
              "    }\n",
              "\n",
              "    .dataframe thead th {\n",
              "        text-align: right;\n",
              "    }\n",
              "</style>\n",
              "<table border=\"1\" class=\"dataframe\">\n",
              "  <thead>\n",
              "    <tr style=\"text-align: right;\">\n",
              "      <th></th>\n",
              "      <th>수량</th>\n",
              "      <th>수익</th>\n",
              "    </tr>\n",
              "    <tr>\n",
              "      <th>order_year</th>\n",
              "      <th></th>\n",
              "      <th></th>\n",
              "    </tr>\n",
              "  </thead>\n",
              "  <tbody>\n",
              "    <tr>\n",
              "      <th>2018</th>\n",
              "      <td>7214</td>\n",
              "      <td>82744.6554</td>\n",
              "    </tr>\n",
              "    <tr>\n",
              "      <th>2019</th>\n",
              "      <td>8667</td>\n",
              "      <td>88201.5924</td>\n",
              "    </tr>\n",
              "    <tr>\n",
              "      <th>2020</th>\n",
              "      <td>10902</td>\n",
              "      <td>121826.4576</td>\n",
              "    </tr>\n",
              "    <tr>\n",
              "      <th>2021</th>\n",
              "      <td>14239</td>\n",
              "      <td>139281.6736</td>\n",
              "    </tr>\n",
              "  </tbody>\n",
              "</table>\n",
              "</div>\n",
              "      <button class=\"colab-df-convert\" onclick=\"convertToInteractive('df-200a6080-a64a-4e09-9ca4-28d84ff995c4')\"\n",
              "              title=\"Convert this dataframe to an interactive table.\"\n",
              "              style=\"display:none;\">\n",
              "        \n",
              "  <svg xmlns=\"http://www.w3.org/2000/svg\" height=\"24px\"viewBox=\"0 0 24 24\"\n",
              "       width=\"24px\">\n",
              "    <path d=\"M0 0h24v24H0V0z\" fill=\"none\"/>\n",
              "    <path d=\"M18.56 5.44l.94 2.06.94-2.06 2.06-.94-2.06-.94-.94-2.06-.94 2.06-2.06.94zm-11 1L8.5 8.5l.94-2.06 2.06-.94-2.06-.94L8.5 2.5l-.94 2.06-2.06.94zm10 10l.94 2.06.94-2.06 2.06-.94-2.06-.94-.94-2.06-.94 2.06-2.06.94z\"/><path d=\"M17.41 7.96l-1.37-1.37c-.4-.4-.92-.59-1.43-.59-.52 0-1.04.2-1.43.59L10.3 9.45l-7.72 7.72c-.78.78-.78 2.05 0 2.83L4 21.41c.39.39.9.59 1.41.59.51 0 1.02-.2 1.41-.59l7.78-7.78 2.81-2.81c.8-.78.8-2.07 0-2.86zM5.41 20L4 18.59l7.72-7.72 1.47 1.35L5.41 20z\"/>\n",
              "  </svg>\n",
              "      </button>\n",
              "      \n",
              "  <style>\n",
              "    .colab-df-container {\n",
              "      display:flex;\n",
              "      flex-wrap:wrap;\n",
              "      gap: 12px;\n",
              "    }\n",
              "\n",
              "    .colab-df-convert {\n",
              "      background-color: #E8F0FE;\n",
              "      border: none;\n",
              "      border-radius: 50%;\n",
              "      cursor: pointer;\n",
              "      display: none;\n",
              "      fill: #1967D2;\n",
              "      height: 32px;\n",
              "      padding: 0 0 0 0;\n",
              "      width: 32px;\n",
              "    }\n",
              "\n",
              "    .colab-df-convert:hover {\n",
              "      background-color: #E2EBFA;\n",
              "      box-shadow: 0px 1px 2px rgba(60, 64, 67, 0.3), 0px 1px 3px 1px rgba(60, 64, 67, 0.15);\n",
              "      fill: #174EA6;\n",
              "    }\n",
              "\n",
              "    [theme=dark] .colab-df-convert {\n",
              "      background-color: #3B4455;\n",
              "      fill: #D2E3FC;\n",
              "    }\n",
              "\n",
              "    [theme=dark] .colab-df-convert:hover {\n",
              "      background-color: #434B5C;\n",
              "      box-shadow: 0px 1px 3px 1px rgba(0, 0, 0, 0.15);\n",
              "      filter: drop-shadow(0px 1px 2px rgba(0, 0, 0, 0.3));\n",
              "      fill: #FFFFFF;\n",
              "    }\n",
              "  </style>\n",
              "\n",
              "      <script>\n",
              "        const buttonEl =\n",
              "          document.querySelector('#df-200a6080-a64a-4e09-9ca4-28d84ff995c4 button.colab-df-convert');\n",
              "        buttonEl.style.display =\n",
              "          google.colab.kernel.accessAllowed ? 'block' : 'none';\n",
              "\n",
              "        async function convertToInteractive(key) {\n",
              "          const element = document.querySelector('#df-200a6080-a64a-4e09-9ca4-28d84ff995c4');\n",
              "          const dataTable =\n",
              "            await google.colab.kernel.invokeFunction('convertToInteractive',\n",
              "                                                     [key], {});\n",
              "          if (!dataTable) return;\n",
              "\n",
              "          const docLinkHtml = 'Like what you see? Visit the ' +\n",
              "            '<a target=\"_blank\" href=https://colab.research.google.com/notebooks/data_table.ipynb>data table notebook</a>'\n",
              "            + ' to learn more about interactive tables.';\n",
              "          element.innerHTML = '';\n",
              "          dataTable['output_type'] = 'display_data';\n",
              "          await google.colab.output.renderOutput(dataTable, element);\n",
              "          const docLink = document.createElement('div');\n",
              "          docLink.innerHTML = docLinkHtml;\n",
              "          element.appendChild(docLink);\n",
              "        }\n",
              "      </script>\n",
              "    </div>\n",
              "  </div>\n",
              "  "
            ],
            "text/plain": [
              "               수량           수익\n",
              "order_year                    \n",
              "2018         7214   82744.6554\n",
              "2019         8667   88201.5924\n",
              "2020        10902  121826.4576\n",
              "2021        14239  139281.6736"
            ]
          },
          "metadata": {},
          "execution_count": 50
        }
      ]
    },
    {
      "cell_type": "markdown",
      "source": [
        "## 년도 별로 수익 확인"
      ],
      "metadata": {
        "id": "zi53i9nDg4xb"
      }
    },
    {
      "cell_type": "code",
      "source": [
        "sns.barplot(x=year.index,y=year['수익'])"
      ],
      "metadata": {
        "colab": {
          "base_uri": "https://localhost:8080/",
          "height": 426
        },
        "id": "ei-hw-VaP6-o",
        "outputId": "f4b6a5ad-5d9f-4236-ced9-d64f037dd48d"
      },
      "execution_count": 51,
      "outputs": [
        {
          "output_type": "execute_result",
          "data": {
            "text/plain": [
              "<matplotlib.axes._subplots.AxesSubplot at 0x7f6b1f217fd0>"
            ]
          },
          "metadata": {},
          "execution_count": 51
        },
        {
          "output_type": "stream",
          "name": "stderr",
          "text": [
            "/usr/local/lib/python3.7/dist-packages/matplotlib/backends/backend_agg.py:214: RuntimeWarning: Glyph 49688 missing from current font.\n",
            "  font.set_text(s, 0.0, flags=flags)\n",
            "/usr/local/lib/python3.7/dist-packages/matplotlib/backends/backend_agg.py:214: RuntimeWarning: Glyph 51061 missing from current font.\n",
            "  font.set_text(s, 0.0, flags=flags)\n",
            "/usr/local/lib/python3.7/dist-packages/matplotlib/backends/backend_agg.py:183: RuntimeWarning: Glyph 49688 missing from current font.\n",
            "  font.set_text(s, 0, flags=flags)\n",
            "/usr/local/lib/python3.7/dist-packages/matplotlib/backends/backend_agg.py:183: RuntimeWarning: Glyph 51061 missing from current font.\n",
            "  font.set_text(s, 0, flags=flags)\n"
          ]
        },
        {
          "output_type": "display_data",
          "data": {
            "image/png": "[encoded data removed]",
            "text/plain": [
              "<Figure size 432x288 with 1 Axes>"
            ]
          },
          "metadata": {
            "needs_background": "light"
          }
        }
      ]
    },
    {
      "cell_type": "markdown",
      "metadata": {
        "id": "NbXYM2y9Ti4K"
      },
      "source": [
        "## 월별로 주문량 확인"
      ]
    },
    {
      "cell_type": "code",
      "execution_count": 52,
      "metadata": {
        "colab": {
          "base_uri": "https://localhost:8080/"
        },
        "id": "tJtHM4vERMRN",
        "outputId": "8b71b988-8f00-4978-8743-8966b5093622"
      },
      "outputs": [
        {
          "output_type": "execute_result",
          "data": {
            "text/plain": [
              "1      652\n",
              "2      529\n",
              "3      597\n",
              "4      527\n",
              "5     1011\n",
              "6     1171\n",
              "7      606\n",
              "8     1148\n",
              "9     1068\n",
              "10    1192\n",
              "11    1193\n",
              "12    1239\n",
              "Name: order_month, dtype: int64"
            ]
          },
          "metadata": {},
          "execution_count": 52
        }
      ],
      "source": [
        "df_order_month=df['order_month'].value_counts().sort_index()\n",
        "df_order_month"
      ]
    },
    {
      "cell_type": "code",
      "execution_count": 53,
      "metadata": {
        "colab": {
          "base_uri": "https://localhost:8080/",
          "height": 298
        },
        "id": "o2Io5ugY452N",
        "outputId": "a31316d7-4e33-4faf-95a2-1ee2e3dc3579"
      },
      "outputs": [
        {
          "output_type": "execute_result",
          "data": {
            "text/plain": [
              "<matplotlib.axes._subplots.AxesSubplot at 0x7f6b1ef1aa90>"
            ]
          },
          "metadata": {},
          "execution_count": 53
        },
        {
          "output_type": "display_data",
          "data": {
            "image/png": "[encoded data removed]",
            "text/plain": [
              "<Figure size 432x288 with 1 Axes>"
            ]
          },
          "metadata": {
            "needs_background": "light"
          }
        }
      ],
      "source": [
        "sns.countplot(data=df,x='order_month',hue='order_year')"
      ]
    },
    {
      "cell_type": "code",
      "source": [
        "sns.countplot(data=df,x='order_month')"
      ],
      "metadata": {
        "colab": {
          "base_uri": "https://localhost:8080/",
          "height": 298
        },
        "id": "0evnQC4I7oq0",
        "outputId": "d28d39e1-e878-4f50-ff83-971e8fa695bb"
      },
      "execution_count": 54,
      "outputs": [
        {
          "output_type": "execute_result",
          "data": {
            "text/plain": [
              "<matplotlib.axes._subplots.AxesSubplot at 0x7f6b1de16190>"
            ]
          },
          "metadata": {},
          "execution_count": 54
        },
        {
          "output_type": "display_data",
          "data": {
            "image/png": "[encoded data removed]",
            "text/plain": [
              "<Figure size 432x288 with 1 Axes>"
            ]
          },
          "metadata": {
            "needs_background": "light"
          }
        }
      ]
    },
    {
      "cell_type": "code",
      "source": [
        "month=df.groupby('order_month').sum()[['수익','수량']]\n",
        "month"
      ],
      "metadata": {
        "colab": {
          "base_uri": "https://localhost:8080/",
          "height": 457
        },
        "id": "6Q5tcKyFRYTK",
        "outputId": "e38281d1-911c-47ce-9061-88dbc1336604"
      },
      "execution_count": 55,
      "outputs": [
        {
          "output_type": "execute_result",
          "data": {
            "text/html": [
              "\n",
              "  <div id=\"df-62c2b48c-267d-44cb-a9c5-8df706673115\">\n",
              "    <div class=\"colab-df-container\">\n",
              "      <div>\n",
              "<style scoped>\n",
              "    .dataframe tbody tr th:only-of-type {\n",
              "        vertical-align: middle;\n",
              "    }\n",
              "\n",
              "    .dataframe tbody tr th {\n",
              "        vertical-align: top;\n",
              "    }\n",
              "\n",
              "    .dataframe thead th {\n",
              "        text-align: right;\n",
              "    }\n",
              "</style>\n",
              "<table border=\"1\" class=\"dataframe\">\n",
              "  <thead>\n",
              "    <tr style=\"text-align: right;\">\n",
              "      <th></th>\n",
              "      <th>수익</th>\n",
              "      <th>수량</th>\n",
              "    </tr>\n",
              "    <tr>\n",
              "      <th>order_month</th>\n",
              "      <th></th>\n",
              "      <th></th>\n",
              "    </tr>\n",
              "  </thead>\n",
              "  <tbody>\n",
              "    <tr>\n",
              "      <th>1</th>\n",
              "      <td>20349.9558</td>\n",
              "      <td>2427</td>\n",
              "    </tr>\n",
              "    <tr>\n",
              "      <th>2</th>\n",
              "      <td>18034.6521</td>\n",
              "      <td>2008</td>\n",
              "    </tr>\n",
              "    <tr>\n",
              "      <th>3</th>\n",
              "      <td>27956.3601</td>\n",
              "      <td>2284</td>\n",
              "    </tr>\n",
              "    <tr>\n",
              "      <th>4</th>\n",
              "      <td>17644.6098</td>\n",
              "      <td>1935</td>\n",
              "    </tr>\n",
              "    <tr>\n",
              "      <th>5</th>\n",
              "      <td>37994.6253</td>\n",
              "      <td>3813</td>\n",
              "    </tr>\n",
              "    <tr>\n",
              "      <th>6</th>\n",
              "      <td>50310.0111</td>\n",
              "      <td>4321</td>\n",
              "    </tr>\n",
              "    <tr>\n",
              "      <th>7</th>\n",
              "      <td>18441.6144</td>\n",
              "      <td>2236</td>\n",
              "    </tr>\n",
              "    <tr>\n",
              "      <th>8</th>\n",
              "      <td>40968.4800</td>\n",
              "      <td>4383</td>\n",
              "    </tr>\n",
              "    <tr>\n",
              "      <th>9</th>\n",
              "      <td>41771.8749</td>\n",
              "      <td>4000</td>\n",
              "    </tr>\n",
              "    <tr>\n",
              "      <th>10</th>\n",
              "      <td>58793.7028</td>\n",
              "      <td>4544</td>\n",
              "    </tr>\n",
              "    <tr>\n",
              "      <th>11</th>\n",
              "      <td>53448.5346</td>\n",
              "      <td>4502</td>\n",
              "    </tr>\n",
              "    <tr>\n",
              "      <th>12</th>\n",
              "      <td>46339.9581</td>\n",
              "      <td>4569</td>\n",
              "    </tr>\n",
              "  </tbody>\n",
              "</table>\n",
              "</div>\n",
              "      <button class=\"colab-df-convert\" onclick=\"convertToInteractive('df-62c2b48c-267d-44cb-a9c5-8df706673115')\"\n",
              "              title=\"Convert this dataframe to an interactive table.\"\n",
              "              style=\"display:none;\">\n",
              "        \n",
              "  <svg xmlns=\"http://www.w3.org/2000/svg\" height=\"24px\"viewBox=\"0 0 24 24\"\n",
              "       width=\"24px\">\n",
              "    <path d=\"M0 0h24v24H0V0z\" fill=\"none\"/>\n",
              "    <path d=\"M18.56 5.44l.94 2.06.94-2.06 2.06-.94-2.06-.94-.94-2.06-.94 2.06-2.06.94zm-11 1L8.5 8.5l.94-2.06 2.06-.94-2.06-.94L8.5 2.5l-.94 2.06-2.06.94zm10 10l.94 2.06.94-2.06 2.06-.94-2.06-.94-.94-2.06-.94 2.06-2.06.94z\"/><path d=\"M17.41 7.96l-1.37-1.37c-.4-.4-.92-.59-1.43-.59-.52 0-1.04.2-1.43.59L10.3 9.45l-7.72 7.72c-.78.78-.78 2.05 0 2.83L4 21.41c.39.39.9.59 1.41.59.51 0 1.02-.2 1.41-.59l7.78-7.78 2.81-2.81c.8-.78.8-2.07 0-2.86zM5.41 20L4 18.59l7.72-7.72 1.47 1.35L5.41 20z\"/>\n",
              "  </svg>\n",
              "      </button>\n",
              "      \n",
              "  <style>\n",
              "    .colab-df-container {\n",
              "      display:flex;\n",
              "      flex-wrap:wrap;\n",
              "      gap: 12px;\n",
              "    }\n",
              "\n",
              "    .colab-df-convert {\n",
              "      background-color: #E8F0FE;\n",
              "      border: none;\n",
              "      border-radius: 50%;\n",
              "      cursor: pointer;\n",
              "      display: none;\n",
              "      fill: #1967D2;\n",
              "      height: 32px;\n",
              "      padding: 0 0 0 0;\n",
              "      width: 32px;\n",
              "    }\n",
              "\n",
              "    .colab-df-convert:hover {\n",
              "      background-color: #E2EBFA;\n",
              "      box-shadow: 0px 1px 2px rgba(60, 64, 67, 0.3), 0px 1px 3px 1px rgba(60, 64, 67, 0.15);\n",
              "      fill: #174EA6;\n",
              "    }\n",
              "\n",
              "    [theme=dark] .colab-df-convert {\n",
              "      background-color: #3B4455;\n",
              "      fill: #D2E3FC;\n",
              "    }\n",
              "\n",
              "    [theme=dark] .colab-df-convert:hover {\n",
              "      background-color: #434B5C;\n",
              "      box-shadow: 0px 1px 3px 1px rgba(0, 0, 0, 0.15);\n",
              "      filter: drop-shadow(0px 1px 2px rgba(0, 0, 0, 0.3));\n",
              "      fill: #FFFFFF;\n",
              "    }\n",
              "  </style>\n",
              "\n",
              "      <script>\n",
              "        const buttonEl =\n",
              "          document.querySelector('#df-62c2b48c-267d-44cb-a9c5-8df706673115 button.colab-df-convert');\n",
              "        buttonEl.style.display =\n",
              "          google.colab.kernel.accessAllowed ? 'block' : 'none';\n",
              "\n",
              "        async function convertToInteractive(key) {\n",
              "          const element = document.querySelector('#df-62c2b48c-267d-44cb-a9c5-8df706673115');\n",
              "          const dataTable =\n",
              "            await google.colab.kernel.invokeFunction('convertToInteractive',\n",
              "                                                     [key], {});\n",
              "          if (!dataTable) return;\n",
              "\n",
              "          const docLinkHtml = 'Like what you see? Visit the ' +\n",
              "            '<a target=\"_blank\" href=https://colab.research.google.com/notebooks/data_table.ipynb>data table notebook</a>'\n",
              "            + ' to learn more about interactive tables.';\n",
              "          element.innerHTML = '';\n",
              "          dataTable['output_type'] = 'display_data';\n",
              "          await google.colab.output.renderOutput(dataTable, element);\n",
              "          const docLink = document.createElement('div');\n",
              "          docLink.innerHTML = docLinkHtml;\n",
              "          element.appendChild(docLink);\n",
              "        }\n",
              "      </script>\n",
              "    </div>\n",
              "  </div>\n",
              "  "
            ],
            "text/plain": [
              "                     수익    수량\n",
              "order_month                  \n",
              "1            20349.9558  2427\n",
              "2            18034.6521  2008\n",
              "3            27956.3601  2284\n",
              "4            17644.6098  1935\n",
              "5            37994.6253  3813\n",
              "6            50310.0111  4321\n",
              "7            18441.6144  2236\n",
              "8            40968.4800  4383\n",
              "9            41771.8749  4000\n",
              "10           58793.7028  4544\n",
              "11           53448.5346  4502\n",
              "12           46339.9581  4569"
            ]
          },
          "metadata": {},
          "execution_count": 55
        }
      ]
    },
    {
      "cell_type": "markdown",
      "source": [
        "## 월별로 수익 확인"
      ],
      "metadata": {
        "id": "RR2z-3TUg_fk"
      }
    },
    {
      "cell_type": "code",
      "source": [
        "sns.barplot(x=month.index,y=month['수익'])"
      ],
      "metadata": {
        "colab": {
          "base_uri": "https://localhost:8080/",
          "height": 426
        },
        "id": "faYnYw_1SOEg",
        "outputId": "8af131ac-63a6-411f-8bbd-f310bf16abe4"
      },
      "execution_count": 56,
      "outputs": [
        {
          "output_type": "execute_result",
          "data": {
            "text/plain": [
              "<matplotlib.axes._subplots.AxesSubplot at 0x7f6b1dd4a5d0>"
            ]
          },
          "metadata": {},
          "execution_count": 56
        },
        {
          "output_type": "stream",
          "name": "stderr",
          "text": [
            "/usr/local/lib/python3.7/dist-packages/matplotlib/backends/backend_agg.py:214: RuntimeWarning: Glyph 49688 missing from current font.\n",
            "  font.set_text(s, 0.0, flags=flags)\n",
            "/usr/local/lib/python3.7/dist-packages/matplotlib/backends/backend_agg.py:214: RuntimeWarning: Glyph 51061 missing from current font.\n",
            "  font.set_text(s, 0.0, flags=flags)\n",
            "/usr/local/lib/python3.7/dist-packages/matplotlib/backends/backend_agg.py:183: RuntimeWarning: Glyph 49688 missing from current font.\n",
            "  font.set_text(s, 0, flags=flags)\n",
            "/usr/local/lib/python3.7/dist-packages/matplotlib/backends/backend_agg.py:183: RuntimeWarning: Glyph 51061 missing from current font.\n",
            "  font.set_text(s, 0, flags=flags)\n"
          ]
        },
        {
          "output_type": "display_data",
          "data": {
            "image/png": "[encoded data removed]",
            "text/plain": [
              "<Figure size 432x288 with 1 Axes>"
            ]
          },
          "metadata": {
            "needs_background": "light"
          }
        }
      ]
    },
    {
      "cell_type": "markdown",
      "metadata": {
        "id": "taN1o3aIT8cz"
      },
      "source": [
        "## 요일별 주문량 확인"
      ]
    },
    {
      "cell_type": "code",
      "execution_count": 57,
      "metadata": {
        "colab": {
          "base_uri": "https://localhost:8080/"
        },
        "id": "patos-z565ZC",
        "outputId": "16e7f620-8a44-494c-ebd9-8ac622360c61"
      },
      "outputs": [
        {
          "output_type": "execute_result",
          "data": {
            "text/plain": [
              "Fri    1972\n",
              "Mon    1480\n",
              "Sat    1928\n",
              "Sun    1966\n",
              "Thu    1943\n",
              "Tue     550\n",
              "Wed    1094\n",
              "Name: order_weekday, dtype: int64"
            ]
          },
          "metadata": {},
          "execution_count": 57
        }
      ],
      "source": [
        "df_order_weekday=df['order_weekday'].value_counts().sort_index()\n",
        "df_order_weekday"
      ]
    },
    {
      "cell_type": "code",
      "execution_count": 58,
      "metadata": {
        "colab": {
          "base_uri": "https://localhost:8080/",
          "height": 298
        },
        "id": "Lae-RokiUIdD",
        "outputId": "79216992-5337-4f13-cf85-dfd5dda66b10"
      },
      "outputs": [
        {
          "output_type": "execute_result",
          "data": {
            "text/plain": [
              "<matplotlib.axes._subplots.AxesSubplot at 0x7f6b1dd02410>"
            ]
          },
          "metadata": {},
          "execution_count": 58
        },
        {
          "output_type": "display_data",
          "data": {
            "image/png": "[encoded data removed]",
            "text/plain": [
              "<Figure size 432x288 with 1 Axes>"
            ]
          },
          "metadata": {
            "needs_background": "light"
          }
        }
      ],
      "source": [
        "sns.countplot(data=df,x='order_weekday')"
      ]
    },
    {
      "cell_type": "code",
      "execution_count": 59,
      "metadata": {
        "colab": {
          "base_uri": "https://localhost:8080/"
        },
        "id": "_g-KubxEWRb5",
        "outputId": "d7fd99a5-e528-4f42-b413-9e6d6a1fe7da"
      },
      "outputs": [
        {
          "output_type": "execute_result",
          "data": {
            "text/plain": [
              "Index(['Fri', 'Mon', 'Sat', 'Sun', 'Thu', 'Tue', 'Wed'], dtype='object')"
            ]
          },
          "metadata": {},
          "execution_count": 59
        }
      ],
      "source": [
        "df_order_weekday.index"
      ]
    },
    {
      "cell_type": "code",
      "execution_count": 60,
      "metadata": {
        "colab": {
          "base_uri": "https://localhost:8080/"
        },
        "id": "jbYgKElhlX8N",
        "outputId": "6d42ef78-27d9-4296-ff67-3b5bf5d514f5"
      },
      "outputs": [
        {
          "output_type": "execute_result",
          "data": {
            "text/plain": [
              "Index(['행 ID', '주문 ID', '주문 날짜', '배송 날짜', '배송 형태', '고객 ID', '고객 이름', '세그먼트',\n",
              "       '도시', '시/도', '국가/지역', '지역', '제품 ID', '범주', '하위 범주', '제품 이름', '매출', '수량',\n",
              "       '할인율', '수익', 'order_year', 'order_month', 'order_day', 'delivery_year',\n",
              "       'delivery_month', 'delivery_day', 'delivery_weekday', 'order_weekday'],\n",
              "      dtype='object')"
            ]
          },
          "metadata": {},
          "execution_count": 60
        }
      ],
      "source": [
        "df.columns"
      ]
    },
    {
      "cell_type": "code",
      "execution_count": 61,
      "metadata": {
        "colab": {
          "base_uri": "https://localhost:8080/",
          "height": 300
        },
        "id": "TmmQRLIjlJpW",
        "outputId": "e5d882b6-2d11-4aea-96b8-e304f307a698"
      },
      "outputs": [
        {
          "output_type": "execute_result",
          "data": {
            "text/html": [
              "\n",
              "  <div id=\"df-d2741e8a-6c75-4f36-a73b-660dd27aff88\">\n",
              "    <div class=\"colab-df-container\">\n",
              "      <div>\n",
              "<style scoped>\n",
              "    .dataframe tbody tr th:only-of-type {\n",
              "        vertical-align: middle;\n",
              "    }\n",
              "\n",
              "    .dataframe tbody tr th {\n",
              "        vertical-align: top;\n",
              "    }\n",
              "\n",
              "    .dataframe thead th {\n",
              "        text-align: right;\n",
              "    }\n",
              "</style>\n",
              "<table border=\"1\" class=\"dataframe\">\n",
              "  <thead>\n",
              "    <tr style=\"text-align: right;\">\n",
              "      <th></th>\n",
              "      <th>매출</th>\n",
              "      <th>수량</th>\n",
              "      <th>수익</th>\n",
              "    </tr>\n",
              "    <tr>\n",
              "      <th>order_weekday</th>\n",
              "      <th></th>\n",
              "      <th></th>\n",
              "      <th></th>\n",
              "    </tr>\n",
              "  </thead>\n",
              "  <tbody>\n",
              "    <tr>\n",
              "      <th>Fri</th>\n",
              "      <td>621403.1559</td>\n",
              "      <td>7286</td>\n",
              "      <td>65900.5659</td>\n",
              "    </tr>\n",
              "    <tr>\n",
              "      <th>Mon</th>\n",
              "      <td>497504.1969</td>\n",
              "      <td>5744</td>\n",
              "      <td>61999.8969</td>\n",
              "    </tr>\n",
              "    <tr>\n",
              "      <th>Sat</th>\n",
              "      <td>641607.4254</td>\n",
              "      <td>7304</td>\n",
              "      <td>82600.5954</td>\n",
              "    </tr>\n",
              "    <tr>\n",
              "      <th>Sun</th>\n",
              "      <td>650838.9516</td>\n",
              "      <td>7336</td>\n",
              "      <td>83750.4816</td>\n",
              "    </tr>\n",
              "    <tr>\n",
              "      <th>Thu</th>\n",
              "      <td>634015.3743</td>\n",
              "      <td>7294</td>\n",
              "      <td>75931.7443</td>\n",
              "    </tr>\n",
              "    <tr>\n",
              "      <th>Tue</th>\n",
              "      <td>178183.3071</td>\n",
              "      <td>2048</td>\n",
              "      <td>20693.9571</td>\n",
              "    </tr>\n",
              "    <tr>\n",
              "      <th>Wed</th>\n",
              "      <td>342887.6478</td>\n",
              "      <td>4010</td>\n",
              "      <td>41177.1378</td>\n",
              "    </tr>\n",
              "  </tbody>\n",
              "</table>\n",
              "</div>\n",
              "      <button class=\"colab-df-convert\" onclick=\"convertToInteractive('df-d2741e8a-6c75-4f36-a73b-660dd27aff88')\"\n",
              "              title=\"Convert this dataframe to an interactive table.\"\n",
              "              style=\"display:none;\">\n",
              "        \n",
              "  <svg xmlns=\"http://www.w3.org/2000/svg\" height=\"24px\"viewBox=\"0 0 24 24\"\n",
              "       width=\"24px\">\n",
              "    <path d=\"M0 0h24v24H0V0z\" fill=\"none\"/>\n",
              "    <path d=\"M18.56 5.44l.94 2.06.94-2.06 2.06-.94-2.06-.94-.94-2.06-.94 2.06-2.06.94zm-11 1L8.5 8.5l.94-2.06 2.06-.94-2.06-.94L8.5 2.5l-.94 2.06-2.06.94zm10 10l.94 2.06.94-2.06 2.06-.94-2.06-.94-.94-2.06-.94 2.06-2.06.94z\"/><path d=\"M17.41 7.96l-1.37-1.37c-.4-.4-.92-.59-1.43-.59-.52 0-1.04.2-1.43.59L10.3 9.45l-7.72 7.72c-.78.78-.78 2.05 0 2.83L4 21.41c.39.39.9.59 1.41.59.51 0 1.02-.2 1.41-.59l7.78-7.78 2.81-2.81c.8-.78.8-2.07 0-2.86zM5.41 20L4 18.59l7.72-7.72 1.47 1.35L5.41 20z\"/>\n",
              "  </svg>\n",
              "      </button>\n",
              "      \n",
              "  <style>\n",
              "    .colab-df-container {\n",
              "      display:flex;\n",
              "      flex-wrap:wrap;\n",
              "      gap: 12px;\n",
              "    }\n",
              "\n",
              "    .colab-df-convert {\n",
              "      background-color: #E8F0FE;\n",
              "      border: none;\n",
              "      border-radius: 50%;\n",
              "      cursor: pointer;\n",
              "      display: none;\n",
              "      fill: #1967D2;\n",
              "      height: 32px;\n",
              "      padding: 0 0 0 0;\n",
              "      width: 32px;\n",
              "    }\n",
              "\n",
              "    .colab-df-convert:hover {\n",
              "      background-color: #E2EBFA;\n",
              "      box-shadow: 0px 1px 2px rgba(60, 64, 67, 0.3), 0px 1px 3px 1px rgba(60, 64, 67, 0.15);\n",
              "      fill: #174EA6;\n",
              "    }\n",
              "\n",
              "    [theme=dark] .colab-df-convert {\n",
              "      background-color: #3B4455;\n",
              "      fill: #D2E3FC;\n",
              "    }\n",
              "\n",
              "    [theme=dark] .colab-df-convert:hover {\n",
              "      background-color: #434B5C;\n",
              "      box-shadow: 0px 1px 3px 1px rgba(0, 0, 0, 0.15);\n",
              "      filter: drop-shadow(0px 1px 2px rgba(0, 0, 0, 0.3));\n",
              "      fill: #FFFFFF;\n",
              "    }\n",
              "  </style>\n",
              "\n",
              "      <script>\n",
              "        const buttonEl =\n",
              "          document.querySelector('#df-d2741e8a-6c75-4f36-a73b-660dd27aff88 button.colab-df-convert');\n",
              "        buttonEl.style.display =\n",
              "          google.colab.kernel.accessAllowed ? 'block' : 'none';\n",
              "\n",
              "        async function convertToInteractive(key) {\n",
              "          const element = document.querySelector('#df-d2741e8a-6c75-4f36-a73b-660dd27aff88');\n",
              "          const dataTable =\n",
              "            await google.colab.kernel.invokeFunction('convertToInteractive',\n",
              "                                                     [key], {});\n",
              "          if (!dataTable) return;\n",
              "\n",
              "          const docLinkHtml = 'Like what you see? Visit the ' +\n",
              "            '<a target=\"_blank\" href=https://colab.research.google.com/notebooks/data_table.ipynb>data table notebook</a>'\n",
              "            + ' to learn more about interactive tables.';\n",
              "          element.innerHTML = '';\n",
              "          dataTable['output_type'] = 'display_data';\n",
              "          await google.colab.output.renderOutput(dataTable, element);\n",
              "          const docLink = document.createElement('div');\n",
              "          docLink.innerHTML = docLinkHtml;\n",
              "          element.appendChild(docLink);\n",
              "        }\n",
              "      </script>\n",
              "    </div>\n",
              "  </div>\n",
              "  "
            ],
            "text/plain": [
              "                        매출    수량          수익\n",
              "order_weekday                               \n",
              "Fri            621403.1559  7286  65900.5659\n",
              "Mon            497504.1969  5744  61999.8969\n",
              "Sat            641607.4254  7304  82600.5954\n",
              "Sun            650838.9516  7336  83750.4816\n",
              "Thu            634015.3743  7294  75931.7443\n",
              "Tue            178183.3071  2048  20693.9571\n",
              "Wed            342887.6478  4010  41177.1378"
            ]
          },
          "metadata": {},
          "execution_count": 61
        }
      ],
      "source": [
        "df.groupby('order_weekday').sum()[['매출','수량','수익']]"
      ]
    },
    {
      "cell_type": "code",
      "execution_count": 62,
      "metadata": {
        "id": "f_30xWTTGg2X"
      },
      "outputs": [],
      "source": [
        "weekday_revenue=df.groupby('order_weekday').sum()[['수량','수익']]"
      ]
    },
    {
      "cell_type": "markdown",
      "source": [
        "## 요일별로 수익 확인"
      ],
      "metadata": {
        "id": "vqtA8QR6hH58"
      }
    },
    {
      "cell_type": "code",
      "source": [
        "sns.barplot(x=weekday_revenue.index,y=weekday_revenue['수익'])"
      ],
      "metadata": {
        "colab": {
          "base_uri": "https://localhost:8080/",
          "height": 426
        },
        "id": "o8Z0tscpD5IU",
        "outputId": "af37413d-f7e5-412b-f37d-8c17ef8c2e99"
      },
      "execution_count": 63,
      "outputs": [
        {
          "output_type": "execute_result",
          "data": {
            "text/plain": [
              "<matplotlib.axes._subplots.AxesSubplot at 0x7f6b1dc2df50>"
            ]
          },
          "metadata": {},
          "execution_count": 63
        },
        {
          "output_type": "stream",
          "name": "stderr",
          "text": [
            "/usr/local/lib/python3.7/dist-packages/matplotlib/backends/backend_agg.py:214: RuntimeWarning: Glyph 49688 missing from current font.\n",
            "  font.set_text(s, 0.0, flags=flags)\n",
            "/usr/local/lib/python3.7/dist-packages/matplotlib/backends/backend_agg.py:214: RuntimeWarning: Glyph 51061 missing from current font.\n",
            "  font.set_text(s, 0.0, flags=flags)\n",
            "/usr/local/lib/python3.7/dist-packages/matplotlib/backends/backend_agg.py:183: RuntimeWarning: Glyph 49688 missing from current font.\n",
            "  font.set_text(s, 0, flags=flags)\n",
            "/usr/local/lib/python3.7/dist-packages/matplotlib/backends/backend_agg.py:183: RuntimeWarning: Glyph 51061 missing from current font.\n",
            "  font.set_text(s, 0, flags=flags)\n"
          ]
        },
        {
          "output_type": "display_data",
          "data": {
            "image/png": "[encoded data removed]",
            "text/plain": [
              "<Figure size 432x288 with 1 Axes>"
            ]
          },
          "metadata": {
            "needs_background": "light"
          }
        }
      ]
    },
    {
      "cell_type": "code",
      "execution_count": 64,
      "metadata": {
        "id": "p3XPMi6rGoLI",
        "colab": {
          "base_uri": "https://localhost:8080/",
          "height": 206
        },
        "outputId": "3c827cbe-0997-474b-ca59-1b38d96a34ae"
      },
      "outputs": [
        {
          "output_type": "execute_result",
          "data": {
            "text/html": [
              "\n",
              "  <div id=\"df-3d7ed134-f480-4a03-8e00-3b0154d43f28\">\n",
              "    <div class=\"colab-df-container\">\n",
              "      <div>\n",
              "<style scoped>\n",
              "    .dataframe tbody tr th:only-of-type {\n",
              "        vertical-align: middle;\n",
              "    }\n",
              "\n",
              "    .dataframe tbody tr th {\n",
              "        vertical-align: top;\n",
              "    }\n",
              "\n",
              "    .dataframe thead th {\n",
              "        text-align: right;\n",
              "    }\n",
              "</style>\n",
              "<table border=\"1\" class=\"dataframe\">\n",
              "  <thead>\n",
              "    <tr style=\"text-align: right;\">\n",
              "      <th></th>\n",
              "      <th>매출</th>\n",
              "      <th>수량</th>\n",
              "      <th>수익</th>\n",
              "    </tr>\n",
              "    <tr>\n",
              "      <th>order_year</th>\n",
              "      <th></th>\n",
              "      <th></th>\n",
              "      <th></th>\n",
              "    </tr>\n",
              "  </thead>\n",
              "  <tbody>\n",
              "    <tr>\n",
              "      <th>2018</th>\n",
              "      <td>6.379640e+05</td>\n",
              "      <td>7214</td>\n",
              "      <td>82744.6554</td>\n",
              "    </tr>\n",
              "    <tr>\n",
              "      <th>2019</th>\n",
              "      <td>7.581064e+05</td>\n",
              "      <td>8667</td>\n",
              "      <td>88201.5924</td>\n",
              "    </tr>\n",
              "    <tr>\n",
              "      <th>2020</th>\n",
              "      <td>9.643315e+05</td>\n",
              "      <td>10902</td>\n",
              "      <td>121826.4576</td>\n",
              "    </tr>\n",
              "    <tr>\n",
              "      <th>2021</th>\n",
              "      <td>1.206038e+06</td>\n",
              "      <td>14239</td>\n",
              "      <td>139281.6736</td>\n",
              "    </tr>\n",
              "  </tbody>\n",
              "</table>\n",
              "</div>\n",
              "      <button class=\"colab-df-convert\" onclick=\"convertToInteractive('df-3d7ed134-f480-4a03-8e00-3b0154d43f28')\"\n",
              "              title=\"Convert this dataframe to an interactive table.\"\n",
              "              style=\"display:none;\">\n",
              "        \n",
              "  <svg xmlns=\"http://www.w3.org/2000/svg\" height=\"24px\"viewBox=\"0 0 24 24\"\n",
              "       width=\"24px\">\n",
              "    <path d=\"M0 0h24v24H0V0z\" fill=\"none\"/>\n",
              "    <path d=\"M18.56 5.44l.94 2.06.94-2.06 2.06-.94-2.06-.94-.94-2.06-.94 2.06-2.06.94zm-11 1L8.5 8.5l.94-2.06 2.06-.94-2.06-.94L8.5 2.5l-.94 2.06-2.06.94zm10 10l.94 2.06.94-2.06 2.06-.94-2.06-.94-.94-2.06-.94 2.06-2.06.94z\"/><path d=\"M17.41 7.96l-1.37-1.37c-.4-.4-.92-.59-1.43-.59-.52 0-1.04.2-1.43.59L10.3 9.45l-7.72 7.72c-.78.78-.78 2.05 0 2.83L4 21.41c.39.39.9.59 1.41.59.51 0 1.02-.2 1.41-.59l7.78-7.78 2.81-2.81c.8-.78.8-2.07 0-2.86zM5.41 20L4 18.59l7.72-7.72 1.47 1.35L5.41 20z\"/>\n",
              "  </svg>\n",
              "      </button>\n",
              "      \n",
              "  <style>\n",
              "    .colab-df-container {\n",
              "      display:flex;\n",
              "      flex-wrap:wrap;\n",
              "      gap: 12px;\n",
              "    }\n",
              "\n",
              "    .colab-df-convert {\n",
              "      background-color: #E8F0FE;\n",
              "      border: none;\n",
              "      border-radius: 50%;\n",
              "      cursor: pointer;\n",
              "      display: none;\n",
              "      fill: #1967D2;\n",
              "      height: 32px;\n",
              "      padding: 0 0 0 0;\n",
              "      width: 32px;\n",
              "    }\n",
              "\n",
              "    .colab-df-convert:hover {\n",
              "      background-color: #E2EBFA;\n",
              "      box-shadow: 0px 1px 2px rgba(60, 64, 67, 0.3), 0px 1px 3px 1px rgba(60, 64, 67, 0.15);\n",
              "      fill: #174EA6;\n",
              "    }\n",
              "\n",
              "    [theme=dark] .colab-df-convert {\n",
              "      background-color: #3B4455;\n",
              "      fill: #D2E3FC;\n",
              "    }\n",
              "\n",
              "    [theme=dark] .colab-df-convert:hover {\n",
              "      background-color: #434B5C;\n",
              "      box-shadow: 0px 1px 3px 1px rgba(0, 0, 0, 0.15);\n",
              "      filter: drop-shadow(0px 1px 2px rgba(0, 0, 0, 0.3));\n",
              "      fill: #FFFFFF;\n",
              "    }\n",
              "  </style>\n",
              "\n",
              "      <script>\n",
              "        const buttonEl =\n",
              "          document.querySelector('#df-3d7ed134-f480-4a03-8e00-3b0154d43f28 button.colab-df-convert');\n",
              "        buttonEl.style.display =\n",
              "          google.colab.kernel.accessAllowed ? 'block' : 'none';\n",
              "\n",
              "        async function convertToInteractive(key) {\n",
              "          const element = document.querySelector('#df-3d7ed134-f480-4a03-8e00-3b0154d43f28');\n",
              "          const dataTable =\n",
              "            await google.colab.kernel.invokeFunction('convertToInteractive',\n",
              "                                                     [key], {});\n",
              "          if (!dataTable) return;\n",
              "\n",
              "          const docLinkHtml = 'Like what you see? Visit the ' +\n",
              "            '<a target=\"_blank\" href=https://colab.research.google.com/notebooks/data_table.ipynb>data table notebook</a>'\n",
              "            + ' to learn more about interactive tables.';\n",
              "          element.innerHTML = '';\n",
              "          dataTable['output_type'] = 'display_data';\n",
              "          await google.colab.output.renderOutput(dataTable, element);\n",
              "          const docLink = document.createElement('div');\n",
              "          docLink.innerHTML = docLinkHtml;\n",
              "          element.appendChild(docLink);\n",
              "        }\n",
              "      </script>\n",
              "    </div>\n",
              "  </div>\n",
              "  "
            ],
            "text/plain": [
              "                      매출     수량           수익\n",
              "order_year                                  \n",
              "2018        6.379640e+05   7214   82744.6554\n",
              "2019        7.581064e+05   8667   88201.5924\n",
              "2020        9.643315e+05  10902  121826.4576\n",
              "2021        1.206038e+06  14239  139281.6736"
            ]
          },
          "metadata": {},
          "execution_count": 64
        }
      ],
      "source": [
        "df.groupby('order_year').sum()[['매출','수량','수익']]"
      ]
    },
    {
      "cell_type": "code",
      "source": [
        "year_revenue=df.groupby('order_year').sum()[['매출','수량','수익']]\n",
        "plt.plot(year_revenue)"
      ],
      "metadata": {
        "colab": {
          "base_uri": "https://localhost:8080/",
          "height": 330
        },
        "id": "Lfr_Y87xET-1",
        "outputId": "24b4985f-13c6-4c00-f6fa-21fba8e9573d"
      },
      "execution_count": 65,
      "outputs": [
        {
          "output_type": "execute_result",
          "data": {
            "text/plain": [
              "[<matplotlib.lines.Line2D at 0x7f6b1db6dd90>,\n",
              " <matplotlib.lines.Line2D at 0x7f6b1db6dfd0>,\n",
              " <matplotlib.lines.Line2D at 0x7f6b1db791d0>]"
            ]
          },
          "metadata": {},
          "execution_count": 65
        },
        {
          "output_type": "display_data",
          "data": {
            "image/png": "[encoded data removed]",
            "text/plain": [
              "<Figure size 432x288 with 1 Axes>"
            ]
          },
          "metadata": {
            "needs_background": "light"
          }
        }
      ]
    },
    {
      "cell_type": "code",
      "source": [
        "df.groupby('order_month').sum()[['매출','수량','수익']]"
      ],
      "metadata": {
        "colab": {
          "base_uri": "https://localhost:8080/",
          "height": 457
        },
        "id": "Lp66lwrzDdVy",
        "outputId": "8e9529f9-88db-406f-aec7-ecb68f5b805b"
      },
      "execution_count": 66,
      "outputs": [
        {
          "output_type": "execute_result",
          "data": {
            "text/html": [
              "\n",
              "  <div id=\"df-b0b92388-6052-4d73-a2c2-d1e89186c80f\">\n",
              "    <div class=\"colab-df-container\">\n",
              "      <div>\n",
              "<style scoped>\n",
              "    .dataframe tbody tr th:only-of-type {\n",
              "        vertical-align: middle;\n",
              "    }\n",
              "\n",
              "    .dataframe tbody tr th {\n",
              "        vertical-align: top;\n",
              "    }\n",
              "\n",
              "    .dataframe thead th {\n",
              "        text-align: right;\n",
              "    }\n",
              "</style>\n",
              "<table border=\"1\" class=\"dataframe\">\n",
              "  <thead>\n",
              "    <tr style=\"text-align: right;\">\n",
              "      <th></th>\n",
              "      <th>매출</th>\n",
              "      <th>수량</th>\n",
              "      <th>수익</th>\n",
              "    </tr>\n",
              "    <tr>\n",
              "      <th>order_month</th>\n",
              "      <th></th>\n",
              "      <th></th>\n",
              "      <th></th>\n",
              "    </tr>\n",
              "  </thead>\n",
              "  <tbody>\n",
              "    <tr>\n",
              "      <th>1</th>\n",
              "      <td>215500.0758</td>\n",
              "      <td>2427</td>\n",
              "      <td>20349.9558</td>\n",
              "    </tr>\n",
              "    <tr>\n",
              "      <th>2</th>\n",
              "      <td>177618.9021</td>\n",
              "      <td>2008</td>\n",
              "      <td>18034.6521</td>\n",
              "    </tr>\n",
              "    <tr>\n",
              "      <th>3</th>\n",
              "      <td>205233.3201</td>\n",
              "      <td>2284</td>\n",
              "      <td>27956.3601</td>\n",
              "    </tr>\n",
              "    <tr>\n",
              "      <th>4</th>\n",
              "      <td>162393.3198</td>\n",
              "      <td>1935</td>\n",
              "      <td>17644.6098</td>\n",
              "    </tr>\n",
              "    <tr>\n",
              "      <th>5</th>\n",
              "      <td>297831.2253</td>\n",
              "      <td>3813</td>\n",
              "      <td>37994.6253</td>\n",
              "    </tr>\n",
              "    <tr>\n",
              "      <th>6</th>\n",
              "      <td>380418.1311</td>\n",
              "      <td>4321</td>\n",
              "      <td>50310.0111</td>\n",
              "    </tr>\n",
              "    <tr>\n",
              "      <th>7</th>\n",
              "      <td>187659.8544</td>\n",
              "      <td>2236</td>\n",
              "      <td>18441.6144</td>\n",
              "    </tr>\n",
              "    <tr>\n",
              "      <th>8</th>\n",
              "      <td>388060.9800</td>\n",
              "      <td>4383</td>\n",
              "      <td>40968.4800</td>\n",
              "    </tr>\n",
              "    <tr>\n",
              "      <th>9</th>\n",
              "      <td>330329.3349</td>\n",
              "      <td>4000</td>\n",
              "      <td>41771.8749</td>\n",
              "    </tr>\n",
              "    <tr>\n",
              "      <th>10</th>\n",
              "      <td>417500.6028</td>\n",
              "      <td>4544</td>\n",
              "      <td>58793.7028</td>\n",
              "    </tr>\n",
              "    <tr>\n",
              "      <th>11</th>\n",
              "      <td>405856.7646</td>\n",
              "      <td>4502</td>\n",
              "      <td>53448.5346</td>\n",
              "    </tr>\n",
              "    <tr>\n",
              "      <th>12</th>\n",
              "      <td>398037.5481</td>\n",
              "      <td>4569</td>\n",
              "      <td>46339.9581</td>\n",
              "    </tr>\n",
              "  </tbody>\n",
              "</table>\n",
              "</div>\n",
              "      <button class=\"colab-df-convert\" onclick=\"convertToInteractive('df-b0b92388-6052-4d73-a2c2-d1e89186c80f')\"\n",
              "              title=\"Convert this dataframe to an interactive table.\"\n",
              "              style=\"display:none;\">\n",
              "        \n",
              "  <svg xmlns=\"http://www.w3.org/2000/svg\" height=\"24px\"viewBox=\"0 0 24 24\"\n",
              "       width=\"24px\">\n",
              "    <path d=\"M0 0h24v24H0V0z\" fill=\"none\"/>\n",
              "    <path d=\"M18.56 5.44l.94 2.06.94-2.06 2.06-.94-2.06-.94-.94-2.06-.94 2.06-2.06.94zm-11 1L8.5 8.5l.94-2.06 2.06-.94-2.06-.94L8.5 2.5l-.94 2.06-2.06.94zm10 10l.94 2.06.94-2.06 2.06-.94-2.06-.94-.94-2.06-.94 2.06-2.06.94z\"/><path d=\"M17.41 7.96l-1.37-1.37c-.4-.4-.92-.59-1.43-.59-.52 0-1.04.2-1.43.59L10.3 9.45l-7.72 7.72c-.78.78-.78 2.05 0 2.83L4 21.41c.39.39.9.59 1.41.59.51 0 1.02-.2 1.41-.59l7.78-7.78 2.81-2.81c.8-.78.8-2.07 0-2.86zM5.41 20L4 18.59l7.72-7.72 1.47 1.35L5.41 20z\"/>\n",
              "  </svg>\n",
              "      </button>\n",
              "      \n",
              "  <style>\n",
              "    .colab-df-container {\n",
              "      display:flex;\n",
              "      flex-wrap:wrap;\n",
              "      gap: 12px;\n",
              "    }\n",
              "\n",
              "    .colab-df-convert {\n",
              "      background-color: #E8F0FE;\n",
              "      border: none;\n",
              "      border-radius: 50%;\n",
              "      cursor: pointer;\n",
              "      display: none;\n",
              "      fill: #1967D2;\n",
              "      height: 32px;\n",
              "      padding: 0 0 0 0;\n",
              "      width: 32px;\n",
              "    }\n",
              "\n",
              "    .colab-df-convert:hover {\n",
              "      background-color: #E2EBFA;\n",
              "      box-shadow: 0px 1px 2px rgba(60, 64, 67, 0.3), 0px 1px 3px 1px rgba(60, 64, 67, 0.15);\n",
              "      fill: #174EA6;\n",
              "    }\n",
              "\n",
              "    [theme=dark] .colab-df-convert {\n",
              "      background-color: #3B4455;\n",
              "      fill: #D2E3FC;\n",
              "    }\n",
              "\n",
              "    [theme=dark] .colab-df-convert:hover {\n",
              "      background-color: #434B5C;\n",
              "      box-shadow: 0px 1px 3px 1px rgba(0, 0, 0, 0.15);\n",
              "      filter: drop-shadow(0px 1px 2px rgba(0, 0, 0, 0.3));\n",
              "      fill: #FFFFFF;\n",
              "    }\n",
              "  </style>\n",
              "\n",
              "      <script>\n",
              "        const buttonEl =\n",
              "          document.querySelector('#df-b0b92388-6052-4d73-a2c2-d1e89186c80f button.colab-df-convert');\n",
              "        buttonEl.style.display =\n",
              "          google.colab.kernel.accessAllowed ? 'block' : 'none';\n",
              "\n",
              "        async function convertToInteractive(key) {\n",
              "          const element = document.querySelector('#df-b0b92388-6052-4d73-a2c2-d1e89186c80f');\n",
              "          const dataTable =\n",
              "            await google.colab.kernel.invokeFunction('convertToInteractive',\n",
              "                                                     [key], {});\n",
              "          if (!dataTable) return;\n",
              "\n",
              "          const docLinkHtml = 'Like what you see? Visit the ' +\n",
              "            '<a target=\"_blank\" href=https://colab.research.google.com/notebooks/data_table.ipynb>data table notebook</a>'\n",
              "            + ' to learn more about interactive tables.';\n",
              "          element.innerHTML = '';\n",
              "          dataTable['output_type'] = 'display_data';\n",
              "          await google.colab.output.renderOutput(dataTable, element);\n",
              "          const docLink = document.createElement('div');\n",
              "          docLink.innerHTML = docLinkHtml;\n",
              "          element.appendChild(docLink);\n",
              "        }\n",
              "      </script>\n",
              "    </div>\n",
              "  </div>\n",
              "  "
            ],
            "text/plain": [
              "                      매출    수량          수익\n",
              "order_month                               \n",
              "1            215500.0758  2427  20349.9558\n",
              "2            177618.9021  2008  18034.6521\n",
              "3            205233.3201  2284  27956.3601\n",
              "4            162393.3198  1935  17644.6098\n",
              "5            297831.2253  3813  37994.6253\n",
              "6            380418.1311  4321  50310.0111\n",
              "7            187659.8544  2236  18441.6144\n",
              "8            388060.9800  4383  40968.4800\n",
              "9            330329.3349  4000  41771.8749\n",
              "10           417500.6028  4544  58793.7028\n",
              "11           405856.7646  4502  53448.5346\n",
              "12           398037.5481  4569  46339.9581"
            ]
          },
          "metadata": {},
          "execution_count": 66
        }
      ]
    },
    {
      "cell_type": "markdown",
      "metadata": {
        "id": "-Qz6y2y8XnVt"
      },
      "source": [
        "## 고객ID별로 주문량 확인"
      ]
    },
    {
      "cell_type": "code",
      "execution_count": 67,
      "metadata": {
        "colab": {
          "base_uri": "https://localhost:8080/"
        },
        "id": "wELTXlsvWbN6",
        "outputId": "2b19486b-f73c-4b3b-8b07-1e900b27b634"
      },
      "outputs": [
        {
          "output_type": "execute_result",
          "data": {
            "text/plain": [
              "JG-15805    40\n",
              "AF-10870    36\n",
              "CS-12175    35\n",
              "BW-11110    35\n",
              "NH-18610    35\n",
              "BM-11785    34\n",
              "BE-11335    34\n",
              "MG-17680    33\n",
              "EM-13960    32\n",
              "VT-21700    32\n",
              "Name: 고객 ID, dtype: int64"
            ]
          },
          "metadata": {},
          "execution_count": 67
        }
      ],
      "source": [
        "df['고객 ID'].value_counts()[:10]"
      ]
    },
    {
      "cell_type": "code",
      "execution_count": 68,
      "metadata": {
        "colab": {
          "base_uri": "https://localhost:8080/"
        },
        "id": "F-BX8AAIYRU7",
        "outputId": "caa46ea7-9072-4800-b17a-de3e34a7e8a3"
      },
      "outputs": [
        {
          "output_type": "execute_result",
          "data": {
            "text/plain": [
              "John Grady           40\n",
              "Art Ferguson         36\n",
              "Charles Sheldon      35\n",
              "Bart Watters         35\n",
              "Nicole Hansen        35\n",
              "Bill Eplett          34\n",
              "Bryan Mills          34\n",
              "Maureen Gastineau    33\n",
              "Valerie Takahito     32\n",
              "Eric Murdock         32\n",
              "Name: 고객 이름, dtype: int64"
            ]
          },
          "metadata": {},
          "execution_count": 68
        }
      ],
      "source": [
        "df['고객 이름'].value_counts()[:10]"
      ]
    },
    {
      "cell_type": "markdown",
      "metadata": {
        "id": "1hFr3MkKX2wx"
      },
      "source": [
        "## 국가별 주문량"
      ]
    },
    {
      "cell_type": "code",
      "execution_count": 69,
      "metadata": {
        "colab": {
          "base_uri": "https://localhost:8080/"
        },
        "id": "kMki0wm4XjvW",
        "outputId": "c1baadf7-7ee0-4204-eb16-b331ee1338a4"
      },
      "outputs": [
        {
          "output_type": "execute_result",
          "data": {
            "text/plain": [
              "Australia           2837\n",
              "China               1899\n",
              "India               1490\n",
              "Indonesia           1388\n",
              "Philippines          681\n",
              "New Zealand          628\n",
              "Thailand             295\n",
              "Vietnam              265\n",
              "Japan                250\n",
              "Pakistan             249\n",
              "Malaysia             176\n",
              "South Korea          172\n",
              "Bangladesh           163\n",
              "Singapore            141\n",
              "Myanmar (Burma)      136\n",
              "Afghanistan           55\n",
              "Cambodia              45\n",
              "Papua New Guinea      22\n",
              "Nepal                 19\n",
              "Taiwan                14\n",
              "Sri Lanka              7\n",
              "Mongolia               1\n",
              "Name: 국가/지역, dtype: int64"
            ]
          },
          "metadata": {},
          "execution_count": 69
        }
      ],
      "source": [
        "df['국가/지역'].value_counts()"
      ]
    },
    {
      "cell_type": "code",
      "execution_count": 70,
      "metadata": {
        "colab": {
          "base_uri": "https://localhost:8080/"
        },
        "id": "K7F7jXcAYCwH",
        "outputId": "f440c586-04cd-4d40-9dda-ec77087a0184"
      },
      "outputs": [
        {
          "output_type": "execute_result",
          "data": {
            "text/plain": [
              "Index(['행 ID', '주문 ID', '주문 날짜', '배송 날짜', '배송 형태', '고객 ID', '고객 이름', '세그먼트',\n",
              "       '도시', '시/도', '국가/지역', '지역', '제품 ID', '범주', '하위 범주', '제품 이름', '매출', '수량',\n",
              "       '할인율', '수익', 'order_year', 'order_month', 'order_day', 'delivery_year',\n",
              "       'delivery_month', 'delivery_day', 'delivery_weekday', 'order_weekday'],\n",
              "      dtype='object')"
            ]
          },
          "metadata": {},
          "execution_count": 70
        }
      ],
      "source": [
        "df.columns"
      ]
    },
    {
      "cell_type": "code",
      "execution_count": 71,
      "metadata": {
        "colab": {
          "base_uri": "https://localhost:8080/"
        },
        "id": "JQ4_EKgZYrIh",
        "outputId": "5b0a73c4-8674-4a16-a028-c1df435ec693"
      },
      "outputs": [
        {
          "output_type": "execute_result",
          "data": {
            "text/plain": [
              "오세아니아    3487\n",
              "동남아시아    3127\n",
              "북아시아     2336\n",
              "중앙아시아    1983\n",
              "Name: 지역, dtype: int64"
            ]
          },
          "metadata": {},
          "execution_count": 71
        }
      ],
      "source": [
        "df['지역'].value_counts()"
      ]
    },
    {
      "cell_type": "markdown",
      "metadata": {
        "id": "xWj7bxxWayce"
      },
      "source": [
        "원그래프로"
      ]
    },
    {
      "cell_type": "code",
      "execution_count": 72,
      "metadata": {
        "colab": {
          "base_uri": "https://localhost:8080/"
        },
        "id": "XGFtttijYwf6",
        "outputId": "fc5ebff3-af06-4676-e8f8-12a51a9df8a4"
      },
      "outputs": [
        {
          "output_type": "execute_result",
          "data": {
            "text/plain": [
              "Manila              432\n",
              "Jakarta             337\n",
              "Sydney              291\n",
              "Bangkok             287\n",
              "Perth               250\n",
              "Brisbane            249\n",
              "Melbourne           234\n",
              "Rockhampton         220\n",
              "Auckland            196\n",
              "Ho Chi Minh City    179\n",
              "Name: 도시, dtype: int64"
            ]
          },
          "metadata": {},
          "execution_count": 72
        }
      ],
      "source": [
        "df['도시'].value_counts()[:10]"
      ]
    },
    {
      "cell_type": "code",
      "execution_count": 73,
      "metadata": {
        "colab": {
          "base_uri": "https://localhost:8080/"
        },
        "id": "njpEBttTY2xf",
        "outputId": "714ea1fd-ef79-4534-a35c-7f8714ab00d4"
      },
      "outputs": [
        {
          "output_type": "execute_result",
          "data": {
            "text/plain": [
              "New South Wales      781\n",
              "Queensland           717\n",
              "Metro Manila         561\n",
              "Victoria             491\n",
              "Jakarta              337\n",
              "Western Australia    312\n",
              "Maharashtra          290\n",
              "Bangkok              287\n",
              "Jawa Barat           284\n",
              "Guangdong            284\n",
              "Name: 시/도, dtype: int64"
            ]
          },
          "metadata": {},
          "execution_count": 73
        }
      ],
      "source": [
        "df['시/도'].value_counts()[:10]"
      ]
    },
    {
      "cell_type": "markdown",
      "source": [
        "## 국가별로 매출, 수익, 수량 확인\n",
        "\n",
        "수익을 기준으로 정렬해서 수익이 큰순으로 10개만 확인해보았음."
      ],
      "metadata": {
        "id": "_KoztGPghRNG"
      }
    },
    {
      "cell_type": "code",
      "execution_count": 74,
      "metadata": {
        "colab": {
          "base_uri": "https://localhost:8080/",
          "height": 394
        },
        "id": "1fxF5yGvwaAd",
        "outputId": "ae5f09ca-632f-4471-a5a0-bbd16a9b8ee5"
      },
      "outputs": [
        {
          "output_type": "execute_result",
          "data": {
            "text/html": [
              "\n",
              "  <div id=\"df-0c9ab90a-182f-4e3f-8388-85406dcc8671\">\n",
              "    <div class=\"colab-df-container\">\n",
              "      <div>\n",
              "<style scoped>\n",
              "    .dataframe tbody tr th:only-of-type {\n",
              "        vertical-align: middle;\n",
              "    }\n",
              "\n",
              "    .dataframe tbody tr th {\n",
              "        vertical-align: top;\n",
              "    }\n",
              "\n",
              "    .dataframe thead th {\n",
              "        text-align: right;\n",
              "    }\n",
              "</style>\n",
              "<table border=\"1\" class=\"dataframe\">\n",
              "  <thead>\n",
              "    <tr style=\"text-align: right;\">\n",
              "      <th></th>\n",
              "      <th>매출</th>\n",
              "      <th>수량</th>\n",
              "      <th>수익</th>\n",
              "    </tr>\n",
              "    <tr>\n",
              "      <th>국가/지역</th>\n",
              "      <th></th>\n",
              "      <th></th>\n",
              "      <th></th>\n",
              "    </tr>\n",
              "  </thead>\n",
              "  <tbody>\n",
              "    <tr>\n",
              "      <th>China</th>\n",
              "      <td>706579.1850</td>\n",
              "      <td>7145</td>\n",
              "      <td>152230.5750</td>\n",
              "    </tr>\n",
              "    <tr>\n",
              "      <th>India</th>\n",
              "      <td>570791.6850</td>\n",
              "      <td>5564</td>\n",
              "      <td>125103.2850</td>\n",
              "    </tr>\n",
              "    <tr>\n",
              "      <th>Australia</th>\n",
              "      <td>925235.8530</td>\n",
              "      <td>10673</td>\n",
              "      <td>103907.4330</td>\n",
              "    </tr>\n",
              "    <tr>\n",
              "      <th>Japan</th>\n",
              "      <td>100787.5170</td>\n",
              "      <td>996</td>\n",
              "      <td>24328.4670</td>\n",
              "    </tr>\n",
              "    <tr>\n",
              "      <th>Bangladesh</th>\n",
              "      <td>78256.4700</td>\n",
              "      <td>680</td>\n",
              "      <td>19430.8900</td>\n",
              "    </tr>\n",
              "    <tr>\n",
              "      <th>New Zealand</th>\n",
              "      <td>172020.6240</td>\n",
              "      <td>2089</td>\n",
              "      <td>16600.2840</td>\n",
              "    </tr>\n",
              "    <tr>\n",
              "      <th>Malaysia</th>\n",
              "      <td>61362.2100</td>\n",
              "      <td>676</td>\n",
              "      <td>16329.9600</td>\n",
              "    </tr>\n",
              "    <tr>\n",
              "      <th>Indonesia</th>\n",
              "      <td>404571.6879</td>\n",
              "      <td>5233</td>\n",
              "      <td>15642.1779</td>\n",
              "    </tr>\n",
              "    <tr>\n",
              "      <th>Singapore</th>\n",
              "      <td>40286.2500</td>\n",
              "      <td>554</td>\n",
              "      <td>8853.0600</td>\n",
              "    </tr>\n",
              "    <tr>\n",
              "      <th>Afghanistan</th>\n",
              "      <td>21673.3200</td>\n",
              "      <td>228</td>\n",
              "      <td>5460.3000</td>\n",
              "    </tr>\n",
              "  </tbody>\n",
              "</table>\n",
              "</div>\n",
              "      <button class=\"colab-df-convert\" onclick=\"convertToInteractive('df-0c9ab90a-182f-4e3f-8388-85406dcc8671')\"\n",
              "              title=\"Convert this dataframe to an interactive table.\"\n",
              "              style=\"display:none;\">\n",
              "        \n",
              "  <svg xmlns=\"http://www.w3.org/2000/svg\" height=\"24px\"viewBox=\"0 0 24 24\"\n",
              "       width=\"24px\">\n",
              "    <path d=\"M0 0h24v24H0V0z\" fill=\"none\"/>\n",
              "    <path d=\"M18.56 5.44l.94 2.06.94-2.06 2.06-.94-2.06-.94-.94-2.06-.94 2.06-2.06.94zm-11 1L8.5 8.5l.94-2.06 2.06-.94-2.06-.94L8.5 2.5l-.94 2.06-2.06.94zm10 10l.94 2.06.94-2.06 2.06-.94-2.06-.94-.94-2.06-.94 2.06-2.06.94z\"/><path d=\"M17.41 7.96l-1.37-1.37c-.4-.4-.92-.59-1.43-.59-.52 0-1.04.2-1.43.59L10.3 9.45l-7.72 7.72c-.78.78-.78 2.05 0 2.83L4 21.41c.39.39.9.59 1.41.59.51 0 1.02-.2 1.41-.59l7.78-7.78 2.81-2.81c.8-.78.8-2.07 0-2.86zM5.41 20L4 18.59l7.72-7.72 1.47 1.35L5.41 20z\"/>\n",
              "  </svg>\n",
              "      </button>\n",
              "      \n",
              "  <style>\n",
              "    .colab-df-container {\n",
              "      display:flex;\n",
              "      flex-wrap:wrap;\n",
              "      gap: 12px;\n",
              "    }\n",
              "\n",
              "    .colab-df-convert {\n",
              "      background-color: #E8F0FE;\n",
              "      border: none;\n",
              "      border-radius: 50%;\n",
              "      cursor: pointer;\n",
              "      display: none;\n",
              "      fill: #1967D2;\n",
              "      height: 32px;\n",
              "      padding: 0 0 0 0;\n",
              "      width: 32px;\n",
              "    }\n",
              "\n",
              "    .colab-df-convert:hover {\n",
              "      background-color: #E2EBFA;\n",
              "      box-shadow: 0px 1px 2px rgba(60, 64, 67, 0.3), 0px 1px 3px 1px rgba(60, 64, 67, 0.15);\n",
              "      fill: #174EA6;\n",
              "    }\n",
              "\n",
              "    [theme=dark] .colab-df-convert {\n",
              "      background-color: #3B4455;\n",
              "      fill: #D2E3FC;\n",
              "    }\n",
              "\n",
              "    [theme=dark] .colab-df-convert:hover {\n",
              "      background-color: #434B5C;\n",
              "      box-shadow: 0px 1px 3px 1px rgba(0, 0, 0, 0.15);\n",
              "      filter: drop-shadow(0px 1px 2px rgba(0, 0, 0, 0.3));\n",
              "      fill: #FFFFFF;\n",
              "    }\n",
              "  </style>\n",
              "\n",
              "      <script>\n",
              "        const buttonEl =\n",
              "          document.querySelector('#df-0c9ab90a-182f-4e3f-8388-85406dcc8671 button.colab-df-convert');\n",
              "        buttonEl.style.display =\n",
              "          google.colab.kernel.accessAllowed ? 'block' : 'none';\n",
              "\n",
              "        async function convertToInteractive(key) {\n",
              "          const element = document.querySelector('#df-0c9ab90a-182f-4e3f-8388-85406dcc8671');\n",
              "          const dataTable =\n",
              "            await google.colab.kernel.invokeFunction('convertToInteractive',\n",
              "                                                     [key], {});\n",
              "          if (!dataTable) return;\n",
              "\n",
              "          const docLinkHtml = 'Like what you see? Visit the ' +\n",
              "            '<a target=\"_blank\" href=https://colab.research.google.com/notebooks/data_table.ipynb>data table notebook</a>'\n",
              "            + ' to learn more about interactive tables.';\n",
              "          element.innerHTML = '';\n",
              "          dataTable['output_type'] = 'display_data';\n",
              "          await google.colab.output.renderOutput(dataTable, element);\n",
              "          const docLink = document.createElement('div');\n",
              "          docLink.innerHTML = docLinkHtml;\n",
              "          element.appendChild(docLink);\n",
              "        }\n",
              "      </script>\n",
              "    </div>\n",
              "  </div>\n",
              "  "
            ],
            "text/plain": [
              "                      매출     수량           수익\n",
              "국가/지역                                       \n",
              "China        706579.1850   7145  152230.5750\n",
              "India        570791.6850   5564  125103.2850\n",
              "Australia    925235.8530  10673  103907.4330\n",
              "Japan        100787.5170    996   24328.4670\n",
              "Bangladesh    78256.4700    680   19430.8900\n",
              "New Zealand  172020.6240   2089   16600.2840\n",
              "Malaysia      61362.2100    676   16329.9600\n",
              "Indonesia    404571.6879   5233   15642.1779\n",
              "Singapore     40286.2500    554    8853.0600\n",
              "Afghanistan   21673.3200    228    5460.3000"
            ]
          },
          "metadata": {},
          "execution_count": 74
        }
      ],
      "source": [
        "df.groupby('국가/지역').sum()[['매출','수량','수익']].sort_values('수익',ascending=False)[:10]"
      ]
    },
    {
      "cell_type": "code",
      "source": [
        "df.groupby('국가/지역').sum()[['수익']].sort_values('수익',ascending=False)"
      ],
      "metadata": {
        "colab": {
          "base_uri": "https://localhost:8080/",
          "height": 770
        },
        "id": "gwRX6u54NiI_",
        "outputId": "8684aa5f-c1cc-4a88-a274-aa3ba4c723e9"
      },
      "execution_count": 75,
      "outputs": [
        {
          "output_type": "execute_result",
          "data": {
            "text/html": [
              "\n",
              "  <div id=\"df-37109863-5ecf-4325-9695-fb734226cad8\">\n",
              "    <div class=\"colab-df-container\">\n",
              "      <div>\n",
              "<style scoped>\n",
              "    .dataframe tbody tr th:only-of-type {\n",
              "        vertical-align: middle;\n",
              "    }\n",
              "\n",
              "    .dataframe tbody tr th {\n",
              "        vertical-align: top;\n",
              "    }\n",
              "\n",
              "    .dataframe thead th {\n",
              "        text-align: right;\n",
              "    }\n",
              "</style>\n",
              "<table border=\"1\" class=\"dataframe\">\n",
              "  <thead>\n",
              "    <tr style=\"text-align: right;\">\n",
              "      <th></th>\n",
              "      <th>수익</th>\n",
              "    </tr>\n",
              "    <tr>\n",
              "      <th>국가/지역</th>\n",
              "      <th></th>\n",
              "    </tr>\n",
              "  </thead>\n",
              "  <tbody>\n",
              "    <tr>\n",
              "      <th>China</th>\n",
              "      <td>152230.5750</td>\n",
              "    </tr>\n",
              "    <tr>\n",
              "      <th>India</th>\n",
              "      <td>125103.2850</td>\n",
              "    </tr>\n",
              "    <tr>\n",
              "      <th>Australia</th>\n",
              "      <td>103907.4330</td>\n",
              "    </tr>\n",
              "    <tr>\n",
              "      <th>Japan</th>\n",
              "      <td>24328.4670</td>\n",
              "    </tr>\n",
              "    <tr>\n",
              "      <th>Bangladesh</th>\n",
              "      <td>19430.8900</td>\n",
              "    </tr>\n",
              "    <tr>\n",
              "      <th>New Zealand</th>\n",
              "      <td>16600.2840</td>\n",
              "    </tr>\n",
              "    <tr>\n",
              "      <th>Malaysia</th>\n",
              "      <td>16329.9600</td>\n",
              "    </tr>\n",
              "    <tr>\n",
              "      <th>Indonesia</th>\n",
              "      <td>15642.1779</td>\n",
              "    </tr>\n",
              "    <tr>\n",
              "      <th>Singapore</th>\n",
              "      <td>8853.0600</td>\n",
              "    </tr>\n",
              "    <tr>\n",
              "      <th>Afghanistan</th>\n",
              "      <td>5460.3000</td>\n",
              "    </tr>\n",
              "    <tr>\n",
              "      <th>Cambodia</th>\n",
              "      <td>4476.5400</td>\n",
              "    </tr>\n",
              "    <tr>\n",
              "      <th>Taiwan</th>\n",
              "      <td>1818.6000</td>\n",
              "    </tr>\n",
              "    <tr>\n",
              "      <th>Nepal</th>\n",
              "      <td>877.4400</td>\n",
              "    </tr>\n",
              "    <tr>\n",
              "      <th>Sri Lanka</th>\n",
              "      <td>86.3700</td>\n",
              "    </tr>\n",
              "    <tr>\n",
              "      <th>Mongolia</th>\n",
              "      <td>-17.0100</td>\n",
              "    </tr>\n",
              "    <tr>\n",
              "      <th>Papua New Guinea</th>\n",
              "      <td>-418.6050</td>\n",
              "    </tr>\n",
              "    <tr>\n",
              "      <th>Vietnam</th>\n",
              "      <td>-1870.2306</td>\n",
              "    </tr>\n",
              "    <tr>\n",
              "      <th>Myanmar (Burma)</th>\n",
              "      <td>-2109.2583</td>\n",
              "    </tr>\n",
              "    <tr>\n",
              "      <th>Thailand</th>\n",
              "      <td>-7308.1950</td>\n",
              "    </tr>\n",
              "    <tr>\n",
              "      <th>South Korea</th>\n",
              "      <td>-12792.8310</td>\n",
              "    </tr>\n",
              "    <tr>\n",
              "      <th>Philippines</th>\n",
              "      <td>-16128.2250</td>\n",
              "    </tr>\n",
              "    <tr>\n",
              "      <th>Pakistan</th>\n",
              "      <td>-22446.6480</td>\n",
              "    </tr>\n",
              "  </tbody>\n",
              "</table>\n",
              "</div>\n",
              "      <button class=\"colab-df-convert\" onclick=\"convertToInteractive('df-37109863-5ecf-4325-9695-fb734226cad8')\"\n",
              "              title=\"Convert this dataframe to an interactive table.\"\n",
              "              style=\"display:none;\">\n",
              "        \n",
              "  <svg xmlns=\"http://www.w3.org/2000/svg\" height=\"24px\"viewBox=\"0 0 24 24\"\n",
              "       width=\"24px\">\n",
              "    <path d=\"M0 0h24v24H0V0z\" fill=\"none\"/>\n",
              "    <path d=\"M18.56 5.44l.94 2.06.94-2.06 2.06-.94-2.06-.94-.94-2.06-.94 2.06-2.06.94zm-11 1L8.5 8.5l.94-2.06 2.06-.94-2.06-.94L8.5 2.5l-.94 2.06-2.06.94zm10 10l.94 2.06.94-2.06 2.06-.94-2.06-.94-.94-2.06-.94 2.06-2.06.94z\"/><path d=\"M17.41 7.96l-1.37-1.37c-.4-.4-.92-.59-1.43-.59-.52 0-1.04.2-1.43.59L10.3 9.45l-7.72 7.72c-.78.78-.78 2.05 0 2.83L4 21.41c.39.39.9.59 1.41.59.51 0 1.02-.2 1.41-.59l7.78-7.78 2.81-2.81c.8-.78.8-2.07 0-2.86zM5.41 20L4 18.59l7.72-7.72 1.47 1.35L5.41 20z\"/>\n",
              "  </svg>\n",
              "      </button>\n",
              "      \n",
              "  <style>\n",
              "    .colab-df-container {\n",
              "      display:flex;\n",
              "      flex-wrap:wrap;\n",
              "      gap: 12px;\n",
              "    }\n",
              "\n",
              "    .colab-df-convert {\n",
              "      background-color: #E8F0FE;\n",
              "      border: none;\n",
              "      border-radius: 50%;\n",
              "      cursor: pointer;\n",
              "      display: none;\n",
              "      fill: #1967D2;\n",
              "      height: 32px;\n",
              "      padding: 0 0 0 0;\n",
              "      width: 32px;\n",
              "    }\n",
              "\n",
              "    .colab-df-convert:hover {\n",
              "      background-color: #E2EBFA;\n",
              "      box-shadow: 0px 1px 2px rgba(60, 64, 67, 0.3), 0px 1px 3px 1px rgba(60, 64, 67, 0.15);\n",
              "      fill: #174EA6;\n",
              "    }\n",
              "\n",
              "    [theme=dark] .colab-df-convert {\n",
              "      background-color: #3B4455;\n",
              "      fill: #D2E3FC;\n",
              "    }\n",
              "\n",
              "    [theme=dark] .colab-df-convert:hover {\n",
              "      background-color: #434B5C;\n",
              "      box-shadow: 0px 1px 3px 1px rgba(0, 0, 0, 0.15);\n",
              "      filter: drop-shadow(0px 1px 2px rgba(0, 0, 0, 0.3));\n",
              "      fill: #FFFFFF;\n",
              "    }\n",
              "  </style>\n",
              "\n",
              "      <script>\n",
              "        const buttonEl =\n",
              "          document.querySelector('#df-37109863-5ecf-4325-9695-fb734226cad8 button.colab-df-convert');\n",
              "        buttonEl.style.display =\n",
              "          google.colab.kernel.accessAllowed ? 'block' : 'none';\n",
              "\n",
              "        async function convertToInteractive(key) {\n",
              "          const element = document.querySelector('#df-37109863-5ecf-4325-9695-fb734226cad8');\n",
              "          const dataTable =\n",
              "            await google.colab.kernel.invokeFunction('convertToInteractive',\n",
              "                                                     [key], {});\n",
              "          if (!dataTable) return;\n",
              "\n",
              "          const docLinkHtml = 'Like what you see? Visit the ' +\n",
              "            '<a target=\"_blank\" href=https://colab.research.google.com/notebooks/data_table.ipynb>data table notebook</a>'\n",
              "            + ' to learn more about interactive tables.';\n",
              "          element.innerHTML = '';\n",
              "          dataTable['output_type'] = 'display_data';\n",
              "          await google.colab.output.renderOutput(dataTable, element);\n",
              "          const docLink = document.createElement('div');\n",
              "          docLink.innerHTML = docLinkHtml;\n",
              "          element.appendChild(docLink);\n",
              "        }\n",
              "      </script>\n",
              "    </div>\n",
              "  </div>\n",
              "  "
            ],
            "text/plain": [
              "                           수익\n",
              "국가/지역                        \n",
              "China             152230.5750\n",
              "India             125103.2850\n",
              "Australia         103907.4330\n",
              "Japan              24328.4670\n",
              "Bangladesh         19430.8900\n",
              "New Zealand        16600.2840\n",
              "Malaysia           16329.9600\n",
              "Indonesia          15642.1779\n",
              "Singapore           8853.0600\n",
              "Afghanistan         5460.3000\n",
              "Cambodia            4476.5400\n",
              "Taiwan              1818.6000\n",
              "Nepal                877.4400\n",
              "Sri Lanka             86.3700\n",
              "Mongolia             -17.0100\n",
              "Papua New Guinea    -418.6050\n",
              "Vietnam            -1870.2306\n",
              "Myanmar (Burma)    -2109.2583\n",
              "Thailand           -7308.1950\n",
              "South Korea       -12792.8310\n",
              "Philippines       -16128.2250\n",
              "Pakistan          -22446.6480"
            ]
          },
          "metadata": {},
          "execution_count": 75
        }
      ]
    },
    {
      "cell_type": "markdown",
      "source": [
        "## 제품별로 매출, 수량 수익 확인해보기"
      ],
      "metadata": {
        "id": "-eGZvXOvhl_f"
      }
    },
    {
      "cell_type": "code",
      "execution_count": 77,
      "metadata": {
        "colab": {
          "base_uri": "https://localhost:8080/",
          "height": 394
        },
        "id": "lb9-9DIHxHkr",
        "outputId": "77fc5221-7290-47ee-d92a-5cdd5c12e6e0"
      },
      "outputs": [
        {
          "output_type": "execute_result",
          "data": {
            "text/html": [
              "\n",
              "  <div id=\"df-210c7792-3af0-4a36-a9dd-0f752640faa4\">\n",
              "    <div class=\"colab-df-container\">\n",
              "      <div>\n",
              "<style scoped>\n",
              "    .dataframe tbody tr th:only-of-type {\n",
              "        vertical-align: middle;\n",
              "    }\n",
              "\n",
              "    .dataframe tbody tr th {\n",
              "        vertical-align: top;\n",
              "    }\n",
              "\n",
              "    .dataframe thead th {\n",
              "        text-align: right;\n",
              "    }\n",
              "</style>\n",
              "<table border=\"1\" class=\"dataframe\">\n",
              "  <thead>\n",
              "    <tr style=\"text-align: right;\">\n",
              "      <th></th>\n",
              "      <th>매출</th>\n",
              "      <th>수량</th>\n",
              "      <th>수익</th>\n",
              "    </tr>\n",
              "    <tr>\n",
              "      <th>제품 이름</th>\n",
              "      <th></th>\n",
              "      <th></th>\n",
              "      <th></th>\n",
              "    </tr>\n",
              "  </thead>\n",
              "  <tbody>\n",
              "    <tr>\n",
              "      <th>Motorola Smart Phone, Full Size</th>\n",
              "      <td>34261.5270</td>\n",
              "      <td>59</td>\n",
              "      <td>7616.9670</td>\n",
              "    </tr>\n",
              "    <tr>\n",
              "      <th>Office Star Executive Leather Armchair, Black</th>\n",
              "      <td>15289.6353</td>\n",
              "      <td>37</td>\n",
              "      <td>6123.2553</td>\n",
              "    </tr>\n",
              "    <tr>\n",
              "      <th>삼성 Smart Phone, VoIP</th>\n",
              "      <td>16796.7360</td>\n",
              "      <td>31</td>\n",
              "      <td>5356.8060</td>\n",
              "    </tr>\n",
              "    <tr>\n",
              "      <th>Nokia Smart Phone, with Caller ID</th>\n",
              "      <td>30808.2402</td>\n",
              "      <td>54</td>\n",
              "      <td>5277.0402</td>\n",
              "    </tr>\n",
              "    <tr>\n",
              "      <th>Novimex Executive Leather Armchair, Adjustable</th>\n",
              "      <td>18832.2576</td>\n",
              "      <td>46</td>\n",
              "      <td>5047.9176</td>\n",
              "    </tr>\n",
              "    <tr>\n",
              "      <th>Sauder Classic Bookcase, Metal</th>\n",
              "      <td>12105.5100</td>\n",
              "      <td>32</td>\n",
              "      <td>4859.4300</td>\n",
              "    </tr>\n",
              "    <tr>\n",
              "      <th>Hewlett Wireless Fax, Color</th>\n",
              "      <td>10609.3140</td>\n",
              "      <td>29</td>\n",
              "      <td>4854.2640</td>\n",
              "    </tr>\n",
              "    <tr>\n",
              "      <th>Sauder Classic Bookcase, Traditional</th>\n",
              "      <td>15521.2440</td>\n",
              "      <td>39</td>\n",
              "      <td>4808.7240</td>\n",
              "    </tr>\n",
              "    <tr>\n",
              "      <th>Apple Smart Phone, with Caller ID</th>\n",
              "      <td>10608.3960</td>\n",
              "      <td>18</td>\n",
              "      <td>4741.2960</td>\n",
              "    </tr>\n",
              "    <tr>\n",
              "      <th>Cisco Smart Phone, with Caller ID</th>\n",
              "      <td>12967.0368</td>\n",
              "      <td>22</td>\n",
              "      <td>4474.8168</td>\n",
              "    </tr>\n",
              "  </tbody>\n",
              "</table>\n",
              "</div>\n",
              "      <button class=\"colab-df-convert\" onclick=\"convertToInteractive('df-210c7792-3af0-4a36-a9dd-0f752640faa4')\"\n",
              "              title=\"Convert this dataframe to an interactive table.\"\n",
              "              style=\"display:none;\">\n",
              "        \n",
              "  <svg xmlns=\"http://www.w3.org/2000/svg\" height=\"24px\"viewBox=\"0 0 24 24\"\n",
              "       width=\"24px\">\n",
              "    <path d=\"M0 0h24v24H0V0z\" fill=\"none\"/>\n",
              "    <path d=\"M18.56 5.44l.94 2.06.94-2.06 2.06-.94-2.06-.94-.94-2.06-.94 2.06-2.06.94zm-11 1L8.5 8.5l.94-2.06 2.06-.94-2.06-.94L8.5 2.5l-.94 2.06-2.06.94zm10 10l.94 2.06.94-2.06 2.06-.94-2.06-.94-.94-2.06-.94 2.06-2.06.94z\"/><path d=\"M17.41 7.96l-1.37-1.37c-.4-.4-.92-.59-1.43-.59-.52 0-1.04.2-1.43.59L10.3 9.45l-7.72 7.72c-.78.78-.78 2.05 0 2.83L4 21.41c.39.39.9.59 1.41.59.51 0 1.02-.2 1.41-.59l7.78-7.78 2.81-2.81c.8-.78.8-2.07 0-2.86zM5.41 20L4 18.59l7.72-7.72 1.47 1.35L5.41 20z\"/>\n",
              "  </svg>\n",
              "      </button>\n",
              "      \n",
              "  <style>\n",
              "    .colab-df-container {\n",
              "      display:flex;\n",
              "      flex-wrap:wrap;\n",
              "      gap: 12px;\n",
              "    }\n",
              "\n",
              "    .colab-df-convert {\n",
              "      background-color: #E8F0FE;\n",
              "      border: none;\n",
              "      border-radius: 50%;\n",
              "      cursor: pointer;\n",
              "      display: none;\n",
              "      fill: #1967D2;\n",
              "      height: 32px;\n",
              "      padding: 0 0 0 0;\n",
              "      width: 32px;\n",
              "    }\n",
              "\n",
              "    .colab-df-convert:hover {\n",
              "      background-color: #E2EBFA;\n",
              "      box-shadow: 0px 1px 2px rgba(60, 64, 67, 0.3), 0px 1px 3px 1px rgba(60, 64, 67, 0.15);\n",
              "      fill: #174EA6;\n",
              "    }\n",
              "\n",
              "    [theme=dark] .colab-df-convert {\n",
              "      background-color: #3B4455;\n",
              "      fill: #D2E3FC;\n",
              "    }\n",
              "\n",
              "    [theme=dark] .colab-df-convert:hover {\n",
              "      background-color: #434B5C;\n",
              "      box-shadow: 0px 1px 3px 1px rgba(0, 0, 0, 0.15);\n",
              "      filter: drop-shadow(0px 1px 2px rgba(0, 0, 0, 0.3));\n",
              "      fill: #FFFFFF;\n",
              "    }\n",
              "  </style>\n",
              "\n",
              "      <script>\n",
              "        const buttonEl =\n",
              "          document.querySelector('#df-210c7792-3af0-4a36-a9dd-0f752640faa4 button.colab-df-convert');\n",
              "        buttonEl.style.display =\n",
              "          google.colab.kernel.accessAllowed ? 'block' : 'none';\n",
              "\n",
              "        async function convertToInteractive(key) {\n",
              "          const element = document.querySelector('#df-210c7792-3af0-4a36-a9dd-0f752640faa4');\n",
              "          const dataTable =\n",
              "            await google.colab.kernel.invokeFunction('convertToInteractive',\n",
              "                                                     [key], {});\n",
              "          if (!dataTable) return;\n",
              "\n",
              "          const docLinkHtml = 'Like what you see? Visit the ' +\n",
              "            '<a target=\"_blank\" href=https://colab.research.google.com/notebooks/data_table.ipynb>data table notebook</a>'\n",
              "            + ' to learn more about interactive tables.';\n",
              "          element.innerHTML = '';\n",
              "          dataTable['output_type'] = 'display_data';\n",
              "          await google.colab.output.renderOutput(dataTable, element);\n",
              "          const docLink = document.createElement('div');\n",
              "          docLink.innerHTML = docLinkHtml;\n",
              "          element.appendChild(docLink);\n",
              "        }\n",
              "      </script>\n",
              "    </div>\n",
              "  </div>\n",
              "  "
            ],
            "text/plain": [
              "                                                        매출  수량         수익\n",
              "제품 이름                                                                    \n",
              "Motorola Smart Phone, Full Size                 34261.5270  59  7616.9670\n",
              "Office Star Executive Leather Armchair, Black   15289.6353  37  6123.2553\n",
              "삼성 Smart Phone, VoIP                            16796.7360  31  5356.8060\n",
              "Nokia Smart Phone, with Caller ID               30808.2402  54  5277.0402\n",
              "Novimex Executive Leather Armchair, Adjustable  18832.2576  46  5047.9176\n",
              "Sauder Classic Bookcase, Metal                  12105.5100  32  4859.4300\n",
              "Hewlett Wireless Fax, Color                     10609.3140  29  4854.2640\n",
              "Sauder Classic Bookcase, Traditional            15521.2440  39  4808.7240\n",
              "Apple Smart Phone, with Caller ID               10608.3960  18  4741.2960\n",
              "Cisco Smart Phone, with Caller ID               12967.0368  22  4474.8168"
            ]
          },
          "metadata": {},
          "execution_count": 77
        }
      ],
      "source": [
        "df.groupby('제품 이름').sum()[['매출','수량','수익']].sort_values('수익',ascending=False)[:10]"
      ]
    },
    {
      "cell_type": "code",
      "source": [
        "df.groupby('제품 이름').sum()[['수익']].sort_values('수익',ascending=False)[:10]"
      ],
      "metadata": {
        "colab": {
          "base_uri": "https://localhost:8080/",
          "height": 394
        },
        "id": "Ht-AoNNWRvve",
        "outputId": "25778d6c-b752-49f1-9b33-8785d1dbedb4"
      },
      "execution_count": 78,
      "outputs": [
        {
          "output_type": "execute_result",
          "data": {
            "text/html": [
              "\n",
              "  <div id=\"df-dc4e92ed-7da3-4051-add2-c345126ce981\">\n",
              "    <div class=\"colab-df-container\">\n",
              "      <div>\n",
              "<style scoped>\n",
              "    .dataframe tbody tr th:only-of-type {\n",
              "        vertical-align: middle;\n",
              "    }\n",
              "\n",
              "    .dataframe tbody tr th {\n",
              "        vertical-align: top;\n",
              "    }\n",
              "\n",
              "    .dataframe thead th {\n",
              "        text-align: right;\n",
              "    }\n",
              "</style>\n",
              "<table border=\"1\" class=\"dataframe\">\n",
              "  <thead>\n",
              "    <tr style=\"text-align: right;\">\n",
              "      <th></th>\n",
              "      <th>수익</th>\n",
              "    </tr>\n",
              "    <tr>\n",
              "      <th>제품 이름</th>\n",
              "      <th></th>\n",
              "    </tr>\n",
              "  </thead>\n",
              "  <tbody>\n",
              "    <tr>\n",
              "      <th>Motorola Smart Phone, Full Size</th>\n",
              "      <td>7616.9670</td>\n",
              "    </tr>\n",
              "    <tr>\n",
              "      <th>Office Star Executive Leather Armchair, Black</th>\n",
              "      <td>6123.2553</td>\n",
              "    </tr>\n",
              "    <tr>\n",
              "      <th>삼성 Smart Phone, VoIP</th>\n",
              "      <td>5356.8060</td>\n",
              "    </tr>\n",
              "    <tr>\n",
              "      <th>Nokia Smart Phone, with Caller ID</th>\n",
              "      <td>5277.0402</td>\n",
              "    </tr>\n",
              "    <tr>\n",
              "      <th>Novimex Executive Leather Armchair, Adjustable</th>\n",
              "      <td>5047.9176</td>\n",
              "    </tr>\n",
              "    <tr>\n",
              "      <th>Sauder Classic Bookcase, Metal</th>\n",
              "      <td>4859.4300</td>\n",
              "    </tr>\n",
              "    <tr>\n",
              "      <th>Hewlett Wireless Fax, Color</th>\n",
              "      <td>4854.2640</td>\n",
              "    </tr>\n",
              "    <tr>\n",
              "      <th>Sauder Classic Bookcase, Traditional</th>\n",
              "      <td>4808.7240</td>\n",
              "    </tr>\n",
              "    <tr>\n",
              "      <th>Apple Smart Phone, with Caller ID</th>\n",
              "      <td>4741.2960</td>\n",
              "    </tr>\n",
              "    <tr>\n",
              "      <th>Cisco Smart Phone, with Caller ID</th>\n",
              "      <td>4474.8168</td>\n",
              "    </tr>\n",
              "  </tbody>\n",
              "</table>\n",
              "</div>\n",
              "      <button class=\"colab-df-convert\" onclick=\"convertToInteractive('df-dc4e92ed-7da3-4051-add2-c345126ce981')\"\n",
              "              title=\"Convert this dataframe to an interactive table.\"\n",
              "              style=\"display:none;\">\n",
              "        \n",
              "  <svg xmlns=\"http://www.w3.org/2000/svg\" height=\"24px\"viewBox=\"0 0 24 24\"\n",
              "       width=\"24px\">\n",
              "    <path d=\"M0 0h24v24H0V0z\" fill=\"none\"/>\n",
              "    <path d=\"M18.56 5.44l.94 2.06.94-2.06 2.06-.94-2.06-.94-.94-2.06-.94 2.06-2.06.94zm-11 1L8.5 8.5l.94-2.06 2.06-.94-2.06-.94L8.5 2.5l-.94 2.06-2.06.94zm10 10l.94 2.06.94-2.06 2.06-.94-2.06-.94-.94-2.06-.94 2.06-2.06.94z\"/><path d=\"M17.41 7.96l-1.37-1.37c-.4-.4-.92-.59-1.43-.59-.52 0-1.04.2-1.43.59L10.3 9.45l-7.72 7.72c-.78.78-.78 2.05 0 2.83L4 21.41c.39.39.9.59 1.41.59.51 0 1.02-.2 1.41-.59l7.78-7.78 2.81-2.81c.8-.78.8-2.07 0-2.86zM5.41 20L4 18.59l7.72-7.72 1.47 1.35L5.41 20z\"/>\n",
              "  </svg>\n",
              "      </button>\n",
              "      \n",
              "  <style>\n",
              "    .colab-df-container {\n",
              "      display:flex;\n",
              "      flex-wrap:wrap;\n",
              "      gap: 12px;\n",
              "    }\n",
              "\n",
              "    .colab-df-convert {\n",
              "      background-color: #E8F0FE;\n",
              "      border: none;\n",
              "      border-radius: 50%;\n",
              "      cursor: pointer;\n",
              "      display: none;\n",
              "      fill: #1967D2;\n",
              "      height: 32px;\n",
              "      padding: 0 0 0 0;\n",
              "      width: 32px;\n",
              "    }\n",
              "\n",
              "    .colab-df-convert:hover {\n",
              "      background-color: #E2EBFA;\n",
              "      box-shadow: 0px 1px 2px rgba(60, 64, 67, 0.3), 0px 1px 3px 1px rgba(60, 64, 67, 0.15);\n",
              "      fill: #174EA6;\n",
              "    }\n",
              "\n",
              "    [theme=dark] .colab-df-convert {\n",
              "      background-color: #3B4455;\n",
              "      fill: #D2E3FC;\n",
              "    }\n",
              "\n",
              "    [theme=dark] .colab-df-convert:hover {\n",
              "      background-color: #434B5C;\n",
              "      box-shadow: 0px 1px 3px 1px rgba(0, 0, 0, 0.15);\n",
              "      filter: drop-shadow(0px 1px 2px rgba(0, 0, 0, 0.3));\n",
              "      fill: #FFFFFF;\n",
              "    }\n",
              "  </style>\n",
              "\n",
              "      <script>\n",
              "        const buttonEl =\n",
              "          document.querySelector('#df-dc4e92ed-7da3-4051-add2-c345126ce981 button.colab-df-convert');\n",
              "        buttonEl.style.display =\n",
              "          google.colab.kernel.accessAllowed ? 'block' : 'none';\n",
              "\n",
              "        async function convertToInteractive(key) {\n",
              "          const element = document.querySelector('#df-dc4e92ed-7da3-4051-add2-c345126ce981');\n",
              "          const dataTable =\n",
              "            await google.colab.kernel.invokeFunction('convertToInteractive',\n",
              "                                                     [key], {});\n",
              "          if (!dataTable) return;\n",
              "\n",
              "          const docLinkHtml = 'Like what you see? Visit the ' +\n",
              "            '<a target=\"_blank\" href=https://colab.research.google.com/notebooks/data_table.ipynb>data table notebook</a>'\n",
              "            + ' to learn more about interactive tables.';\n",
              "          element.innerHTML = '';\n",
              "          dataTable['output_type'] = 'display_data';\n",
              "          await google.colab.output.renderOutput(dataTable, element);\n",
              "          const docLink = document.createElement('div');\n",
              "          docLink.innerHTML = docLinkHtml;\n",
              "          element.appendChild(docLink);\n",
              "        }\n",
              "      </script>\n",
              "    </div>\n",
              "  </div>\n",
              "  "
            ],
            "text/plain": [
              "                                                       수익\n",
              "제품 이름                                                    \n",
              "Motorola Smart Phone, Full Size                 7616.9670\n",
              "Office Star Executive Leather Armchair, Black   6123.2553\n",
              "삼성 Smart Phone, VoIP                            5356.8060\n",
              "Nokia Smart Phone, with Caller ID               5277.0402\n",
              "Novimex Executive Leather Armchair, Adjustable  5047.9176\n",
              "Sauder Classic Bookcase, Metal                  4859.4300\n",
              "Hewlett Wireless Fax, Color                     4854.2640\n",
              "Sauder Classic Bookcase, Traditional            4808.7240\n",
              "Apple Smart Phone, with Caller ID               4741.2960\n",
              "Cisco Smart Phone, with Caller ID               4474.8168"
            ]
          },
          "metadata": {},
          "execution_count": 78
        }
      ]
    },
    {
      "cell_type": "markdown",
      "source": [
        "## 범주확인"
      ],
      "metadata": {
        "id": "jLyzfKtXhz7C"
      }
    },
    {
      "cell_type": "code",
      "execution_count": 79,
      "metadata": {
        "colab": {
          "base_uri": "https://localhost:8080/"
        },
        "id": "qTr1rreUZ5aX",
        "outputId": "5bb714a5-d3fd-40d1-e495-1b4122a461b7"
      },
      "outputs": [
        {
          "output_type": "execute_result",
          "data": {
            "text/plain": [
              "사무용품    6137\n",
              "가구      2415\n",
              "기술      2381\n",
              "Name: 범주, dtype: int64"
            ]
          },
          "metadata": {},
          "execution_count": 79
        }
      ],
      "source": [
        "df['범주'].value_counts()[:10]"
      ]
    },
    {
      "cell_type": "code",
      "source": [
        "plt.figure(figsize=(4,4))\n",
        "plt.pie(df['범주'].value_counts()[:10],\n",
        "       labels=df['범주'].value_counts()[:10].index,\n",
        "       autopct='%d%%',\n",
        "        colors=sns.color_palette('hls',len(df['범주'].value_counts()[:10].index)),\n",
        "       textprops={'fontsize':12})\n",
        "plt.axis('equal')\n",
        "plt.title(\"범주\", fontsize=16, pad=50)\n",
        "plt.show()"
      ],
      "metadata": {
        "colab": {
          "base_uri": "https://localhost:8080/",
          "height": 1000
        },
        "id": "LfQz_Bd4FtlR",
        "outputId": "a6b19519-e73b-4c21-857e-4a5fc3943259"
      },
      "execution_count": 80,
      "outputs": [
        {
          "output_type": "stream",
          "name": "stderr",
          "text": [
            "findfont: Font family ['NanumBarunGothic'] not found. Falling back to DejaVu Sans.\n",
            "/usr/local/lib/python3.7/dist-packages/matplotlib/backends/backend_agg.py:214: RuntimeWarning: Glyph 48276 missing from current font.\n",
            "  font.set_text(s, 0.0, flags=flags)\n",
            "/usr/local/lib/python3.7/dist-packages/matplotlib/backends/backend_agg.py:214: RuntimeWarning: Glyph 51452 missing from current font.\n",
            "  font.set_text(s, 0.0, flags=flags)\n",
            "findfont: Font family ['NanumBarunGothic'] not found. Falling back to DejaVu Sans.\n",
            "/usr/local/lib/python3.7/dist-packages/matplotlib/backends/backend_agg.py:214: RuntimeWarning: Glyph 49324 missing from current font.\n",
            "  font.set_text(s, 0.0, flags=flags)\n",
            "/usr/local/lib/python3.7/dist-packages/matplotlib/backends/backend_agg.py:214: RuntimeWarning: Glyph 47924 missing from current font.\n",
            "  font.set_text(s, 0.0, flags=flags)\n",
            "/usr/local/lib/python3.7/dist-packages/matplotlib/backends/backend_agg.py:214: RuntimeWarning: Glyph 50857 missing from current font.\n",
            "  font.set_text(s, 0.0, flags=flags)\n",
            "/usr/local/lib/python3.7/dist-packages/matplotlib/backends/backend_agg.py:214: RuntimeWarning: Glyph 54408 missing from current font.\n",
            "  font.set_text(s, 0.0, flags=flags)\n",
            "/usr/local/lib/python3.7/dist-packages/matplotlib/backends/backend_agg.py:214: RuntimeWarning: Glyph 44032 missing from current font.\n",
            "  font.set_text(s, 0.0, flags=flags)\n",
            "/usr/local/lib/python3.7/dist-packages/matplotlib/backends/backend_agg.py:214: RuntimeWarning: Glyph 44396 missing from current font.\n",
            "  font.set_text(s, 0.0, flags=flags)\n",
            "/usr/local/lib/python3.7/dist-packages/matplotlib/backends/backend_agg.py:214: RuntimeWarning: Glyph 44592 missing from current font.\n",
            "  font.set_text(s, 0.0, flags=flags)\n",
            "/usr/local/lib/python3.7/dist-packages/matplotlib/backends/backend_agg.py:214: RuntimeWarning: Glyph 49696 missing from current font.\n",
            "  font.set_text(s, 0.0, flags=flags)\n",
            "/usr/local/lib/python3.7/dist-packages/matplotlib/backends/backend_agg.py:183: RuntimeWarning: Glyph 49324 missing from current font.\n",
            "  font.set_text(s, 0, flags=flags)\n",
            "/usr/local/lib/python3.7/dist-packages/matplotlib/backends/backend_agg.py:183: RuntimeWarning: Glyph 47924 missing from current font.\n",
            "  font.set_text(s, 0, flags=flags)\n",
            "/usr/local/lib/python3.7/dist-packages/matplotlib/backends/backend_agg.py:183: RuntimeWarning: Glyph 50857 missing from current font.\n",
            "  font.set_text(s, 0, flags=flags)\n",
            "/usr/local/lib/python3.7/dist-packages/matplotlib/backends/backend_agg.py:183: RuntimeWarning: Glyph 54408 missing from current font.\n",
            "  font.set_text(s, 0, flags=flags)\n",
            "/usr/local/lib/python3.7/dist-packages/matplotlib/backends/backend_agg.py:183: RuntimeWarning: Glyph 44032 missing from current font.\n",
            "  font.set_text(s, 0, flags=flags)\n",
            "/usr/local/lib/python3.7/dist-packages/matplotlib/backends/backend_agg.py:183: RuntimeWarning: Glyph 44396 missing from current font.\n",
            "  font.set_text(s, 0, flags=flags)\n",
            "/usr/local/lib/python3.7/dist-packages/matplotlib/backends/backend_agg.py:183: RuntimeWarning: Glyph 44592 missing from current font.\n",
            "  font.set_text(s, 0, flags=flags)\n",
            "/usr/local/lib/python3.7/dist-packages/matplotlib/backends/backend_agg.py:183: RuntimeWarning: Glyph 49696 missing from current font.\n",
            "  font.set_text(s, 0, flags=flags)\n",
            "/usr/local/lib/python3.7/dist-packages/matplotlib/backends/backend_agg.py:183: RuntimeWarning: Glyph 48276 missing from current font.\n",
            "  font.set_text(s, 0, flags=flags)\n",
            "/usr/local/lib/python3.7/dist-packages/matplotlib/backends/backend_agg.py:183: RuntimeWarning: Glyph 51452 missing from current font.\n",
            "  font.set_text(s, 0, flags=flags)\n"
          ]
        },
        {
          "output_type": "display_data",
          "data": {
            "image/png": "[encoded data removed]",
            "text/plain": [
              "<Figure size 288x288 with 1 Axes>"
            ]
          },
          "metadata": {}
        }
      ]
    },
    {
      "cell_type": "code",
      "source": [
        "plt.figure(figsize=(4,4))\n",
        "plt.pie(df['하위 범주'].value_counts()[:10],\n",
        "       labels=df['하위 범주'].value_counts()[:10].index,\n",
        "       autopct='%d%%',\n",
        "        colors=sns.color_palette('hls',len(df['하위 범주'].value_counts()[:10].index)),\n",
        "       textprops={'fontsize':12})\n",
        "plt.axis('equal')\n",
        "plt.title(\"하위 범주\", fontsize=16, pad=50)\n",
        "plt.show()"
      ],
      "metadata": {
        "colab": {
          "base_uri": "https://localhost:8080/",
          "height": 1000
        },
        "id": "JuAELnboL9hZ",
        "outputId": "7eb07207-dc0b-4167-f024-9a4d4598eab2"
      },
      "execution_count": 81,
      "outputs": [
        {
          "output_type": "stream",
          "name": "stderr",
          "text": [
            "/usr/local/lib/python3.7/dist-packages/matplotlib/backends/backend_agg.py:214: RuntimeWarning: Glyph 54616 missing from current font.\n",
            "  font.set_text(s, 0.0, flags=flags)\n",
            "/usr/local/lib/python3.7/dist-packages/matplotlib/backends/backend_agg.py:214: RuntimeWarning: Glyph 50948 missing from current font.\n",
            "  font.set_text(s, 0.0, flags=flags)\n",
            "/usr/local/lib/python3.7/dist-packages/matplotlib/backends/backend_agg.py:214: RuntimeWarning: Glyph 48276 missing from current font.\n",
            "  font.set_text(s, 0.0, flags=flags)\n",
            "/usr/local/lib/python3.7/dist-packages/matplotlib/backends/backend_agg.py:214: RuntimeWarning: Glyph 51452 missing from current font.\n",
            "  font.set_text(s, 0.0, flags=flags)\n",
            "/usr/local/lib/python3.7/dist-packages/matplotlib/backends/backend_agg.py:214: RuntimeWarning: Glyph 51032 missing from current font.\n",
            "  font.set_text(s, 0.0, flags=flags)\n",
            "/usr/local/lib/python3.7/dist-packages/matplotlib/backends/backend_agg.py:214: RuntimeWarning: Glyph 51088 missing from current font.\n",
            "  font.set_text(s, 0.0, flags=flags)\n",
            "/usr/local/lib/python3.7/dist-packages/matplotlib/backends/backend_agg.py:214: RuntimeWarning: Glyph 48148 missing from current font.\n",
            "  font.set_text(s, 0.0, flags=flags)\n",
            "/usr/local/lib/python3.7/dist-packages/matplotlib/backends/backend_agg.py:214: RuntimeWarning: Glyph 51064 missing from current font.\n",
            "  font.set_text(s, 0.0, flags=flags)\n",
            "/usr/local/lib/python3.7/dist-packages/matplotlib/backends/backend_agg.py:214: RuntimeWarning: Glyph 45908 missing from current font.\n",
            "  font.set_text(s, 0.0, flags=flags)\n",
            "/usr/local/lib/python3.7/dist-packages/matplotlib/backends/backend_agg.py:214: RuntimeWarning: Glyph 48372 missing from current font.\n",
            "  font.set_text(s, 0.0, flags=flags)\n",
            "/usr/local/lib/python3.7/dist-packages/matplotlib/backends/backend_agg.py:214: RuntimeWarning: Glyph 44288 missing from current font.\n",
            "  font.set_text(s, 0.0, flags=flags)\n",
            "/usr/local/lib/python3.7/dist-packages/matplotlib/backends/backend_agg.py:214: RuntimeWarning: Glyph 54632 missing from current font.\n",
            "  font.set_text(s, 0.0, flags=flags)\n",
            "/usr/local/lib/python3.7/dist-packages/matplotlib/backends/backend_agg.py:214: RuntimeWarning: Glyph 47112 missing from current font.\n",
            "  font.set_text(s, 0.0, flags=flags)\n",
            "/usr/local/lib/python3.7/dist-packages/matplotlib/backends/backend_agg.py:214: RuntimeWarning: Glyph 51060 missing from current font.\n",
            "  font.set_text(s, 0.0, flags=flags)\n",
            "/usr/local/lib/python3.7/dist-packages/matplotlib/backends/backend_agg.py:214: RuntimeWarning: Glyph 48660 missing from current font.\n",
            "  font.set_text(s, 0.0, flags=flags)\n",
            "/usr/local/lib/python3.7/dist-packages/matplotlib/backends/backend_agg.py:214: RuntimeWarning: Glyph 49324 missing from current font.\n",
            "  font.set_text(s, 0.0, flags=flags)\n",
            "/usr/local/lib/python3.7/dist-packages/matplotlib/backends/backend_agg.py:214: RuntimeWarning: Glyph 47924 missing from current font.\n",
            "  font.set_text(s, 0.0, flags=flags)\n",
            "/usr/local/lib/python3.7/dist-packages/matplotlib/backends/backend_agg.py:214: RuntimeWarning: Glyph 50857 missing from current font.\n",
            "  font.set_text(s, 0.0, flags=flags)\n",
            "/usr/local/lib/python3.7/dist-packages/matplotlib/backends/backend_agg.py:214: RuntimeWarning: Glyph 54408 missing from current font.\n",
            "  font.set_text(s, 0.0, flags=flags)\n",
            "/usr/local/lib/python3.7/dist-packages/matplotlib/backends/backend_agg.py:214: RuntimeWarning: Glyph 50529 missing from current font.\n",
            "  font.set_text(s, 0.0, flags=flags)\n",
            "/usr/local/lib/python3.7/dist-packages/matplotlib/backends/backend_agg.py:214: RuntimeWarning: Glyph 49464 missing from current font.\n",
            "  font.set_text(s, 0.0, flags=flags)\n",
            "/usr/local/lib/python3.7/dist-packages/matplotlib/backends/backend_agg.py:214: RuntimeWarning: Glyph 49436 missing from current font.\n",
            "  font.set_text(s, 0.0, flags=flags)\n",
            "/usr/local/lib/python3.7/dist-packages/matplotlib/backends/backend_agg.py:214: RuntimeWarning: Glyph 47532 missing from current font.\n",
            "  font.set_text(s, 0.0, flags=flags)\n",
            "/usr/local/lib/python3.7/dist-packages/matplotlib/backends/backend_agg.py:214: RuntimeWarning: Glyph 51204 missing from current font.\n",
            "  font.set_text(s, 0.0, flags=flags)\n",
            "/usr/local/lib/python3.7/dist-packages/matplotlib/backends/backend_agg.py:214: RuntimeWarning: Glyph 54868 missing from current font.\n",
            "  font.set_text(s, 0.0, flags=flags)\n",
            "/usr/local/lib/python3.7/dist-packages/matplotlib/backends/backend_agg.py:214: RuntimeWarning: Glyph 44592 missing from current font.\n",
            "  font.set_text(s, 0.0, flags=flags)\n",
            "/usr/local/lib/python3.7/dist-packages/matplotlib/backends/backend_agg.py:214: RuntimeWarning: Glyph 51648 missing from current font.\n",
            "  font.set_text(s, 0.0, flags=flags)\n",
            "/usr/local/lib/python3.7/dist-packages/matplotlib/backends/backend_agg.py:214: RuntimeWarning: Glyph 48120 missing from current font.\n",
            "  font.set_text(s, 0.0, flags=flags)\n",
            "/usr/local/lib/python3.7/dist-packages/matplotlib/backends/backend_agg.py:214: RuntimeWarning: Glyph 49696 missing from current font.\n",
            "  font.set_text(s, 0.0, flags=flags)\n",
            "/usr/local/lib/python3.7/dist-packages/matplotlib/backends/backend_agg.py:214: RuntimeWarning: Glyph 51104 missing from current font.\n",
            "  font.set_text(s, 0.0, flags=flags)\n",
            "/usr/local/lib/python3.7/dist-packages/matplotlib/backends/backend_agg.py:214: RuntimeWarning: Glyph 44552 missing from current font.\n",
            "  font.set_text(s, 0.0, flags=flags)\n",
            "/usr/local/lib/python3.7/dist-packages/matplotlib/backends/backend_agg.py:214: RuntimeWarning: Glyph 51109 missing from current font.\n",
            "  font.set_text(s, 0.0, flags=flags)\n",
            "/usr/local/lib/python3.7/dist-packages/matplotlib/backends/backend_agg.py:214: RuntimeWarning: Glyph 52824 missing from current font.\n",
            "  font.set_text(s, 0.0, flags=flags)\n",
            "/usr/local/lib/python3.7/dist-packages/matplotlib/backends/backend_agg.py:183: RuntimeWarning: Glyph 51032 missing from current font.\n",
            "  font.set_text(s, 0, flags=flags)\n",
            "/usr/local/lib/python3.7/dist-packages/matplotlib/backends/backend_agg.py:183: RuntimeWarning: Glyph 51088 missing from current font.\n",
            "  font.set_text(s, 0, flags=flags)\n",
            "/usr/local/lib/python3.7/dist-packages/matplotlib/backends/backend_agg.py:183: RuntimeWarning: Glyph 48148 missing from current font.\n",
            "  font.set_text(s, 0, flags=flags)\n",
            "/usr/local/lib/python3.7/dist-packages/matplotlib/backends/backend_agg.py:183: RuntimeWarning: Glyph 51064 missing from current font.\n",
            "  font.set_text(s, 0, flags=flags)\n",
            "/usr/local/lib/python3.7/dist-packages/matplotlib/backends/backend_agg.py:183: RuntimeWarning: Glyph 45908 missing from current font.\n",
            "  font.set_text(s, 0, flags=flags)\n",
            "/usr/local/lib/python3.7/dist-packages/matplotlib/backends/backend_agg.py:183: RuntimeWarning: Glyph 48372 missing from current font.\n",
            "  font.set_text(s, 0, flags=flags)\n",
            "/usr/local/lib/python3.7/dist-packages/matplotlib/backends/backend_agg.py:183: RuntimeWarning: Glyph 44288 missing from current font.\n",
            "  font.set_text(s, 0, flags=flags)\n",
            "/usr/local/lib/python3.7/dist-packages/matplotlib/backends/backend_agg.py:183: RuntimeWarning: Glyph 54632 missing from current font.\n",
            "  font.set_text(s, 0, flags=flags)\n",
            "/usr/local/lib/python3.7/dist-packages/matplotlib/backends/backend_agg.py:183: RuntimeWarning: Glyph 47112 missing from current font.\n",
            "  font.set_text(s, 0, flags=flags)\n",
            "/usr/local/lib/python3.7/dist-packages/matplotlib/backends/backend_agg.py:183: RuntimeWarning: Glyph 51060 missing from current font.\n",
            "  font.set_text(s, 0, flags=flags)\n",
            "/usr/local/lib/python3.7/dist-packages/matplotlib/backends/backend_agg.py:183: RuntimeWarning: Glyph 48660 missing from current font.\n",
            "  font.set_text(s, 0, flags=flags)\n",
            "/usr/local/lib/python3.7/dist-packages/matplotlib/backends/backend_agg.py:183: RuntimeWarning: Glyph 49324 missing from current font.\n",
            "  font.set_text(s, 0, flags=flags)\n",
            "/usr/local/lib/python3.7/dist-packages/matplotlib/backends/backend_agg.py:183: RuntimeWarning: Glyph 47924 missing from current font.\n",
            "  font.set_text(s, 0, flags=flags)\n",
            "/usr/local/lib/python3.7/dist-packages/matplotlib/backends/backend_agg.py:183: RuntimeWarning: Glyph 50857 missing from current font.\n",
            "  font.set_text(s, 0, flags=flags)\n",
            "/usr/local/lib/python3.7/dist-packages/matplotlib/backends/backend_agg.py:183: RuntimeWarning: Glyph 54408 missing from current font.\n",
            "  font.set_text(s, 0, flags=flags)\n",
            "/usr/local/lib/python3.7/dist-packages/matplotlib/backends/backend_agg.py:183: RuntimeWarning: Glyph 50529 missing from current font.\n",
            "  font.set_text(s, 0, flags=flags)\n",
            "/usr/local/lib/python3.7/dist-packages/matplotlib/backends/backend_agg.py:183: RuntimeWarning: Glyph 49464 missing from current font.\n",
            "  font.set_text(s, 0, flags=flags)\n",
            "/usr/local/lib/python3.7/dist-packages/matplotlib/backends/backend_agg.py:183: RuntimeWarning: Glyph 49436 missing from current font.\n",
            "  font.set_text(s, 0, flags=flags)\n",
            "/usr/local/lib/python3.7/dist-packages/matplotlib/backends/backend_agg.py:183: RuntimeWarning: Glyph 47532 missing from current font.\n",
            "  font.set_text(s, 0, flags=flags)\n",
            "/usr/local/lib/python3.7/dist-packages/matplotlib/backends/backend_agg.py:183: RuntimeWarning: Glyph 51204 missing from current font.\n",
            "  font.set_text(s, 0, flags=flags)\n",
            "/usr/local/lib/python3.7/dist-packages/matplotlib/backends/backend_agg.py:183: RuntimeWarning: Glyph 54868 missing from current font.\n",
            "  font.set_text(s, 0, flags=flags)\n",
            "/usr/local/lib/python3.7/dist-packages/matplotlib/backends/backend_agg.py:183: RuntimeWarning: Glyph 44592 missing from current font.\n",
            "  font.set_text(s, 0, flags=flags)\n",
            "/usr/local/lib/python3.7/dist-packages/matplotlib/backends/backend_agg.py:183: RuntimeWarning: Glyph 51648 missing from current font.\n",
            "  font.set_text(s, 0, flags=flags)\n",
            "/usr/local/lib/python3.7/dist-packages/matplotlib/backends/backend_agg.py:183: RuntimeWarning: Glyph 48120 missing from current font.\n",
            "  font.set_text(s, 0, flags=flags)\n",
            "/usr/local/lib/python3.7/dist-packages/matplotlib/backends/backend_agg.py:183: RuntimeWarning: Glyph 49696 missing from current font.\n",
            "  font.set_text(s, 0, flags=flags)\n",
            "/usr/local/lib/python3.7/dist-packages/matplotlib/backends/backend_agg.py:183: RuntimeWarning: Glyph 51104 missing from current font.\n",
            "  font.set_text(s, 0, flags=flags)\n",
            "/usr/local/lib/python3.7/dist-packages/matplotlib/backends/backend_agg.py:183: RuntimeWarning: Glyph 44552 missing from current font.\n",
            "  font.set_text(s, 0, flags=flags)\n",
            "/usr/local/lib/python3.7/dist-packages/matplotlib/backends/backend_agg.py:183: RuntimeWarning: Glyph 51109 missing from current font.\n",
            "  font.set_text(s, 0, flags=flags)\n",
            "/usr/local/lib/python3.7/dist-packages/matplotlib/backends/backend_agg.py:183: RuntimeWarning: Glyph 52824 missing from current font.\n",
            "  font.set_text(s, 0, flags=flags)\n",
            "/usr/local/lib/python3.7/dist-packages/matplotlib/backends/backend_agg.py:183: RuntimeWarning: Glyph 54616 missing from current font.\n",
            "  font.set_text(s, 0, flags=flags)\n",
            "/usr/local/lib/python3.7/dist-packages/matplotlib/backends/backend_agg.py:183: RuntimeWarning: Glyph 50948 missing from current font.\n",
            "  font.set_text(s, 0, flags=flags)\n",
            "/usr/local/lib/python3.7/dist-packages/matplotlib/backends/backend_agg.py:183: RuntimeWarning: Glyph 48276 missing from current font.\n",
            "  font.set_text(s, 0, flags=flags)\n",
            "/usr/local/lib/python3.7/dist-packages/matplotlib/backends/backend_agg.py:183: RuntimeWarning: Glyph 51452 missing from current font.\n",
            "  font.set_text(s, 0, flags=flags)\n"
          ]
        },
        {
          "output_type": "display_data",
          "data": {
            "image/png": "[encoded data removed]",
            "text/plain": [
              "<Figure size 288x288 with 1 Axes>"
            ]
          },
          "metadata": {}
        }
      ]
    },
    {
      "cell_type": "markdown",
      "metadata": {
        "id": "wdUBSr4Dac8g"
      },
      "source": [
        "원그래프로"
      ]
    },
    {
      "cell_type": "code",
      "execution_count": 82,
      "metadata": {
        "colab": {
          "base_uri": "https://localhost:8080/"
        },
        "id": "p50TxmzSaZun",
        "outputId": "891b08ee-0138-47cf-84b0-dfa1452d59a8"
      },
      "outputs": [
        {
          "output_type": "execute_result",
          "data": {
            "text/plain": [
              "의자        964\n",
              "바인더       958\n",
              "보관함       811\n",
              "레이블       713\n",
              "사무용품      705\n",
              "액세서리      693\n",
              "전화기       686\n",
              "용지        673\n",
              "미술용품      662\n",
              "잠금장치      657\n",
              "복사기       649\n",
              "사무용 집기    644\n",
              "봉투        620\n",
              "책장        618\n",
              "사무기기      353\n",
              "가전 제품     338\n",
              "테이블       189\n",
              "Name: 하위 범주, dtype: int64"
            ]
          },
          "metadata": {},
          "execution_count": 82
        }
      ],
      "source": [
        "df['하위 범주'].value_counts()"
      ]
    },
    {
      "cell_type": "markdown",
      "source": [
        "## 하위범주의 매출, 수량, 수익 확인\n",
        "\n",
        "수익을 기준으로 내림차순으로 정렬하였다. "
      ],
      "metadata": {
        "id": "-qfP5beWh4PH"
      }
    },
    {
      "cell_type": "code",
      "execution_count": 83,
      "metadata": {
        "colab": {
          "base_uri": "https://localhost:8080/",
          "height": 394
        },
        "id": "POnOtPqexs76",
        "outputId": "ab410dce-3d83-4bef-b76b-873030401a2b"
      },
      "outputs": [
        {
          "output_type": "execute_result",
          "data": {
            "text/html": [
              "\n",
              "  <div id=\"df-3eacfdff-9f1f-44da-847a-eadeb556d4ec\">\n",
              "    <div class=\"colab-df-container\">\n",
              "      <div>\n",
              "<style scoped>\n",
              "    .dataframe tbody tr th:only-of-type {\n",
              "        vertical-align: middle;\n",
              "    }\n",
              "\n",
              "    .dataframe tbody tr th {\n",
              "        vertical-align: top;\n",
              "    }\n",
              "\n",
              "    .dataframe thead th {\n",
              "        text-align: right;\n",
              "    }\n",
              "</style>\n",
              "<table border=\"1\" class=\"dataframe\">\n",
              "  <thead>\n",
              "    <tr style=\"text-align: right;\">\n",
              "      <th></th>\n",
              "      <th>매출</th>\n",
              "      <th>수량</th>\n",
              "      <th>수익</th>\n",
              "    </tr>\n",
              "    <tr>\n",
              "      <th>하위 범주</th>\n",
              "      <th></th>\n",
              "      <th></th>\n",
              "      <th></th>\n",
              "    </tr>\n",
              "  </thead>\n",
              "  <tbody>\n",
              "    <tr>\n",
              "      <th>전화기</th>\n",
              "      <td>483482.2362</td>\n",
              "      <td>2623</td>\n",
              "      <td>80886.3162</td>\n",
              "    </tr>\n",
              "    <tr>\n",
              "      <th>복사기</th>\n",
              "      <td>492851.0352</td>\n",
              "      <td>2379</td>\n",
              "      <td>80300.3052</td>\n",
              "    </tr>\n",
              "    <tr>\n",
              "      <th>책장</th>\n",
              "      <td>500443.5885</td>\n",
              "      <td>2340</td>\n",
              "      <td>67231.2285</td>\n",
              "    </tr>\n",
              "    <tr>\n",
              "      <th>의자</th>\n",
              "      <td>508739.6082</td>\n",
              "      <td>3577</td>\n",
              "      <td>61192.1682</td>\n",
              "    </tr>\n",
              "    <tr>\n",
              "      <th>가전 제품</th>\n",
              "      <td>307620.7290</td>\n",
              "      <td>1310</td>\n",
              "      <td>42128.7090</td>\n",
              "    </tr>\n",
              "    <tr>\n",
              "      <th>사무기기</th>\n",
              "      <td>189253.6401</td>\n",
              "      <td>1348</td>\n",
              "      <td>26129.6901</td>\n",
              "    </tr>\n",
              "    <tr>\n",
              "      <th>보관함</th>\n",
              "      <td>214569.1614</td>\n",
              "      <td>3043</td>\n",
              "      <td>24458.5714</td>\n",
              "    </tr>\n",
              "    <tr>\n",
              "      <th>사무용 집기</th>\n",
              "      <td>100936.9419</td>\n",
              "      <td>2458</td>\n",
              "      <td>16122.8619</td>\n",
              "    </tr>\n",
              "    <tr>\n",
              "      <th>액세서리</th>\n",
              "      <td>185258.5545</td>\n",
              "      <td>2599</td>\n",
              "      <td>15639.1545</td>\n",
              "    </tr>\n",
              "    <tr>\n",
              "      <th>바인더</th>\n",
              "      <td>63042.8997</td>\n",
              "      <td>3520</td>\n",
              "      <td>10605.4497</td>\n",
              "    </tr>\n",
              "  </tbody>\n",
              "</table>\n",
              "</div>\n",
              "      <button class=\"colab-df-convert\" onclick=\"convertToInteractive('df-3eacfdff-9f1f-44da-847a-eadeb556d4ec')\"\n",
              "              title=\"Convert this dataframe to an interactive table.\"\n",
              "              style=\"display:none;\">\n",
              "        \n",
              "  <svg xmlns=\"http://www.w3.org/2000/svg\" height=\"24px\"viewBox=\"0 0 24 24\"\n",
              "       width=\"24px\">\n",
              "    <path d=\"M0 0h24v24H0V0z\" fill=\"none\"/>\n",
              "    <path d=\"M18.56 5.44l.94 2.06.94-2.06 2.06-.94-2.06-.94-.94-2.06-.94 2.06-2.06.94zm-11 1L8.5 8.5l.94-2.06 2.06-.94-2.06-.94L8.5 2.5l-.94 2.06-2.06.94zm10 10l.94 2.06.94-2.06 2.06-.94-2.06-.94-.94-2.06-.94 2.06-2.06.94z\"/><path d=\"M17.41 7.96l-1.37-1.37c-.4-.4-.92-.59-1.43-.59-.52 0-1.04.2-1.43.59L10.3 9.45l-7.72 7.72c-.78.78-.78 2.05 0 2.83L4 21.41c.39.39.9.59 1.41.59.51 0 1.02-.2 1.41-.59l7.78-7.78 2.81-2.81c.8-.78.8-2.07 0-2.86zM5.41 20L4 18.59l7.72-7.72 1.47 1.35L5.41 20z\"/>\n",
              "  </svg>\n",
              "      </button>\n",
              "      \n",
              "  <style>\n",
              "    .colab-df-container {\n",
              "      display:flex;\n",
              "      flex-wrap:wrap;\n",
              "      gap: 12px;\n",
              "    }\n",
              "\n",
              "    .colab-df-convert {\n",
              "      background-color: #E8F0FE;\n",
              "      border: none;\n",
              "      border-radius: 50%;\n",
              "      cursor: pointer;\n",
              "      display: none;\n",
              "      fill: #1967D2;\n",
              "      height: 32px;\n",
              "      padding: 0 0 0 0;\n",
              "      width: 32px;\n",
              "    }\n",
              "\n",
              "    .colab-df-convert:hover {\n",
              "      background-color: #E2EBFA;\n",
              "      box-shadow: 0px 1px 2px rgba(60, 64, 67, 0.3), 0px 1px 3px 1px rgba(60, 64, 67, 0.15);\n",
              "      fill: #174EA6;\n",
              "    }\n",
              "\n",
              "    [theme=dark] .colab-df-convert {\n",
              "      background-color: #3B4455;\n",
              "      fill: #D2E3FC;\n",
              "    }\n",
              "\n",
              "    [theme=dark] .colab-df-convert:hover {\n",
              "      background-color: #434B5C;\n",
              "      box-shadow: 0px 1px 3px 1px rgba(0, 0, 0, 0.15);\n",
              "      filter: drop-shadow(0px 1px 2px rgba(0, 0, 0, 0.3));\n",
              "      fill: #FFFFFF;\n",
              "    }\n",
              "  </style>\n",
              "\n",
              "      <script>\n",
              "        const buttonEl =\n",
              "          document.querySelector('#df-3eacfdff-9f1f-44da-847a-eadeb556d4ec button.colab-df-convert');\n",
              "        buttonEl.style.display =\n",
              "          google.colab.kernel.accessAllowed ? 'block' : 'none';\n",
              "\n",
              "        async function convertToInteractive(key) {\n",
              "          const element = document.querySelector('#df-3eacfdff-9f1f-44da-847a-eadeb556d4ec');\n",
              "          const dataTable =\n",
              "            await google.colab.kernel.invokeFunction('convertToInteractive',\n",
              "                                                     [key], {});\n",
              "          if (!dataTable) return;\n",
              "\n",
              "          const docLinkHtml = 'Like what you see? Visit the ' +\n",
              "            '<a target=\"_blank\" href=https://colab.research.google.com/notebooks/data_table.ipynb>data table notebook</a>'\n",
              "            + ' to learn more about interactive tables.';\n",
              "          element.innerHTML = '';\n",
              "          dataTable['output_type'] = 'display_data';\n",
              "          await google.colab.output.renderOutput(dataTable, element);\n",
              "          const docLink = document.createElement('div');\n",
              "          docLink.innerHTML = docLinkHtml;\n",
              "          element.appendChild(docLink);\n",
              "        }\n",
              "      </script>\n",
              "    </div>\n",
              "  </div>\n",
              "  "
            ],
            "text/plain": [
              "                 매출    수량          수익\n",
              "하위 범주                                \n",
              "전화기     483482.2362  2623  80886.3162\n",
              "복사기     492851.0352  2379  80300.3052\n",
              "책장      500443.5885  2340  67231.2285\n",
              "의자      508739.6082  3577  61192.1682\n",
              "가전 제품   307620.7290  1310  42128.7090\n",
              "사무기기    189253.6401  1348  26129.6901\n",
              "보관함     214569.1614  3043  24458.5714\n",
              "사무용 집기  100936.9419  2458  16122.8619\n",
              "액세서리    185258.5545  2599  15639.1545\n",
              "바인더      63042.8997  3520  10605.4497"
            ]
          },
          "metadata": {},
          "execution_count": 83
        }
      ],
      "source": [
        "df.groupby('하위 범주').sum()[['매출','수량','수익']].sort_values('수익',ascending=False)[:10]"
      ]
    },
    {
      "cell_type": "markdown",
      "metadata": {
        "id": "AEq21xBmdYKr"
      },
      "source": [
        "## 할인율"
      ]
    },
    {
      "cell_type": "code",
      "execution_count": 84,
      "metadata": {
        "colab": {
          "base_uri": "https://localhost:8080/"
        },
        "id": "gNZiTldGbCrv",
        "outputId": "48ae3247-5ec2-4dc1-ec3c-fc41e0eb4ee4"
      },
      "outputs": [
        {
          "output_type": "execute_result",
          "data": {
            "text/plain": [
              "0.00    4621\n",
              "0.10    2203\n",
              "0.17     735\n",
              "0.47     725\n",
              "0.40     712\n",
              "0.50     449\n",
              "0.27     388\n",
              "0.45     314\n",
              "0.25     198\n",
              "0.07     150\n",
              "0.20      92\n",
              "0.15      82\n",
              "0.35      77\n",
              "0.37      74\n",
              "0.30      62\n",
              "0.60      18\n",
              "0.57      12\n",
              "0.80      11\n",
              "0.55      10\n",
              "Name: 할인율, dtype: int64"
            ]
          },
          "metadata": {},
          "execution_count": 84
        }
      ],
      "source": [
        "df['할인율'].value_counts()"
      ]
    },
    {
      "cell_type": "markdown",
      "source": [
        "## 고객을 수익에 따라 정렬\n",
        "\n",
        "수익이 높은 순으로 정렬했다"
      ],
      "metadata": {
        "id": "U-ZgMd3ziLNa"
      }
    },
    {
      "cell_type": "code",
      "execution_count": 87,
      "metadata": {
        "colab": {
          "base_uri": "https://localhost:8080/",
          "height": 394
        },
        "id": "kXFXSi4wyQGe",
        "outputId": "f7ac607d-df8d-4030-f37d-0fff63d85718"
      },
      "outputs": [
        {
          "output_type": "execute_result",
          "data": {
            "text/html": [
              "\n",
              "  <div id=\"df-48ff19fb-57e2-4111-b1a5-f2e010462dcf\">\n",
              "    <div class=\"colab-df-container\">\n",
              "      <div>\n",
              "<style scoped>\n",
              "    .dataframe tbody tr th:only-of-type {\n",
              "        vertical-align: middle;\n",
              "    }\n",
              "\n",
              "    .dataframe tbody tr th {\n",
              "        vertical-align: top;\n",
              "    }\n",
              "\n",
              "    .dataframe thead th {\n",
              "        text-align: right;\n",
              "    }\n",
              "</style>\n",
              "<table border=\"1\" class=\"dataframe\">\n",
              "  <thead>\n",
              "    <tr style=\"text-align: right;\">\n",
              "      <th></th>\n",
              "      <th>매출</th>\n",
              "      <th>수량</th>\n",
              "      <th>수익</th>\n",
              "    </tr>\n",
              "    <tr>\n",
              "      <th>고객 이름</th>\n",
              "      <th></th>\n",
              "      <th></th>\n",
              "      <th></th>\n",
              "    </tr>\n",
              "  </thead>\n",
              "  <tbody>\n",
              "    <tr>\n",
              "      <th>Cynthia Arntzen</th>\n",
              "      <td>11494.0080</td>\n",
              "      <td>42</td>\n",
              "      <td>4045.8780</td>\n",
              "    </tr>\n",
              "    <tr>\n",
              "      <th>Carol Adams</th>\n",
              "      <td>11652.5706</td>\n",
              "      <td>53</td>\n",
              "      <td>3220.0506</td>\n",
              "    </tr>\n",
              "    <tr>\n",
              "      <th>Bill Eplett</th>\n",
              "      <td>10729.9530</td>\n",
              "      <td>155</td>\n",
              "      <td>3112.9230</td>\n",
              "    </tr>\n",
              "    <tr>\n",
              "      <th>Carlos Daly</th>\n",
              "      <td>7582.8414</td>\n",
              "      <td>52</td>\n",
              "      <td>3107.5914</td>\n",
              "    </tr>\n",
              "    <tr>\n",
              "      <th>Denny Ordway</th>\n",
              "      <td>9100.2420</td>\n",
              "      <td>49</td>\n",
              "      <td>3056.2920</td>\n",
              "    </tr>\n",
              "    <tr>\n",
              "      <th>Cari Sayre</th>\n",
              "      <td>16654.4916</td>\n",
              "      <td>101</td>\n",
              "      <td>2995.5816</td>\n",
              "    </tr>\n",
              "    <tr>\n",
              "      <th>Jamie Frazer</th>\n",
              "      <td>10692.6765</td>\n",
              "      <td>91</td>\n",
              "      <td>2813.2965</td>\n",
              "    </tr>\n",
              "    <tr>\n",
              "      <th>Vivek Grady</th>\n",
              "      <td>15653.4378</td>\n",
              "      <td>67</td>\n",
              "      <td>2748.1878</td>\n",
              "    </tr>\n",
              "    <tr>\n",
              "      <th>Harold Dahlen</th>\n",
              "      <td>10483.3632</td>\n",
              "      <td>63</td>\n",
              "      <td>2700.2832</td>\n",
              "    </tr>\n",
              "    <tr>\n",
              "      <th>Nicole Hansen</th>\n",
              "      <td>11555.4183</td>\n",
              "      <td>125</td>\n",
              "      <td>2514.2283</td>\n",
              "    </tr>\n",
              "  </tbody>\n",
              "</table>\n",
              "</div>\n",
              "      <button class=\"colab-df-convert\" onclick=\"convertToInteractive('df-48ff19fb-57e2-4111-b1a5-f2e010462dcf')\"\n",
              "              title=\"Convert this dataframe to an interactive table.\"\n",
              "              style=\"display:none;\">\n",
              "        \n",
              "  <svg xmlns=\"http://www.w3.org/2000/svg\" height=\"24px\"viewBox=\"0 0 24 24\"\n",
              "       width=\"24px\">\n",
              "    <path d=\"M0 0h24v24H0V0z\" fill=\"none\"/>\n",
              "    <path d=\"M18.56 5.44l.94 2.06.94-2.06 2.06-.94-2.06-.94-.94-2.06-.94 2.06-2.06.94zm-11 1L8.5 8.5l.94-2.06 2.06-.94-2.06-.94L8.5 2.5l-.94 2.06-2.06.94zm10 10l.94 2.06.94-2.06 2.06-.94-2.06-.94-.94-2.06-.94 2.06-2.06.94z\"/><path d=\"M17.41 7.96l-1.37-1.37c-.4-.4-.92-.59-1.43-.59-.52 0-1.04.2-1.43.59L10.3 9.45l-7.72 7.72c-.78.78-.78 2.05 0 2.83L4 21.41c.39.39.9.59 1.41.59.51 0 1.02-.2 1.41-.59l7.78-7.78 2.81-2.81c.8-.78.8-2.07 0-2.86zM5.41 20L4 18.59l7.72-7.72 1.47 1.35L5.41 20z\"/>\n",
              "  </svg>\n",
              "      </button>\n",
              "      \n",
              "  <style>\n",
              "    .colab-df-container {\n",
              "      display:flex;\n",
              "      flex-wrap:wrap;\n",
              "      gap: 12px;\n",
              "    }\n",
              "\n",
              "    .colab-df-convert {\n",
              "      background-color: #E8F0FE;\n",
              "      border: none;\n",
              "      border-radius: 50%;\n",
              "      cursor: pointer;\n",
              "      display: none;\n",
              "      fill: #1967D2;\n",
              "      height: 32px;\n",
              "      padding: 0 0 0 0;\n",
              "      width: 32px;\n",
              "    }\n",
              "\n",
              "    .colab-df-convert:hover {\n",
              "      background-color: #E2EBFA;\n",
              "      box-shadow: 0px 1px 2px rgba(60, 64, 67, 0.3), 0px 1px 3px 1px rgba(60, 64, 67, 0.15);\n",
              "      fill: #174EA6;\n",
              "    }\n",
              "\n",
              "    [theme=dark] .colab-df-convert {\n",
              "      background-color: #3B4455;\n",
              "      fill: #D2E3FC;\n",
              "    }\n",
              "\n",
              "    [theme=dark] .colab-df-convert:hover {\n",
              "      background-color: #434B5C;\n",
              "      box-shadow: 0px 1px 3px 1px rgba(0, 0, 0, 0.15);\n",
              "      filter: drop-shadow(0px 1px 2px rgba(0, 0, 0, 0.3));\n",
              "      fill: #FFFFFF;\n",
              "    }\n",
              "  </style>\n",
              "\n",
              "      <script>\n",
              "        const buttonEl =\n",
              "          document.querySelector('#df-48ff19fb-57e2-4111-b1a5-f2e010462dcf button.colab-df-convert');\n",
              "        buttonEl.style.display =\n",
              "          google.colab.kernel.accessAllowed ? 'block' : 'none';\n",
              "\n",
              "        async function convertToInteractive(key) {\n",
              "          const element = document.querySelector('#df-48ff19fb-57e2-4111-b1a5-f2e010462dcf');\n",
              "          const dataTable =\n",
              "            await google.colab.kernel.invokeFunction('convertToInteractive',\n",
              "                                                     [key], {});\n",
              "          if (!dataTable) return;\n",
              "\n",
              "          const docLinkHtml = 'Like what you see? Visit the ' +\n",
              "            '<a target=\"_blank\" href=https://colab.research.google.com/notebooks/data_table.ipynb>data table notebook</a>'\n",
              "            + ' to learn more about interactive tables.';\n",
              "          element.innerHTML = '';\n",
              "          dataTable['output_type'] = 'display_data';\n",
              "          await google.colab.output.renderOutput(dataTable, element);\n",
              "          const docLink = document.createElement('div');\n",
              "          docLink.innerHTML = docLinkHtml;\n",
              "          element.appendChild(docLink);\n",
              "        }\n",
              "      </script>\n",
              "    </div>\n",
              "  </div>\n",
              "  "
            ],
            "text/plain": [
              "                         매출   수량         수익\n",
              "고객 이름                                      \n",
              "Cynthia Arntzen  11494.0080   42  4045.8780\n",
              "Carol Adams      11652.5706   53  3220.0506\n",
              "Bill Eplett      10729.9530  155  3112.9230\n",
              "Carlos Daly       7582.8414   52  3107.5914\n",
              "Denny Ordway      9100.2420   49  3056.2920\n",
              "Cari Sayre       16654.4916  101  2995.5816\n",
              "Jamie Frazer     10692.6765   91  2813.2965\n",
              "Vivek Grady      15653.4378   67  2748.1878\n",
              "Harold Dahlen    10483.3632   63  2700.2832\n",
              "Nicole Hansen    11555.4183  125  2514.2283"
            ]
          },
          "metadata": {},
          "execution_count": 87
        }
      ],
      "source": [
        "df.groupby('고객 이름').sum()[['매출','수량','수익']].sort_values('수익',ascending=False)[:10]"
      ]
    },
    {
      "cell_type": "code",
      "source": [
        "df.groupby('고객 이름').sum()[['수익']].sort_values('수익',ascending=False)[:10]"
      ],
      "metadata": {
        "id": "xsVbWt4uU229",
        "colab": {
          "base_uri": "https://localhost:8080/",
          "height": 394
        },
        "outputId": "c9778be4-38a7-4fb5-bf9e-0279deaf3feb"
      },
      "execution_count": 89,
      "outputs": [
        {
          "output_type": "execute_result",
          "data": {
            "text/html": [
              "\n",
              "  <div id=\"df-2709f979-7be6-4864-8ab5-2fe1058461b6\">\n",
              "    <div class=\"colab-df-container\">\n",
              "      <div>\n",
              "<style scoped>\n",
              "    .dataframe tbody tr th:only-of-type {\n",
              "        vertical-align: middle;\n",
              "    }\n",
              "\n",
              "    .dataframe tbody tr th {\n",
              "        vertical-align: top;\n",
              "    }\n",
              "\n",
              "    .dataframe thead th {\n",
              "        text-align: right;\n",
              "    }\n",
              "</style>\n",
              "<table border=\"1\" class=\"dataframe\">\n",
              "  <thead>\n",
              "    <tr style=\"text-align: right;\">\n",
              "      <th></th>\n",
              "      <th>수익</th>\n",
              "    </tr>\n",
              "    <tr>\n",
              "      <th>고객 이름</th>\n",
              "      <th></th>\n",
              "    </tr>\n",
              "  </thead>\n",
              "  <tbody>\n",
              "    <tr>\n",
              "      <th>Cynthia Arntzen</th>\n",
              "      <td>4045.8780</td>\n",
              "    </tr>\n",
              "    <tr>\n",
              "      <th>Carol Adams</th>\n",
              "      <td>3220.0506</td>\n",
              "    </tr>\n",
              "    <tr>\n",
              "      <th>Bill Eplett</th>\n",
              "      <td>3112.9230</td>\n",
              "    </tr>\n",
              "    <tr>\n",
              "      <th>Carlos Daly</th>\n",
              "      <td>3107.5914</td>\n",
              "    </tr>\n",
              "    <tr>\n",
              "      <th>Denny Ordway</th>\n",
              "      <td>3056.2920</td>\n",
              "    </tr>\n",
              "    <tr>\n",
              "      <th>Cari Sayre</th>\n",
              "      <td>2995.5816</td>\n",
              "    </tr>\n",
              "    <tr>\n",
              "      <th>Jamie Frazer</th>\n",
              "      <td>2813.2965</td>\n",
              "    </tr>\n",
              "    <tr>\n",
              "      <th>Vivek Grady</th>\n",
              "      <td>2748.1878</td>\n",
              "    </tr>\n",
              "    <tr>\n",
              "      <th>Harold Dahlen</th>\n",
              "      <td>2700.2832</td>\n",
              "    </tr>\n",
              "    <tr>\n",
              "      <th>Nicole Hansen</th>\n",
              "      <td>2514.2283</td>\n",
              "    </tr>\n",
              "  </tbody>\n",
              "</table>\n",
              "</div>\n",
              "      <button class=\"colab-df-convert\" onclick=\"convertToInteractive('df-2709f979-7be6-4864-8ab5-2fe1058461b6')\"\n",
              "              title=\"Convert this dataframe to an interactive table.\"\n",
              "              style=\"display:none;\">\n",
              "        \n",
              "  <svg xmlns=\"http://www.w3.org/2000/svg\" height=\"24px\"viewBox=\"0 0 24 24\"\n",
              "       width=\"24px\">\n",
              "    <path d=\"M0 0h24v24H0V0z\" fill=\"none\"/>\n",
              "    <path d=\"M18.56 5.44l.94 2.06.94-2.06 2.06-.94-2.06-.94-.94-2.06-.94 2.06-2.06.94zm-11 1L8.5 8.5l.94-2.06 2.06-.94-2.06-.94L8.5 2.5l-.94 2.06-2.06.94zm10 10l.94 2.06.94-2.06 2.06-.94-2.06-.94-.94-2.06-.94 2.06-2.06.94z\"/><path d=\"M17.41 7.96l-1.37-1.37c-.4-.4-.92-.59-1.43-.59-.52 0-1.04.2-1.43.59L10.3 9.45l-7.72 7.72c-.78.78-.78 2.05 0 2.83L4 21.41c.39.39.9.59 1.41.59.51 0 1.02-.2 1.41-.59l7.78-7.78 2.81-2.81c.8-.78.8-2.07 0-2.86zM5.41 20L4 18.59l7.72-7.72 1.47 1.35L5.41 20z\"/>\n",
              "  </svg>\n",
              "      </button>\n",
              "      \n",
              "  <style>\n",
              "    .colab-df-container {\n",
              "      display:flex;\n",
              "      flex-wrap:wrap;\n",
              "      gap: 12px;\n",
              "    }\n",
              "\n",
              "    .colab-df-convert {\n",
              "      background-color: #E8F0FE;\n",
              "      border: none;\n",
              "      border-radius: 50%;\n",
              "      cursor: pointer;\n",
              "      display: none;\n",
              "      fill: #1967D2;\n",
              "      height: 32px;\n",
              "      padding: 0 0 0 0;\n",
              "      width: 32px;\n",
              "    }\n",
              "\n",
              "    .colab-df-convert:hover {\n",
              "      background-color: #E2EBFA;\n",
              "      box-shadow: 0px 1px 2px rgba(60, 64, 67, 0.3), 0px 1px 3px 1px rgba(60, 64, 67, 0.15);\n",
              "      fill: #174EA6;\n",
              "    }\n",
              "\n",
              "    [theme=dark] .colab-df-convert {\n",
              "      background-color: #3B4455;\n",
              "      fill: #D2E3FC;\n",
              "    }\n",
              "\n",
              "    [theme=dark] .colab-df-convert:hover {\n",
              "      background-color: #434B5C;\n",
              "      box-shadow: 0px 1px 3px 1px rgba(0, 0, 0, 0.15);\n",
              "      filter: drop-shadow(0px 1px 2px rgba(0, 0, 0, 0.3));\n",
              "      fill: #FFFFFF;\n",
              "    }\n",
              "  </style>\n",
              "\n",
              "      <script>\n",
              "        const buttonEl =\n",
              "          document.querySelector('#df-2709f979-7be6-4864-8ab5-2fe1058461b6 button.colab-df-convert');\n",
              "        buttonEl.style.display =\n",
              "          google.colab.kernel.accessAllowed ? 'block' : 'none';\n",
              "\n",
              "        async function convertToInteractive(key) {\n",
              "          const element = document.querySelector('#df-2709f979-7be6-4864-8ab5-2fe1058461b6');\n",
              "          const dataTable =\n",
              "            await google.colab.kernel.invokeFunction('convertToInteractive',\n",
              "                                                     [key], {});\n",
              "          if (!dataTable) return;\n",
              "\n",
              "          const docLinkHtml = 'Like what you see? Visit the ' +\n",
              "            '<a target=\"_blank\" href=https://colab.research.google.com/notebooks/data_table.ipynb>data table notebook</a>'\n",
              "            + ' to learn more about interactive tables.';\n",
              "          element.innerHTML = '';\n",
              "          dataTable['output_type'] = 'display_data';\n",
              "          await google.colab.output.renderOutput(dataTable, element);\n",
              "          const docLink = document.createElement('div');\n",
              "          docLink.innerHTML = docLinkHtml;\n",
              "          element.appendChild(docLink);\n",
              "        }\n",
              "      </script>\n",
              "    </div>\n",
              "  </div>\n",
              "  "
            ],
            "text/plain": [
              "                        수익\n",
              "고객 이름                     \n",
              "Cynthia Arntzen  4045.8780\n",
              "Carol Adams      3220.0506\n",
              "Bill Eplett      3112.9230\n",
              "Carlos Daly      3107.5914\n",
              "Denny Ordway     3056.2920\n",
              "Cari Sayre       2995.5816\n",
              "Jamie Frazer     2813.2965\n",
              "Vivek Grady      2748.1878\n",
              "Harold Dahlen    2700.2832\n",
              "Nicole Hansen    2514.2283"
            ]
          },
          "metadata": {},
          "execution_count": 89
        }
      ]
    },
    {
      "cell_type": "markdown",
      "source": [
        "## 스토어에서 구매한 횟수"
      ],
      "metadata": {
        "id": "U40cRP-OVmpn"
      }
    },
    {
      "cell_type": "code",
      "source": [
        "df.groupby('고객 이름').count()[['수익']].sort_values('수익',ascending=False)[:10]"
      ],
      "metadata": {
        "colab": {
          "base_uri": "https://localhost:8080/",
          "height": 394
        },
        "id": "1tpcDs7aLDyl",
        "outputId": "5e9495f9-5cd2-40bc-c129-71dcc7b81c28"
      },
      "execution_count": 88,
      "outputs": [
        {
          "output_type": "execute_result",
          "data": {
            "text/html": [
              "\n",
              "  <div id=\"df-e2bc3556-7eb3-442d-906a-3766c4191c96\">\n",
              "    <div class=\"colab-df-container\">\n",
              "      <div>\n",
              "<style scoped>\n",
              "    .dataframe tbody tr th:only-of-type {\n",
              "        vertical-align: middle;\n",
              "    }\n",
              "\n",
              "    .dataframe tbody tr th {\n",
              "        vertical-align: top;\n",
              "    }\n",
              "\n",
              "    .dataframe thead th {\n",
              "        text-align: right;\n",
              "    }\n",
              "</style>\n",
              "<table border=\"1\" class=\"dataframe\">\n",
              "  <thead>\n",
              "    <tr style=\"text-align: right;\">\n",
              "      <th></th>\n",
              "      <th>수익</th>\n",
              "    </tr>\n",
              "    <tr>\n",
              "      <th>고객 이름</th>\n",
              "      <th></th>\n",
              "    </tr>\n",
              "  </thead>\n",
              "  <tbody>\n",
              "    <tr>\n",
              "      <th>John Grady</th>\n",
              "      <td>40</td>\n",
              "    </tr>\n",
              "    <tr>\n",
              "      <th>Art Ferguson</th>\n",
              "      <td>36</td>\n",
              "    </tr>\n",
              "    <tr>\n",
              "      <th>Bart Watters</th>\n",
              "      <td>35</td>\n",
              "    </tr>\n",
              "    <tr>\n",
              "      <th>Nicole Hansen</th>\n",
              "      <td>35</td>\n",
              "    </tr>\n",
              "    <tr>\n",
              "      <th>Charles Sheldon</th>\n",
              "      <td>35</td>\n",
              "    </tr>\n",
              "    <tr>\n",
              "      <th>Bill Eplett</th>\n",
              "      <td>34</td>\n",
              "    </tr>\n",
              "    <tr>\n",
              "      <th>Bryan Mills</th>\n",
              "      <td>34</td>\n",
              "    </tr>\n",
              "    <tr>\n",
              "      <th>Maureen Gastineau</th>\n",
              "      <td>33</td>\n",
              "    </tr>\n",
              "    <tr>\n",
              "      <th>Valerie Takahito</th>\n",
              "      <td>32</td>\n",
              "    </tr>\n",
              "    <tr>\n",
              "      <th>Eric Murdock</th>\n",
              "      <td>32</td>\n",
              "    </tr>\n",
              "  </tbody>\n",
              "</table>\n",
              "</div>\n",
              "      <button class=\"colab-df-convert\" onclick=\"convertToInteractive('df-e2bc3556-7eb3-442d-906a-3766c4191c96')\"\n",
              "              title=\"Convert this dataframe to an interactive table.\"\n",
              "              style=\"display:none;\">\n",
              "        \n",
              "  <svg xmlns=\"http://www.w3.org/2000/svg\" height=\"24px\"viewBox=\"0 0 24 24\"\n",
              "       width=\"24px\">\n",
              "    <path d=\"M0 0h24v24H0V0z\" fill=\"none\"/>\n",
              "    <path d=\"M18.56 5.44l.94 2.06.94-2.06 2.06-.94-2.06-.94-.94-2.06-.94 2.06-2.06.94zm-11 1L8.5 8.5l.94-2.06 2.06-.94-2.06-.94L8.5 2.5l-.94 2.06-2.06.94zm10 10l.94 2.06.94-2.06 2.06-.94-2.06-.94-.94-2.06-.94 2.06-2.06.94z\"/><path d=\"M17.41 7.96l-1.37-1.37c-.4-.4-.92-.59-1.43-.59-.52 0-1.04.2-1.43.59L10.3 9.45l-7.72 7.72c-.78.78-.78 2.05 0 2.83L4 21.41c.39.39.9.59 1.41.59.51 0 1.02-.2 1.41-.59l7.78-7.78 2.81-2.81c.8-.78.8-2.07 0-2.86zM5.41 20L4 18.59l7.72-7.72 1.47 1.35L5.41 20z\"/>\n",
              "  </svg>\n",
              "      </button>\n",
              "      \n",
              "  <style>\n",
              "    .colab-df-container {\n",
              "      display:flex;\n",
              "      flex-wrap:wrap;\n",
              "      gap: 12px;\n",
              "    }\n",
              "\n",
              "    .colab-df-convert {\n",
              "      background-color: #E8F0FE;\n",
              "      border: none;\n",
              "      border-radius: 50%;\n",
              "      cursor: pointer;\n",
              "      display: none;\n",
              "      fill: #1967D2;\n",
              "      height: 32px;\n",
              "      padding: 0 0 0 0;\n",
              "      width: 32px;\n",
              "    }\n",
              "\n",
              "    .colab-df-convert:hover {\n",
              "      background-color: #E2EBFA;\n",
              "      box-shadow: 0px 1px 2px rgba(60, 64, 67, 0.3), 0px 1px 3px 1px rgba(60, 64, 67, 0.15);\n",
              "      fill: #174EA6;\n",
              "    }\n",
              "\n",
              "    [theme=dark] .colab-df-convert {\n",
              "      background-color: #3B4455;\n",
              "      fill: #D2E3FC;\n",
              "    }\n",
              "\n",
              "    [theme=dark] .colab-df-convert:hover {\n",
              "      background-color: #434B5C;\n",
              "      box-shadow: 0px 1px 3px 1px rgba(0, 0, 0, 0.15);\n",
              "      filter: drop-shadow(0px 1px 2px rgba(0, 0, 0, 0.3));\n",
              "      fill: #FFFFFF;\n",
              "    }\n",
              "  </style>\n",
              "\n",
              "      <script>\n",
              "        const buttonEl =\n",
              "          document.querySelector('#df-e2bc3556-7eb3-442d-906a-3766c4191c96 button.colab-df-convert');\n",
              "        buttonEl.style.display =\n",
              "          google.colab.kernel.accessAllowed ? 'block' : 'none';\n",
              "\n",
              "        async function convertToInteractive(key) {\n",
              "          const element = document.querySelector('#df-e2bc3556-7eb3-442d-906a-3766c4191c96');\n",
              "          const dataTable =\n",
              "            await google.colab.kernel.invokeFunction('convertToInteractive',\n",
              "                                                     [key], {});\n",
              "          if (!dataTable) return;\n",
              "\n",
              "          const docLinkHtml = 'Like what you see? Visit the ' +\n",
              "            '<a target=\"_blank\" href=https://colab.research.google.com/notebooks/data_table.ipynb>data table notebook</a>'\n",
              "            + ' to learn more about interactive tables.';\n",
              "          element.innerHTML = '';\n",
              "          dataTable['output_type'] = 'display_data';\n",
              "          await google.colab.output.renderOutput(dataTable, element);\n",
              "          const docLink = document.createElement('div');\n",
              "          docLink.innerHTML = docLinkHtml;\n",
              "          element.appendChild(docLink);\n",
              "        }\n",
              "      </script>\n",
              "    </div>\n",
              "  </div>\n",
              "  "
            ],
            "text/plain": [
              "                   수익\n",
              "고객 이름                \n",
              "John Grady         40\n",
              "Art Ferguson       36\n",
              "Bart Watters       35\n",
              "Nicole Hansen      35\n",
              "Charles Sheldon    35\n",
              "Bill Eplett        34\n",
              "Bryan Mills        34\n",
              "Maureen Gastineau  33\n",
              "Valerie Takahito   32\n",
              "Eric Murdock       32"
            ]
          },
          "metadata": {},
          "execution_count": 88
        }
      ]
    },
    {
      "cell_type": "markdown",
      "metadata": {
        "id": "izCTqXPeglWj"
      },
      "source": [
        "## 주문날짜와 배송날짜 차이"
      ]
    },
    {
      "cell_type": "code",
      "execution_count": 90,
      "metadata": {
        "id": "2hFTgdrwexTa"
      },
      "outputs": [],
      "source": [
        "df['order_delivery']=df['delivery_day']-df['order_day']"
      ]
    },
    {
      "cell_type": "code",
      "execution_count": 91,
      "metadata": {
        "colab": {
          "base_uri": "https://localhost:8080/"
        },
        "id": "2FnjrZUTgwsy",
        "outputId": "cae55181-8b04-422a-c87b-71c16f1b138b"
      },
      "outputs": [
        {
          "output_type": "execute_result",
          "data": {
            "text/plain": [
              "0.06183115338882283"
            ]
          },
          "metadata": {},
          "execution_count": 91
        }
      ],
      "source": [
        "df['order_delivery'].mean()"
      ]
    },
    {
      "cell_type": "markdown",
      "metadata": {
        "id": "UV89e1NHzBwX"
      },
      "source": [
        "잘못된 정보가 기입되어있음. 평균값이 1보다 작다는 것은 마이너스 값이 있다는것'"
      ]
    },
    {
      "cell_type": "code",
      "execution_count": 92,
      "metadata": {
        "colab": {
          "base_uri": "https://localhost:8080/"
        },
        "id": "xf3oEbxpgxuB",
        "outputId": "3926f922-1147-48c6-9b58-6904626e62fd"
      },
      "outputs": [
        {
          "output_type": "execute_result",
          "data": {
            "text/plain": [
              "6200   -30\n",
              "8688   -30\n",
              "8689   -30\n",
              "8795   -30\n",
              "3194   -29\n",
              "        ..\n",
              "7127     7\n",
              "7126     7\n",
              "2474     7\n",
              "5555     7\n",
              "3814     7\n",
              "Name: order_delivery, Length: 10933, dtype: int64"
            ]
          },
          "metadata": {},
          "execution_count": 92
        }
      ],
      "source": [
        "df['order_delivery'].sort_values()"
      ]
    },
    {
      "cell_type": "code",
      "execution_count": 93,
      "metadata": {
        "colab": {
          "base_uri": "https://localhost:8080/",
          "height": 433
        },
        "id": "gfSWfRXVzpDj",
        "outputId": "d582b369-8eb0-445e-c982-fecffa567a7b"
      },
      "outputs": [
        {
          "output_type": "execute_result",
          "data": {
            "text/html": [
              "\n",
              "  <div id=\"df-27116ebd-c3f7-474e-8f39-2807129cfb23\">\n",
              "    <div class=\"colab-df-container\">\n",
              "      <div>\n",
              "<style scoped>\n",
              "    .dataframe tbody tr th:only-of-type {\n",
              "        vertical-align: middle;\n",
              "    }\n",
              "\n",
              "    .dataframe tbody tr th {\n",
              "        vertical-align: top;\n",
              "    }\n",
              "\n",
              "    .dataframe thead th {\n",
              "        text-align: right;\n",
              "    }\n",
              "</style>\n",
              "<table border=\"1\" class=\"dataframe\">\n",
              "  <thead>\n",
              "    <tr style=\"text-align: right;\">\n",
              "      <th></th>\n",
              "      <th>행 ID</th>\n",
              "      <th>주문 ID</th>\n",
              "      <th>주문 날짜</th>\n",
              "      <th>배송 날짜</th>\n",
              "      <th>배송 형태</th>\n",
              "      <th>고객 ID</th>\n",
              "      <th>고객 이름</th>\n",
              "      <th>세그먼트</th>\n",
              "      <th>도시</th>\n",
              "      <th>시/도</th>\n",
              "      <th>국가/지역</th>\n",
              "      <th>지역</th>\n",
              "      <th>제품 ID</th>\n",
              "      <th>범주</th>\n",
              "      <th>하위 범주</th>\n",
              "      <th>제품 이름</th>\n",
              "      <th>매출</th>\n",
              "      <th>수량</th>\n",
              "      <th>할인율</th>\n",
              "      <th>수익</th>\n",
              "      <th>order_year</th>\n",
              "      <th>order_month</th>\n",
              "      <th>order_day</th>\n",
              "      <th>delivery_year</th>\n",
              "      <th>delivery_month</th>\n",
              "      <th>delivery_day</th>\n",
              "      <th>delivery_weekday</th>\n",
              "      <th>order_weekday</th>\n",
              "      <th>order_delivery</th>\n",
              "    </tr>\n",
              "  </thead>\n",
              "  <tbody>\n",
              "    <tr>\n",
              "      <th>0</th>\n",
              "      <td>1</td>\n",
              "      <td>IN-2020-27828</td>\n",
              "      <td>2020-08-27</td>\n",
              "      <td>2020-08-31</td>\n",
              "      <td>표준 등급</td>\n",
              "      <td>VT-21700</td>\n",
              "      <td>Valerie Takahito</td>\n",
              "      <td>홈 오피스</td>\n",
              "      <td>Quanzhou</td>\n",
              "      <td>Fujian</td>\n",
              "      <td>China</td>\n",
              "      <td>북아시아</td>\n",
              "      <td>OFF-PA-10000026</td>\n",
              "      <td>사무용품</td>\n",
              "      <td>용지</td>\n",
              "      <td>Eaton Cards &amp; Envelopes, 8.5 x 11</td>\n",
              "      <td>197.28</td>\n",
              "      <td>4</td>\n",
              "      <td>0.0</td>\n",
              "      <td>35.40</td>\n",
              "      <td>2020</td>\n",
              "      <td>8</td>\n",
              "      <td>27</td>\n",
              "      <td>2020</td>\n",
              "      <td>8</td>\n",
              "      <td>31</td>\n",
              "      <td>Mon</td>\n",
              "      <td>Thu</td>\n",
              "      <td>4</td>\n",
              "    </tr>\n",
              "    <tr>\n",
              "      <th>1</th>\n",
              "      <td>2</td>\n",
              "      <td>IN-2020-27828</td>\n",
              "      <td>2020-08-27</td>\n",
              "      <td>2020-08-31</td>\n",
              "      <td>표준 등급</td>\n",
              "      <td>VT-21700</td>\n",
              "      <td>Valerie Takahito</td>\n",
              "      <td>홈 오피스</td>\n",
              "      <td>Quanzhou</td>\n",
              "      <td>Fujian</td>\n",
              "      <td>China</td>\n",
              "      <td>북아시아</td>\n",
              "      <td>FUR-FU-10000944</td>\n",
              "      <td>가구</td>\n",
              "      <td>사무용 집기</td>\n",
              "      <td>Tenex Door Stop, Black</td>\n",
              "      <td>307.23</td>\n",
              "      <td>7</td>\n",
              "      <td>0.0</td>\n",
              "      <td>21.42</td>\n",
              "      <td>2020</td>\n",
              "      <td>8</td>\n",
              "      <td>27</td>\n",
              "      <td>2020</td>\n",
              "      <td>8</td>\n",
              "      <td>31</td>\n",
              "      <td>Mon</td>\n",
              "      <td>Thu</td>\n",
              "      <td>4</td>\n",
              "    </tr>\n",
              "    <tr>\n",
              "      <th>2</th>\n",
              "      <td>3</td>\n",
              "      <td>IN-2020-27828</td>\n",
              "      <td>2020-08-27</td>\n",
              "      <td>2020-08-31</td>\n",
              "      <td>표준 등급</td>\n",
              "      <td>VT-21700</td>\n",
              "      <td>Valerie Takahito</td>\n",
              "      <td>홈 오피스</td>\n",
              "      <td>Quanzhou</td>\n",
              "      <td>Fujian</td>\n",
              "      <td>China</td>\n",
              "      <td>북아시아</td>\n",
              "      <td>TEC-CO-10002526</td>\n",
              "      <td>기술</td>\n",
              "      <td>복사기</td>\n",
              "      <td>Sharp Wireless Fax, Digital</td>\n",
              "      <td>1422.24</td>\n",
              "      <td>4</td>\n",
              "      <td>0.0</td>\n",
              "      <td>526.20</td>\n",
              "      <td>2020</td>\n",
              "      <td>8</td>\n",
              "      <td>27</td>\n",
              "      <td>2020</td>\n",
              "      <td>8</td>\n",
              "      <td>31</td>\n",
              "      <td>Mon</td>\n",
              "      <td>Thu</td>\n",
              "      <td>4</td>\n",
              "    </tr>\n",
              "  </tbody>\n",
              "</table>\n",
              "</div>\n",
              "      <button class=\"colab-df-convert\" onclick=\"convertToInteractive('df-27116ebd-c3f7-474e-8f39-2807129cfb23')\"\n",
              "              title=\"Convert this dataframe to an interactive table.\"\n",
              "              style=\"display:none;\">\n",
              "        \n",
              "  <svg xmlns=\"http://www.w3.org/2000/svg\" height=\"24px\"viewBox=\"0 0 24 24\"\n",
              "       width=\"24px\">\n",
              "    <path d=\"M0 0h24v24H0V0z\" fill=\"none\"/>\n",
              "    <path d=\"M18.56 5.44l.94 2.06.94-2.06 2.06-.94-2.06-.94-.94-2.06-.94 2.06-2.06.94zm-11 1L8.5 8.5l.94-2.06 2.06-.94-2.06-.94L8.5 2.5l-.94 2.06-2.06.94zm10 10l.94 2.06.94-2.06 2.06-.94-2.06-.94-.94-2.06-.94 2.06-2.06.94z\"/><path d=\"M17.41 7.96l-1.37-1.37c-.4-.4-.92-.59-1.43-.59-.52 0-1.04.2-1.43.59L10.3 9.45l-7.72 7.72c-.78.78-.78 2.05 0 2.83L4 21.41c.39.39.9.59 1.41.59.51 0 1.02-.2 1.41-.59l7.78-7.78 2.81-2.81c.8-.78.8-2.07 0-2.86zM5.41 20L4 18.59l7.72-7.72 1.47 1.35L5.41 20z\"/>\n",
              "  </svg>\n",
              "      </button>\n",
              "      \n",
              "  <style>\n",
              "    .colab-df-container {\n",
              "      display:flex;\n",
              "      flex-wrap:wrap;\n",
              "      gap: 12px;\n",
              "    }\n",
              "\n",
              "    .colab-df-convert {\n",
              "      background-color: #E8F0FE;\n",
              "      border: none;\n",
              "      border-radius: 50%;\n",
              "      cursor: pointer;\n",
              "      display: none;\n",
              "      fill: #1967D2;\n",
              "      height: 32px;\n",
              "      padding: 0 0 0 0;\n",
              "      width: 32px;\n",
              "    }\n",
              "\n",
              "    .colab-df-convert:hover {\n",
              "      background-color: #E2EBFA;\n",
              "      box-shadow: 0px 1px 2px rgba(60, 64, 67, 0.3), 0px 1px 3px 1px rgba(60, 64, 67, 0.15);\n",
              "      fill: #174EA6;\n",
              "    }\n",
              "\n",
              "    [theme=dark] .colab-df-convert {\n",
              "      background-color: #3B4455;\n",
              "      fill: #D2E3FC;\n",
              "    }\n",
              "\n",
              "    [theme=dark] .colab-df-convert:hover {\n",
              "      background-color: #434B5C;\n",
              "      box-shadow: 0px 1px 3px 1px rgba(0, 0, 0, 0.15);\n",
              "      filter: drop-shadow(0px 1px 2px rgba(0, 0, 0, 0.3));\n",
              "      fill: #FFFFFF;\n",
              "    }\n",
              "  </style>\n",
              "\n",
              "      <script>\n",
              "        const buttonEl =\n",
              "          document.querySelector('#df-27116ebd-c3f7-474e-8f39-2807129cfb23 button.colab-df-convert');\n",
              "        buttonEl.style.display =\n",
              "          google.colab.kernel.accessAllowed ? 'block' : 'none';\n",
              "\n",
              "        async function convertToInteractive(key) {\n",
              "          const element = document.querySelector('#df-27116ebd-c3f7-474e-8f39-2807129cfb23');\n",
              "          const dataTable =\n",
              "            await google.colab.kernel.invokeFunction('convertToInteractive',\n",
              "                                                     [key], {});\n",
              "          if (!dataTable) return;\n",
              "\n",
              "          const docLinkHtml = 'Like what you see? Visit the ' +\n",
              "            '<a target=\"_blank\" href=https://colab.research.google.com/notebooks/data_table.ipynb>data table notebook</a>'\n",
              "            + ' to learn more about interactive tables.';\n",
              "          element.innerHTML = '';\n",
              "          dataTable['output_type'] = 'display_data';\n",
              "          await google.colab.output.renderOutput(dataTable, element);\n",
              "          const docLink = document.createElement('div');\n",
              "          docLink.innerHTML = docLinkHtml;\n",
              "          element.appendChild(docLink);\n",
              "        }\n",
              "      </script>\n",
              "    </div>\n",
              "  </div>\n",
              "  "
            ],
            "text/plain": [
              "   행 ID          주문 ID  ... order_weekday order_delivery\n",
              "0     1  IN-2020-27828  ...           Thu              4\n",
              "1     2  IN-2020-27828  ...           Thu              4\n",
              "2     3  IN-2020-27828  ...           Thu              4\n",
              "\n",
              "[3 rows x 29 columns]"
            ]
          },
          "metadata": {},
          "execution_count": 93
        }
      ],
      "source": [
        "df.head(3)"
      ]
    },
    {
      "cell_type": "markdown",
      "metadata": {
        "id": "hvOI3Tqpzlog"
      },
      "source": [
        "확인해보니 역시나 있었다"
      ]
    },
    {
      "cell_type": "markdown",
      "metadata": {
        "id": "wpDb98IPhtHc"
      },
      "source": [
        "## 수익,매출에 관한 "
      ]
    },
    {
      "cell_type": "code",
      "execution_count": 94,
      "metadata": {
        "colab": {
          "base_uri": "https://localhost:8080/"
        },
        "id": "Ej3a2ZS1g-BH",
        "outputId": "19cc7048-85ce-4cd5-b1e1-2c34cf672e66"
      },
      "outputs": [
        {
          "output_type": "execute_result",
          "data": {
            "text/plain": [
              "432054.3790000001"
            ]
          },
          "metadata": {},
          "execution_count": 94
        }
      ],
      "source": [
        "df['수익'].sum()"
      ]
    },
    {
      "cell_type": "code",
      "source": [
        "df['수익'].mean()"
      ],
      "metadata": {
        "colab": {
          "base_uri": "https://localhost:8080/"
        },
        "id": "tV30bG86FGGO",
        "outputId": "ee9fa809-535d-4df4-eba1-facd83653edd"
      },
      "execution_count": 95,
      "outputs": [
        {
          "output_type": "execute_result",
          "data": {
            "text/plain": [
              "39.518373639440235"
            ]
          },
          "metadata": {},
          "execution_count": 95
        }
      ]
    },
    {
      "cell_type": "code",
      "execution_count": 96,
      "metadata": {
        "colab": {
          "base_uri": "https://localhost:8080/"
        },
        "id": "NwI1iMXQhr1a",
        "outputId": "386cd9e9-1826-4efb-9638-76c6c7424eb8"
      },
      "outputs": [
        {
          "output_type": "execute_result",
          "data": {
            "text/plain": [
              "3566440.059"
            ]
          },
          "metadata": {},
          "execution_count": 96
        }
      ],
      "source": [
        "df['매출'].sum()"
      ]
    },
    {
      "cell_type": "code",
      "execution_count": 97,
      "metadata": {
        "colab": {
          "base_uri": "https://localhost:8080/"
        },
        "id": "NsztqVpPhvp-",
        "outputId": "804d19ad-b328-427b-9715-e0f800f0c0d9"
      },
      "outputs": [
        {
          "output_type": "execute_result",
          "data": {
            "text/plain": [
              "326.20873127229464"
            ]
          },
          "metadata": {},
          "execution_count": 97
        }
      ],
      "source": [
        "df['매출'].mean()"
      ]
    },
    {
      "cell_type": "markdown",
      "metadata": {
        "id": "t0A-EKn0kNgV"
      },
      "source": [
        "## 총 수량"
      ]
    },
    {
      "cell_type": "code",
      "execution_count": 98,
      "metadata": {
        "colab": {
          "base_uri": "https://localhost:8080/"
        },
        "id": "qg9c3j4okNBi",
        "outputId": "569c4ff6-5e51-4209-9741-6b596254ca6f"
      },
      "outputs": [
        {
          "output_type": "execute_result",
          "data": {
            "text/plain": [
              "41022"
            ]
          },
          "metadata": {},
          "execution_count": 98
        }
      ],
      "source": [
        "df['수량'].sum()"
      ]
    },
    {
      "cell_type": "code",
      "source": [
        "df['수량'].mean()"
      ],
      "metadata": {
        "colab": {
          "base_uri": "https://localhost:8080/"
        },
        "id": "8yBDLA1uFeR0",
        "outputId": "0946ff12-8385-4dbe-8261-7f9738396b69"
      },
      "execution_count": 99,
      "outputs": [
        {
          "output_type": "execute_result",
          "data": {
            "text/plain": [
              "3.752126589225281"
            ]
          },
          "metadata": {},
          "execution_count": 99
        }
      ]
    },
    {
      "cell_type": "markdown",
      "source": [
        "## 컬럼간의 상관관계\n",
        "\n"
      ],
      "metadata": {
        "id": "MnmuFVmSiY6j"
      }
    },
    {
      "cell_type": "code",
      "execution_count": 100,
      "metadata": {
        "id": "oEg5mi6my1ue"
      },
      "outputs": [],
      "source": [
        "heat_df=df.drop(['행 ID','주문 ID','제품 ID'],inplace=True,axis=1)"
      ]
    },
    {
      "cell_type": "code",
      "source": [
        "sns.heatmap(df.corr())"
      ],
      "metadata": {
        "colab": {
          "base_uri": "https://localhost:8080/",
          "height": 936
        },
        "id": "X4VJKlF82EmX",
        "outputId": "540fa553-e75b-420d-df29-c6dc5a13a56e"
      },
      "execution_count": 101,
      "outputs": [
        {
          "output_type": "stream",
          "name": "stderr",
          "text": [
            "/usr/local/lib/python3.7/dist-packages/matplotlib/backends/backend_agg.py:214: RuntimeWarning: Glyph 47588 missing from current font.\n",
            "  font.set_text(s, 0.0, flags=flags)\n",
            "/usr/local/lib/python3.7/dist-packages/matplotlib/backends/backend_agg.py:214: RuntimeWarning: Glyph 52636 missing from current font.\n",
            "  font.set_text(s, 0.0, flags=flags)\n",
            "/usr/local/lib/python3.7/dist-packages/matplotlib/backends/backend_agg.py:214: RuntimeWarning: Glyph 49688 missing from current font.\n",
            "  font.set_text(s, 0.0, flags=flags)\n",
            "/usr/local/lib/python3.7/dist-packages/matplotlib/backends/backend_agg.py:214: RuntimeWarning: Glyph 47049 missing from current font.\n",
            "  font.set_text(s, 0.0, flags=flags)\n",
            "/usr/local/lib/python3.7/dist-packages/matplotlib/backends/backend_agg.py:214: RuntimeWarning: Glyph 54624 missing from current font.\n",
            "  font.set_text(s, 0.0, flags=flags)\n",
            "/usr/local/lib/python3.7/dist-packages/matplotlib/backends/backend_agg.py:214: RuntimeWarning: Glyph 51064 missing from current font.\n",
            "  font.set_text(s, 0.0, flags=flags)\n",
            "/usr/local/lib/python3.7/dist-packages/matplotlib/backends/backend_agg.py:214: RuntimeWarning: Glyph 50984 missing from current font.\n",
            "  font.set_text(s, 0.0, flags=flags)\n",
            "/usr/local/lib/python3.7/dist-packages/matplotlib/backends/backend_agg.py:214: RuntimeWarning: Glyph 51061 missing from current font.\n",
            "  font.set_text(s, 0.0, flags=flags)\n",
            "/usr/local/lib/python3.7/dist-packages/matplotlib/backends/backend_agg.py:183: RuntimeWarning: Glyph 47588 missing from current font.\n",
            "  font.set_text(s, 0, flags=flags)\n",
            "/usr/local/lib/python3.7/dist-packages/matplotlib/backends/backend_agg.py:183: RuntimeWarning: Glyph 52636 missing from current font.\n",
            "  font.set_text(s, 0, flags=flags)\n",
            "/usr/local/lib/python3.7/dist-packages/matplotlib/backends/backend_agg.py:183: RuntimeWarning: Glyph 49688 missing from current font.\n",
            "  font.set_text(s, 0, flags=flags)\n",
            "/usr/local/lib/python3.7/dist-packages/matplotlib/backends/backend_agg.py:183: RuntimeWarning: Glyph 47049 missing from current font.\n",
            "  font.set_text(s, 0, flags=flags)\n",
            "/usr/local/lib/python3.7/dist-packages/matplotlib/backends/backend_agg.py:183: RuntimeWarning: Glyph 54624 missing from current font.\n",
            "  font.set_text(s, 0, flags=flags)\n",
            "/usr/local/lib/python3.7/dist-packages/matplotlib/backends/backend_agg.py:183: RuntimeWarning: Glyph 51064 missing from current font.\n",
            "  font.set_text(s, 0, flags=flags)\n",
            "/usr/local/lib/python3.7/dist-packages/matplotlib/backends/backend_agg.py:183: RuntimeWarning: Glyph 50984 missing from current font.\n",
            "  font.set_text(s, 0, flags=flags)\n",
            "/usr/local/lib/python3.7/dist-packages/matplotlib/backends/backend_agg.py:183: RuntimeWarning: Glyph 51061 missing from current font.\n",
            "  font.set_text(s, 0, flags=flags)\n"
          ]
        },
        {
          "output_type": "execute_result",
          "data": {
            "text/plain": [
              "<matplotlib.axes._subplots.AxesSubplot at 0x7f6b1da01350>"
            ]
          },
          "metadata": {},
          "execution_count": 101
        },
        {
          "output_type": "display_data",
          "data": {
            "image/png": "[encoded data removed]",
            "text/plain": [
              "<Figure size 432x288 with 2 Axes>"
            ]
          },
          "metadata": {
            "needs_background": "light"
          }
        }
      ]
    },
    {
      "cell_type": "code",
      "source": [
        "df.corr()"
      ],
      "metadata": {
        "colab": {
          "base_uri": "https://localhost:8080/",
          "height": 394
        },
        "id": "Fl6_M4Cd2NSn",
        "outputId": "f662047a-70b0-4b25-e1d8-3e19a31a82a2"
      },
      "execution_count": 102,
      "outputs": [
        {
          "output_type": "execute_result",
          "data": {
            "text/html": [
              "\n",
              "  <div id=\"df-2df989d8-a6cc-4c6c-9ea7-dce2c85e3846\">\n",
              "    <div class=\"colab-df-container\">\n",
              "      <div>\n",
              "<style scoped>\n",
              "    .dataframe tbody tr th:only-of-type {\n",
              "        vertical-align: middle;\n",
              "    }\n",
              "\n",
              "    .dataframe tbody tr th {\n",
              "        vertical-align: top;\n",
              "    }\n",
              "\n",
              "    .dataframe thead th {\n",
              "        text-align: right;\n",
              "    }\n",
              "</style>\n",
              "<table border=\"1\" class=\"dataframe\">\n",
              "  <thead>\n",
              "    <tr style=\"text-align: right;\">\n",
              "      <th></th>\n",
              "      <th>매출</th>\n",
              "      <th>수량</th>\n",
              "      <th>할인율</th>\n",
              "      <th>수익</th>\n",
              "      <th>order_year</th>\n",
              "      <th>order_month</th>\n",
              "      <th>order_day</th>\n",
              "      <th>delivery_year</th>\n",
              "      <th>delivery_month</th>\n",
              "      <th>delivery_day</th>\n",
              "      <th>order_delivery</th>\n",
              "    </tr>\n",
              "  </thead>\n",
              "  <tbody>\n",
              "    <tr>\n",
              "      <th>매출</th>\n",
              "      <td>1.000000</td>\n",
              "      <td>0.352296</td>\n",
              "      <td>-0.134551</td>\n",
              "      <td>0.525128</td>\n",
              "      <td>-0.005446</td>\n",
              "      <td>0.005453</td>\n",
              "      <td>-0.010500</td>\n",
              "      <td>-0.006678</td>\n",
              "      <td>0.009544</td>\n",
              "      <td>0.001440</td>\n",
              "      <td>0.010459</td>\n",
              "    </tr>\n",
              "    <tr>\n",
              "      <th>수량</th>\n",
              "      <td>0.352296</td>\n",
              "      <td>1.000000</td>\n",
              "      <td>-0.008737</td>\n",
              "      <td>0.148291</td>\n",
              "      <td>0.009182</td>\n",
              "      <td>-0.000435</td>\n",
              "      <td>-0.009321</td>\n",
              "      <td>0.007690</td>\n",
              "      <td>0.005167</td>\n",
              "      <td>-0.006131</td>\n",
              "      <td>0.002765</td>\n",
              "    </tr>\n",
              "    <tr>\n",
              "      <th>할인율</th>\n",
              "      <td>-0.134551</td>\n",
              "      <td>-0.008737</td>\n",
              "      <td>1.000000</td>\n",
              "      <td>-0.361027</td>\n",
              "      <td>0.020432</td>\n",
              "      <td>0.000518</td>\n",
              "      <td>-0.011295</td>\n",
              "      <td>0.021201</td>\n",
              "      <td>-0.003880</td>\n",
              "      <td>-0.000689</td>\n",
              "      <td>0.009282</td>\n",
              "    </tr>\n",
              "    <tr>\n",
              "      <th>수익</th>\n",
              "      <td>0.525128</td>\n",
              "      <td>0.148291</td>\n",
              "      <td>-0.361027</td>\n",
              "      <td>1.000000</td>\n",
              "      <td>-0.008974</td>\n",
              "      <td>0.012996</td>\n",
              "      <td>-0.008060</td>\n",
              "      <td>-0.010345</td>\n",
              "      <td>0.018345</td>\n",
              "      <td>-0.004472</td>\n",
              "      <td>0.003120</td>\n",
              "    </tr>\n",
              "    <tr>\n",
              "      <th>order_year</th>\n",
              "      <td>-0.005446</td>\n",
              "      <td>0.009182</td>\n",
              "      <td>0.020432</td>\n",
              "      <td>-0.008974</td>\n",
              "      <td>1.000000</td>\n",
              "      <td>-0.040035</td>\n",
              "      <td>0.013771</td>\n",
              "      <td>0.993992</td>\n",
              "      <td>-0.041996</td>\n",
              "      <td>0.022885</td>\n",
              "      <td>0.008084</td>\n",
              "    </tr>\n",
              "    <tr>\n",
              "      <th>order_month</th>\n",
              "      <td>0.005453</td>\n",
              "      <td>-0.000435</td>\n",
              "      <td>0.000518</td>\n",
              "      <td>0.012996</td>\n",
              "      <td>-0.040035</td>\n",
              "      <td>1.000000</td>\n",
              "      <td>0.011500</td>\n",
              "      <td>-0.020997</td>\n",
              "      <td>0.913983</td>\n",
              "      <td>0.015779</td>\n",
              "      <td>0.003819</td>\n",
              "    </tr>\n",
              "    <tr>\n",
              "      <th>order_day</th>\n",
              "      <td>-0.010500</td>\n",
              "      <td>-0.009321</td>\n",
              "      <td>-0.011295</td>\n",
              "      <td>-0.008060</td>\n",
              "      <td>0.013771</td>\n",
              "      <td>0.011500</td>\n",
              "      <td>1.000000</td>\n",
              "      <td>0.034237</td>\n",
              "      <td>-0.014501</td>\n",
              "      <td>0.350997</td>\n",
              "      <td>-0.566541</td>\n",
              "    </tr>\n",
              "    <tr>\n",
              "      <th>delivery_year</th>\n",
              "      <td>-0.006678</td>\n",
              "      <td>0.007690</td>\n",
              "      <td>0.021201</td>\n",
              "      <td>-0.010345</td>\n",
              "      <td>0.993992</td>\n",
              "      <td>-0.020997</td>\n",
              "      <td>0.034237</td>\n",
              "      <td>1.000000</td>\n",
              "      <td>-0.067125</td>\n",
              "      <td>0.002626</td>\n",
              "      <td>-0.027661</td>\n",
              "    </tr>\n",
              "    <tr>\n",
              "      <th>delivery_month</th>\n",
              "      <td>0.009544</td>\n",
              "      <td>0.005167</td>\n",
              "      <td>-0.003880</td>\n",
              "      <td>0.018345</td>\n",
              "      <td>-0.041996</td>\n",
              "      <td>0.913983</td>\n",
              "      <td>-0.014501</td>\n",
              "      <td>-0.067125</td>\n",
              "      <td>1.000000</td>\n",
              "      <td>0.039283</td>\n",
              "      <td>0.047264</td>\n",
              "    </tr>\n",
              "    <tr>\n",
              "      <th>delivery_day</th>\n",
              "      <td>0.001440</td>\n",
              "      <td>-0.006131</td>\n",
              "      <td>-0.000689</td>\n",
              "      <td>-0.004472</td>\n",
              "      <td>0.022885</td>\n",
              "      <td>0.015779</td>\n",
              "      <td>0.350997</td>\n",
              "      <td>0.002626</td>\n",
              "      <td>0.039283</td>\n",
              "      <td>1.000000</td>\n",
              "      <td>0.572752</td>\n",
              "    </tr>\n",
              "    <tr>\n",
              "      <th>order_delivery</th>\n",
              "      <td>0.010459</td>\n",
              "      <td>0.002765</td>\n",
              "      <td>0.009282</td>\n",
              "      <td>0.003120</td>\n",
              "      <td>0.008084</td>\n",
              "      <td>0.003819</td>\n",
              "      <td>-0.566541</td>\n",
              "      <td>-0.027661</td>\n",
              "      <td>0.047264</td>\n",
              "      <td>0.572752</td>\n",
              "      <td>1.000000</td>\n",
              "    </tr>\n",
              "  </tbody>\n",
              "</table>\n",
              "</div>\n",
              "      <button class=\"colab-df-convert\" onclick=\"convertToInteractive('df-2df989d8-a6cc-4c6c-9ea7-dce2c85e3846')\"\n",
              "              title=\"Convert this dataframe to an interactive table.\"\n",
              "              style=\"display:none;\">\n",
              "        \n",
              "  <svg xmlns=\"http://www.w3.org/2000/svg\" height=\"24px\"viewBox=\"0 0 24 24\"\n",
              "       width=\"24px\">\n",
              "    <path d=\"M0 0h24v24H0V0z\" fill=\"none\"/>\n",
              "    <path d=\"M18.56 5.44l.94 2.06.94-2.06 2.06-.94-2.06-.94-.94-2.06-.94 2.06-2.06.94zm-11 1L8.5 8.5l.94-2.06 2.06-.94-2.06-.94L8.5 2.5l-.94 2.06-2.06.94zm10 10l.94 2.06.94-2.06 2.06-.94-2.06-.94-.94-2.06-.94 2.06-2.06.94z\"/><path d=\"M17.41 7.96l-1.37-1.37c-.4-.4-.92-.59-1.43-.59-.52 0-1.04.2-1.43.59L10.3 9.45l-7.72 7.72c-.78.78-.78 2.05 0 2.83L4 21.41c.39.39.9.59 1.41.59.51 0 1.02-.2 1.41-.59l7.78-7.78 2.81-2.81c.8-.78.8-2.07 0-2.86zM5.41 20L4 18.59l7.72-7.72 1.47 1.35L5.41 20z\"/>\n",
              "  </svg>\n",
              "      </button>\n",
              "      \n",
              "  <style>\n",
              "    .colab-df-container {\n",
              "      display:flex;\n",
              "      flex-wrap:wrap;\n",
              "      gap: 12px;\n",
              "    }\n",
              "\n",
              "    .colab-df-convert {\n",
              "      background-color: #E8F0FE;\n",
              "      border: none;\n",
              "      border-radius: 50%;\n",
              "      cursor: pointer;\n",
              "      display: none;\n",
              "      fill: #1967D2;\n",
              "      height: 32px;\n",
              "      padding: 0 0 0 0;\n",
              "      width: 32px;\n",
              "    }\n",
              "\n",
              "    .colab-df-convert:hover {\n",
              "      background-color: #E2EBFA;\n",
              "      box-shadow: 0px 1px 2px rgba(60, 64, 67, 0.3), 0px 1px 3px 1px rgba(60, 64, 67, 0.15);\n",
              "      fill: #174EA6;\n",
              "    }\n",
              "\n",
              "    [theme=dark] .colab-df-convert {\n",
              "      background-color: #3B4455;\n",
              "      fill: #D2E3FC;\n",
              "    }\n",
              "\n",
              "    [theme=dark] .colab-df-convert:hover {\n",
              "      background-color: #434B5C;\n",
              "      box-shadow: 0px 1px 3px 1px rgba(0, 0, 0, 0.15);\n",
              "      filter: drop-shadow(0px 1px 2px rgba(0, 0, 0, 0.3));\n",
              "      fill: #FFFFFF;\n",
              "    }\n",
              "  </style>\n",
              "\n",
              "      <script>\n",
              "        const buttonEl =\n",
              "          document.querySelector('#df-2df989d8-a6cc-4c6c-9ea7-dce2c85e3846 button.colab-df-convert');\n",
              "        buttonEl.style.display =\n",
              "          google.colab.kernel.accessAllowed ? 'block' : 'none';\n",
              "\n",
              "        async function convertToInteractive(key) {\n",
              "          const element = document.querySelector('#df-2df989d8-a6cc-4c6c-9ea7-dce2c85e3846');\n",
              "          const dataTable =\n",
              "            await google.colab.kernel.invokeFunction('convertToInteractive',\n",
              "                                                     [key], {});\n",
              "          if (!dataTable) return;\n",
              "\n",
              "          const docLinkHtml = 'Like what you see? Visit the ' +\n",
              "            '<a target=\"_blank\" href=https://colab.research.google.com/notebooks/data_table.ipynb>data table notebook</a>'\n",
              "            + ' to learn more about interactive tables.';\n",
              "          element.innerHTML = '';\n",
              "          dataTable['output_type'] = 'display_data';\n",
              "          await google.colab.output.renderOutput(dataTable, element);\n",
              "          const docLink = document.createElement('div');\n",
              "          docLink.innerHTML = docLinkHtml;\n",
              "          element.appendChild(docLink);\n",
              "        }\n",
              "      </script>\n",
              "    </div>\n",
              "  </div>\n",
              "  "
            ],
            "text/plain": [
              "                      매출        수량  ...  delivery_day  order_delivery\n",
              "매출              1.000000  0.352296  ...      0.001440        0.010459\n",
              "수량              0.352296  1.000000  ...     -0.006131        0.002765\n",
              "할인율            -0.134551 -0.008737  ...     -0.000689        0.009282\n",
              "수익              0.525128  0.148291  ...     -0.004472        0.003120\n",
              "order_year     -0.005446  0.009182  ...      0.022885        0.008084\n",
              "order_month     0.005453 -0.000435  ...      0.015779        0.003819\n",
              "order_day      -0.010500 -0.009321  ...      0.350997       -0.566541\n",
              "delivery_year  -0.006678  0.007690  ...      0.002626       -0.027661\n",
              "delivery_month  0.009544  0.005167  ...      0.039283        0.047264\n",
              "delivery_day    0.001440 -0.006131  ...      1.000000        0.572752\n",
              "order_delivery  0.010459  0.002765  ...      0.572752        1.000000\n",
              "\n",
              "[11 rows x 11 columns]"
            ]
          },
          "metadata": {},
          "execution_count": 102
        }
      ]
    },
    {
      "cell_type": "code",
      "source": [
        "df.head()"
      ],
      "metadata": {
        "id": "TqS2LKRZ25Hp",
        "colab": {
          "base_uri": "https://localhost:8080/",
          "height": 617
        },
        "outputId": "f81865a8-533d-45f4-d036-b7d44a43fb4a"
      },
      "execution_count": 103,
      "outputs": [
        {
          "output_type": "execute_result",
          "data": {
            "text/html": [
              "\n",
              "  <div id=\"df-def35509-8fbb-43bc-bf5a-a78fa84d21e4\">\n",
              "    <div class=\"colab-df-container\">\n",
              "      <div>\n",
              "<style scoped>\n",
              "    .dataframe tbody tr th:only-of-type {\n",
              "        vertical-align: middle;\n",
              "    }\n",
              "\n",
              "    .dataframe tbody tr th {\n",
              "        vertical-align: top;\n",
              "    }\n",
              "\n",
              "    .dataframe thead th {\n",
              "        text-align: right;\n",
              "    }\n",
              "</style>\n",
              "<table border=\"1\" class=\"dataframe\">\n",
              "  <thead>\n",
              "    <tr style=\"text-align: right;\">\n",
              "      <th></th>\n",
              "      <th>주문 날짜</th>\n",
              "      <th>배송 날짜</th>\n",
              "      <th>배송 형태</th>\n",
              "      <th>고객 ID</th>\n",
              "      <th>고객 이름</th>\n",
              "      <th>세그먼트</th>\n",
              "      <th>도시</th>\n",
              "      <th>시/도</th>\n",
              "      <th>국가/지역</th>\n",
              "      <th>지역</th>\n",
              "      <th>범주</th>\n",
              "      <th>하위 범주</th>\n",
              "      <th>제품 이름</th>\n",
              "      <th>매출</th>\n",
              "      <th>수량</th>\n",
              "      <th>할인율</th>\n",
              "      <th>수익</th>\n",
              "      <th>order_year</th>\n",
              "      <th>order_month</th>\n",
              "      <th>order_day</th>\n",
              "      <th>delivery_year</th>\n",
              "      <th>delivery_month</th>\n",
              "      <th>delivery_day</th>\n",
              "      <th>delivery_weekday</th>\n",
              "      <th>order_weekday</th>\n",
              "      <th>order_delivery</th>\n",
              "    </tr>\n",
              "  </thead>\n",
              "  <tbody>\n",
              "    <tr>\n",
              "      <th>0</th>\n",
              "      <td>2020-08-27</td>\n",
              "      <td>2020-08-31</td>\n",
              "      <td>표준 등급</td>\n",
              "      <td>VT-21700</td>\n",
              "      <td>Valerie Takahito</td>\n",
              "      <td>홈 오피스</td>\n",
              "      <td>Quanzhou</td>\n",
              "      <td>Fujian</td>\n",
              "      <td>China</td>\n",
              "      <td>북아시아</td>\n",
              "      <td>사무용품</td>\n",
              "      <td>용지</td>\n",
              "      <td>Eaton Cards &amp; Envelopes, 8.5 x 11</td>\n",
              "      <td>197.280</td>\n",
              "      <td>4</td>\n",
              "      <td>0.00</td>\n",
              "      <td>35.400</td>\n",
              "      <td>2020</td>\n",
              "      <td>8</td>\n",
              "      <td>27</td>\n",
              "      <td>2020</td>\n",
              "      <td>8</td>\n",
              "      <td>31</td>\n",
              "      <td>Mon</td>\n",
              "      <td>Thu</td>\n",
              "      <td>4</td>\n",
              "    </tr>\n",
              "    <tr>\n",
              "      <th>1</th>\n",
              "      <td>2020-08-27</td>\n",
              "      <td>2020-08-31</td>\n",
              "      <td>표준 등급</td>\n",
              "      <td>VT-21700</td>\n",
              "      <td>Valerie Takahito</td>\n",
              "      <td>홈 오피스</td>\n",
              "      <td>Quanzhou</td>\n",
              "      <td>Fujian</td>\n",
              "      <td>China</td>\n",
              "      <td>북아시아</td>\n",
              "      <td>가구</td>\n",
              "      <td>사무용 집기</td>\n",
              "      <td>Tenex Door Stop, Black</td>\n",
              "      <td>307.230</td>\n",
              "      <td>7</td>\n",
              "      <td>0.00</td>\n",
              "      <td>21.420</td>\n",
              "      <td>2020</td>\n",
              "      <td>8</td>\n",
              "      <td>27</td>\n",
              "      <td>2020</td>\n",
              "      <td>8</td>\n",
              "      <td>31</td>\n",
              "      <td>Mon</td>\n",
              "      <td>Thu</td>\n",
              "      <td>4</td>\n",
              "    </tr>\n",
              "    <tr>\n",
              "      <th>2</th>\n",
              "      <td>2020-08-27</td>\n",
              "      <td>2020-08-31</td>\n",
              "      <td>표준 등급</td>\n",
              "      <td>VT-21700</td>\n",
              "      <td>Valerie Takahito</td>\n",
              "      <td>홈 오피스</td>\n",
              "      <td>Quanzhou</td>\n",
              "      <td>Fujian</td>\n",
              "      <td>China</td>\n",
              "      <td>북아시아</td>\n",
              "      <td>기술</td>\n",
              "      <td>복사기</td>\n",
              "      <td>Sharp Wireless Fax, Digital</td>\n",
              "      <td>1422.240</td>\n",
              "      <td>4</td>\n",
              "      <td>0.00</td>\n",
              "      <td>526.200</td>\n",
              "      <td>2020</td>\n",
              "      <td>8</td>\n",
              "      <td>27</td>\n",
              "      <td>2020</td>\n",
              "      <td>8</td>\n",
              "      <td>31</td>\n",
              "      <td>Mon</td>\n",
              "      <td>Thu</td>\n",
              "      <td>4</td>\n",
              "    </tr>\n",
              "    <tr>\n",
              "      <th>3</th>\n",
              "      <td>2020-08-27</td>\n",
              "      <td>2020-08-31</td>\n",
              "      <td>표준 등급</td>\n",
              "      <td>VT-21700</td>\n",
              "      <td>Valerie Takahito</td>\n",
              "      <td>홈 오피스</td>\n",
              "      <td>Quanzhou</td>\n",
              "      <td>Fujian</td>\n",
              "      <td>China</td>\n",
              "      <td>북아시아</td>\n",
              "      <td>기술</td>\n",
              "      <td>액세서리</td>\n",
              "      <td>Memorex Keyboard, Erganomic</td>\n",
              "      <td>207.450</td>\n",
              "      <td>3</td>\n",
              "      <td>0.00</td>\n",
              "      <td>78.750</td>\n",
              "      <td>2020</td>\n",
              "      <td>8</td>\n",
              "      <td>27</td>\n",
              "      <td>2020</td>\n",
              "      <td>8</td>\n",
              "      <td>31</td>\n",
              "      <td>Mon</td>\n",
              "      <td>Thu</td>\n",
              "      <td>4</td>\n",
              "    </tr>\n",
              "    <tr>\n",
              "      <th>4</th>\n",
              "      <td>2021-06-24</td>\n",
              "      <td>2021-06-30</td>\n",
              "      <td>표준 등급</td>\n",
              "      <td>SO-20335</td>\n",
              "      <td>Sean O'Donnell</td>\n",
              "      <td>일반 소비자</td>\n",
              "      <td>Marikina</td>\n",
              "      <td>Metro Manila</td>\n",
              "      <td>Philippines</td>\n",
              "      <td>동남아시아</td>\n",
              "      <td>사무용품</td>\n",
              "      <td>가전 제품</td>\n",
              "      <td>KitchenAid Coffee Grinder, Silver</td>\n",
              "      <td>121.074</td>\n",
              "      <td>2</td>\n",
              "      <td>0.15</td>\n",
              "      <td>37.014</td>\n",
              "      <td>2021</td>\n",
              "      <td>6</td>\n",
              "      <td>24</td>\n",
              "      <td>2021</td>\n",
              "      <td>6</td>\n",
              "      <td>30</td>\n",
              "      <td>Wed</td>\n",
              "      <td>Thu</td>\n",
              "      <td>6</td>\n",
              "    </tr>\n",
              "  </tbody>\n",
              "</table>\n",
              "</div>\n",
              "      <button class=\"colab-df-convert\" onclick=\"convertToInteractive('df-def35509-8fbb-43bc-bf5a-a78fa84d21e4')\"\n",
              "              title=\"Convert this dataframe to an interactive table.\"\n",
              "              style=\"display:none;\">\n",
              "        \n",
              "  <svg xmlns=\"http://www.w3.org/2000/svg\" height=\"24px\"viewBox=\"0 0 24 24\"\n",
              "       width=\"24px\">\n",
              "    <path d=\"M0 0h24v24H0V0z\" fill=\"none\"/>\n",
              "    <path d=\"M18.56 5.44l.94 2.06.94-2.06 2.06-.94-2.06-.94-.94-2.06-.94 2.06-2.06.94zm-11 1L8.5 8.5l.94-2.06 2.06-.94-2.06-.94L8.5 2.5l-.94 2.06-2.06.94zm10 10l.94 2.06.94-2.06 2.06-.94-2.06-.94-.94-2.06-.94 2.06-2.06.94z\"/><path d=\"M17.41 7.96l-1.37-1.37c-.4-.4-.92-.59-1.43-.59-.52 0-1.04.2-1.43.59L10.3 9.45l-7.72 7.72c-.78.78-.78 2.05 0 2.83L4 21.41c.39.39.9.59 1.41.59.51 0 1.02-.2 1.41-.59l7.78-7.78 2.81-2.81c.8-.78.8-2.07 0-2.86zM5.41 20L4 18.59l7.72-7.72 1.47 1.35L5.41 20z\"/>\n",
              "  </svg>\n",
              "      </button>\n",
              "      \n",
              "  <style>\n",
              "    .colab-df-container {\n",
              "      display:flex;\n",
              "      flex-wrap:wrap;\n",
              "      gap: 12px;\n",
              "    }\n",
              "\n",
              "    .colab-df-convert {\n",
              "      background-color: #E8F0FE;\n",
              "      border: none;\n",
              "      border-radius: 50%;\n",
              "      cursor: pointer;\n",
              "      display: none;\n",
              "      fill: #1967D2;\n",
              "      height: 32px;\n",
              "      padding: 0 0 0 0;\n",
              "      width: 32px;\n",
              "    }\n",
              "\n",
              "    .colab-df-convert:hover {\n",
              "      background-color: #E2EBFA;\n",
              "      box-shadow: 0px 1px 2px rgba(60, 64, 67, 0.3), 0px 1px 3px 1px rgba(60, 64, 67, 0.15);\n",
              "      fill: #174EA6;\n",
              "    }\n",
              "\n",
              "    [theme=dark] .colab-df-convert {\n",
              "      background-color: #3B4455;\n",
              "      fill: #D2E3FC;\n",
              "    }\n",
              "\n",
              "    [theme=dark] .colab-df-convert:hover {\n",
              "      background-color: #434B5C;\n",
              "      box-shadow: 0px 1px 3px 1px rgba(0, 0, 0, 0.15);\n",
              "      filter: drop-shadow(0px 1px 2px rgba(0, 0, 0, 0.3));\n",
              "      fill: #FFFFFF;\n",
              "    }\n",
              "  </style>\n",
              "\n",
              "      <script>\n",
              "        const buttonEl =\n",
              "          document.querySelector('#df-def35509-8fbb-43bc-bf5a-a78fa84d21e4 button.colab-df-convert');\n",
              "        buttonEl.style.display =\n",
              "          google.colab.kernel.accessAllowed ? 'block' : 'none';\n",
              "\n",
              "        async function convertToInteractive(key) {\n",
              "          const element = document.querySelector('#df-def35509-8fbb-43bc-bf5a-a78fa84d21e4');\n",
              "          const dataTable =\n",
              "            await google.colab.kernel.invokeFunction('convertToInteractive',\n",
              "                                                     [key], {});\n",
              "          if (!dataTable) return;\n",
              "\n",
              "          const docLinkHtml = 'Like what you see? Visit the ' +\n",
              "            '<a target=\"_blank\" href=https://colab.research.google.com/notebooks/data_table.ipynb>data table notebook</a>'\n",
              "            + ' to learn more about interactive tables.';\n",
              "          element.innerHTML = '';\n",
              "          dataTable['output_type'] = 'display_data';\n",
              "          await google.colab.output.renderOutput(dataTable, element);\n",
              "          const docLink = document.createElement('div');\n",
              "          docLink.innerHTML = docLinkHtml;\n",
              "          element.appendChild(docLink);\n",
              "        }\n",
              "      </script>\n",
              "    </div>\n",
              "  </div>\n",
              "  "
            ],
            "text/plain": [
              "       주문 날짜      배송 날짜  배송 형태  ... delivery_weekday order_weekday order_delivery\n",
              "0 2020-08-27 2020-08-31  표준 등급  ...              Mon           Thu              4\n",
              "1 2020-08-27 2020-08-31  표준 등급  ...              Mon           Thu              4\n",
              "2 2020-08-27 2020-08-31  표준 등급  ...              Mon           Thu              4\n",
              "3 2020-08-27 2020-08-31  표준 등급  ...              Mon           Thu              4\n",
              "4 2021-06-24 2021-06-30  표준 등급  ...              Wed           Thu              6\n",
              "\n",
              "[5 rows x 26 columns]"
            ]
          },
          "metadata": {},
          "execution_count": 103
        }
      ]
    },
    {
      "cell_type": "code",
      "source": [
        "daily=df.groupby('주문 날짜').sum().sort_index()"
      ],
      "metadata": {
        "id": "oP7feNEkWrLi"
      },
      "execution_count": 104,
      "outputs": []
    },
    {
      "cell_type": "code",
      "source": [
        "daily.head()"
      ],
      "metadata": {
        "colab": {
          "base_uri": "https://localhost:8080/",
          "height": 238
        },
        "id": "uBOofoJSXN0Y",
        "outputId": "36ac44fa-f27a-4a51-b1a6-30dbda14bd84"
      },
      "execution_count": 105,
      "outputs": [
        {
          "output_type": "execute_result",
          "data": {
            "text/html": [
              "\n",
              "  <div id=\"df-22fc094e-9ed7-4e34-b166-b52fbc976706\">\n",
              "    <div class=\"colab-df-container\">\n",
              "      <div>\n",
              "<style scoped>\n",
              "    .dataframe tbody tr th:only-of-type {\n",
              "        vertical-align: middle;\n",
              "    }\n",
              "\n",
              "    .dataframe tbody tr th {\n",
              "        vertical-align: top;\n",
              "    }\n",
              "\n",
              "    .dataframe thead th {\n",
              "        text-align: right;\n",
              "    }\n",
              "</style>\n",
              "<table border=\"1\" class=\"dataframe\">\n",
              "  <thead>\n",
              "    <tr style=\"text-align: right;\">\n",
              "      <th></th>\n",
              "      <th>매출</th>\n",
              "      <th>수량</th>\n",
              "      <th>할인율</th>\n",
              "      <th>수익</th>\n",
              "      <th>order_year</th>\n",
              "      <th>order_month</th>\n",
              "      <th>order_day</th>\n",
              "      <th>delivery_year</th>\n",
              "      <th>delivery_month</th>\n",
              "      <th>delivery_day</th>\n",
              "      <th>order_delivery</th>\n",
              "    </tr>\n",
              "    <tr>\n",
              "      <th>주문 날짜</th>\n",
              "      <th></th>\n",
              "      <th></th>\n",
              "      <th></th>\n",
              "      <th></th>\n",
              "      <th></th>\n",
              "      <th></th>\n",
              "      <th></th>\n",
              "      <th></th>\n",
              "      <th></th>\n",
              "      <th></th>\n",
              "      <th></th>\n",
              "    </tr>\n",
              "  </thead>\n",
              "  <tbody>\n",
              "    <tr>\n",
              "      <th>2018-01-01</th>\n",
              "      <td>289.2780</td>\n",
              "      <td>10</td>\n",
              "      <td>0.30</td>\n",
              "      <td>89.1480</td>\n",
              "      <td>6054</td>\n",
              "      <td>3</td>\n",
              "      <td>3</td>\n",
              "      <td>6054</td>\n",
              "      <td>3</td>\n",
              "      <td>24</td>\n",
              "      <td>21</td>\n",
              "    </tr>\n",
              "    <tr>\n",
              "      <th>2018-01-03</th>\n",
              "      <td>2404.8672</td>\n",
              "      <td>22</td>\n",
              "      <td>3.72</td>\n",
              "      <td>-511.4028</td>\n",
              "      <td>22198</td>\n",
              "      <td>11</td>\n",
              "      <td>33</td>\n",
              "      <td>22198</td>\n",
              "      <td>11</td>\n",
              "      <td>80</td>\n",
              "      <td>47</td>\n",
              "    </tr>\n",
              "    <tr>\n",
              "      <th>2018-01-04</th>\n",
              "      <td>27.3600</td>\n",
              "      <td>3</td>\n",
              "      <td>0.00</td>\n",
              "      <td>13.6800</td>\n",
              "      <td>2018</td>\n",
              "      <td>1</td>\n",
              "      <td>4</td>\n",
              "      <td>2018</td>\n",
              "      <td>1</td>\n",
              "      <td>8</td>\n",
              "      <td>4</td>\n",
              "    </tr>\n",
              "    <tr>\n",
              "      <th>2018-01-05</th>\n",
              "      <td>48.7800</td>\n",
              "      <td>1</td>\n",
              "      <td>0.00</td>\n",
              "      <td>22.9200</td>\n",
              "      <td>2018</td>\n",
              "      <td>1</td>\n",
              "      <td>5</td>\n",
              "      <td>2018</td>\n",
              "      <td>1</td>\n",
              "      <td>11</td>\n",
              "      <td>6</td>\n",
              "    </tr>\n",
              "    <tr>\n",
              "      <th>2018-01-06</th>\n",
              "      <td>250.2321</td>\n",
              "      <td>16</td>\n",
              "      <td>0.98</td>\n",
              "      <td>32.8821</td>\n",
              "      <td>10090</td>\n",
              "      <td>5</td>\n",
              "      <td>30</td>\n",
              "      <td>10090</td>\n",
              "      <td>5</td>\n",
              "      <td>56</td>\n",
              "      <td>26</td>\n",
              "    </tr>\n",
              "  </tbody>\n",
              "</table>\n",
              "</div>\n",
              "      <button class=\"colab-df-convert\" onclick=\"convertToInteractive('df-22fc094e-9ed7-4e34-b166-b52fbc976706')\"\n",
              "              title=\"Convert this dataframe to an interactive table.\"\n",
              "              style=\"display:none;\">\n",
              "        \n",
              "  <svg xmlns=\"http://www.w3.org/2000/svg\" height=\"24px\"viewBox=\"0 0 24 24\"\n",
              "       width=\"24px\">\n",
              "    <path d=\"M0 0h24v24H0V0z\" fill=\"none\"/>\n",
              "    <path d=\"M18.56 5.44l.94 2.06.94-2.06 2.06-.94-2.06-.94-.94-2.06-.94 2.06-2.06.94zm-11 1L8.5 8.5l.94-2.06 2.06-.94-2.06-.94L8.5 2.5l-.94 2.06-2.06.94zm10 10l.94 2.06.94-2.06 2.06-.94-2.06-.94-.94-2.06-.94 2.06-2.06.94z\"/><path d=\"M17.41 7.96l-1.37-1.37c-.4-.4-.92-.59-1.43-.59-.52 0-1.04.2-1.43.59L10.3 9.45l-7.72 7.72c-.78.78-.78 2.05 0 2.83L4 21.41c.39.39.9.59 1.41.59.51 0 1.02-.2 1.41-.59l7.78-7.78 2.81-2.81c.8-.78.8-2.07 0-2.86zM5.41 20L4 18.59l7.72-7.72 1.47 1.35L5.41 20z\"/>\n",
              "  </svg>\n",
              "      </button>\n",
              "      \n",
              "  <style>\n",
              "    .colab-df-container {\n",
              "      display:flex;\n",
              "      flex-wrap:wrap;\n",
              "      gap: 12px;\n",
              "    }\n",
              "\n",
              "    .colab-df-convert {\n",
              "      background-color: #E8F0FE;\n",
              "      border: none;\n",
              "      border-radius: 50%;\n",
              "      cursor: pointer;\n",
              "      display: none;\n",
              "      fill: #1967D2;\n",
              "      height: 32px;\n",
              "      padding: 0 0 0 0;\n",
              "      width: 32px;\n",
              "    }\n",
              "\n",
              "    .colab-df-convert:hover {\n",
              "      background-color: #E2EBFA;\n",
              "      box-shadow: 0px 1px 2px rgba(60, 64, 67, 0.3), 0px 1px 3px 1px rgba(60, 64, 67, 0.15);\n",
              "      fill: #174EA6;\n",
              "    }\n",
              "\n",
              "    [theme=dark] .colab-df-convert {\n",
              "      background-color: #3B4455;\n",
              "      fill: #D2E3FC;\n",
              "    }\n",
              "\n",
              "    [theme=dark] .colab-df-convert:hover {\n",
              "      background-color: #434B5C;\n",
              "      box-shadow: 0px 1px 3px 1px rgba(0, 0, 0, 0.15);\n",
              "      filter: drop-shadow(0px 1px 2px rgba(0, 0, 0, 0.3));\n",
              "      fill: #FFFFFF;\n",
              "    }\n",
              "  </style>\n",
              "\n",
              "      <script>\n",
              "        const buttonEl =\n",
              "          document.querySelector('#df-22fc094e-9ed7-4e34-b166-b52fbc976706 button.colab-df-convert');\n",
              "        buttonEl.style.display =\n",
              "          google.colab.kernel.accessAllowed ? 'block' : 'none';\n",
              "\n",
              "        async function convertToInteractive(key) {\n",
              "          const element = document.querySelector('#df-22fc094e-9ed7-4e34-b166-b52fbc976706');\n",
              "          const dataTable =\n",
              "            await google.colab.kernel.invokeFunction('convertToInteractive',\n",
              "                                                     [key], {});\n",
              "          if (!dataTable) return;\n",
              "\n",
              "          const docLinkHtml = 'Like what you see? Visit the ' +\n",
              "            '<a target=\"_blank\" href=https://colab.research.google.com/notebooks/data_table.ipynb>data table notebook</a>'\n",
              "            + ' to learn more about interactive tables.';\n",
              "          element.innerHTML = '';\n",
              "          dataTable['output_type'] = 'display_data';\n",
              "          await google.colab.output.renderOutput(dataTable, element);\n",
              "          const docLink = document.createElement('div');\n",
              "          docLink.innerHTML = docLinkHtml;\n",
              "          element.appendChild(docLink);\n",
              "        }\n",
              "      </script>\n",
              "    </div>\n",
              "  </div>\n",
              "  "
            ],
            "text/plain": [
              "                   매출  수량   할인율  ...  delivery_month  delivery_day  order_delivery\n",
              "주문 날짜                            ...                                              \n",
              "2018-01-01   289.2780  10  0.30  ...               3            24              21\n",
              "2018-01-03  2404.8672  22  3.72  ...              11            80              47\n",
              "2018-01-04    27.3600   3  0.00  ...               1             8               4\n",
              "2018-01-05    48.7800   1  0.00  ...               1            11               6\n",
              "2018-01-06   250.2321  16  0.98  ...               5            56              26\n",
              "\n",
              "[5 rows x 11 columns]"
            ]
          },
          "metadata": {},
          "execution_count": 105
        }
      ]
    },
    {
      "cell_type": "code",
      "source": [
        "daily['수익'].max()"
      ],
      "metadata": {
        "colab": {
          "base_uri": "https://localhost:8080/"
        },
        "id": "WB9d33CnWzQm",
        "outputId": "089f90ba-4d32-466e-bf5a-eaa9812aba33"
      },
      "execution_count": 106,
      "outputs": [
        {
          "output_type": "execute_result",
          "data": {
            "text/plain": [
              "3768.4202999999993"
            ]
          },
          "metadata": {},
          "execution_count": 106
        }
      ]
    },
    {
      "cell_type": "code",
      "source": [
        "daily['수익'].min()"
      ],
      "metadata": {
        "colab": {
          "base_uri": "https://localhost:8080/"
        },
        "id": "ziMvEvz0XWYH",
        "outputId": "85bea7bc-6544-48dc-85ce-876ec1269df3"
      },
      "execution_count": 107,
      "outputs": [
        {
          "output_type": "execute_result",
          "data": {
            "text/plain": [
              "-2393.5931999999993"
            ]
          },
          "metadata": {},
          "execution_count": 107
        }
      ]
    },
    {
      "cell_type": "code",
      "source": [
        "daily['수익'].mean()"
      ],
      "metadata": {
        "colab": {
          "base_uri": "https://localhost:8080/"
        },
        "id": "eGe6-NhWXYm8",
        "outputId": "4a2da2c0-2604-4771-e0d5-c01283b871fe"
      },
      "execution_count": 108,
      "outputs": [
        {
          "output_type": "execute_result",
          "data": {
            "text/plain": [
              "342.628373513085"
            ]
          },
          "metadata": {},
          "execution_count": 108
        }
      ]
    },
    {
      "cell_type": "code",
      "source": [
        "daily['매출'].mean()"
      ],
      "metadata": {
        "colab": {
          "base_uri": "https://localhost:8080/"
        },
        "id": "So6ohsolXiUO",
        "outputId": "b05468f2-a0da-4a7b-a89f-ddaf150a9b13"
      },
      "execution_count": 109,
      "outputs": [
        {
          "output_type": "execute_result",
          "data": {
            "text/plain": [
              "2828.263329896908"
            ]
          },
          "metadata": {},
          "execution_count": 109
        }
      ]
    },
    {
      "cell_type": "code",
      "source": [
        "daily['수량'].mean()"
      ],
      "metadata": {
        "colab": {
          "base_uri": "https://localhost:8080/"
        },
        "id": "iIwJebSvXxYe",
        "outputId": "cf54e3bf-56d4-40b6-e644-a5149c7365c4"
      },
      "execution_count": 110,
      "outputs": [
        {
          "output_type": "execute_result",
          "data": {
            "text/plain": [
              "32.531324345757334"
            ]
          },
          "metadata": {},
          "execution_count": 110
        }
      ]
    },
    {
      "cell_type": "code",
      "source": [
        ""
      ],
      "metadata": {
        "id": "K8CKrqXRX69x"
      },
      "execution_count": 110,
      "outputs": []
    }
  ],
  "metadata": {
    "colab": {
      "collapsed_sections": [],
      "name": "슈퍼스토어 분석",
      "provenance": [],
      "authorship_tag": "ABX9TyPuolVJ+OLyzx8Rdnvyocdt",
      "include_colab_link": true
    },
    "kernelspec": {
      "display_name": "Python 3",
      "name": "python3"
    },
    "language_info": {
      "name": "python"
    }
  },
  "nbformat": 4,
  "nbformat_minor": 0
}