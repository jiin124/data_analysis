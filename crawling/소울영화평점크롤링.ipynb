{
 "cells": [
  {
   "cell_type": "code",
   "execution_count": 2,
   "metadata": {},
   "outputs": [],
   "source": [
    "import requests\n",
    "from bs4 import BeautifulSoup"
   ]
  },
  {
   "cell_type": "code",
   "execution_count": 4,
   "metadata": {},
   "outputs": [
    {
     "data": {
      "text/plain": [
       "'\\r\\n\\r\\n\\r\\n\\r\\n\\r\\n\\r\\n\\r\\n\\r\\n\\r\\n\\r\\n\\t\\r\\n\\t\\r\\n\\t\\r\\n\\t\\r\\n\\t\\r\\n\\r\\n\\t\\r\\n\\t\\r\\n\\r\\n\\r\\n\\t\\r\\n\\t\\r\\n\\t\\r\\n\\t\\r\\n\\t\\r\\n\\t\\r\\n\\t\\r\\n\\t\\r\\n\\t\\r\\n\\t\\r\\n\\t\\r\\n\\t\\r\\n\\r\\n\\t\\r\\n\\t\\r\\n\\t\\r\\n\\t\\r\\n\\t\\r\\n\\r\\n\\t\\r\\n\\t\\r\\n\\t\\r\\n\\r\\n\\t\\r\\n\\t\\r\\n\\t\\r\\n\\r\\n\\r\\n\\t\\r\\n\\t\\r\\n\\t\\r\\n\\t\\r\\n\\t\\t\\r\\n\\t\\t\\t\\r\\n\\t\\t\\t\\t\\r\\n\\t\\t\\t\\r\\n\\t\\t\\t\\r\\n\\t\\t\\t\\r\\n\\t\\t\\t\\r\\n\\t\\t\\r\\n\\t\\r\\n\\t\\r\\n\\t\\t\\r\\n\\t\\r\\n\\r\\n<!DOCTYPE html>\\r\\n<html lang=\"ko\">\\r\\n<head>\\r\\n<meta http-equiv=\"Content-Type\" content=\"text/html; charset=euc-kr\">\\r\\n<meta http-equiv=\"X-UA-Compatible\" content=\"IE=edge\">\\r\\n\\r\\n\\r\\n\\r\\n\\r\\n\\r\\n\\r\\n<meta property=\"me2:image\" content=\"http://imgmovie.naver.com/today/naverme/naverme_profile.jpg\"/>\\r\\n<meta property=\"me2:post_tag\" content=\"네이버영화 \"/>\\r\\n<meta property=\"me2:category1\" content=\"네이버영화\"/>\\r\\n<meta property=\"me2:category2\" content=\"\"/>\\r\\n\\r\\n\\r\\n\\r\\n\\r\\n\\r\\n\\t\\r\\n\\t\\r\\n\\t\\r\\n\\t\\r\\n\\t\\t<meta property=\"og:title\" content=\"평점 : 네이버 영화\"/>\\r\\n\\t\\t<meta property=\"og:description\" content=\"네티즌 평점과 리뷰 정보 제공\"/>\\r\\n\\t\\r\\n\\t\\r\\n\\t\\r\\n\\r\\n\\r\\n<meta property=\"og:type\" content=\"article\"/>\\r\\n<meta property=\"og:url\" content=\"https://movie.naver.com/movie/point/af/list.nhn?st=mcode&amp;sword=184517&amp;target=after\"/>\\r\\n\\r\\n\\t\\r\\n\\t\\r\\n\\t\\t<meta property=\"og:image\" content=\"http://static.naver.net/m/movie/icons/OG_270_270.png\"/><!-- http://static.naver.net/m/movie/im/navermovie.jpg -->\\r\\n\\t\\r\\n\\r\\n\\r\\n<meta property=\"og:article:thumbnailUrl\" content=\"http://imgmovie.naver.com/today/naverme/naverme_profile.jpg\"/>\\r\\n<meta property=\"og:article:author\" content=\"네이버 영화\"/>\\r\\n<meta property=\"og:article:author:url\" content=\"https://movie.naver.com/\"/>\\r\\n\\r\\n\\r\\n\\n\\n\\n\\t\\n\\t\\n\\t\\n\\t\\n\\t\\t<link rel=\"shortcut icon\" href=\"https://ssl.pstatic.net/static/m/movie/icons/naver_movie_favicon.ico\" type=\"image/x-icon\">\\n\\t\\t\\t\\n\\n\\r\\n<title>네티즌 평점 : 네이버 영화</title>\\r\\n\\r\\n\\r\\n\\r\\n\\r\\n\\r\\n\\t\\r\\n\\t\\r\\n\\t\\r\\n\\t\\r\\n\\t\\r\\n\\t\\r\\n\\t\\t\\r\\n\\t\\t<link rel=\"stylesheet\" type=\"text/css\" href=\"/common/css/movie_tablet.css?20210317115448\">\\r\\n\\t\\t<link rel=\"stylesheet\" type=\"text/css\" href=\"/common/css/common.css?20210317115448\">\\r\\n\\t\\t<link rel=\"stylesheet\" type=\"text/css\" href=\"/common/css/layout.css?20210317115448\">\\r\\n\\t\\t<link rel=\"stylesheet\" type=\"text/css\" href=\"/common/css/old_default.css?20210317115448\">\\r\\n\\t\\t<link rel=\"stylesheet\" type=\"text/css\" href=\"/common/css/old_layout.css?20210317115448\">\\r\\n\\t\\t<link rel=\"stylesheet\" type=\"text/css\" href=\"/common/css/old_common.css?20210317115448\">\\t\\r\\n\\t\\t<link rel=\"stylesheet\" type=\"text/css\" href=\"/common/css/old_community.css?20210317115448\">\\r\\n\\t\\r\\n\\t\\r\\n\\t\\r\\n\\r\\n\\r\\n<script type=\"text/javascript\" src=\"/common/js/default-min.js\"></script>\\r\\n<script language=\"JavaScript\" src=\"/common/js/jindo2.js\"></script>\\n<script language=\"JavaScript\" src=\"/common/js/pwm.js\"></script>\\n<script type=\"text/javascript\">\\n\\n\\tvar pwmManager = new PwmManager();\\n\\t\\n\\tfunction find_list(st, sword, target) {\\n\\t\\tif (st == \"nickname\" || st == \"nickname_before\") {\\n\\t\\t\\tif (target == \"before\") {\\n\\t\\t\\t\\tlocation.href = \"/movie/point/af/list.nhn?st=nickname_before&sword=\" + sword + \"&target=before\";\\n\\t\\t\\t} else {\\n\\t\\t\\t\\tlocation.href = \"/movie/point/af/list.nhn?st=nickname&sword=\" + sword + \"&target=after\";\\n\\t\\t\\t}\\n\\t\\t} else {\\n\\t\\t\\tlocation.href = \"?st=\" + st + \"&sword=\" + sword + \"&target=\" + target;\\n\\t\\t}\\n\\t}\\n\\t\\n\\tfunction login_check() {\\n\\t\\tif(\"\" == \"\"){\\n\\t\\t\\tif(confirm(\"로그인이 필요합니다. 로그인 하시겠습니까?\")){\\n\\t\\t\\t\\tgoLogin();\\n\\t\\t\\t}\\n\\t\\t\\treturn false;\\n\\t\\t}\\n\\t}\\n\\t\\n\\tfunction goLogin() {\\n\\t\\tlocation.href=\"https://nid.naver.com/nidlogin.login?mode=form&url=\"+encodeURIComponent(location.href);\\n\\t}\\n\\t\\n\\tfunction deletePoint(nid, target) {\\n\\t\\tif( \\'Y\\' == \\'N\\' || \\'Y\\' == \\'G\\' ) {\\n\\t\\t\\topenNotify(\\'Y\\', \\'\\');\\n\\t\\t\\treturn;\\n\\t\\t}\\n\\t\\t\\n\\t\\tvar tmp = document.delete_point_form;\\n\\t\\ttmp.target.value = target;\\n\\t\\ttmp.nid.value = nid;\\n\\t\\t\\n\\t\\tif(confirm(\"사용자 삭제시 복원 할 수 없습니다.정말로 삭제 하시겠습니까?\")){\\n\\t\\t\\ttmp.submit();\\n\\t\\t}\\n\\t\\treturn;\\n\\t}\\n\\t\\n\\tvar gradePopupWin;\\n\\tfunction openRulePopup() {\\n\\t\\tif (screen === undefined || screen.availHeight === undefined || screen.availHeight > 800) {\\n\\t\\t\\tgradePopupWin = window.open(\"/movie/board/popup/board_rule.nhn\", \"gradePopup\", \"width=550, height=800, history=no, resizable=no, scrollbars=yes, status=no, menubar=no, toolbar=no\");\\n\\t\\t} else {\\n\\t\\t\\tgradePopupWin = window.open(\"/movie/board/popup/board_rule.nhn\", \"gradePopup\", \"width=550, height=560, history=no, resizable=no, scrollbars=yes, status=no, menubar=no, toolbar=no\");\\n\\t\\t}\\n\\t\\t\\n\\t\\tif (gradePopupWin) {\\n\\t\\t\\tgradePopupWin.focus();\\n\\t\\t}\\n\\t}\\n\\t\\n\\n\\n</script>\\r\\n</head>\\r\\n<body >\\r\\n\\r\\n\\r\\n\\t\\r\\n\\t\\r\\n\\t\\r\\n\\t\\r\\n\\t\\r\\n\\t\\t\\r\\n\\t\\r\\n\\r\\n<div id=\"wrap\" class=\"fix\">\\r\\n\\t<!-- GNB -->\\r\\n\\t\\r\\n\\r\\n\\r\\n\\r\\n\\r\\n\\r\\n<script type=\"text/javascript\">\\r\\nfunction delayed_submit(object) {\\r\\n\\tif (navigator.userAgent.indexOf(\\'MSIE\\') == -1) {\\r\\n\\t\\tvar b = c = new Date();\\r\\n      \\twhile ((b.getTime() - c.getTime()) < 100) {\\r\\n\\t\\t\\tb = new Date();\\r\\n      \\t}\\r\\n\\t\\t//window.setTimeout(function() {object.submit(); console.log(\\'s\\');}, 300);\\r\\n\\t} \\r\\n}\\r\\nvar gnb_service = \\'movie\\';\\r\\nvar gnb_logout = \\'http://movie.naver.com/movie/point/af/list.nhn%3Fst%3Dmcode%26sword%3D184517%26target%3Dafter\\';\\r\\nvar gnb_template = \"gnb_quirks_euckr\"; /* https://ssl.pstatic.net/static.gn/templates/gnb_utf8.nhn */\\r\\nvar gnb_brightness=3;\\r\\nvar gnb_response = true;\\r\\n</script>\\r\\n\\r\\n\\r\\n\\t\\r\\n\\t\\r\\n\\r\\n<a name=\"gnb_top\"></a>\\r\\n    <!-- skip navigation -->\\r\\n    <div id=\"u_skip\">\\r\\n            <a href=\"#header\" onclick=\"document.getElementById(\\'header\\').tabIndex=-1;document.getElementById(\\'header\\').focus();return false;\"><span>메인 메뉴로 바로가기</span></a>\\r\\n            <a href=\"#content\" id=\"gnb_goContent\" onclick=\"document.getElementById(\\'content\\').tabIndex=-1;document.getElementById(\\'content\\').focus();return false;\"><span>본문으로 바로가기</span></a>\\r\\n    </div>\\r\\n    <!-- //skip navigation -->\\r\\n\\t<!-- GNB -->\\r\\n\\t<div class=\"gnb_container\">\\r\\n\\t\\t<div class=\"gnb_content\">\\r\\n\\t\\t\\t<div class=\"gnb_box\">\\r\\n\\t\\t\\t \\t<div class=\"gnb_wrap\">\\r\\n\\t\\t\\t\\t\\t<div id=\"gnb\" onload=\"javascript:getGNB();\">\\r\\n\\t\\t\\t\\t   \\t \\t<script type=\"text/javascript\" charset=\"utf-8\" src=\"https://ssl.pstatic.net/static.gn/templates/gnb_utf8.nhn\"></script>\\r\\n\\t\\t\\t\\t\\t</div>\\r\\n\\t\\t\\t\\t</div>\\r\\n\\t\\t\\t\\t<!-- 검색창 -->\\r\\n\\t\\t\\t\\t<form id=\"jSearchForm\" action=\"/movie/search/result.nhn\" method=\"get\" style=\"margin:0;display:none;\">\\r\\n\\t\\t\\t\\t\\t<input type=\"text\" name=\"query\" maxlength=\"100\" title=\"영화검색\" />\\r\\n\\t\\t\\t\\t\\t<input type=\"hidden\" name=\"section\" value=\"all\"/>\\r\\n\\t\\t\\t\\t</form>\\r\\n\\t\\t\\t\\t<fieldset id=\"jSearchArea\" class=\"srch_area\">\\r\\n\\t\\t\\t\\t\\t<legend><span class=\"blind\">영화검색 영역</span></legend>\\r\\n\\t\\t\\t\\t\\t<div class=\"srch_field_on _view\">\\r\\n\\t\\t\\t\\t\\t\\t<span class=\"ipt_srch\">\\r\\n\\t\\t\\t\\t\\t\\t\\t<label for=\"ipt_tx_srch\" id=\"search_placeholder\">영화검색</label>\\r\\n\\t\\t\\t\\t\\t\\t\\t<input type=\"text\" id=\"ipt_tx_srch\" class=\"ipt_tx_srch\" name=\"query\" maxlength=\"100\" accesskey=\"s\" style=\"ime-mode:active;\" autocomplete=\"off\" />\\r\\n\\t\\t\\t\\t\\t\\t\\t<span class=\"align\"></span>\\r\\n\\t\\t\\t\\t\\t\\t\\t<span class=\"auto_tx\"><a href=\"#\" title=\"자동완성 펼치기\"><img src=\"https://ssl.pstatic.net/static/movie/2012/06/srch_arrow_down.gif\" width=\"7\" height=\"4\" title=\"자동완성 펼치기\" alt=\"자동완성 펼치기\" /></a></span>\\r\\n\\t\\t\\t\\t\\t\\t</span>\\r\\n\\t\\t\\t\\t\\t\\t<button type=\"submit\" title=\"검색\" class=\"btn_srch\" onclick=\"clickcr(this, \\'GNB.search\\', \\'\\', \\'\\', event); delayed_submit(this);\"><span class=\"blind\">검색</span></button>\\r\\n\\t\\t\\t\\t\\t\\t <!-- 자동 완성 영역임 #autocomplate_template-->\\r\\n\\t\\t\\t\\t\\t</div>\\r\\n\\t\\t\\t\\t</fieldset>\\r\\n\\t\\t\\t\\t<!-- //검색창 -->\\r\\n\\t\\t\\t</div>\\r\\n\\t\\t</div>\\r\\n\\t</div>\\r\\n\\t<!-- //GNB -->\\r\\n\\t<!-- nClicks -->\\r\\n\\t\\r\\n\\t\\t\\r\\n\\t\\t\\r\\n\\t\\t\\r\\n\\t\\t\\r\\n\\t\\t\\t<script type=\"text/javascript\">var nsc = \"movie.comm\";</script>\\r\\n\\t\\t\\t<script type=\"text/javascript\" src=\"/common/js/clickcr.js\"></script>\\r\\n\\t\\t\\r\\n\\t\\t\\t\\t\\r\\n\\t\\t\\r\\n\\t\\t\\r\\n\\t\\t\\r\\n\\t\\t\\r\\n\\t\\t\\r\\n\\t\\t\\r\\n\\t\\t\\r\\n\\t\\t\\r\\n\\t\\r\\n\\t<!-- // nClicks -->\\t\\r\\n\\t<!-- //GNB -->\\r\\n\\t\\r\\n\\t<!-- LNB -->\\r\\n\\t\\n\\n\\n\\n\\t<!-- header -->\\n\\t<div id=\"header\">\\n\\t\\t<h1 class=\"svc_name\">\\n\\t\\t\\t<a href=\"http://www.naver.com/\" title=\"naver로 바로가기\" class=\"ci_logo\" id=\"lnb_gonaver\" onclick=\"clickcr(this, \\'LNB.naver\\', \\'\\', \\'\\', event);\"><img src=\"https://ssl.pstatic.net/static/movie/2013/07/logo_ci.png\" width=\"62\" height=\"13\" alt=\"NAVER\" /></a>\\n\\t\\t\\t<a href=\"/\" title=\"영화서비스홈으로 바로가기\" class=\"svc_logo\" onclick=\"clickcr(this, \\'LNB.movie\\', \\'\\', \\'\\', event);\"><img src=\"https://ssl.pstatic.net/static/movie/2012/06/logo_svc.png\" width=\"34\" height=\"19\" alt=\"영화\" /></a>\\n\\t\\t</h1>\\n\\t\\t<div id=\"scrollbar\" class=\"scrollbar scrollbar-noscript\">\\n\\t\\t\\t<div class=\"scrollbar-box\">\\n\\t\\t\\t\\t<div class=\"scrollbar-content\">\\n\\t\\t\\t\\t\\t<div class=\"in_scroll\">\\n\\t\\t\\t\\t\\t\\t<ul class=\"navi\">\\n\\t\\t\\t\\t\\t\\t<li>\\n\\t\\t\\t\\t\\t\\t\\t<a href=\"/\" title=\"영화홈\" class=\"menu01\" onclick=\"clickcr(this, \\'LNB.home\\', \\'\\', \\'\\', event);\"><strong>영화홈</strong></a>\\n\\t\\t\\t\\t\\t\\t</li>\\n\\t\\t\\t\\t\\t\\t<li>\\n\\t\\t\\t\\t\\t\\t\\t<a href=\"/movie/running/current.nhn\" title=\"상영작·예정작\" class=\"menu02\" onclick=\"clickcr(this, \\'LNB.movies\\', \\'\\', \\'\\', event);\"><strong>상영작·예정작</strong></a>\\n\\t\\t\\t\\t\\t\\t\\t<ul class=\"navi_sub\" style=\"display:none\">\\n\\t\\t\\t\\t\\t\\t\\t<li><a href=\"/movie/running/current.nhn\" title=\"현재 상영영화\" class=\"sub2_1\" onclick=\"clickcr(this, \\'LNB.now\\', \\'\\', \\'\\', event);\"><em>현재 상영영화</em></a></li>\\n\\t\\t\\t\\t\\t\\t\\t<li><a href=\"/movie/running/premovie.nhn\" title=\"개봉 예정영화\" class=\"sub2_2\" onclick=\"clickcr(this, \\'LNB.soon\\', \\'\\', \\'\\', event);\"><em>개봉 예정영화</em></a></li>\\n\\t\\t\\t\\t\\t\\t\\t<li><a href=\"/movie/running/movieclip.nhn\" title=\"예고편\" class=\"sub2_4\" onclick=\"clickcr(this, \\'LNB.tailer\\', \\'\\', \\'\\', event);\"><em>예고편</em></a></li>\\n\\t\\t\\t\\t\\t\\t\\t</ul>\\n\\t\\t\\t\\t\\t\\t</li>\\n\\t\\t\\t\\t\\t\\t<li>\\n\\t\\t\\t\\t\\t\\t\\t<a href=\"/movie/sdb/rank/rmovie.nhn\" title=\"영화랭킹\" class=\"menu03\" onclick=\"clickcr(this, \\'LNB.db\\', \\'\\', \\'\\', event);\"><strong>영화랭킹</strong></a>\\n\\t\\t\\t\\t\\t\\t\\t<ul class=\"navi_sub\" style=\"display:none\">\\n\\t\\t\\t\\t\\t\\t\\t<li><a href=\"/movie/sdb/rank/rmovie.nhn\" title=\"랭킹\" class=\"sub3_1\" onclick=\"clickcr(this, \\'LNB.rank\\', \\'\\', \\'\\', event);\"><em>랭킹</em></a></li>\\n\\t\\t\\t\\t\\t\\t\\t<li><a href=\"/movie/sdb/browsing/bmovie_nation.nhn\" title=\"디렉토리\" class=\"sub3_2\" onclick=\"clickcr(this, \\'LNB.dir\\', \\'\\', \\'\\', event);\"><em>디렉토리</em></a></li>\\n\\t\\t\\t\\t\\t\\t\\t</ul>\\n\\t\\t\\t\\t\\t\\t</li>\\n\\t\\t\\t\\t\\t\\t<li>\\n\\t\\t\\t\\t\\t\\t\\t<a href=\"/movie/bi/mi/reserve.nhn\" title=\"예매\" class=\"menu05\" onclick=\"clickcr(this, \\'LNB.ticket\\', \\'\\', \\'\\', event);\"><strong>예매</strong></a>\\n\\t\\t\\t\\t\\t\\t\\t<ul class=\"navi_sub\" style=\"display:none\">\\n\\t\\t\\t\\t\\t\\t\\t<li><a href=\"http://ticket.movie.naver.com/Ticket/Reserve.aspx\" title=\"예매하기\" class=\"sub5_1\" onclick=\"clickcr(this, \\'LNB.buy\\', \\'\\', \\'\\', event);\"><em>예매하기</em></a></li>\\n\\t\\t\\t\\t\\t\\t\\t<li><a href=\"http://ticket.movie.naver.com/Order/OrderList.aspx\" title=\"예매확인·취소\" class=\"sub5_2\" onclick=\"clickcr(this, \\'LNB.check\\', \\'\\', \\'\\', event);\"><em>예매확인·취소</em></a></li>\\n\\t\\t\\t\\t\\t\\t\\t<li><a href=\"http://ticket.movie.naver.com/Coupon/Ticket.aspx\" title=\"예매권·할인권 등록\" class=\"sub5_3\" onclick=\"clickcr(this, \\'LNB.disticket\\', \\'\\', \\'\\', event);\"><em>예매권·할인권 등록</em></a></li>\\n\\t\\t\\t\\t\\t\\t\\t<li><a href=\"http://ticket.movie.naver.com/Discount/DiscountCard.aspx\" title=\"할인카드안내·등록\" class=\"sub5_4\" onclick=\"clickcr(this, \\'LNB.discard\\', \\'\\', \\'\\', event);\"><em>할인카드안내·등록</em></a></li>\\n\\t\\t\\t\\t\\t\\t\\t<li><a href=\"http://help.naver.com/ops/step2/faq.nhn?parentId=77&depth=2\" title=\"이용안내\" class=\"sub5_5\" target=\"_blank\" onclick=\"clickcr(this, \\'LNB.service\\', \\'\\', \\'\\', event);\"><em>이용안내</em></a></li>\\n\\t\\t\\t\\t\\t\\t\\t</ul>\\n\\t\\t\\t\\t\\t\\t</li>\\n\\n\\t\\t\\t\\t\\t\\t<li>\\n\\t\\t\\t\\t\\t\\t\\t<a href=\"/movie/point/af/list.nhn\" title=\"평점\" class=\"menu07_on\" onclick=\"clickcr(this, \\'LNB.comm\\', \\'\\', \\'\\', event);\"><strong>평점</strong></a>\\n                            <ul class=\"navi_sub\" style=\"display:block\">\\n                                <li><a href=\"/movie/point/af/list.nhn\" title=\"네티즌 평점\" class=\"sub7_1_on\" onclick=\"clickcr(this, \\'LNB.rating\\', \\'\\', \\'\\', event);\"><em>네티즌 평점</em></a></li>\\n                                <li><a href=\"/movie/board/review/list.nhn\" title=\"네티즌 리뷰\" class=\"sub7_2\" onclick=\"clickcr(this, \\'LNB.review\\', \\'\\', \\'\\', event);\"><em>네티즌 리뷰</em></a></li>\\n                                \\n                            </ul>\\n\\t\\t\\t\\t\\t\\t</li>\\n\\t\\t\\t\\t\\t\\t<li>\\n\\t\\t\\t\\t\\t\\t\\t<a href=\"http://serieson.naver.com/movie/home.nhn\" title=\"다운로드\" class=\"menu08\" onclick=\"clickcr(this, \\'LNB.download\\', \\'\\', \\'\\', event);\" target=\"_blank\"><strong>다운로드</strong></a>\\n\\t\\t\\t\\t\\t\\t</li>\\n\\t\\t\\t\\t\\t\\t<li class=\"nav_indi\">\\n\\t\\t\\t\\t\\t\\t        <a href=\"http://tv.naver.com/indiecinema\" title=\"인디극장 UP\" target=\"_blank\"><strong>인디극장 UP</strong></a><!-- N=a:LNB.indie -->\\n\\t\\t\\t\\t\\t\\t</li>\\t\\t\\t\\t\\t\\t\\n\\t\\t\\t\\t\\t\\t</ul>\\n\\t\\t\\t\\t\\t\\t<!-- div class=\"view_mode\">\\n\\t\\t\\t\\t\\t\\t\\t<a href=\"#\" title=\"\" class=\"normal_on\"><em>1단 보기</em></a>\\n\\t\\t\\t\\t\\t\\t\\t<a href=\"#\" title=\"\" class=\"wide_off\"><em>2단 보기</em></a>\\n\\t\\t\\t\\t\\t\\t</div -->\\n\\t\\t\\t\\t\\t</div>\\n\\t\\t\\t\\t</div>\\n\\t\\t\\t</div>\\n\\t\\t\\t<div class=\"scrollbar-v\">\\n\\t\\t\\t\\t<div class=\"scrollbar-button-up\"></div>\\n\\t\\t\\t\\t<div class=\"scrollbar-track\">\\n\\t\\t\\t\\t\\t<div class=\"scrollbar-thumb\"></div>\\n\\t\\t\\t\\t</div>\\n\\t\\t\\t\\t<div class=\"scrollbar-button-down\"></div>\\n\\t\\t\\t</div>\\n\\t\\t</div>\\n\\t</div>\\n\\t<!-- //header -->\\r\\n\\t<!-- //LNB -->\\r\\n\\t\\r\\n\\t<div id=\"container\">\\r\\n\\t\\t<!-- content -->\\r\\n\\t\\t<div id=\"content\">\\r\\n\\t\\t\\t<div class=\"article\">\\r\\n\\t\\t\\t\\r\\n\\t\\t\\t\\t<div class=\"old_layout old_community\">\\r\\n\\r\\n\\t\\t\\t\\t\\r\\n\\t\\t\\t\\t\\r\\n\\r\\n\\t\\t\\t\\t<!-- Content Body -->\\r\\n\\t\\t\\t\\t<div id=\"cbody\" class=\"type_1\">\\r\\n\\t\\t\\t\\t\\r\\n\\t\\t\\t\\t\\t<div id=\"old_content\">\\r\\n\\t\\t\\t\\t\\t<form name=\"delete_point_form\" method=\"post\" action=\"dpoint.nhn\">\\n\\t\\t<input type=\"hidden\" name=\"queryString\" value=\"st=mcode&sword=184517&target=after&page=1\"/>\\n\\t\\t<input type=\"hidden\" name=\"target\" value=\"after\"/>\\n\\t\\t<input type=\"hidden\" name=\"nid\"/>\\n\\t</form>\\n\\n\\t<h4 class=\"tlt\"><img src=\"https://ssl.pstatic.net/static/movie/2019/09/tlt_netizen_grad_2.png\" alt=\"네티즌 관람객 평점\" width=\"116\" height=\"15\"></h4>\\n\\t<div class=\"choice_movie_box\">\\n\\t\\t\\n\\t\\t\\n\\t\\t<!--상단 선택된 영화 정보 -->\\n\\t\\t<div class=\"choice_movie_info\">\\n\\t\\t\\t<h5>\\n\\t\\t\\t\\t\\n\\t\\t\\t\\t\\n\\t\\t\\t\\t\\t<a href=\"/movie/bi/mi/basic.nhn?code=184517\" title=\"소울\">소울</a>\\n\\t\\t\\t\\t\\n\\t\\t\\t</h5>\\n\\t\\t\\t<div class=\"fl\"><a href=\"/movie/bi/mi/basic.nhn?code=184517\">\\n\\t\\t\\t\\n\\t\\t\\t\\t\\n\\t\\t\\t\\t<img src=\"https://movie-phinf.pstatic.net//20210107_160/1609984702837oNdmw_JPEG/movie_image.jpg?type=m210\" alt=\"\" width=\"110\" height=\"160\">\\n\\t\\t\\t\\t\\n\\t\\t\\t\\t\\n\\t\\t\\t\\t\\t\\t\\n\\t\\t\\t</a></div>\\n\\t\\t\\t\\n\\t\\t\\t<table cellpadding=\"0\" cellspacing=\"0\" class=\"info_area\">\\n\\t\\t\\t<col width=\"62\"><col width=\"*\">\\n\\n\\t\\t\\t<tr>\\n\\t\\t\\t\\t<th><img src=\"https://ssl.pstatic.net/imgmovie/2007/img/running/txt_default.gif\" alt=\"기본정보\" width=\"38\" height=\"11\"></th>\\n\\t\\t\\t\\t<td>\\n\\t\\t\\t\\t<a href=\"/movie/sdb/browsing/bmovie.nhn?genre=15\">애니메이션</a>\\n\\t\\t\\t\\t\\n\\t\\t\\t\\t\\t|  107분\\n\\t\\t\\t\\t\\t\\n\\t\\t\\t\\t \\n\\t\\t\\t\\t\\n\\t\\t\\t\\t\\t|  개봉 <a href=\"/movie/sdb/browsing/bmovie.nhn?open=2021\">2021</a>.<a \\n\\t\\t\\t\\t\\thref=\"/movie/sdb/browsing/bmovie.nhn?open=20210120\">01.20</a>\\n\\t\\t\\t\\t\\t\\t\\n\\t\\t\\t\\t\\n\\t\\t\\t\\t</td>\\n\\t\\t\\t</tr>\\n\\t\\t\\t\\n\\t\\t\\t<tr>\\n\\t\\t\\t\\t<th><img src=\"https://ssl.pstatic.net/imgmovie/2007/img/running/txt_director.gif\" alt=\"감독\" width=\"19\" height=\"11\"></th>\\n\\t\\t\\t\\t<td><a \\n\\t\\t\\t\\t\\thref=\"/movie/bi/pi/basic.nhn?code=35407\">피트 닥터</a></td>\\n\\t\\t\\t</tr>\\n\\t\\t\\t\\n\\t\\t\\t\\n\\t\\t\\t<tr>\\n\\t\\t\\t\\t<th><img src=\"https://ssl.pstatic.net/imgmovie/2007/img/running/txt_actor.gif\" alt=\"출연\" width=\"19\" height=\"11\"></th>\\n\\t\\t\\t\\t<td><a href=\"/movie/bi/pi/basic.nhn?code=641\">제이미 폭스</a>, <a href=\"/movie/bi/pi/basic.nhn?code=45584\">티나 페이</a>, <a href=\"/movie/bi/pi/basic.nhn?code=390060\">다비드 딕스</a></td>\\n\\t\\t\\t</tr>\\n\\t\\t\\t\\n\\t\\t\\t<tr><td colspan=\"2\" style=\"height:11px; padding:0;\"></td></tr><tr><td colspan=\"2\" style=\"height:1px; padding:0; background:#ededed;\"></td></tr><tr><td colspan=\"2\" style=\"height:15px; padding:0;\"></td></tr>\\n\\t\\t\\t<tr>\\n\\t\\t\\t\\t<th>\\n\\t\\t\\t\\t\\n\\t\\t\\t\\t\\t\\n\\t\\t\\t\\t\\t\\t<img src=\"https://ssl.pstatic.net/imgmovie/2007/img/community/title_grade_netizen_a.png\" alt=\"개봉 후 평점\" width=\"52\" height=\"12\">\\n\\t\\t\\t\\t\\n\\t\\t\\t\\t\\t\\n\\t\\t\\t\\t\\n\\t\\t\\t\\t</th>\\n\\t\\t\\t\\t<td>\\n\\t\\t\\t\\t\\n\\t\\t\\t\\t\\t\\n\\t\\t\\t\\t\\t\\t<div class=\"fl point_type_b\"><div class=\"mask\" style=\"width:93.10000000000001%\"></div></div>\\n\\t\\t\\t\\t\\t\\t<strong>9.31\\n / 10</strong><span>( 참여인원 <em>9252</em>명 )</span>\\n\\t\\t\\t\\t\\t\\n\\t\\t\\t\\t\\t\\n\\t\\t\\t\\t\\n\\n\\t\\t\\t\\t</td>\\n\\t\\t\\t</tr>\\n\\t\\t\\t</table>\\n\\t\\t\\t<div class=\"btn_area\">\\n\\t\\t\\t\\t<!-- 100415 버튼 수정 -->\\n\\t\\t\\t\\t\\n\\t\\t\\t\\t\\t<a href=\"/movie/reservation/index.nhn?code=184517\"><img src=\"https://ssl.pstatic.net/imgmovie/2007/img/common/btn_reservation2.gif\" alt=\"예매하기\" width=\"58\" height=\"23\"></a>\\n\\t\\t\\t\\t\\n\\t\\t\\t\\t<!-- //100415 버튼 수정 -->\\n\\t\\t\\t\\t<!-- 시사 이벤트 -->\\n\\t\\t\\t\\t\\n\\t\\t\\t</div>\\n\\t\\t</div>\\n\\t\\t<!-- //선택된 영화 정보 -->\\n\\t\\t\\n\\t\\t\\t\\n\\t\\t<!-- 영화선택 -->\\t\\t\\n\\t\\t<div class=\"choice_movie\">\\n\\t\\t<span class=\"fl\">\\n\\t\\t<label for=\"current_movie\"><img src=\"https://ssl.pstatic.net/static/movie/2019/09/txt_review_3.png\" alt=\"현재 상영작 평점보기\" width=\"105\" height=\"14\"></label><br>\\n\\t\\t<select id=\"current_movie\" size=\"1\" name=\"\" style=\"width:250px;\" class=\"select_type_1\" onChange=\"javascript:find_list(\\'mcode\\',this.options[selectedIndex].value,\\'after\\');\">\\n\\t\\t\\t\\t<option>현재 상영작</option>\\n\\t\\t\\t\\t\\n\\t\\t\\t\\t\\t<option value=\"203095\">몬테크리스토: 더 뮤지컬 라이브</option>\\n\\t\\t\\t\\t\\n\\t\\t\\t\\t\\t<option value=\"193043\">정말 먼 곳</option>\\n\\t\\t\\t\\t\\n\\t\\t\\t\\t\\t<option value=\"186260\">라라의 신비한 모험</option>\\n\\t\\t\\t\\t\\n\\t\\t\\t\\t\\t<option value=\"31796\">반지의 제왕: 왕의 귀환</option>\\n\\t\\t\\t\\t\\n\\t\\t\\t\\t\\t<option value=\"202352\">아수라도</option>\\n\\t\\t\\t\\t\\n\\t\\t\\t\\t\\t<option value=\"31795\">반지의 제왕: 두 개의 탑</option>\\n\\t\\t\\t\\t\\n\\t\\t\\t\\t\\t<option value=\"198306\">파이터</option>\\n\\t\\t\\t\\t\\n\\t\\t\\t\\t\\t<option value=\"201959\">실종: 사라진 사람들</option>\\n\\t\\t\\t\\t\\n\\t\\t\\t\\t\\t<option value=\"195073\">아일로</option>\\n\\t\\t\\t\\t\\n\\t\\t\\t\\t\\t<option value=\"148043\">117편의 러브레터</option>\\n\\t\\t\\t\\t\\n\\t\\t\\t\\t\\t<option value=\"193800\">모리타니안</option>\\n\\t\\t\\t\\t\\n\\t\\t\\t\\t\\t<option value=\"198627\">그녀가 사라졌다</option>\\n\\t\\t\\t\\t\\n\\t\\t\\t\\t\\t<option value=\"144379\">러빙 빈센트</option>\\n\\t\\t\\t\\t\\n\\t\\t\\t\\t\\t<option value=\"202534\">브레이브 언더 파이어</option>\\n\\t\\t\\t\\t\\n\\t\\t\\t\\t\\t<option value=\"201219\">랜드</option>\\n\\t\\t\\t\\t\\n\\t\\t\\t\\t\\t<option value=\"182019\">리스타트</option>\\n\\t\\t\\t\\t\\n\\t\\t\\t\\t\\t<option value=\"186586\">아이 씨 유</option>\\n\\t\\t\\t\\t\\n\\t\\t\\t\\t\\t<option value=\"202361\">웨이 다운</option>\\n\\t\\t\\t\\t\\n\\t\\t\\t\\t\\t<option value=\"194830\">암모나이트</option>\\n\\t\\t\\t\\t\\n\\t\\t\\t\\t\\t<option value=\"196053\">유어 아이즈 텔</option>\\n\\t\\t\\t\\t\\n\\t\\t\\t\\t\\t<option value=\"68945\">허트 로커</option>\\n\\t\\t\\t\\t\\n\\t\\t\\t\\t\\t<option value=\"31794\">반지의 제왕: 반지 원정대</option>\\n\\t\\t\\t\\t\\n\\t\\t\\t\\t\\t<option value=\"108050\">스매시 앤 그랩: 보석강도단 핑크 팬더</option>\\n\\t\\t\\t\\t\\n\\t\\t\\t\\t\\t<option value=\"191843\">포제서</option>\\n\\t\\t\\t\\t\\n\\t\\t\\t\\t\\t<option value=\"202370\">그리고 방행자</option>\\n\\t\\t\\t\\t\\n\\t\\t\\t\\t\\t<option value=\"154000\">태양을 덮다</option>\\n\\t\\t\\t\\t\\n\\t\\t\\t\\t\\t<option value=\"201945\">내일도 우린 사랑하고 있을까</option>\\n\\t\\t\\t\\t\\n\\t\\t\\t\\t\\t<option value=\"191059\">쁘떼뜨</option>\\n\\t\\t\\t\\t\\n\\t\\t\\t\\t\\t<option value=\"184518\">라야와 마지막 드래곤</option>\\n\\t\\t\\t\\t\\n\\t\\t\\t\\t\\t<option value=\"17059\">중경삼림</option>\\n\\t\\t\\t\\t\\n\\t\\t\\t\\t\\t<option value=\"140738\">밤빛</option>\\n\\t\\t\\t\\t\\n\\t\\t\\t\\t\\t<option value=\"194660\">UFO 스케치</option>\\n\\t\\t\\t\\t\\n\\t\\t\\t\\t\\t<option value=\"174831\">3개의 얼굴들</option>\\n\\t\\t\\t\\t\\n\\t\\t\\t\\t\\t<option value=\"179395\">멀리가지마라</option>\\n\\t\\t\\t\\t\\n\\t\\t\\t\\t\\t<option value=\"187310\">미나리</option>\\n\\t\\t\\t\\t\\n\\t\\t\\t\\t\\t<option value=\"197447\">유공자</option>\\n\\t\\t\\t\\t\\n\\t\\t\\t\\t\\t<option value=\"201961\">극장판 페이트/그랜드 오더 신성원탁영역 카멜롯 완더링; 아가트람</option>\\n\\t\\t\\t\\t\\n\\t\\t\\t\\t\\t<option value=\"176746\">라이브 하드</option>\\n\\t\\t\\t\\t\\n\\t\\t\\t\\t\\t<option value=\"200378\">헬렌: 내 영혼의 자화상</option>\\n\\t\\t\\t\\t\\n\\t\\t\\t\\t\\t<option value=\"200183\">구라, 베토벤</option>\\n\\t\\t\\t\\t\\n\\t\\t\\t\\t\\t<option value=\"179414\">기억의 전쟁</option>\\n\\t\\t\\t\\t\\n\\t\\t\\t\\t\\t<option value=\"163811\">카오스 워킹</option>\\n\\t\\t\\t\\t\\n\\t\\t\\t\\t\\t<option value=\"193973\">톰과 제리</option>\\n\\t\\t\\t\\t\\n\\t\\t\\t\\t\\t<option value=\"191553\">라스트 레터</option>\\n\\t\\t\\t\\t\\n\\t\\t\\t\\t\\t<option value=\"194909\">고백</option>\\n\\t\\t\\t\\t\\n\\t\\t\\t\\t\\t<option value=\"197450\">더 레이서</option>\\n\\t\\t\\t\\t\\n\\t\\t\\t\\t\\t<option value=\"187618\">리틀드래곤 코코넛2: 정글대탐험</option>\\n\\t\\t\\t\\t\\n\\t\\t\\t\\t\\t<option value=\"191917\">프라미싱 영 우먼</option>\\n\\t\\t\\t\\t\\n\\t\\t\\t\\t\\t<option value=\"194084\">빛과 철</option>\\n\\t\\t\\t\\t\\n\\t\\t\\t\\t\\t<option value=\"196375\">해변의 에트랑제</option>\\n\\t\\t\\t\\t\\n\\t\\t\\t\\t\\t<option value=\"39723\">클로저</option>\\n\\t\\t\\t\\t\\n\\t\\t\\t\\t\\t<option value=\"189124\">미션 파서블</option>\\n\\t\\t\\t\\t\\n\\t\\t\\t\\t\\t<option value=\"197517\">마리오네트</option>\\n\\t\\t\\t\\t\\n\\t\\t\\t\\t\\t<option value=\"194463\">아이</option>\\n\\t\\t\\t\\t\\n\\t\\t\\t\\t\\t<option value=\"113165\">이다</option>\\n\\t\\t\\t\\t\\n\\t\\t\\t\\t\\t<option value=\"37883\">해리 포터와 불의 잔</option>\\n\\t\\t\\t\\t\\n\\t\\t\\t\\t\\t<option value=\"19335\">해피 투게더</option>\\n\\t\\t\\t\\t\\n\\t\\t\\t\\t\\t<option value=\"181970\">페어웰</option>\\n\\t\\t\\t\\t\\n\\t\\t\\t\\t\\t<option value=\"198736\">세상의 모든 디저트: 러브 사라</option>\\n\\t\\t\\t\\t\\n\\t\\t\\t\\t\\t<option value=\"194074\">나는 나를 해고하지 않는다</option>\\n\\t\\t\\t\\t\\n\\t\\t\\t\\t\\t<option value=\"191267\">관계의 가나다에 있는 우리는</option>\\n\\t\\t\\t\\t\\n\\t\\t\\t\\t\\t<option value=\"196051\">극장판 귀멸의 칼날: 무한열차편</option>\\n\\t\\t\\t\\t\\n\\t\\t\\t\\t\\t<option value=\"193328\">세자매</option>\\n\\t\\t\\t\\t\\n\\t\\t\\t\\t\\t<option value=\"184517\">소울</option>\\n\\t\\t\\t\\t\\n\\t\\t\\t\\t\\t<option value=\"28876\">화양연화</option>\\n\\t\\t\\t\\t\\n\\t\\t\\t\\t\\t<option value=\"19031\">러브레터</option>\\n\\t\\t\\t\\t\\n\\t\\t\\t\\t\\t<option value=\"36843\">러브 액츄얼리</option>\\n\\t\\t\\t\\t\\n\\t\\t\\t\\t\\t<option value=\"174269\">겨울밤에</option>\\n\\t\\t\\t\\t\\n\\t\\t\\t\\t\\t<option value=\"189624\">찬실이는 복도 많지</option>\\n\\t\\t\\t\\t\\n\\t\\t\\t\\t\\t<option value=\"196843\">극장판 바이올렛 에버가든</option>\\n\\t\\t\\t\\t\\n\\t\\t\\t\\t\\t<option value=\"194334\">부활: 그 증거</option>\\n\\t\\t\\t\\t\\n\\t\\t\\t\\t\\t<option value=\"186348\">너와 파도를 탈 수 있다면</option>\\n\\t\\t\\t\\t\\n\\t\\t\\t\\t\\t<option value=\"181114\">날씨의 아이</option>\\n\\t\\t\\t\\t\\n\\t\\t\\t\\t\\t<option value=\"172458\">첫키스만 50번째</option>\\n\\t\\t\\t\\t\\n\\t\\t\\t\\t\\t<option value=\"185282\">타오르는 여인의 초상</option>\\n\\t\\t\\t\\t\\n\\t\\t\\t\\t\\t<option value=\"101950\">그녀</option>\\n\\t\\t\\t\\t\\n\\t\\t\\t\\t\\t<option value=\"172143\">철벽선생</option>\\n\\t\\t\\t\\t\\n\\t\\t\\t\\t\\t<option value=\"174832\">콜드 워</option>\\n\\t\\t\\t\\t\\n\\t\\t\\t\\t\\t<option value=\"178456\">은혼2: 규칙은 깨라고 있는 것</option>\\n\\t\\t\\t\\t\\n\\t\\t\\t\\t\\t<option value=\"164192\">국가부도의 날</option>\\n\\t\\t\\t\\t\\n\\t\\t\\t\\t\\t<option value=\"177381\">펭귄 하이웨이</option>\\n\\t\\t\\t\\t\\n\\t\\t\\t\\t\\t<option value=\"167336\">뉴욕 라이브러리에서</option>\\n\\t\\t\\t\\t\\n\\t\\t\\t\\t\\t<option value=\"159311\">소공녀</option>\\n\\t\\t\\t\\t\\n\\t\\t\\t\\t\\t<option value=\"162876\">120BPM</option>\\n\\t\\t\\t\\t\\n\\t\\t\\t\\t\\t<option value=\"159848\">더 포스트</option>\\n\\t\\t\\t\\t\\n\\t\\t\\t\\t\\t<option value=\"165030\">쏘아올린 불꽃, 밑에서 볼까? 옆에서 볼까?</option>\\n\\t\\t\\t\\t\\n\\t\\t\\t\\t\\t<option value=\"150198\">너의 이름은.</option>\\n\\t\\t\\t\\t\\n\\t\\t\\t\\t\\t<option value=\"154594\">은혼</option>\\n\\t\\t\\t\\t\\n\\t\\t\\t\\t\\t<option value=\"157178\">나는 내일, 어제의 너와 만난다</option>\\n\\t\\t\\t\\t\\n\\t\\t\\t\\t\\t<option value=\"154112\">불한당: 나쁜 놈들의 세상</option>\\n\\t\\t\\t\\t\\n\\t\\t\\t\\t\\t<option value=\"156185\">극장판 쿠로코의 농구 라스트 게임</option>\\n\\t\\t\\t\\t\\n\\t\\t\\t\\t\\t<option value=\"142730\">분노</option>\\n\\t\\t\\t\\t\\n\\t\\t\\t\\t\\t<option value=\"10546\">아비정전</option>\\n\\t\\t\\t\\t\\n\\t\\t\\t\\t\\t<option value=\"159408\">극장판 소드 아트 온라인 -오디널 스케일-</option>\\n\\t\\t\\t\\t\\n\\t\\t\\t\\t\\t<option value=\"145292\">당신, 거기 있어줄래요</option>\\n\\t\\t\\t\\t\\n\\t\\t\\t\\t\\t<option value=\"150376\">나, 다니엘 블레이크</option>\\n\\t\\t\\t\\t\\n\\t\\t\\t\\t\\t<option value=\"155123\">미스 사이공: 25주년 특별 공연</option>\\n\\t\\t\\t\\t\\n\\t\\t\\t\\t\\t<option value=\"126112\">내셔널 갤러리</option>\\n\\t\\t\\t\\t\\n\\t\\t\\t\\t\\t<option value=\"134899\">동주</option>\\n\\t\\t\\t\\t\\n\\t\\t\\t\\t\\t<option value=\"136842\">빅쇼트</option>\\n\\t\\t\\t\\t\\n\\t\\t\\t\\t\\t<option value=\"140895\">러브 라이브! 더 스쿨 아이돌 무비</option>\\n\\t\\t\\t\\t\\n\\t\\t\\t\\t\\t<option value=\"76017\">뱀파이어</option>\\n\\t\\t\\t\\t\\n\\t\\t\\t\\t\\t<option value=\"109095\">무드 인디고</option>\\n\\t\\t\\t\\t\\n\\t\\t\\t\\t\\t<option value=\"13793\">동경 이야기</option>\\n\\t\\t\\t\\t\\n\\t\\t\\t\\t\\t<option value=\"38461\">하나와 앨리스</option>\\n\\t\\t\\t\\t\\n\\t\\t\\t\\t\\t<option value=\"100639\">달라스 바이어스 클럽</option>\\n\\t\\t\\t\\t\\n\\t\\t\\t\\t\\t<option value=\"95260\">더 헌트</option>\\n\\t\\t\\t\\t\\n\\t\\t\\t\\t\\t<option value=\"18543\">서유기 2 - 선리기연</option>\\n\\t\\t\\t\\t\\n\\t\\t\\t\\t\\t<option value=\"18542\">서유기 - 월광보합</option>\\n\\t\\t\\t\\t\\n\\t\\t\\t\\t\\t<option value=\"68031\">똥파리</option>\\n\\t\\t\\t\\t\\n\\t\\t\\t\\t\\t<option value=\"40027\">에로스</option>\\n\\t\\t\\t\\t\\n\\t\\t\\t\\t\\t<option value=\"10555\">오발탄</option>\\n\\t\\t\\t\\t\\n\\t\\t\\t\\t\\t<option value=\"73093\">세계를 그의 품안에</option>\\n\\t\\t\\t\\t\\n\\n\\t\\t</select>\\n\\t\\t</span>\\n\\t\\t</div>\\n\\t\\t<!-- //영화선택 -->\\n\\t</div>\\n\\t<!-- 리스트 제목> -->\\n\\t\\n\\t\\t\\n\\t\\t\\n\\t\\t\\n\\t\\t\\t<h5 class=\"sub_tlt underline\"><span class=\"choice_txt\">소울</span> <img src=\"https://ssl.pstatic.net/imgmovie/2007/img/community/stlt_grade.gif\" alt=\"평점 리스트\" width=\"59\" height=\"14\">\\n\\t\\t\\t\\t\\t<div class=\"h5_right_txt\">총 <strong class=\"c_88 fs_11\">9185</strong>개의 평점이 있습니다.</div>\\n\\t\\t\\t</h5>\\t\\t\\n\\t\\t\\n\\t\\t\\n\\t\\n\\t<!--// 리스트 제목> -->\\n\\t<!-- list -->\\n\\t<table cellspacing=\"0\" class=\"list_netizen\">\\n\\t\\t<caption class=\"blind\">개봉 후 평점 목록으로 번호, 평점, 내용, 글쓴이, 날짜 정보를 제공</caption>\\n\\t\\t<colgroup><col width=\"44\"><col width=\"*\"><col width=\"68\">\\n\\t\\t<thead>\\n\\t\\t<tr>\\n\\t\\t\\t<th>번호</th>\\n\\t\\t\\t<th>감상평</th>\\n\\t\\t\\t<th class=\"al\"><span class=\"th_m1\">글쓴이·날짜</span></th>\\n\\t\\t</tr>\\n\\t\\t</thead>\\n\\t<tbody>\\n\\t\\n\\t<tr>\\n\\t\\t<td class=\"ac num\">17442103</td>\\n\\t\\t\\t<td class=\"title\">\\n\\t\\t\\t\\n\\t\\t\\t\\n\\t\\t\\t\\n\\t\\t\\t\\t<a href=\"/movie/bi/mi/basic.nhn?code=184517\" class=\"movie color_b\">소울</a>\\n\\t\\t\\t\\n\\t\\t\\t\\n\\t\\t\\t<div class=\"list_netizen_score\">\\n\\t\\t\\t\\t<span class=\"st_off\"><span class=\"st_on\" style=\"width:100%\">별점 - 총 10점 중</span></span><em>10</em>\\n\\t\\t\\t</div>\\n\\t\\t\\t<br>코로나로 인해 잊고 있었던 보통날에 대한 소중하꽈 감사함을 알게 해준 영화입니다. 어른들이 봐도 힐링 제대로 되는 영화입니다^^ \\n\\t\\t\\t\\n\\t\\t\\t\\n\\t\\t\\t\\n\\t\\t\\t\\t\\n\\t\\t\\t\\t\\n\\t\\t\\t\\t\\n\\t\\t\\t\\t<a href=\"#\" onclick=\"report(\\'ghdu****\\', \\'+r9Z1yh/h2VXxOMUBwIlQiL6SshhVsdGHsYp73+r96E=\\', \\'코로나로 인해 잊고 있었던 보통날에 대한 소중하꽈 감사함을 알게 해준 영화입니다. 어른들이 봐도 힐링 제대로 되는 영화입니다^^\\', \\'17442103\\', \\'point_after\\');\" class=\"report\" style=\"color:#8F8F8F\" title=\"새 창\">신고</a>\\n\\t\\t\\t\\n\\t\\t\\t\\n\\t\\t\\t</td>\\n\\t\\t<td class=\"num\"><a href=\"javascript:find_list(\\'nickname\\',\\'17442103\\', \\'after\\');\" class=\"author\">ghdu****</a><br>21.03.21</td>\\n\\t</tr>\\n\\t\\n\\t<tr>\\n\\t\\t<td class=\"ac num\">17442092</td>\\n\\t\\t\\t<td class=\"title\">\\n\\t\\t\\t\\n\\t\\t\\t\\n\\t\\t\\t\\n\\t\\t\\t\\t<a href=\"/movie/bi/mi/basic.nhn?code=184517\" class=\"movie color_b\">소울</a>\\n\\t\\t\\t\\n\\t\\t\\t\\n\\t\\t\\t<div class=\"list_netizen_score\">\\n\\t\\t\\t\\t<span class=\"st_off\"><span class=\"st_on\" style=\"width:100%\">별점 - 총 10점 중</span></span><em>10</em>\\n\\t\\t\\t</div>\\n\\t\\t\\t<br>소재까지 너무 내 이야기였어요.. 조나 22번이나 너무 내 얘기.. 나도 모르게 초반부터 눈물이 하염없이 나더라구요 \\n\\t\\t\\t\\n\\t\\t\\t\\n\\t\\t\\t\\n\\t\\t\\t\\t\\n\\t\\t\\t\\t\\n\\t\\t\\t\\t\\n\\t\\t\\t\\t<a href=\"#\" onclick=\"report(\\'fktl****\\', \\'EECu/u+0Hbyx74Br6+/WKsJdRjyHv/d5no2K4nzcjJ0=\\', \\'소재까지 너무 내 이야기였어요.. 조나 22번이나 너무 내 얘기.. 나도 모르게 초반부터 눈물이 하염없이 나더라구요\\', \\'17442092\\', \\'point_after\\');\" class=\"report\" style=\"color:#8F8F8F\" title=\"새 창\">신고</a>\\n\\t\\t\\t\\n\\t\\t\\t\\n\\t\\t\\t</td>\\n\\t\\t<td class=\"num\"><a href=\"javascript:find_list(\\'nickname\\',\\'17442092\\', \\'after\\');\" class=\"author\">fktl****</a><br>21.03.21</td>\\n\\t</tr>\\n\\t\\n\\t<tr>\\n\\t\\t<td class=\"ac num\">17442017</td>\\n\\t\\t\\t<td class=\"title\">\\n\\t\\t\\t\\n\\t\\t\\t\\n\\t\\t\\t\\n\\t\\t\\t\\t<a href=\"/movie/bi/mi/basic.nhn?code=184517\" class=\"movie color_b\">소울</a>\\n\\t\\t\\t\\n\\t\\t\\t\\n\\t\\t\\t<div class=\"list_netizen_score\">\\n\\t\\t\\t\\t<span class=\"st_off\"><span class=\"st_on\" style=\"width:100%\">별점 - 총 10점 중</span></span><em>10</em>\\n\\t\\t\\t</div>\\n\\t\\t\\t<br>무미건조하고 짜증만 나는 일상이었는데, 갑자기 아름답게 보여지네요. 강추입니다. \\n\\t\\t\\t\\n\\t\\t\\t\\n\\t\\t\\t\\n\\t\\t\\t\\t\\n\\t\\t\\t\\t\\n\\t\\t\\t\\t\\n\\t\\t\\t\\t<a href=\"#\" onclick=\"report(\\'puha****\\', \\'y4k2hi57PCYki/QF07okUVDg+dRs4CAS2Yi1QSgIt9M=\\', \\'무미건조하고 짜증만 나는 일상이었는데, 갑자기 아름답게 보여지네요. 강추입니다.\\', \\'17442017\\', \\'point_after\\');\" class=\"report\" style=\"color:#8F8F8F\" title=\"새 창\">신고</a>\\n\\t\\t\\t\\n\\t\\t\\t\\n\\t\\t\\t</td>\\n\\t\\t<td class=\"num\"><a href=\"javascript:find_list(\\'nickname\\',\\'17442017\\', \\'after\\');\" class=\"author\">puha****</a><br>21.03.21</td>\\n\\t</tr>\\n\\t\\n\\t<tr>\\n\\t\\t<td class=\"ac num\">17441863</td>\\n\\t\\t\\t<td class=\"title\">\\n\\t\\t\\t\\n\\t\\t\\t\\n\\t\\t\\t\\n\\t\\t\\t\\t<a href=\"/movie/bi/mi/basic.nhn?code=184517\" class=\"movie color_b\">소울</a>\\n\\t\\t\\t\\n\\t\\t\\t\\n\\t\\t\\t<div class=\"list_netizen_score\">\\n\\t\\t\\t\\t<span class=\"st_off\"><span class=\"st_on\" style=\"width:100%\">별점 - 총 10점 중</span></span><em>10</em>\\n\\t\\t\\t</div>\\n\\t\\t\\t<br>코코로 감동을 받으신분들은 꼭 보세요 재미보단 가슴속 무언가를 자극 시키네요 \\n\\t\\t\\t\\n\\t\\t\\t\\n\\t\\t\\t\\n\\t\\t\\t\\t\\n\\t\\t\\t\\t\\n\\t\\t\\t\\t\\n\\t\\t\\t\\t<a href=\"#\" onclick=\"report(\\'mrka****\\', \\'J3lLBO2rgl+cf3bql7im5kXRnhSrq3a0gr23RuROcS8=\\', \\'코코로 감동을 받으신분들은 꼭 보세요 재미보단 가슴속 무언가를 자극 시키네요\\', \\'17441863\\', \\'point_after\\');\" class=\"report\" style=\"color:#8F8F8F\" title=\"새 창\">신고</a>\\n\\t\\t\\t\\n\\t\\t\\t\\n\\t\\t\\t</td>\\n\\t\\t<td class=\"num\"><a href=\"javascript:find_list(\\'nickname\\',\\'17441863\\', \\'after\\');\" class=\"author\">mrka****</a><br>21.03.20</td>\\n\\t</tr>\\n\\t\\n\\t<tr>\\n\\t\\t<td class=\"ac num\">17441854</td>\\n\\t\\t\\t<td class=\"title\">\\n\\t\\t\\t\\n\\t\\t\\t\\n\\t\\t\\t\\n\\t\\t\\t\\t<a href=\"/movie/bi/mi/basic.nhn?code=184517\" class=\"movie color_b\">소울</a>\\n\\t\\t\\t\\n\\t\\t\\t\\n\\t\\t\\t<div class=\"list_netizen_score\">\\n\\t\\t\\t\\t<span class=\"st_off\"><span class=\"st_on\" style=\"width:100%\">별점 - 총 10점 중</span></span><em>10</em>\\n\\t\\t\\t</div>\\n\\t\\t\\t<br>교훈이 많은 영화에요 애니메이션이지만 아이들보다는 어른들이 더 재밌어할 것 같아요! \\n\\t\\t\\t\\n\\t\\t\\t\\n\\t\\t\\t\\n\\t\\t\\t\\t\\n\\t\\t\\t\\t\\n\\t\\t\\t\\t\\n\\t\\t\\t\\t<a href=\"#\" onclick=\"report(\\'tere****\\', \\'7Ks7qkmu4pXG79KyBsTd48jDNaAjOUzI2sbnj37rurg=\\', \\'교훈이 많은 영화에요 애니메이션이지만 아이들보다는 어른들이 더 재밌어할 것 같아요!\\', \\'17441854\\', \\'point_after\\');\" class=\"report\" style=\"color:#8F8F8F\" title=\"새 창\">신고</a>\\n\\t\\t\\t\\n\\t\\t\\t\\n\\t\\t\\t</td>\\n\\t\\t<td class=\"num\"><a href=\"javascript:find_list(\\'nickname\\',\\'17441854\\', \\'after\\');\" class=\"author\">tere****</a><br>21.03.20</td>\\n\\t</tr>\\n\\t\\n\\t<tr>\\n\\t\\t<td class=\"ac num\">17441805</td>\\n\\t\\t\\t<td class=\"title\">\\n\\t\\t\\t\\n\\t\\t\\t\\n\\t\\t\\t\\n\\t\\t\\t\\t<a href=\"/movie/bi/mi/basic.nhn?code=184517\" class=\"movie color_b\">소울</a>\\n\\t\\t\\t\\n\\t\\t\\t\\n\\t\\t\\t<div class=\"list_netizen_score\">\\n\\t\\t\\t\\t<span class=\"st_off\"><span class=\"st_on\" style=\"width:100%\">별점 - 총 10점 중</span></span><em>10</em>\\n\\t\\t\\t</div>\\n\\t\\t\\t<br> \\n\\t\\t\\t\\n\\t\\t\\t\\n\\t\\t\\t\\n\\t\\t\\t\\t\\n\\t\\t\\t\\t\\n\\t\\t\\t\\t\\n\\t\\t\\t\\t<a href=\"#\" onclick=\"report(\\'esth****\\', \\'S8aGVf2YmfPK0bJqd27yRPu+qMdSPLdWEl3/NS/K7Os=\\', \\'\\', \\'17441805\\', \\'point_after\\');\" class=\"report\" style=\"color:#8F8F8F\" title=\"새 창\">신고</a>\\n\\t\\t\\t\\n\\t\\t\\t\\n\\t\\t\\t</td>\\n\\t\\t<td class=\"num\"><a href=\"javascript:find_list(\\'nickname\\',\\'17441805\\', \\'after\\');\" class=\"author\">esth****</a><br>21.03.20</td>\\n\\t</tr>\\n\\t\\n\\t<tr>\\n\\t\\t<td class=\"ac num\">17441740</td>\\n\\t\\t\\t<td class=\"title\">\\n\\t\\t\\t\\n\\t\\t\\t\\n\\t\\t\\t\\n\\t\\t\\t\\t<a href=\"/movie/bi/mi/basic.nhn?code=184517\" class=\"movie color_b\">소울</a>\\n\\t\\t\\t\\n\\t\\t\\t\\n\\t\\t\\t<div class=\"list_netizen_score\">\\n\\t\\t\\t\\t<span class=\"st_off\"><span class=\"st_on\" style=\"width:100%\">별점 - 총 10점 중</span></span><em>10</em>\\n\\t\\t\\t</div>\\n\\t\\t\\t<br>오만 감정을 다 느끼게 해준 영화입니다25년 인생 중에 가장 큰 영향을 주는 인생영화 \\n\\t\\t\\t\\n\\t\\t\\t\\n\\t\\t\\t\\n\\t\\t\\t\\t\\n\\t\\t\\t\\t\\n\\t\\t\\t\\t\\n\\t\\t\\t\\t<a href=\"#\" onclick=\"report(\\'homi****\\', \\'K11mWZVIWgQ9ZFWgE2G98qbUnT3URR6wueJJGMElS2A=\\', \\'오만 감정을 다 느끼게 해준 영화입니다25년 인생 중에 가장 큰 영향을 주는 인생영화\\', \\'17441740\\', \\'point_after\\');\" class=\"report\" style=\"color:#8F8F8F\" title=\"새 창\">신고</a>\\n\\t\\t\\t\\n\\t\\t\\t\\n\\t\\t\\t</td>\\n\\t\\t<td class=\"num\"><a href=\"javascript:find_list(\\'nickname\\',\\'17441740\\', \\'after\\');\" class=\"author\">homi****</a><br>21.03.20</td>\\n\\t</tr>\\n\\t\\n\\t<tr>\\n\\t\\t<td class=\"ac num\">17441673</td>\\n\\t\\t\\t<td class=\"title\">\\n\\t\\t\\t\\n\\t\\t\\t\\n\\t\\t\\t\\n\\t\\t\\t\\t<a href=\"/movie/bi/mi/basic.nhn?code=184517\" class=\"movie color_b\">소울</a>\\n\\t\\t\\t\\n\\t\\t\\t\\n\\t\\t\\t<div class=\"list_netizen_score\">\\n\\t\\t\\t\\t<span class=\"st_off\"><span class=\"st_on\" style=\"width:100%\">별점 - 총 10점 중</span></span><em>10</em>\\n\\t\\t\\t</div>\\n\\t\\t\\t<br>픽사 영화는 정말 최고인듯.. 영화로만 표현할 수 있는 최대치에 더해 가치있는 메시지까지 늘 안겨주는 아름다운 애니메이션. \\n\\t\\t\\t\\n\\t\\t\\t\\n\\t\\t\\t\\n\\t\\t\\t\\t\\n\\t\\t\\t\\t\\n\\t\\t\\t\\t\\n\\t\\t\\t\\t<a href=\"#\" onclick=\"report(\\'medi****\\', \\'Sl/ZtBbyErAQ95JnGSMJXert25eEtK3grHPy3SRV508=\\', \\'픽사 영화는 정말 최고인듯.. 영화로만 표현할 수 있는 최대치에 더해 가치있는 메시지까지 늘 안겨주는 아름다운 애니메이션.\\', \\'17441673\\', \\'point_after\\');\" class=\"report\" style=\"color:#8F8F8F\" title=\"새 창\">신고</a>\\n\\t\\t\\t\\n\\t\\t\\t\\n\\t\\t\\t</td>\\n\\t\\t<td class=\"num\"><a href=\"javascript:find_list(\\'nickname\\',\\'17441673\\', \\'after\\');\" class=\"author\">medi****</a><br>21.03.20</td>\\n\\t</tr>\\n\\t\\n\\t<tr>\\n\\t\\t<td class=\"ac num\">17441623</td>\\n\\t\\t\\t<td class=\"title\">\\n\\t\\t\\t\\n\\t\\t\\t\\n\\t\\t\\t\\n\\t\\t\\t\\t<a href=\"/movie/bi/mi/basic.nhn?code=184517\" class=\"movie color_b\">소울</a>\\n\\t\\t\\t\\n\\t\\t\\t\\n\\t\\t\\t<div class=\"list_netizen_score\">\\n\\t\\t\\t\\t<span class=\"st_off\"><span class=\"st_on\" style=\"width:90%\">별점 - 총 10점 중</span></span><em>9</em>\\n\\t\\t\\t</div>\\n\\t\\t\\t<br>뻔한 이야기를 뻔하지 않게 만드는 능력 \\n\\t\\t\\t\\n\\t\\t\\t\\n\\t\\t\\t\\n\\t\\t\\t\\t\\n\\t\\t\\t\\t\\n\\t\\t\\t\\t\\n\\t\\t\\t\\t<a href=\"#\" onclick=\"report(\\'minh****\\', \\'sJqRlx5FF9DHGC9aUPZOstrn+FhiTrlI+1vLua4Jhz8=\\', \\'뻔한 이야기를 뻔하지 않게 만드는 능력\\', \\'17441623\\', \\'point_after\\');\" class=\"report\" style=\"color:#8F8F8F\" title=\"새 창\">신고</a>\\n\\t\\t\\t\\n\\t\\t\\t\\n\\t\\t\\t</td>\\n\\t\\t<td class=\"num\"><a href=\"javascript:find_list(\\'nickname\\',\\'17441623\\', \\'after\\');\" class=\"author\">minh****</a><br>21.03.20</td>\\n\\t</tr>\\n\\t\\n\\t<tr>\\n\\t\\t<td class=\"ac num\">17441620</td>\\n\\t\\t\\t<td class=\"title\">\\n\\t\\t\\t\\n\\t\\t\\t\\n\\t\\t\\t\\n\\t\\t\\t\\t<a href=\"/movie/bi/mi/basic.nhn?code=184517\" class=\"movie color_b\">소울</a>\\n\\t\\t\\t\\n\\t\\t\\t\\n\\t\\t\\t<div class=\"list_netizen_score\">\\n\\t\\t\\t\\t<span class=\"st_off\"><span class=\"st_on\" style=\"width:100%\">별점 - 총 10점 중</span></span><em>10</em>\\n\\t\\t\\t</div>\\n\\t\\t\\t<br>기대했던 만큼 너무 재밌었고 교훈과 감동을 동시에 주었던 영화였다ㅜㅠ 역시 믿듣보 픽사 뮤비 체고 ! \\n\\t\\t\\t\\n\\t\\t\\t\\n\\t\\t\\t\\n\\t\\t\\t\\t\\n\\t\\t\\t\\t\\n\\t\\t\\t\\t\\n\\t\\t\\t\\t<a href=\"#\" onclick=\"report(\\'kjy0****\\', \\'NyFg/WxG7yF1e/hlyKeo+4SkIC9/IycDAAU6qzLveUk=\\', \\'기대했던 만큼 너무 재밌었고 교훈과 감동을 동시에 주었던 영화였다ㅜㅠ 역시 믿듣보 픽사 뮤비 체고 !\\', \\'17441620\\', \\'point_after\\');\" class=\"report\" style=\"color:#8F8F8F\" title=\"새 창\">신고</a>\\n\\t\\t\\t\\n\\t\\t\\t\\n\\t\\t\\t</td>\\n\\t\\t<td class=\"num\"><a href=\"javascript:find_list(\\'nickname\\',\\'17441620\\', \\'after\\');\" class=\"author\">kjy0****</a><br>21.03.20</td>\\n\\t</tr>\\n\\t\\n\\t\\n\\t</tbody>\\n\\t</table>\\n\\t<form id=\"reportForm\" name=\"reportForm1\"></form>\\n\\t<script type=\"text/javascript\">\\n\\tfunction report(writerId, encryptedId, title, nid, boardId){\\n\\t\\tif( \\'Y\\' == \\'N\\' || \\'Y\\' == \\'G\\' ) {\\n\\t\\t\\topenNotify(\\'Y\\', \\'\\');\\n\\t\\t\\treturn;\\n\\t\\t}\\n\\t\\tif(login_check()== false) {\\n\\t\\t\\treturn;\\n\\t\\t}\\n\\t\\t\\t\\n\\t\\t\\turl = location.protocol+ \"//\" + location.host + \"/movie/board/common/report.nhn\";\\n\\t\\t\\tif(\"\" == \"\"){\\n\\t\\t\\t\\tgoLogin();\\n\\t\\t\\t}else{\\n\\t\\t\\t\\tvar reportForm = document.getElementById(\"reportForm\");\\n\\t\\t\\t\\tvar formInput1 = createReportHiddenParameter(\"writerId\", writerId);\\n\\t\\t\\t\\tvar formInput2 = createReportHiddenParameter(\"nid\", nid);\\n\\t\\t\\t\\tvar formInput3 = createReportHiddenParameter(\"boardId\", boardId);\\n\\t\\t\\t\\tvar formInput4 = createReportHiddenParameter(\"title\", title);\\n\\t\\t\\t\\tvar formInput5 = createReportHiddenParameter(\"encryptedId\", encryptedId);\\n\\n\\t\\t\\t\\treportForm.appendChild(formInput1);\\n\\t\\t\\t\\treportForm.appendChild(formInput2);\\n\\t\\t\\t\\treportForm.appendChild(formInput3);\\n\\t\\t\\t\\treportForm.appendChild(formInput4);\\n\\t\\t\\t\\treportForm.appendChild(formInput5);\\n\\t\\t\\t\\t\\n\\t\\t\\t\\twindow.open(\"\", \"report\", \"status=yes, width=650, height=550, resizable=yes\");\\n\\t\\t\\t\\treportForm.action = url;\\n\\t\\t\\t\\treportForm.target=\"report\";\\n\\t\\t\\t\\treportForm.submit();\\n\\n\\t\\t\\t\\treportForm.removeChild(formInput1);\\n\\t\\t\\t\\treportForm.removeChild(formInput2);\\n\\t\\t\\t\\treportForm.removeChild(formInput3);\\n\\t\\t\\t\\treportForm.removeChild(formInput4);\\t\\n\\t\\t\\t\\treportForm.removeChild(formInput5);\\t\\n\\t\\t\\t}\\n\\t}\\n\\tfunction createReportHiddenParameter(name, value){\\n\\t\\tvar input = document.createElement(\"input\");\\n\\t\\tinput.type=\"hidden\";\\n\\t\\tinput.name = name;\\n\\t\\tinput.value = value;\\n\\t\\treturn input;\\n\\t}\\n\\t</script>\\n\\t<!-- //list -->\\n\\t<!-- 페이징 -->\\n\\t<div class=\"paging\">\\n\\t\\t<div>\\n\\t\\t\\n\\t\\t\\t\\n\\t\\t\\t<a href=\"/movie/point/af/list.nhn?st=mcode&sword=184517&target=after&page=1\"><span class=\"on\">1</span></a>\\n<a href=\"/movie/point/af/list.nhn?st=mcode&sword=184517&target=after&page=2\"><span>2</span></a>\\n<a href=\"/movie/point/af/list.nhn?st=mcode&sword=184517&target=after&page=3\"><span>3</span></a>\\n<a href=\"/movie/point/af/list.nhn?st=mcode&sword=184517&target=after&page=4\"><span>4</span></a>\\n<a href=\"/movie/point/af/list.nhn?st=mcode&sword=184517&target=after&page=5\"><span>5</span></a>\\n<a href=\"/movie/point/af/list.nhn?st=mcode&sword=184517&target=after&page=6\"><span>6</span></a>\\n<a href=\"/movie/point/af/list.nhn?st=mcode&sword=184517&target=after&page=7\"><span>7</span></a>\\n<a href=\"/movie/point/af/list.nhn?st=mcode&sword=184517&target=after&page=8\"><span>8</span></a>\\n<a href=\"/movie/point/af/list.nhn?st=mcode&sword=184517&target=after&page=9\"><span>9</span></a>\\n<a href=\"/movie/point/af/list.nhn?st=mcode&sword=184517&target=after&page=10\"><span>10</span></a>\\n\\n\\t\\t\\t<a href=\"/movie/point/af/list.nhn?st=mcode&sword=184517&target=after&page=2\" title=\\'다음\\' class=\\'pg_next\\'><em>다음</em></a>\\n\\n\\t\\t\\n\\t\\t</div>\\n\\t</div>\\n\\t<!-- //페이징 -->\\n\\t<!-- 검색 -->\\n\\t<fieldset class=\"form_board_search pt_18\">\\n\\t<legend>게시물 검색</legend>\\n\\t\\t<form name=\"searchListForm\" action=\"list.nhn\" method=\"get\" onSubmit=\"doSearchList(); return false;\">\\n\\t\\t\\t<select size=\"1\" name=\"st\" style=\"width:75px;\" class=\"select_type_1\" onchange=\"checkSearchType(); return false;\" title=\"게시물 검색\">\\n\\t\\t\\t\\t<option value=\"userid\">글쓴이</option>\\n\\t\\t\\t\\t<option value=\"movie\">관련영화</option>\\n\\t\\t\\t</select>\\n\\t\\t\\t<input type=\"hidden\" name=\"target\" value=\"after\"/>\\n\\t\\t\\t<input type=\"hidden\" name=\"mcode\" value=\"\"/>\\n\\t\\t\\t<input name=\"sword\" type=\"text\" style=\"width:145px\" title=\"검색어입력\" class=\"input_type_text_4\" onfocus=\"openMovieSearchPopupOrNot(); return false;\">\\n\\t\\t\\t<input type=\"image\" src=\"https://ssl.pstatic.net/imgmovie/2007/img/common/btn_search.gif\" alt=\"검색\">\\n\\t\\t</form>\\n\\t</fieldset>\\n\\t<!-- //검색 -->\\n\\t<script type=\"text/javascript\">\\n\\t\\n\\t\\tvar oForm = document.searchListForm;\\n\\t\\t\\n\\t\\tfunction checkSearchType() {\\n\\t\\t\\tvar searchType = oForm.st.value;\\n\\t\\t\\t\\n\\t\\t\\tif (searchType == \"movie\") {\\n\\t\\t\\t\\toForm.sword.readOnly = true;\\n\\t\\t\\t} else {\\n\\t\\t\\t\\toForm.sword.readOnly = false;\\n\\t\\t\\t}\\n\\t\\t}\\n\\t\\t\\n\\t\\tfunction openMovieSearchPopupOrNot() {\\n\\t\\t\\tvar searchType = oForm.st.value;\\n\\t\\t\\t\\n\\t\\t\\tif (searchType == \"movie\") {\\n\\t\\t\\t\\toForm.st.focus();\\n\\t\\t\\t\\twindow.open(\"/movie/bi/pop/movie_sel.nhn\", \"select_movie\", \"scrollbars=yes, status=no, toolbar=no, width=530, height=470\");\\n\\t\\t\\t}\\n\\t\\t\\t\\n\\t\\t\\treturn false;\\n\\t\\t}\\n\\t\\t\\n\\t\\tfunction doSearchList() {\\n\\t\\t\\tvar searchType = oForm.st.value;\\n\\t\\t\\t\\n\\t\\t\\tif(oForm.sword.value.length < 1) {\\n\\t\\t\\t\\talert(\"검색어를 입력해 주세요.\");\\n\\t\\t\\t\\treturn false;\\n\\t\\t\\t}\\n\\t\\t\\t\\n\\t\\t\\tif (searchType == \"movie\") {\\n\\t\\t\\t\\tvar st = \"mcode\";\\n\\t\\t\\t\\tvar sword = oForm.mcode.value;\\n\\t\\t\\t\\t\\n\\t\\t\\t\\toForm.st.value = st;\\n\\t\\t\\t\\toForm.sword.value = sword;\\n\\t\\t\\t\\tfind_list(st, sword, \"\");\\n\\t\\t\\t\\t\\n\\t\\t\\t\\treturn false;\\n\\t\\t\\t}\\n\\t\\t\\t\\n\\t\\t\\toForm.sword.value = oForm.sword.value.replace(/\\\\\\'/g,\"\\\\\\\\\\'\");\\n\\t\\t\\toForm.submit();\\n\\t\\t\\treturn true;\\n\\t\\t}\\n\\t\\t\\n\\t\\t// 영화 검색 팝업 창에서 콜백 하는, 영화 정보 세팅 함수\\n\\t\\tfunction setMovieInfo (mcode, mtitle) {\\n\\t\\t\\toForm.mcode.value = mcode;\\n\\t\\t\\toForm.sword.value = mtitle;\\n\\t\\t}\\n\\t\\t\\n\\t</script>\\n\\t\\n\\t<!-- 안내박스 -->\\n\\t<ul class=\"box_guide mt_35\">\\n\\t\\t<li>\\n\\t\\t\\t<dl class=\"info_guide\">\\n\\t\\t\\t\\t<dt class=\"blind\">유의사항</dt>\\n\\t\\t\\t\\t<dd>평점은 영화별로 1개의 아이디당 한 번만 등록이 가능하며 하루에 최대 3개의 영화까지만 등록이 가능합니다.\\n\\t\\t\\t\\t\\t게시판 용도에 맞지 않는 글은 운영자에 의해 삭제될 수 있습니다. <span class=\"rule\"><a href=\"javascript:openRulePopup();\"></a></span></dd>\\n\\t\\t\\t</dl>\\n\\t\\t</li>\\n\\t</ul>\\n\\t<!-- //안내박스 -->\\n\\t<!-- 탑버튼 -->\\n\\t<div class=\"go_top\">\\n\\t\\n\\t<a href=\"#gnb_top\"><img src=\"https://ssl.pstatic.net/imgmovie/2007/img/common/btn_top.gif\" alt=\"TOP\" width=\"30\" height=\"11\"></a>\\n\\t</div>\\n\\t<!-- //탑버튼 -->\\r\\n\\t\\t\\t\\t\\t</div>\\r\\n\\t\\t\\t\\r\\n\\t\\t\\t\\t\\t<div id=\"assistant\">\\r\\n\\t\\t\\t\\t\\t\\t\\r\\n\\r\\n\\r\\n\\r\\n\\r\\n\\r\\n\\r\\n\\r\\n\\t\\r\\n\\t\\t\\r\\n\\r\\n\\r\\n\\r\\n\\r\\n\\r\\n<!-- 우측 메뉴 -->\\r\\n\\r\\n\\t \\r\\n\\r\\n\\r\\n\\r\\n\\t<!-- 영화 인기검색어 -->\\r\\n\\t<div class=\"box_type_1 mb_8\">\\r\\n\\t<h3><img src=\"https://ssl.pstatic.net/imgmovie/2007/img/super_db/tlt_r_best_movie.gif\" alt=\"영화 인기검색어\" width=\"75\" height=\"11\"></h3>\\r\\n\\t\\t<ul class=\"r_ranking\">\\r\\n\\t\\t\\t\\r\\n\\t\\t\\t\\r\\n\\t\\t\\t\\t\\r\\n\\t\\t\\t\\t\\r\\n\\t\\t\\t\\t\\r\\n\\t\\t\\t\\t\\r\\n\\t\\t\\t\\t\\r\\n\\t\\t\\t\\t<li class=\"ranking01\">\\r\\n\\t\\t\\t\\t\\r\\n\\t\\t\\t\\t\\r\\n\\t\\t\\t\\t<a href=\"/movie/bi/mi/basic.nhn?code=187310\" onclick=\"clickcr(this,\\'pop.list\\',\\'187310\\',\\'1\\',event);\" class=\\'b\\' title=\"미나리\"><span class=\"blind\">1위</span>미나리</a>\\r\\n\\t\\t\\t\\t<span class=\"rank\">\\r\\n\\t\\t\\t\\t\\r\\n\\t\\t\\t\\t\\r\\n\\t\\t\\t\\t\\r\\n\\t\\t\\t\\t\\r\\n\\t\\t\\t\\t\\t\\r\\n\\t\\t\\t\\t\\r\\n\\t\\t\\t\\t\\r\\n\\t\\t\\t\\t\\r\\n\\t\\t\\t\\t\\t\\r\\n\\t\\t\\t\\t\\t\\r\\n\\t\\t\\t\\t\\t\\r\\n\\t\\t\\t\\t\\t\\r\\n\\t\\t\\t\\t\\r\\n\\t\\t\\t\\t<img src=\"https://ssl.pstatic.net/imgmovie/2007/img/common/icon_na_1.gif\"\\r\\n\\t\\t\\t\\t\\t alt=\"순위 변동 없음\"\\r\\n\\t\\t\\t\\t\\t width=\"7\" height=\"10\">0</span>\\r\\n\\t\\t\\t\\t\\r\\n\\t\\t\\t\\r\\n\\t\\t\\t\\t\\r\\n\\t\\t\\t\\t\\r\\n\\t\\t\\t\\t\\r\\n\\t\\t\\t\\t\\r\\n\\t\\t\\t\\t<li class=\"ranking02\">\\r\\n\\t\\t\\t\\t\\r\\n\\t\\t\\t\\t\\r\\n\\t\\t\\t\\t<a href=\"/movie/bi/mi/basic.nhn?code=196051\" onclick=\"clickcr(this,\\'pop.list\\',\\'196051\\',\\'2\\',event);\"  title=\"극장판 귀멸의 칼날: 무한열차편\"><span class=\"blind\">2위</span>극장판 귀멸의 칼날..</a>\\r\\n\\t\\t\\t\\t<span class=\"rank\">\\r\\n\\t\\t\\t\\t\\r\\n\\t\\t\\t\\t\\r\\n\\t\\t\\t\\t\\r\\n\\t\\t\\t\\t\\r\\n\\t\\t\\t\\t\\t\\r\\n\\t\\t\\t\\t\\r\\n\\t\\t\\t\\t\\r\\n\\t\\t\\t\\t\\r\\n\\t\\t\\t\\t\\t\\r\\n\\t\\t\\t\\t\\t\\r\\n\\t\\t\\t\\t\\t\\r\\n\\t\\t\\t\\t\\t\\r\\n\\t\\t\\t\\t\\r\\n\\t\\t\\t\\t<img src=\"https://ssl.pstatic.net/imgmovie/2007/img/common/icon_na_1.gif\"\\r\\n\\t\\t\\t\\t\\t alt=\"순위 변동 없음\"\\r\\n\\t\\t\\t\\t\\t width=\"7\" height=\"10\">0</span>\\r\\n\\t\\t\\t\\t\\r\\n\\t\\t\\t\\r\\n\\t\\t\\t\\t\\r\\n\\t\\t\\t\\t\\r\\n\\t\\t\\t\\t\\r\\n\\t\\t\\t\\t\\r\\n\\t\\t\\t\\t<li class=\"ranking03\">\\r\\n\\t\\t\\t\\t\\r\\n\\t\\t\\t\\t\\r\\n\\t\\t\\t\\t<a href=\"/movie/bi/mi/basic.nhn?code=184518\" onclick=\"clickcr(this,\\'pop.list\\',\\'184518\\',\\'3\\',event);\"  title=\"라야와 마지막 드래곤\"><span class=\"blind\">3위</span>라야와 마지막 드래곤</a>\\r\\n\\t\\t\\t\\t<span class=\"rank\">\\r\\n\\t\\t\\t\\t\\r\\n\\t\\t\\t\\t\\r\\n\\t\\t\\t\\t\\r\\n\\t\\t\\t\\t\\r\\n\\t\\t\\t\\t\\t\\r\\n\\t\\t\\t\\t\\r\\n\\t\\t\\t\\t\\r\\n\\t\\t\\t\\t\\r\\n\\t\\t\\t\\t\\t\\r\\n\\t\\t\\t\\t\\t\\r\\n\\t\\t\\t\\t\\t\\r\\n\\t\\t\\t\\t\\t\\r\\n\\t\\t\\t\\t\\r\\n\\t\\t\\t\\t<img src=\"https://ssl.pstatic.net/imgmovie/2007/img/common/icon_na_1.gif\"\\r\\n\\t\\t\\t\\t\\t alt=\"순위 변동 없음\"\\r\\n\\t\\t\\t\\t\\t width=\"7\" height=\"10\">0</span>\\r\\n\\t\\t\\t\\t\\r\\n\\t\\t\\t\\r\\n\\t\\t\\t\\t\\r\\n\\t\\t\\t\\t\\r\\n\\t\\t\\t\\t\\r\\n\\t\\t\\t\\t\\r\\n\\t\\t\\t\\t<li class=\"ranking04\">\\r\\n\\t\\t\\t\\t\\r\\n\\t\\t\\t\\t\\r\\n\\t\\t\\t\\t<a href=\"/movie/bi/mi/basic.nhn?code=189124\" onclick=\"clickcr(this,\\'pop.list\\',\\'189124\\',\\'4\\',event);\"  title=\"미션 파서블\"><span class=\"blind\">4위</span>미션 파서블</a>\\r\\n\\t\\t\\t\\t<span class=\"rank\">\\r\\n\\t\\t\\t\\t\\r\\n\\t\\t\\t\\t\\r\\n\\t\\t\\t\\t\\r\\n\\t\\t\\t\\t\\r\\n\\t\\t\\t\\t\\t\\r\\n\\t\\t\\t\\t\\r\\n\\t\\t\\t\\t\\r\\n\\t\\t\\t\\t\\r\\n\\t\\t\\t\\t\\t\\r\\n\\t\\t\\t\\t\\t\\r\\n\\t\\t\\t\\t\\t\\r\\n\\t\\t\\t\\t\\t\\r\\n\\t\\t\\t\\t\\r\\n\\t\\t\\t\\t<img src=\"https://ssl.pstatic.net/imgmovie/2007/img/common/icon_na_1.gif\"\\r\\n\\t\\t\\t\\t\\t alt=\"순위 변동 없음\"\\r\\n\\t\\t\\t\\t\\t width=\"7\" height=\"10\">0</span>\\r\\n\\t\\t\\t\\t\\r\\n\\t\\t\\t\\r\\n\\t\\t\\t\\t\\r\\n\\t\\t\\t\\t\\r\\n\\t\\t\\t\\t\\r\\n\\t\\t\\t\\t\\r\\n\\t\\t\\t\\t<li class=\"ranking05\">\\r\\n\\t\\t\\t\\t\\r\\n\\t\\t\\t\\t\\r\\n\\t\\t\\t\\t<a href=\"/movie/bi/mi/basic.nhn?code=182019\" onclick=\"clickcr(this,\\'pop.list\\',\\'182019\\',\\'5\\',event);\"  title=\"리스타트\"><span class=\"blind\">5위</span>리스타트</a>\\r\\n\\t\\t\\t\\t<span class=\"rank\">\\r\\n\\t\\t\\t\\t\\r\\n\\t\\t\\t\\t\\r\\n\\t\\t\\t\\t\\r\\n\\t\\t\\t\\t\\r\\n\\t\\t\\t\\t\\t\\r\\n\\t\\t\\t\\t\\r\\n\\t\\t\\t\\t\\r\\n\\t\\t\\t\\t\\r\\n\\t\\t\\t\\t\\t\\r\\n\\t\\t\\t\\t\\t\\r\\n\\t\\t\\t\\t\\t\\r\\n\\t\\t\\t\\t\\t\\r\\n\\t\\t\\t\\t\\r\\n\\t\\t\\t\\t<img src=\"https://ssl.pstatic.net/imgmovie/2007/img/common/icon_na_1.gif\"\\r\\n\\t\\t\\t\\t\\t alt=\"순위 변동 없음\"\\r\\n\\t\\t\\t\\t\\t width=\"7\" height=\"10\">0</span>\\r\\n\\t\\t\\t\\t\\r\\n\\t\\t\\t\\r\\n\\t\\t</ul>\\r\\n        <!--[D] 더보기 위치 이동 -->\\r\\n        <a href=\"/movie/sdb/rank/rmovie.nhn\" onclick=\"clickcr(this,\\'pop.more\\',\\'\\',\\'\\',event);\" class=\"more\">더보기</a>\\r\\n        <p class=\"term\">2021.03.19</p>\\r\\n\\t</div>\\r\\n  \\r\\n\\r\\n\\t \\n\\n\\n\\n\\t<script type=\"text/javascript\">\\n\\t\\t//탭 토글해주는 스크립트\\n\\t\\tfunction showTopPoint(param){\\t\\t\\t\\n\\t\\t\\tif(param ==\"running\"){\\n\\t\\t\\t\\tdocument.getElementById(\"topRunning\").style.display=\"\";\\n\\t\\t\\t\\tdocument.getElementById(\"topAll\").style.display=\"none\";\\n                document.getElementById(\"running_tab\").focus();\\n\\t\\t\\t\\t\\n\\t\\t\\t}else{\\n\\t\\t\\t\\tdocument.getElementById(\"topRunning\").style.display=\"none\";\\n\\t\\t\\t\\tdocument.getElementById(\"topAll\").style.display=\"\";\\n                document.getElementById(\"all_tab_in_all\").focus();\\n\\t\\t\\t}\\n\\t\\t}\\n\\t</script>\\n\\t<!-- 네티즌 최고 평점 -->\\n\\t<div id=\"topRunning\" class=\"box_type_1 mb_8\">\\n\\t\\t<h3><img src=\"https://ssl.pstatic.net/imgmovie/2007/img/community/tlt_r_netizen_good.gif\" alt=\"네티즌 최고 평점\" width=\"77\" height=\"12\"></h3>\\n\\t\\t<div style=\"_margin-top:-1px;\"><a id=\"running_tab\" href=\"javascript:showTopPoint(\\'running\\');\" onclick=\"clickcr(this,\\'npt.now\\',\\'\\',\\'\\',event);\"><img src=\"https://ssl.pstatic.net/imgmovie/2007/img/community/tab_r_01_on.gif\" alt=\"현재 상영영화\" width=\"99\" height=\"33\"></a><a id=\"all_tab\" href=\"javascript:showTopPoint(\\'all\\');\" onclick=\"clickcr(this,\\'npt.all\\',\\'\\',\\'\\',event);\"><img src=\"https://ssl.pstatic.net/imgmovie/2007/img/community/tab_r_02_off.gif\" alt=\"모든영화\" width=\"99\" height=\"33\"></a></div>\\n\\t\\t<!--[D] 선택 된 탭 대체 텍스트 제공 -->\\n\\t\\t<strong class=\"blind\">현재 상영영화</strong>\\n\\t\\t<ul class=\"grade\">\\n\\t\\t\\t\\n\\t\\t\\t\\t<li class=\"1st ranking01\">\\n\\t\\t\\t\\t\\t<span class=\"blind\">1위</span>\\n\\t\\t\\t\\t\\t\\n\\t\\t\\t\\t\\t\\t<a href=\"/movie/point/af/list.nhn?st=mcode&sword=196843\" onclick=\"clickcr(this,\\'npt*n.list\\',\\'196843\\',\\'1\\',event);\" class=\"ls b\" title=\"극장판 바이올렛 에버가든\">\\n\\t\\t\\t\\t\\t\\t극장판 바이올렛 에..</a><span class=\"num b check\">9.49</span>\\n\\t\\t\\t\\t\\t\\n\\t\\t\\t\\t\\t\\n\\t\\t\\t\\t\\t\\n\\t\\t\\t\\t\\t\\t<p class=\"img_movie\"><a href=\"/movie/point/af/list.nhn?st=mcode&sword=196843\" onclick=\"clickcr(this,\\'npt*n.img\\',\\'196843\\',\\'\\',event);\">\\n\\t\\t\\t\\t\\t\\t\\n\\t\\t\\t\\t\\t\\t\\t<img src=\"https://ssl.pstatic.net/imgmovie/mdi/mi_new_master/1968/196843_M12_141126.jpg\" alt=\"극장판 바이올렛 에버가든\" width=\"176\" height=\"80\">\\n\\t\\t\\t\\t\\t\\t\\n\\t\\t\\t\\t\\t\\t\\n\\t\\t\\t\\t\\t\\t</a>\\n\\t\\t\\t\\t\\t\\t</p>\\n\\t\\t\\t\\t\\t\\t\\t\\t\\t\\t\\t\\t\\n\\t\\t\\t\\t</li>\\n\\t\\t\\t\\n\\t\\t\\t\\t<li class=\"1st ranking02\">\\n\\t\\t\\t\\t\\t<span class=\"blind\">2위</span>\\n\\t\\t\\t\\t\\t\\n\\t\\t\\t\\t\\t\\n\\t\\t\\t\\t\\t\\t<a href=\"/movie/point/af/list.nhn?st=mcode&sword=31796\" onclick=\"clickcr(this,\\'npt*n.list\\',\\'31796\\',\\'2\\',event);\" class=\"ls\" title=\"반지의 제왕: 왕의 귀환\">\\n\\t\\t\\t\\t\\t\\t반지의 제왕: 왕의 ..</a><span class=\"num b\">9.37</span>\\n\\t\\t\\t\\t\\t\\n\\t\\t\\t\\t\\t\\t\\t\\t\\t\\t\\t\\t\\n\\t\\t\\t\\t</li>\\n\\t\\t\\t\\n\\t\\t\\t\\t<li class=\"1st ranking03\">\\n\\t\\t\\t\\t\\t<span class=\"blind\">3위</span>\\n\\t\\t\\t\\t\\t\\n\\t\\t\\t\\t\\t\\n\\t\\t\\t\\t\\t\\t<a href=\"/movie/point/af/list.nhn?st=mcode&sword=134899\" onclick=\"clickcr(this,\\'npt*n.list\\',\\'134899\\',\\'3\\',event);\" class=\"ls\" title=\"동주\">\\n\\t\\t\\t\\t\\t\\t동주</a><span class=\"num b\">9.37</span>\\n\\t\\t\\t\\t\\t\\n\\t\\t\\t\\t\\t\\t\\t\\t\\t\\t\\t\\t\\n\\t\\t\\t\\t</li>\\n\\t\\t\\t\\n\\t\\t\\t\\t<li class=\"1st ranking04\">\\n\\t\\t\\t\\t\\t<span class=\"blind\">4위</span>\\n\\t\\t\\t\\t\\t\\n\\t\\t\\t\\t\\t\\n\\t\\t\\t\\t\\t\\t<a href=\"/movie/point/af/list.nhn?st=mcode&sword=18543\" onclick=\"clickcr(this,\\'npt*n.list\\',\\'18543\\',\\'4\\',event);\" class=\"ls\" title=\"서유기 2 - 선리기연\">\\n\\t\\t\\t\\t\\t\\t서유기 2 - 선리기..</a><span class=\"num b\">9.36</span>\\n\\t\\t\\t\\t\\t\\n\\t\\t\\t\\t\\t\\t\\t\\t\\t\\t\\t\\t\\n\\t\\t\\t\\t</li>\\n\\t\\t\\t\\n\\t\\t\\t\\t<li class=\"1st ranking05\">\\n\\t\\t\\t\\t\\t<span class=\"blind\">5위</span>\\n\\t\\t\\t\\t\\t\\n\\t\\t\\t\\t\\t\\n\\t\\t\\t\\t\\t\\t<a href=\"/movie/point/af/list.nhn?st=mcode&sword=31795\" onclick=\"clickcr(this,\\'npt*n.list\\',\\'31795\\',\\'5\\',event);\" class=\"ls\" title=\"반지의 제왕: 두 개의 탑\">\\n\\t\\t\\t\\t\\t\\t반지의 제왕: 두 개..</a><span class=\"num b\">9.35</span>\\n\\t\\t\\t\\t\\t\\n\\t\\t\\t\\t\\t\\t\\t\\t\\t\\t\\t\\t\\n\\t\\t\\t\\t</li>\\n\\t\\t\\t\\t\\t\\t\\t\\t\\n\\t\\t</ul>\\n\\t\\t<a href=\"/movie/sdb/rank/rmovie.nhn?sel=cur\" onclick=\"clickcr(this,\\'npt.more\\',\\'\\',\\'\\',event);\" class=\"more\">더보기</a><!-- 현재 상영영화의 더보기 -->\\n\\t\\t<p class=\"term\" style=\"padding:0 13px 7px 0;\">2021.03.19<img src=\"https://ssl.pstatic.net/imgmovie/2007/img/community/txt_righ_point.gif\" alt=\"까지의 관람후 누적 평점\" width=\"88\" height=\"9\"></p>\\n\\t</div>\\n\\t<div id=\"topAll\" class=\"box_type_1 mb_8\" style=\"display:none;\">\\n\\t\\t<h3><img src=\"https://ssl.pstatic.net/imgmovie/2007/img/community/tlt_r_netizen_good.gif\" alt=\"네티즌 최고 평점\" width=\"77\" height=\"12\"></h3>\\n\\t\\t<strong class=\"blind\">모든 영화</strong>\\n\\t\\t<div style=\"_margin-top:-1px;\"><a href=\"javascript:showTopPoint(\\'running\\');\" onclick=\"clickcr(this,\\'npt.now\\',\\'\\',\\'\\',event);\"><img src=\"https://ssl.pstatic.net/imgmovie/2007/img/community/tab_r_01_off.gif\" alt=\"현재 상영영화\" width=\"99\" height=\"33\"></a><a id=\"all_tab_in_all\" href=\"javascript:showTopPoint(\\'all\\');\" onclick=\"clickcr(this,\\'npt.all\\',\\'\\',\\'\\',event);\"><img src=\"https://ssl.pstatic.net/imgmovie/2007/img/community/tab_r_02_on.gif\" alt=\"모든영화\" width=\"99\" height=\"33\"></a></div>\\n\\t\\t<ul class=\"grade\">\\n\\t\\t\\t\\n\\t\\t\\t\\t<li class=\"1st ranking01\">\\n\\t\\t\\t\\t\\t<span class=\"blind\">1위</span>\\n\\t\\t\\t\\t\\t\\n\\t\\t\\t\\t\\t\\t<a href=\"/movie/point/af/list.nhn?st=mcode&sword=171539\" onclick=\"clickcr(this,\\'npt*a.list\\',\\'171539\\',\\'1\\',event);\" class=\"ls b\" title=\"그린 북\">\\n\\t\\t\\t\\t\\t\\t그린 북\\n\\t\\t\\t\\t\\t\\t</a><span class=\"num b check\">9.59</span>\\n\\t\\t\\t\\t\\t\\n\\t\\t\\t\\t\\t\\n\\t\\t\\t\\t\\t\\n\\t\\t\\t\\t\\t<p class=\"img_movie\"><a href=\"/movie/point/af/list.nhn?st=mcode&sword=171539\" onclick=\"clickcr(this,\\'npt*a.img\\',\\'171539\\',\\'\\',event);\">\\n\\t\\t\\t\\t\\t\\n\\t\\t\\t\\t\\t\\t\\t<img src=\"https://ssl.pstatic.net/imgmovie/mdi/mi_new_master/1715/171539_M26_145006.jpg\" alt=\"그린 북\" width=\"176\" height=\"80\">\\n\\t\\t\\t\\t\\t\\t\\n\\t\\t\\t\\t\\t\\t\\n\\t\\t\\t\\t\\t</a></p>\\n\\t\\t\\t\\t\\t\\t\\t\\t\\t\\t\\t\\t\\n\\t\\t\\t\\t</li>\\n\\t\\t\\t\\n\\t\\t\\t\\t<li class=\"1st ranking02\">\\n\\t\\t\\t\\t\\t<span class=\"blind\">2위</span>\\n\\t\\t\\t\\t\\t\\n\\t\\t\\t\\t\\t\\n\\t\\t\\t\\t\\t\\t<a href=\"/movie/point/af/list.nhn?st=mcode&sword=174830\" onclick=\"clickcr(this,\\'npt*a.list\\',\\'174830\\',\\'2\\',event);\" class=\"ls\" title=\"가버나움\">\\n\\t\\t\\t\\t\\t\\t가버나움</a><span class=\"num b\">9.59</span>\\n\\t\\t\\t\\t\\t\\n\\t\\t\\t\\t\\t\\t\\t\\t\\t\\t\\t\\t\\n\\t\\t\\t\\t</li>\\n\\t\\t\\t\\n\\t\\t\\t\\t<li class=\"1st ranking03\">\\n\\t\\t\\t\\t\\t<span class=\"blind\">3위</span>\\n\\t\\t\\t\\t\\t\\n\\t\\t\\t\\t\\t\\n\\t\\t\\t\\t\\t\\t<a href=\"/movie/point/af/list.nhn?st=mcode&sword=192613\" onclick=\"clickcr(this,\\'npt*a.list\\',\\'192613\\',\\'3\\',event);\" class=\"ls\" title=\"디지몬 어드벤처 라스트 에볼루션 : 인연\">\\n\\t\\t\\t\\t\\t\\t디지몬 어드벤처 라..</a><span class=\"num b\">9.57</span>\\n\\t\\t\\t\\t\\t\\n\\t\\t\\t\\t\\t\\t\\t\\t\\t\\t\\t\\t\\n\\t\\t\\t\\t</li>\\n\\t\\t\\t\\n\\t\\t\\t\\t<li class=\"1st ranking04\">\\n\\t\\t\\t\\t\\t<span class=\"blind\">4위</span>\\n\\t\\t\\t\\t\\t\\n\\t\\t\\t\\t\\t\\n\\t\\t\\t\\t\\t\\t<a href=\"/movie/point/af/list.nhn?st=mcode&sword=144906\" onclick=\"clickcr(this,\\'npt*a.list\\',\\'144906\\',\\'4\\',event);\" class=\"ls\" title=\"베일리 어게인\">\\n\\t\\t\\t\\t\\t\\t베일리 어게인</a><span class=\"num b\">9.53</span>\\n\\t\\t\\t\\t\\t\\n\\t\\t\\t\\t\\t\\t\\t\\t\\t\\t\\t\\t\\n\\t\\t\\t\\t</li>\\n\\t\\t\\t\\n\\t\\t\\t\\t<li class=\"1st ranking05\">\\n\\t\\t\\t\\t\\t<span class=\"blind\">5위</span>\\n\\t\\t\\t\\t\\t\\n\\t\\t\\t\\t\\t\\n\\t\\t\\t\\t\\t\\t<a href=\"/movie/point/af/list.nhn?st=mcode&sword=151196\" onclick=\"clickcr(this,\\'npt*a.list\\',\\'151196\\',\\'5\\',event);\" class=\"ls\" title=\"원더\">\\n\\t\\t\\t\\t\\t\\t원더</a><span class=\"num b\">9.51</span>\\n\\t\\t\\t\\t\\t\\n\\t\\t\\t\\t\\t\\t\\t\\t\\t\\t\\t\\t\\n\\t\\t\\t\\t</li>\\n\\t\\t\\t\\t\\t\\t\\t\\t\\n\\t\\t</ul>\\n\\t\\t<a href=\"/movie/sdb/rank/rmovie.nhn?sel=pnt\" onclick=\"clickcr(this,\\'npt.more\\',\\'\\',\\'\\',event);\" class=\"more\">더보기</a><!-- 모든영화의 더보기 -->\\n\\t\\t<p class=\"term\" style=\"padding:0 13px 7px 0;\">2021.03.19<img src=\"https://ssl.pstatic.net/imgmovie/2007/img/community/txt_righ_point.gif\" alt=\"까지의 관람후 누적 평점\" width=\"88\" height=\"9\"></p>\\n\\t</div>\\n\\t<!-- //네티즌 최고 평점 -->\\n  \\r\\n\\r\\n\\t \\n\\n\\n\\n<!-- 가장 많이 추천된 리뷰 -->\\n<div class=\"box_type_1 mb_8\">\\n\\t<h3><img src=\"https://ssl.pstatic.net/imgmovie/2007/img/community/tlt_r_best_review_reco.gif\" alt=\"가장 많이 추천된 리뷰\" width=\"103\" height=\"12\"></h3>\\n\\t<dl class=\"ranking_data\">\\n\\t\\t\\n\\t\\t\\t<dt class=\"ranking01\">\\n\\t\\t\\t\\t<span class=\"blind\">1위</span>\\n\\t\\t\\t\\t\\n\\t\\t\\t\\t\\t<a href=\"/movie/board/review/read.nhn?nid=4776570\" onclick=\"clickcr(this,\\'rcr.title\\',\\'4776570\\',\\'1\\',event);\" class=\"b\" title=\"문재인 대통령 사저 문제로 본 영화 정직한 후보, 권력형 투기가 분명한데 정작 본인만 모르는, 투기꾼(?) 정치인의 벌거벗은 코미디, 라미란 김무열 나문희 윤경호 송영창 장유정, \">문재인 대통령 사저 문제로 ..</a>\\n\\t\\t\\t\\t\\n\\t\\t\\t\\t\\n\\t\\t\\t\\t\\n\\t\\t\\t</dt>\\n\\t\\t\\t<dd>\\n\\t\\t\\t\\t\\n\\t\\t\\t\\t\\t<a href=\"/movie/bi/mi/basic.nhn?code=186821\" onclick=\"clickcr(this,\\'rcr.movie\\',\\'186821\\',\\'1\\',event);\" class=\"check\" title=\"정직한 후보\">정직한 후보</a><a href=\"/movie/board/review/list.nhn?st=nickname&sword=4776570\" onclick=\"clickcr(this,\\'rcr.id\\',\\'pjwong\\',\\'1\\',event);\" class=\"nick check\">pjwo****</a>\\n\\t\\t\\t\\t\\n\\t\\t\\t\\t\\n\\t\\t\\t</dd>\\n\\t\\t\\n\\t\\t\\t<dt class=\"ranking02\">\\n\\t\\t\\t\\t<span class=\"blind\">2위</span>\\n\\t\\t\\t\\t\\n\\t\\t\\t\\t\\n\\t\\t\\t\\t\\t<a href=\"/movie/board/review/read.nhn?nid=4776449\" onclick=\"clickcr(this,\\'rcr.title\\',\\'4776449\\',\\'2\\',event);\" title=\"[볼까요?말까요?][영화]미션 파서블 MISSION: POSSIBLE (2020) 환장의 듀오 코믹 액션 한국 영화\">[볼까요?말까요?][영화]미션..</a>\\n\\t\\t\\t\\t\\n\\t\\t\\t\\t\\n\\t\\t\\t</dt>\\n\\t\\t\\t<dd>\\n\\t\\t\\t\\t\\n\\t\\t\\t\\t\\n\\t\\t\\t\\t\\t<a href=\"/movie/bi/mi/basic.nhn?code=189124\" onclick=\"clickcr(this,\\'rcr.movie\\',\\'189124\\',\\'2\\',event);\" title=\"미션 파서블\">미션 파서블</a> <a href=\"/movie/board/review/list.nhn?st=nickname&sword=4776449\" onclick=\"clickcr(this,\\'rcr.id\\',\\'webms\\',\\'2\\',event);\" class=\"nick\">webm****</a>\\n\\t\\t\\t\\t\\n\\t\\t\\t</dd>\\n\\t\\t\\n\\t\\t\\t<dt class=\"ranking03\">\\n\\t\\t\\t\\t<span class=\"blind\">3위</span>\\n\\t\\t\\t\\t\\n\\t\\t\\t\\t\\n\\t\\t\\t\\t\\t<a href=\"/movie/board/review/read.nhn?nid=4776239\" onclick=\"clickcr(this,\\'rcr.title\\',\\'4776239\\',\\'3\\',event);\" title=\"[모리타니안]을 보고\">[모리타니안]을 보고</a>\\n\\t\\t\\t\\t\\n\\t\\t\\t\\t\\n\\t\\t\\t</dt>\\n\\t\\t\\t<dd>\\n\\t\\t\\t\\t\\n\\t\\t\\t\\t\\n\\t\\t\\t\\t\\t<a href=\"/movie/bi/mi/basic.nhn?code=193800\" onclick=\"clickcr(this,\\'rcr.movie\\',\\'193800\\',\\'3\\',event);\" title=\"모리타니안\">모리타니안</a> <a href=\"/movie/board/review/list.nhn?st=nickname&sword=4776239\" onclick=\"clickcr(this,\\'rcr.id\\',\\'filmone1\\',\\'3\\',event);\" class=\"nick\">film****</a>\\n\\t\\t\\t\\t\\n\\t\\t\\t</dd>\\n\\t\\t\\n\\t\\t\\t<dt class=\"ranking04\">\\n\\t\\t\\t\\t<span class=\"blind\">4위</span>\\n\\t\\t\\t\\t\\n\\t\\t\\t\\t\\n\\t\\t\\t\\t\\t<a href=\"/movie/board/review/read.nhn?nid=4776119\" onclick=\"clickcr(this,\\'rcr.title\\',\\'4776119\\',\\'4\\',event);\" title=\"개봉예정_조제, 호랑이 그리고 물고기들_애니메이션, 드라마_부국제폐막작_문충추천작\">개봉예정_조제, 호랑이 그리..</a>\\n\\t\\t\\t\\t\\n\\t\\t\\t\\t\\n\\t\\t\\t</dt>\\n\\t\\t\\t<dd>\\n\\t\\t\\t\\t\\n\\t\\t\\t\\t\\n\\t\\t\\t\\t\\t<a href=\"/movie/bi/mi/basic.nhn?code=195970\" onclick=\"clickcr(this,\\'rcr.movie\\',\\'195970\\',\\'4\\',event);\" title=\"조제, 호랑이 그리고 물고기들\">조제, 호랑이 ..</a> <a href=\"/movie/board/review/list.nhn?st=nickname&sword=4776119\" onclick=\"clickcr(this,\\'rcr.id\\',\\'pesung1004\\',\\'4\\',event);\" class=\"nick\">pesu****</a>\\n\\t\\t\\t\\t\\n\\t\\t\\t</dd>\\n\\t\\t\\n\\t\\t\\t<dt class=\"ranking05\">\\n\\t\\t\\t\\t<span class=\"blind\">5위</span>\\n\\t\\t\\t\\t\\n\\t\\t\\t\\t\\n\\t\\t\\t\\t\\t<a href=\"/movie/board/review/read.nhn?nid=4776166\" onclick=\"clickcr(this,\\'rcr.title\\',\\'4776166\\',\\'5\\',event);\" title=\"하니 스크린 데뷔작 \\'어른들은 몰라요\\' 4월 개봉&hellip;\\'18 포스터\\' 2종 공개\">하니 스크린 데뷔작 \\'어른들..</a>\\n\\t\\t\\t\\t\\n\\t\\t\\t\\t\\n\\t\\t\\t</dt>\\n\\t\\t\\t<dd>\\n\\t\\t\\t\\t\\n\\t\\t\\t\\t\\n\\t\\t\\t\\t\\t<a href=\"/movie/bi/mi/basic.nhn?code=195691\" onclick=\"clickcr(this,\\'rcr.movie\\',\\'195691\\',\\'5\\',event);\" title=\"어른들은 몰라요\">어른들은 몰라요</a> <a href=\"/movie/board/review/list.nhn?st=nickname&sword=4776166\" onclick=\"clickcr(this,\\'rcr.id\\',\\'aodaisyou1\\',\\'5\\',event);\" class=\"nick\">aoda****</a>\\n\\t\\t\\t\\t\\n\\t\\t\\t</dd>\\n\\t\\t\\n\\t</dl>\\n\\t<p class=\"term\" style=\"padding:0 13px 7px 0;\">2021.03.12-2021.03.19</p>\\n</div>\\n<!-- //가장 많이 추천된 리뷰 -->\\n  \\r\\n\\r\\n\\r\\n\\t\\r\\n\\t\\r\\n\\t\\r\\n\\t\\r\\n\\t\\r\\n\\t\\t\\r\\n\\t\\r\\n\\t\\r\\n\\t\\t\\r\\n\\t\\r\\n\\r\\n\\r\\n\\t\\t\\t\\t\\t</div>\\r\\n\\t\\t\\t\\t\\t<img src=\"https://ssl.pstatic.net/imgmovie/2007/img/common/blank.gif\" alt=\"\" class=\"clear\">\\r\\n\\t\\t\\t\\t</div>\\r\\n\\t\\t\\t\\t<!-- //Content Body -->\\r\\n\\r\\n\\t\\t\\t\\t</div>\\r\\n\\t\\t\\t</div>\\r\\n\\t\\t</div>\\r\\n\\t\\t<!-- //content -->\\r\\n\\t</div>\\r\\n\\t<!-- //container -->\\r\\n\\r\\n\\t<!-- Footer -->\\r\\n\\t<script type=\"text/javascript\" src=\"/common/js/jindo/component/1.0.2/jindo.Component.js\"></script>\\r\\n\\t<script type=\"text/javascript\" src=\"/common/js/jindo/component/1.0.2/jindo.UIComponent.js\"></script>\\r\\n\\t\\n\\n\\n\\n\\n\\n<!-- footer -->\\n<div id=\"footer\">\\n\\t<div class=\"in_footer\">\\n\\t\\t<div class=\"foot_con\">\\n\\t\\t\\t\\t<ul>\\n\\t\\t\\t\\t\\t<li class=\"first\"><a href=\"http://www.naver.com/rules/service.html\" target=\"_blank\" onclick=\"clickcr(this, \\'fot.agreement\\', \\'\\', \\'\\', event);\">이용약관</a></li>\\n\\t\\t\\t\\t\\t<li><a href=\"http://www.naver.com/rules/privacy.html\" target=\"_blank\"  onclick=\"clickcr(this, \\'fot.privacy\\', \\'\\', \\'\\', event);\"><strong>개인정보처리방침</strong></a></li>\\n\\t\\t\\t\\t\\t<li><a href=\"http://www.naver.com/rules/disclaimer.html\" target=\"_blank\" onclick=\"clickcr(this, \\'fot.disclaimer\\', \\'\\', \\'\\', event);\">책임의 한계와 법적고지</a></li>\\n\\t\\t\\t\\t\\t<li><a href=\"https://help.naver.com/support/service/main.nhn?serviceNo=800\" target=\"_blank\" onclick=\"clickcr(this, \\'fot.help\\', \\'\\', \\'\\', event);\">영화 고객센터</a></li>\\n\\t\\t\\t\\t</ul>\\n\\t\\t\\t\\t<p class=\"info\">본 콘텐츠의 저작권은 저작권자 또는 제공처에 있으며, 이를 무단 이용하는 경우 저작권법 등에 따라 법적 책임을 질 수 있습니다.</p>\\n\\t\\t\\t\\t<p class=\"info\">\\n\\t\\t\\t\\t\\t사업자등록번호 : 220-81-62517<span>통신판매업 신고번호</span> : 경기성남 제 2006 - 692호<span>대표이사 : 한성숙</span><span><a href=\"http://www.ftc.go.kr/info/bizinfo/communicationList.jsp\" onclick=\"clickcr(this, \\'fot.bizinfo\\', \\'\\', \\'\\', event);\">사업자등록정보 확인</a></span><br>\\n\\t\\t\\t\\t\\t주소 : 경기도 성남시 분당구 불정로 6 네이버 그린팩토리 <span>대표전화 : 1588-3820</span>\\n\\t\\t\\t\\t</p> \\n\\t\\t\\t\\t<address>\\n\\t\\t\\t\\t\\t<a href=\"http://www.navercorp.com\" target=\"_blank\" class=\"logo\" onclick=\"clickcr(this, \\'fot.nhn\\', \\'\\', \\'\\', event);\"><img src=\"https://ssl.pstatic.net/static/movie/2013/07/logo_naver.png\" width=\"63\" height=\"11\" alt=\"NAVER\"></a>\\n\\t\\t\\t\\t\\t<em>Copyright &copy;</em>\\n\\t\\t\\t\\t\\t<a href=\"http://www.navercorp.com\" target=\"_blank\" onclick=\"clickcr(this, \\'fot.corp\\', \\'\\', \\'\\', event);\">NAVER Corp.</a>\\n\\t\\t\\t\\t\\t<span>All Rights Reserved.</span>\\n\\t\\t\\t\\t</address>\\n\\t\\t</div>\\n\\t</div>\\n</div>\\n<!-- //footer -->\\n\\n\\n\\n\\n\\r\\n\\r\\n\\r\\n\\r\\n<script type=\"text/javascript\">\\r\\n\\r\\nif (false) {\\r\\n\\tvar alertType = \"NONE\";\\r\\n\\tvar koreanTitle = \"\";\\r\\n\\tvar movieCode = \"0\";\\r\\n\\tvar userReserveCount = \"0\";\\r\\n\\tvar todayDatetime = \"20210321020426\";\\r\\n\\tvar endDatetimeAfterTwoDays = \"00000000000000\";\\r\\n\\t\\r\\n\\t\\r\\n\\tif (movieCode > 0) {\\r\\n\\t\\topenWriteActualPointAlert (alertType, koreanTitle, movieCode, userReserveCount, todayDatetime, endDatetimeAfterTwoDays);\\r\\n\\t}\\r\\n}\\r\\n\\r\\nfunction openWriteActualPointAlert (alertType, koreanTitle, movieCode, count, today, endDate) {\\r\\n\\tif (alertType == \"ONE\") {\\r\\n\\t\\tsetCookieLastUserReserveDate(today, endDate);\\r\\n\\t\\tif (confirm(\"관람하신 \" + koreanTitle + \"에\\\\n평점 등록 시 네이버페이 마일리지 500원 적립!\\\\n지금 평점쓰기 메뉴로 이동하시겠습니까?\")) {\\r\\n\\t\\t\\ttop.location.href = \"http://movie.naver.com/movie/bi/mi/point.nhn?code=\" + movieCode;\\r\\n\\t\\t}\\r\\n\\t} else if (alertType == \"MORE\") {\\r\\n\\t\\tsetCookieLastUserReserveDate(today, endDate);\\r\\n\\t\\tif (confirm(\"관람하신 작품에 평점을 등록해주세요\\\\n작품당 네이버페이 마일리지 500원씩 적립!\\\\n평점 미등록작 리스트를 확인하시겠습니까?\")) {\\r\\n\\t\\t\\ttop.location.href = \"http://ticket.movie.naver.com/Order/OverdueList.aspx\";\\r\\n\\t\\t}\\r\\n\\t}\\r\\n}\\r\\n\\r\\nfunction setCookieLastUserReserveDate(today, endDate) {\\r\\n\\tvar cookieForNotOpenActualPointPopup = jindo.$Cookie();\\r\\n\\t\\r\\n\\t\\r\\n\\tcookieForNotOpenActualPointPopup.remove(\"lastUserReserveDatetime\");\\r\\n\\tcookieForNotOpenActualPointPopup.remove(\"lastUserReserveCheckDatetime\");\\r\\n\\t\\r\\n\\tcookieForNotOpenActualPointPopup.set(\"lastUserReserveDatetime\", endDate, 9999, \"movie.naver.com\");\\r\\n\\tcookieForNotOpenActualPointPopup.set(\"lastUserReserveCheckDatetime\", today, 9999, \"movie.naver.com\");\\r\\n}\\r\\n\\r\\n</script>\\n\\n\\n\\n\\r\\n\\r\\n\\r\\n\\r\\n\\r\\n<script type=\"text/javascript\">\\r\\n\\t\\r\\n\\t\\t\\r\\n\\t\\t\\r\\n\\t\\t\\r\\n\\t\\t\\r\\n\\t\\t\\tvar alertMessage = \"지원되지 않는 브라우저로 서비스 이용에 제한이 있습니다.\";\\r\\n\\t\\t\\r\\n\\t\\r\\n\\r\\n\\tfunction getBrowser() {\\r\\n\\t\\tvar ua = navigator.userAgent;\\r\\n\\t\\tif (/NAVER/.test(ua)) {\\r\\n\\t\\t\\treturn \"NAVER_APP\";\\r\\n\\t\\t} else if (/IEMobile/.test(ua)) {\\r\\n\\t\\t\\treturn \"INTERNET_EXPLORER_MOBILE\";\\r\\n\\t\\t} else if (/MSIE/.test(ua) || /Trident/.test(ua)) {\\r\\n\\t\\t\\treturn \"INTERNET_EXPLORER\";\\r\\n\\t\\t} else if (/Firefox/.test(ua)) {\\r\\n\\t\\t\\treturn \"FIREFOX\";\\r\\n\\t\\t} else if (/Opera\\\\//.test(ua) || /OPR\\\\//.test(ua)) {\\r\\n\\t\\t\\treturn \"OPERA\";\\r\\n\\t\\t}  else if (/Swing\\\\//.test(ua)) {\\r\\n\\t\\t\\treturn \"SWING\";\\r\\n\\t\\t} else if (/Chrome\\\\//.test(ua) || /CriOS\\\\//.test(ua)) {\\r\\n\\t\\t\\treturn \"CHROME\";\\r\\n\\t\\t} else if (/BAND\\\\//.test(ua)) {\\r\\n\\t\\t\\treturn \"BAND_APP\";\\r\\n\\t\\t} else if (/FBAN\\\\/FBIOS/.test(ua)) {\\r\\n\\t\\t\\treturn \"FACEBOOK_APP\";\\r\\n\\t\\t} else if (/Twitter/.test(ua)) {\\r\\n\\t\\t\\treturn \"TWITTER_APP\";\\r\\n\\t\\t} else if (/KAKAOTALK/.test(ua)) {\\r\\n\\t\\t\\treturn \"KAKAOTALK_APP\";\\r\\n\\t\\t} else if (/Android/.test(ua) && /Safari/.test(ua)) {\\r\\n\\t\\t\\treturn \"ANDROID_INTERNET_APP\";\\r\\n\\t\\t} else if (/Safari/.test(ua)) {\\r\\n\\t\\t\\treturn \"SAFARI\";\\r\\n\\t\\t}\\r\\n\\r\\n\\t\\treturn \"\";\\r\\n\\t}\\r\\n\\t\\r\\n\\tif (getBrowser() === \"UNKNOWN\" && jindo.$Cookie().get(\"notSupportBrowserAlert\") != \\'true\\') {\\r\\n\\t\\talert(alertMessage);\\r\\n\\t\\tjindo.$Cookie().set(\"notSupportBrowserAlert\", \"true\", \"9999\", \"movie.naver.com\");\\r\\n\\t}\\r\\n</script>\\r\\n\\n\\n\\r\\n<script type=\"text/javascript\" src=\"/common/js/lcslog.js\"></script>\\r\\n<script type=\"text/javascript\" src=\"/common/js/jindo/component/1.0.2/jindo.Component.min.js\"></script>\\r\\n<script type=\"text/javascript\" src=\"/common/js/vendor/jindo.WatchInput.js\" charset=\"UTF-8\"></script>\\r\\n<script type=\"text/javascript\" src=\"/common/js/lib/Core.js?20210317115448\" charset=\"UTF-8\"></script>\\r\\n<script type=\"text/javascript\" src=\"/common/js/lib/LNB.js?20210317115448\" charset=\"UTF-8\"></script>\\r\\n<script type=\"text/javascript\" src=\"/common/js/lib/Search.js?20210317115448\" charset=\"UTF-8\"></script>\\r\\n\\n\\n\\n\\t\\n\\t\\n\\t\\t\\n\\t\\n\\n\\n\\n\\n\\t\\n\\t\\n\\n<script type=\"text/javascript\">\\n\\n// nhn.movie.Search가 jindo 기반이어서 javascript로 전환함\\nif (document.addEventListener) {\\n\\tdocument.addEventListener(\"DOMContentLoaded\", function () {\\n\\t\\tdocument.removeEventListener(\"DOMContentLoaded\", arguments.callee, false);\\n\\t\\tloadFooter();\\n\\t}, false);\\n}\\n// Internet Explorer\\nelse if (document.attachEvent) {\\n\\t// onreadystatechange 는 모든 브라우저가 반환\\n\\tdocument.attachEvent(\"onreadystatechange\", function () {\\n\\t\\tif (document.readyState == \"complete\" || document.readyState == \\'loaded\\') {\\n\\t\\t\\tdocument.detachEvent(\"onreadystatechange\", arguments.callee);\\n\\t\\t\\tloadFooter();\\n\\t\\t}\\n\\t});\\n}\\n\\nfunction loadFooter() {\\n\\tvar goNaver = document.getElementById(\"lnb_gonaver\");\\n\\tgoNaver.addEventListener(\"focus\", focusonNaverIcon, false);\\n\\n\\t// LNB - 사용처를 못 찾음\\n//   \\tvar oLNB = new nhn.movie.LNB();\\n\\t\\n\\t// 상단 검색영역\\n\\tvar oSearch = new nhn.movie.Search({\\n\\t\\tarea : \"jSearchArea\",\\n\\t\\tautosearch : \"https://auto-movie.naver.com/ac?q_enc=UTF-8&st=1&r_lt=1&n_ext=1&t_koreng=1&r_format=json&r_enc=UTF-8&r_unicode=0&r_escape=1&q=\",\\n\\t\\tmovelink : \"/movie/bi/mi/basic.nhn?code=\",\\n\\t\\tpeoplelink : \"/movie/bi/pi/basic.nhn?code=\"\\n\\t});\\n\\t\\n\\tgetGNB();\\t\\n}\\n\\nfunction focusonNaverIcon(event) {\\n\\tevent.preventDefault();\\t// jindo.$Event.CANCEL_DEFAULT 와 동일한 기능으로 추측됨\\n\\tdocument.getElementById(\\'ipt_tx_srch\\').value= \"\";\\n\\tdocument.getElementById(\\'search_placeholder\\').style = \"display:inline;\";\\n\\tif (document.getElementById(\\'jAutoComplate\\') != undefined && document.getElementById(\\'jAutoComplate\\') !== null) {\\n\\t\\tdocument.getElementById(\\'jAutoComplate\\').style = \"display:none;\"\\n\\t}\\n}\\n\\n\\nwindow.addEventListener(\\'pageshow\\', function(event) { lcs_do(); });\\n\\ndocument.addEventListener(\\'click\\', function (event) {\\n\\tvar welSource = event.srcElement;\\t// jindo.$Element(oEvent.element);\\n\\tif (!document.getElementById(\"gnb\").contains(welSource)) {\\n\\t\\tgnbAllLayerClose();\\n\\t}\\n});\\n</script>\\n\\t\\r\\n\\t<!-- //Footer -->\\r\\n\\t\\t\\t\\r\\n</div>\\r\\n\\r\\n\\r\\n</body>\\r\\n</html>\\t'"
      ]
     },
     "execution_count": 4,
     "metadata": {},
     "output_type": "execute_result"
    }
   ],
   "source": [
    "url=\"https://movie.naver.com/movie/point/af/list.nhn?st=mcode&sword=184517&target=after\"\n",
    "resp=requests.get(url)\n",
    "resp.text"
   ]
  },
  {
   "cell_type": "code",
   "execution_count": 7,
   "metadata": {},
   "outputs": [
    {
     "data": {
      "text/plain": [
       "'\\n소울\\n\\n별점 - 총 10점 중10\\n\\n코로나로 인해 잊고 있었던 보통날에 대한 소중하꽈 감사함을 알게 해준 영화입니다. 어른들이 봐도 힐링 제대로 되는 영화입니다^^ \\n\\t\\t\\t\\n\\t\\t\\t\\n\\t\\t\\t\\n\\t\\t\\t\\t\\n\\t\\t\\t\\t\\n\\t\\t\\t\\t\\n\\t\\t\\t\\t신고\\n'"
      ]
     },
     "execution_count": 7,
     "metadata": {},
     "output_type": "execute_result"
    }
   ],
   "source": [
    "soup=BeautifulSoup(resp.text)\n",
    "title=soup.find('td',class_='title')\n",
    "title.get_text()"
   ]
  },
  {
   "cell_type": "code",
   "execution_count": 12,
   "metadata": {},
   "outputs": [
    {
     "data": {
      "text/plain": [
       "['',\n",
       " '개봉 후 평점 목록으로 번호, 평점, 내용, 글쓴이, 날짜 정보를 제공',\n",
       " '',\n",
       " '',\n",
       " '',\n",
       " '번호',\n",
       " '감상평',\n",
       " '글쓴이·날짜',\n",
       " '',\n",
       " '',\n",
       " '',\n",
       " '',\n",
       " '17442103',\n",
       " '',\n",
       " '소울',\n",
       " '',\n",
       " '별점 - 총 10점 중10',\n",
       " '',\n",
       " '코로나로 인해 잊고 있었던 보통날에 대한 소중하꽈 감사함을 알게 해준 영화입니다. 어른들이 봐도 힐링 제대로 되는 영화입니다^^ ',\n",
       " '\\t\\t\\t',\n",
       " '\\t\\t\\t',\n",
       " '\\t\\t\\t',\n",
       " '\\t\\t\\t\\t',\n",
       " '\\t\\t\\t\\t',\n",
       " '\\t\\t\\t\\t',\n",
       " '\\t\\t\\t\\t신고',\n",
       " '',\n",
       " 'ghdu****21.03.21',\n",
       " '',\n",
       " '',\n",
       " '17442092',\n",
       " '',\n",
       " '소울',\n",
       " '',\n",
       " '별점 - 총 10점 중10',\n",
       " '',\n",
       " '소재까지 너무 내 이야기였어요.. 조나 22번이나 너무 내 얘기.. 나도 모르게 초반부터 눈물이 하염없이 나더라구요 ',\n",
       " '\\t\\t\\t',\n",
       " '\\t\\t\\t',\n",
       " '\\t\\t\\t',\n",
       " '\\t\\t\\t\\t',\n",
       " '\\t\\t\\t\\t',\n",
       " '\\t\\t\\t\\t',\n",
       " '\\t\\t\\t\\t신고',\n",
       " '',\n",
       " 'fktl****21.03.21',\n",
       " '',\n",
       " '',\n",
       " '17442017',\n",
       " '',\n",
       " '소울',\n",
       " '',\n",
       " '별점 - 총 10점 중10',\n",
       " '',\n",
       " '무미건조하고 짜증만 나는 일상이었는데, 갑자기 아름답게 보여지네요. 강추입니다. ',\n",
       " '\\t\\t\\t',\n",
       " '\\t\\t\\t',\n",
       " '\\t\\t\\t',\n",
       " '\\t\\t\\t\\t',\n",
       " '\\t\\t\\t\\t',\n",
       " '\\t\\t\\t\\t',\n",
       " '\\t\\t\\t\\t신고',\n",
       " '',\n",
       " 'puha****21.03.21',\n",
       " '',\n",
       " '',\n",
       " '17441863',\n",
       " '',\n",
       " '소울',\n",
       " '',\n",
       " '별점 - 총 10점 중10',\n",
       " '',\n",
       " '코코로 감동을 받으신분들은 꼭 보세요 재미보단 가슴속 무언가를 자극 시키네요 ',\n",
       " '\\t\\t\\t',\n",
       " '\\t\\t\\t',\n",
       " '\\t\\t\\t',\n",
       " '\\t\\t\\t\\t',\n",
       " '\\t\\t\\t\\t',\n",
       " '\\t\\t\\t\\t',\n",
       " '\\t\\t\\t\\t신고',\n",
       " '',\n",
       " 'mrka****21.03.20',\n",
       " '',\n",
       " '',\n",
       " '17441854',\n",
       " '',\n",
       " '소울',\n",
       " '',\n",
       " '별점 - 총 10점 중10',\n",
       " '',\n",
       " '교훈이 많은 영화에요 애니메이션이지만 아이들보다는 어른들이 더 재밌어할 것 같아요! ',\n",
       " '\\t\\t\\t',\n",
       " '\\t\\t\\t',\n",
       " '\\t\\t\\t',\n",
       " '\\t\\t\\t\\t',\n",
       " '\\t\\t\\t\\t',\n",
       " '\\t\\t\\t\\t',\n",
       " '\\t\\t\\t\\t신고',\n",
       " '',\n",
       " 'tere****21.03.20',\n",
       " '',\n",
       " '',\n",
       " '17441805',\n",
       " '',\n",
       " '소울',\n",
       " '',\n",
       " '별점 - 총 10점 중10',\n",
       " '',\n",
       " '',\n",
       " '신고',\n",
       " '',\n",
       " 'esth****21.03.20',\n",
       " '',\n",
       " '',\n",
       " '17441740',\n",
       " '',\n",
       " '소울',\n",
       " '',\n",
       " '별점 - 총 10점 중10',\n",
       " '',\n",
       " '오만 감정을 다 느끼게 해준 영화입니다25년 인생 중에 가장 큰 영향을 주는 인생영화 ',\n",
       " '\\t\\t\\t',\n",
       " '\\t\\t\\t',\n",
       " '\\t\\t\\t',\n",
       " '\\t\\t\\t\\t',\n",
       " '\\t\\t\\t\\t',\n",
       " '\\t\\t\\t\\t',\n",
       " '\\t\\t\\t\\t신고',\n",
       " '',\n",
       " 'homi****21.03.20',\n",
       " '',\n",
       " '',\n",
       " '17441673',\n",
       " '',\n",
       " '소울',\n",
       " '',\n",
       " '별점 - 총 10점 중10',\n",
       " '',\n",
       " '픽사 영화는 정말 최고인듯.. 영화로만 표현할 수 있는 최대치에 더해 가치있는 메시지까지 늘 안겨주는 아름다운 애니메이션. ',\n",
       " '\\t\\t\\t',\n",
       " '\\t\\t\\t',\n",
       " '\\t\\t\\t',\n",
       " '\\t\\t\\t\\t',\n",
       " '\\t\\t\\t\\t',\n",
       " '\\t\\t\\t\\t',\n",
       " '\\t\\t\\t\\t신고',\n",
       " '',\n",
       " 'medi****21.03.20',\n",
       " '',\n",
       " '',\n",
       " '17441623',\n",
       " '',\n",
       " '소울',\n",
       " '',\n",
       " '별점 - 총 10점 중9',\n",
       " '',\n",
       " '뻔한 이야기를 뻔하지 않게 만드는 능력 ',\n",
       " '\\t\\t\\t',\n",
       " '\\t\\t\\t',\n",
       " '\\t\\t\\t',\n",
       " '\\t\\t\\t\\t',\n",
       " '\\t\\t\\t\\t',\n",
       " '\\t\\t\\t\\t',\n",
       " '\\t\\t\\t\\t신고',\n",
       " '',\n",
       " 'minh****21.03.20',\n",
       " '',\n",
       " '',\n",
       " '17441620',\n",
       " '',\n",
       " '소울',\n",
       " '',\n",
       " '별점 - 총 10점 중10',\n",
       " '',\n",
       " '기대했던 만큼 너무 재밌었고 교훈과 감동을 동시에 주었던 영화였다ㅜㅠ 역시 믿듣보 픽사 뮤비 체고 ! ',\n",
       " '\\t\\t\\t',\n",
       " '\\t\\t\\t',\n",
       " '\\t\\t\\t',\n",
       " '\\t\\t\\t\\t',\n",
       " '\\t\\t\\t\\t',\n",
       " '\\t\\t\\t\\t',\n",
       " '\\t\\t\\t\\t신고',\n",
       " '',\n",
       " 'kjy0****21.03.20',\n",
       " '',\n",
       " '',\n",
       " '']"
      ]
     },
     "execution_count": 12,
     "metadata": {},
     "output_type": "execute_result"
    }
   ],
   "source": [
    "listn=soup.find('table',class_='list_netizen')\n",
    "\n",
    "listn.get_text().split(\"\\n\")"
   ]
  },
  {
   "cell_type": "code",
   "execution_count": 14,
   "metadata": {},
   "outputs": [],
   "source": [
    "import requests\n",
    "from urllib import parse\n",
    "from bs4 import BeautifulSoup"
   ]
  },
  {
   "cell_type": "code",
   "execution_count": 16,
   "metadata": {},
   "outputs": [],
   "source": [
    "base_url='https://movie.naver.com/movie/point/af/list.nhn?st=mcode&sword=184517&target=after'\n",
    "url=base_url.format(1)\n",
    "res=requests.get(url)"
   ]
  },
  {
   "cell_type": "code",
   "execution_count": 19,
   "metadata": {},
   "outputs": [
    {
     "name": "stdout",
     "output_type": "stream",
     "text": [
      "10\n",
      "소울  ::  https://movie.naver.com/movie/bi/mi/basic.nhn?code=184517  ::  10  ::  코로나로 인해 잊고 있었던 보통날에 대한 소중하꽈 감사함을 알게 해준 영화입니다. 어른들이 봐도 힐링 제대로 되는 영화입니다^^\n",
      "--------------------------------------------------------------------------\n",
      "소울  ::  https://movie.naver.com/movie/bi/mi/basic.nhn?code=184517  ::  10  ::  소재까지 너무 내 이야기였어요.. 조나 22번이나 너무 내 얘기.. 나도 모르게 초반부터 눈물이 하염없이 나더라구요\n",
      "--------------------------------------------------------------------------\n",
      "소울  ::  https://movie.naver.com/movie/bi/mi/basic.nhn?code=184517  ::  10  ::  무미건조하고 짜증만 나는 일상이었는데, 갑자기 아름답게 보여지네요. 강추입니다.\n",
      "--------------------------------------------------------------------------\n",
      "소울  ::  https://movie.naver.com/movie/bi/mi/basic.nhn?code=184517  ::  10  ::  코코로 감동을 받으신분들은 꼭 보세요 재미보단 가슴속 무언가를 자극 시키네요\n",
      "--------------------------------------------------------------------------\n",
      "소울  ::  https://movie.naver.com/movie/bi/mi/basic.nhn?code=184517  ::  10  ::  교훈이 많은 영화에요 애니메이션이지만 아이들보다는 어른들이 더 재밌어할 것 같아요!\n",
      "--------------------------------------------------------------------------\n",
      "소울  ::  https://movie.naver.com/movie/bi/mi/basic.nhn?code=184517  ::  10  ::  \n",
      "--------------------------------------------------------------------------\n",
      "소울  ::  https://movie.naver.com/movie/bi/mi/basic.nhn?code=184517  ::  10  ::  오만 감정을 다 느끼게 해준 영화입니다25년 인생 중에 가장 큰 영향을 주는 인생영화\n",
      "--------------------------------------------------------------------------\n",
      "소울  ::  https://movie.naver.com/movie/bi/mi/basic.nhn?code=184517  ::  10  ::  픽사 영화는 정말 최고인듯.. 영화로만 표현할 수 있는 최대치에 더해 가치있는 메시지까지 늘 안겨주는 아름다운 애니메이션.\n",
      "--------------------------------------------------------------------------\n",
      "소울  ::  https://movie.naver.com/movie/bi/mi/basic.nhn?code=184517  ::  9  ::  뻔한 이야기를 뻔하지 않게 만드는 능력\n",
      "--------------------------------------------------------------------------\n",
      "소울  ::  https://movie.naver.com/movie/bi/mi/basic.nhn?code=184517  ::  10  ::  기대했던 만큼 너무 재밌었고 교훈과 감동을 동시에 주었던 영화였다ㅜㅠ 역시 믿듣보 픽사 뮤비 체고 !\n",
      "--------------------------------------------------------------------------\n"
     ]
    }
   ],
   "source": [
    "if res.status_code==200:\n",
    "    soup=BeautifulSoup(res.text)\n",
    "    tds=soup.select('table.list_netizen>tbody>tr>td.title')\n",
    "    print(len(tds))\n",
    "    for td in tds:\n",
    "        movie_title=td.select_one('a.movie').text.strip()\n",
    "        link=td.select_one('a.movie').get('href')\n",
    "        link=parse.urljoin(base_url,link)\n",
    "        score=td.select_one('div.list_netizen_score>em').text.strip()\n",
    "        comment=td.select_one('br').next_sibling.strip()\n",
    "        print(movie_title,link,score,comment,sep=\"  ::  \")\n",
    "        print(\"--------------------------------------------------------------------------\")"
   ]
  },
  {
   "cell_type": "code",
   "execution_count": 21,
   "metadata": {},
   "outputs": [
    {
     "data": {
      "text/plain": [
       "1.0209931851298877"
      ]
     },
     "execution_count": 21,
     "metadata": {},
     "output_type": "execute_result"
    }
   ],
   "source": [
    "import random\n",
    "random.uniform(0.2,1.2)"
   ]
  },
  {
   "cell_type": "code",
   "execution_count": 22,
   "metadata": {},
   "outputs": [],
   "source": [
    "import time"
   ]
  },
  {
   "cell_type": "code",
   "execution_count": 23,
   "metadata": {},
   "outputs": [
    {
     "name": "stdout",
     "output_type": "stream",
     "text": [
      "종료\n"
     ]
    }
   ],
   "source": [
    "base_url='https://movie.naver.com/movie/point/af/list.nhn?st=mcode&sword=184517&target=after&page={}'\n",
    "\n",
    "comment_list=[]\n",
    "for page in range(1,101):\n",
    "    url=base_url.format(page)\n",
    "    res=requests.get(url)\n",
    "    if res.status_code==200:\n",
    "        soup=BeautifulSoup(res.text,'lxml')\n",
    "        tds=soup.select('table.list_netizen>tbody>tr>td.title')\n",
    "        for td in tds:\n",
    "            movie_title=td.select_one('a.movie').text.strip()\n",
    "            link=td.select_one('a.movie').get('href')\n",
    "            link=parse.urljoin(base_url,link)\n",
    "            score=td.select_one('div.list_netizen_score>em').text.strip()\n",
    "            comment=td.select_one('br').next_sibling.strip()\n",
    "            \n",
    "            comment_list.append((movie_title,link,score,comment))\n",
    "        interval=round(random.uniform(0.2,1.2),2)\n",
    "        time.sleep(interval)\n",
    "print(\"종료\")\n"
   ]
  },
  {
   "cell_type": "code",
   "execution_count": 25,
   "metadata": {},
   "outputs": [],
   "source": [
    "import pandas as pd\n",
    "df=pd.DataFrame(comment_list,columns=['영화제목','영화링크','평점','댓글'])\n",
    "df.to_csv('naver_comment.csv',encoding='utf-8',index=False)"
   ]
  },
  {
   "cell_type": "code",
   "execution_count": null,
   "metadata": {},
   "outputs": [],
   "source": []
  }
 ],
 "metadata": {
  "kernelspec": {
   "display_name": "Python 3",
   "language": "python",
   "name": "python3"
  },
  "language_info": {
   "codemirror_mode": {
    "name": "ipython",
    "version": 3
   },
   "file_extension": ".py",
   "mimetype": "text/x-python",
   "name": "python",
   "nbconvert_exporter": "python",
   "pygments_lexer": "ipython3",
   "version": "3.8.5"
  }
 },
 "nbformat": 4,
 "nbformat_minor": 4
}
